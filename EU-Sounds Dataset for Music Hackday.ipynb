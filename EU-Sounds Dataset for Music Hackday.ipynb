{
 "cells": [
  {
   "cell_type": "code",
   "execution_count": 11,
   "metadata": {
    "ExecuteTime": {
     "end_time": "2016-10-11T16:12:28.158000",
     "start_time": "2016-10-11T16:12:28.152000"
    },
    "collapsed": true
   },
   "outputs": [],
   "source": [
    "import os\n",
    "import glob\n",
    "import sys\n",
    "\n",
    "import numpy as np\n",
    "import pandas as pd\n",
    "\n",
    "from progressbar import ProgressBar"
   ]
  },
  {
   "cell_type": "code",
   "execution_count": 12,
   "metadata": {
    "ExecuteTime": {
     "end_time": "2016-10-11T16:12:28.408000",
     "start_time": "2016-10-11T16:12:28.404000"
    },
    "collapsed": true
   },
   "outputs": [],
   "source": [
    "FEATURES_RP_EXTRACTED_PATH = \"E:/Data/MIR/EU_SOUND_CHANNEL/features\"\n",
    "\n",
    "FEATURES_RP_DST_PATH       = \"E:/Features/MIR/EuropeanaSounds_raw/audio_features/rp_extract\""
   ]
  },
  {
   "cell_type": "markdown",
   "metadata": {},
   "source": [
    "# Process RP-Features"
   ]
  },
  {
   "cell_type": "markdown",
   "metadata": {},
   "source": [
    "RP_extract results are all in one directory. Features have been extracted on a directory level. Resulting feature files carry the name of the processed directory and contain the corresponding features of the file extension. Within the feature files, each line starts with the filename of the processed audio file, followed by the feature vector"
   ]
  },
  {
   "cell_type": "code",
   "execution_count": 13,
   "metadata": {
    "ExecuteTime": {
     "end_time": "2016-10-11T16:12:40.731000",
     "start_time": "2016-10-11T16:12:29.390000"
    },
    "collapsed": false
   },
   "outputs": [
    {
     "name": "stdout",
     "output_type": "stream",
     "text": [
      "E:/Data/MIR/EU_SOUND_CHANNEL/features/09334.mvd 09334 mvd\n",
      "*** expected error: No columns to parse from file\n",
      "E:/Data/MIR/EU_SOUND_CHANNEL/features/09334.rh 09334 rh\n",
      "*** expected error: No columns to parse from file\n",
      "E:/Data/MIR/EU_SOUND_CHANNEL/features/09334.rp 09334 rp\n",
      "*** expected error: No columns to parse from file\n",
      "E:/Data/MIR/EU_SOUND_CHANNEL/features/09334.ssd 09334 ssd\n",
      "*** expected error: No columns to parse from file\n",
      "E:/Data/MIR/EU_SOUND_CHANNEL/features/09334.trh 09334 trh\n",
      "*** expected error: No columns to parse from file\n",
      "E:/Data/MIR/EU_SOUND_CHANNEL/features/09334.tssd 09334 tssd\n",
      "*** expected error: No columns to parse from file\n",
      "E:/Data/MIR/EU_SOUND_CHANNEL/features/2023601.mvd 2023601 mvd\n"
     ]
    },
    {
     "name": "stderr",
     "output_type": "stream",
     "text": [
      "\r",
      "  1% ( 1 of 78) |#                                                                                                        | Elapsed Time: 0:00:00 ETA:  0:00:03\r",
      "  2% ( 2 of 78) |##                                                                                                       | Elapsed Time: 0:00:00 ETA:  0:00:00\r",
      "  3% ( 3 of 78) |####                                                                                                     | Elapsed Time: 0:00:00 ETA:  0:00:00\r",
      "  5% ( 4 of 78) |#####                                                                                                    | Elapsed Time: 0:00:00 ETA:  0:00:00\r",
      "  6% ( 5 of 78) |######                                                                                                   | Elapsed Time: 0:00:00 ETA:  0:00:00\r",
      "  7% ( 6 of 78) |########                                                                                                 | Elapsed Time: 0:00:00 ETA:  0:00:00"
     ]
    },
    {
     "ename": "KeyboardInterrupt",
     "evalue": "",
     "output_type": "error",
     "traceback": [
      "\u001b[0;31m---------------------------------------------------------------------------\u001b[0m",
      "\u001b[0;31mKeyboardInterrupt\u001b[0m                         Traceback (most recent call last)",
      "\u001b[0;32m<ipython-input-13-2163623c11e5>\u001b[0m in \u001b[0;36m<module>\u001b[0;34m()\u001b[0m\n\u001b[1;32m     20\u001b[0m     \u001b[1;32mtry\u001b[0m\u001b[1;33m:\u001b[0m\u001b[1;33m\u001b[0m\u001b[0m\n\u001b[1;32m     21\u001b[0m \u001b[1;33m\u001b[0m\u001b[0m\n\u001b[0;32m---> 22\u001b[0;31m         \u001b[0mfeature_data\u001b[0m \u001b[1;33m=\u001b[0m \u001b[0mpd\u001b[0m\u001b[1;33m.\u001b[0m\u001b[0mread_csv\u001b[0m\u001b[1;33m(\u001b[0m\u001b[0mfeature_file_path\u001b[0m\u001b[1;33m,\u001b[0m \u001b[0msep\u001b[0m\u001b[1;33m=\u001b[0m\u001b[1;34m\",\"\u001b[0m\u001b[1;33m,\u001b[0m \u001b[0mheader\u001b[0m\u001b[1;33m=\u001b[0m\u001b[0mNone\u001b[0m\u001b[1;33m,\u001b[0m \u001b[0mskip_blank_lines\u001b[0m\u001b[1;33m=\u001b[0m\u001b[0mTrue\u001b[0m\u001b[1;33m)\u001b[0m\u001b[1;33m\u001b[0m\u001b[0m\n\u001b[0m\u001b[1;32m     23\u001b[0m \u001b[1;33m\u001b[0m\u001b[0m\n\u001b[1;32m     24\u001b[0m         \u001b[1;32mfor\u001b[0m \u001b[0mrow\u001b[0m \u001b[1;32min\u001b[0m \u001b[0mfeature_data\u001b[0m\u001b[1;33m.\u001b[0m\u001b[0miterrows\u001b[0m\u001b[1;33m(\u001b[0m\u001b[1;33m)\u001b[0m\u001b[1;33m:\u001b[0m\u001b[1;33m\u001b[0m\u001b[0m\n",
      "\u001b[0;32mC:\\Anaconda\\lib\\site-packages\\pandas\\io\\parsers.pyc\u001b[0m in \u001b[0;36mparser_f\u001b[0;34m(filepath_or_buffer, sep, delimiter, header, names, index_col, usecols, squeeze, prefix, mangle_dupe_cols, dtype, engine, converters, true_values, false_values, skipinitialspace, skiprows, skipfooter, nrows, na_values, keep_default_na, na_filter, verbose, skip_blank_lines, parse_dates, infer_datetime_format, keep_date_col, date_parser, dayfirst, iterator, chunksize, compression, thousands, decimal, lineterminator, quotechar, quoting, escapechar, comment, encoding, dialect, tupleize_cols, error_bad_lines, warn_bad_lines, skip_footer, doublequote, delim_whitespace, as_recarray, compact_ints, use_unsigned, low_memory, buffer_lines, memory_map, float_precision)\u001b[0m\n\u001b[1;32m    560\u001b[0m                     skip_blank_lines=skip_blank_lines)\n\u001b[1;32m    561\u001b[0m \u001b[1;33m\u001b[0m\u001b[0m\n\u001b[0;32m--> 562\u001b[0;31m         \u001b[1;32mreturn\u001b[0m \u001b[0m_read\u001b[0m\u001b[1;33m(\u001b[0m\u001b[0mfilepath_or_buffer\u001b[0m\u001b[1;33m,\u001b[0m \u001b[0mkwds\u001b[0m\u001b[1;33m)\u001b[0m\u001b[1;33m\u001b[0m\u001b[0m\n\u001b[0m\u001b[1;32m    563\u001b[0m \u001b[1;33m\u001b[0m\u001b[0m\n\u001b[1;32m    564\u001b[0m     \u001b[0mparser_f\u001b[0m\u001b[1;33m.\u001b[0m\u001b[0m__name__\u001b[0m \u001b[1;33m=\u001b[0m \u001b[0mname\u001b[0m\u001b[1;33m\u001b[0m\u001b[0m\n",
      "\u001b[0;32mC:\\Anaconda\\lib\\site-packages\\pandas\\io\\parsers.pyc\u001b[0m in \u001b[0;36m_read\u001b[0;34m(filepath_or_buffer, kwds)\u001b[0m\n\u001b[1;32m    323\u001b[0m         \u001b[1;32mreturn\u001b[0m \u001b[0mparser\u001b[0m\u001b[1;33m\u001b[0m\u001b[0m\n\u001b[1;32m    324\u001b[0m \u001b[1;33m\u001b[0m\u001b[0m\n\u001b[0;32m--> 325\u001b[0;31m     \u001b[1;32mreturn\u001b[0m \u001b[0mparser\u001b[0m\u001b[1;33m.\u001b[0m\u001b[0mread\u001b[0m\u001b[1;33m(\u001b[0m\u001b[1;33m)\u001b[0m\u001b[1;33m\u001b[0m\u001b[0m\n\u001b[0m\u001b[1;32m    326\u001b[0m \u001b[1;33m\u001b[0m\u001b[0m\n\u001b[1;32m    327\u001b[0m _parser_defaults = {\n",
      "\u001b[0;32mC:\\Anaconda\\lib\\site-packages\\pandas\\io\\parsers.pyc\u001b[0m in \u001b[0;36mread\u001b[0;34m(self, nrows)\u001b[0m\n\u001b[1;32m    813\u001b[0m                 \u001b[1;32mraise\u001b[0m \u001b[0mValueError\u001b[0m\u001b[1;33m(\u001b[0m\u001b[1;34m'skip_footer not supported for iteration'\u001b[0m\u001b[1;33m)\u001b[0m\u001b[1;33m\u001b[0m\u001b[0m\n\u001b[1;32m    814\u001b[0m \u001b[1;33m\u001b[0m\u001b[0m\n\u001b[0;32m--> 815\u001b[0;31m         \u001b[0mret\u001b[0m \u001b[1;33m=\u001b[0m \u001b[0mself\u001b[0m\u001b[1;33m.\u001b[0m\u001b[0m_engine\u001b[0m\u001b[1;33m.\u001b[0m\u001b[0mread\u001b[0m\u001b[1;33m(\u001b[0m\u001b[0mnrows\u001b[0m\u001b[1;33m)\u001b[0m\u001b[1;33m\u001b[0m\u001b[0m\n\u001b[0m\u001b[1;32m    816\u001b[0m \u001b[1;33m\u001b[0m\u001b[0m\n\u001b[1;32m    817\u001b[0m         \u001b[1;32mif\u001b[0m \u001b[0mself\u001b[0m\u001b[1;33m.\u001b[0m\u001b[0moptions\u001b[0m\u001b[1;33m.\u001b[0m\u001b[0mget\u001b[0m\u001b[1;33m(\u001b[0m\u001b[1;34m'as_recarray'\u001b[0m\u001b[1;33m)\u001b[0m\u001b[1;33m:\u001b[0m\u001b[1;33m\u001b[0m\u001b[0m\n",
      "\u001b[0;32mC:\\Anaconda\\lib\\site-packages\\pandas\\io\\parsers.pyc\u001b[0m in \u001b[0;36mread\u001b[0;34m(self, nrows)\u001b[0m\n\u001b[1;32m   1312\u001b[0m     \u001b[1;32mdef\u001b[0m \u001b[0mread\u001b[0m\u001b[1;33m(\u001b[0m\u001b[0mself\u001b[0m\u001b[1;33m,\u001b[0m \u001b[0mnrows\u001b[0m\u001b[1;33m=\u001b[0m\u001b[0mNone\u001b[0m\u001b[1;33m)\u001b[0m\u001b[1;33m:\u001b[0m\u001b[1;33m\u001b[0m\u001b[0m\n\u001b[1;32m   1313\u001b[0m         \u001b[1;32mtry\u001b[0m\u001b[1;33m:\u001b[0m\u001b[1;33m\u001b[0m\u001b[0m\n\u001b[0;32m-> 1314\u001b[0;31m             \u001b[0mdata\u001b[0m \u001b[1;33m=\u001b[0m \u001b[0mself\u001b[0m\u001b[1;33m.\u001b[0m\u001b[0m_reader\u001b[0m\u001b[1;33m.\u001b[0m\u001b[0mread\u001b[0m\u001b[1;33m(\u001b[0m\u001b[0mnrows\u001b[0m\u001b[1;33m)\u001b[0m\u001b[1;33m\u001b[0m\u001b[0m\n\u001b[0m\u001b[1;32m   1315\u001b[0m         \u001b[1;32mexcept\u001b[0m \u001b[0mStopIteration\u001b[0m\u001b[1;33m:\u001b[0m\u001b[1;33m\u001b[0m\u001b[0m\n\u001b[1;32m   1316\u001b[0m             \u001b[1;32mif\u001b[0m \u001b[0mself\u001b[0m\u001b[1;33m.\u001b[0m\u001b[0m_first_chunk\u001b[0m\u001b[1;33m:\u001b[0m\u001b[1;33m\u001b[0m\u001b[0m\n",
      "\u001b[0;31mKeyboardInterrupt\u001b[0m: "
     ]
    }
   ],
   "source": [
    "pbar = ProgressBar()\n",
    "\n",
    "# process all feature files\n",
    "for feature_file_path in pbar(glob.glob(os.path.join(FEATURES_RP_EXTRACTED_PATH, \"*.*\"))):\n",
    "    \n",
    "    feature_file_path = feature_file_path.replace(\"\\\\\", \"/\")\n",
    "    \n",
    "    # define destination paths\n",
    "    feature_file_name = feature_file_path.split(\"/\")[-1]\n",
    "    collection_name   = feature_file_name.split(\".\")[0]\n",
    "    feature_name      = feature_file_name.split(\".\")[1]\n",
    "    feature_dst_dir   = \"%s/%s/%s\" % (FEATURES_RP_DST_PATH, feature_name, collection_name)\n",
    "    \n",
    "    # create dir\n",
    "    if not os.path.exists(feature_dst_dir):\n",
    "        os.makedirs(feature_dst_dir)\n",
    "    \n",
    "    print feature_file_path, collection_name, feature_name\n",
    "    \n",
    "    try:\n",
    "        \n",
    "        feature_data = pd.read_csv(feature_file_path, sep=\",\", header=None, skip_blank_lines=True)\n",
    "        \n",
    "        for row in feature_data.iterrows():\n",
    "            \n",
    "            src_filename   = str(row[1][0]).replace(\".mp3\", \"\")\n",
    "            feature_vector = row[1][1:]\n",
    "            \n",
    "            feature_file_dst_path = \"%s\\%s.csv\" % (feature_dst_dir, src_filename)\n",
    "            \n",
    "            pd.DataFrame(feature_vector.values.reshape(1,feature_vector.values.shape[0])).to_csv(feature_file_dst_path, \n",
    "                                                                                                 header=None, \n",
    "                                                                                                 index=None, \n",
    "                                                                                                 sep=\";\", \n",
    "                                                                                                 float_format='%.6f')\n",
    "        \n",
    "    except pd.io.common.EmptyDataError as ede:\n",
    "        print \"*** expected error:\", ede\n",
    "    except Exception as e:\n",
    "        print \"*** unexpected error:\", e"
   ]
  },
  {
   "cell_type": "markdown",
   "metadata": {},
   "source": [
    "# Librosa Features"
   ]
  },
  {
   "cell_type": "markdown",
   "metadata": {},
   "source": [
    "Librosa features have been filename encoded <collection-name>-<filename>.featurename\n",
    "\n",
    "re-structure and rename to <collection-name>/<filename>.featurename"
   ]
  },
  {
   "cell_type": "code",
   "execution_count": 2,
   "metadata": {
    "ExecuteTime": {
     "end_time": "2016-09-27T09:34:23.355000",
     "start_time": "2016-09-27T09:34:23.352000"
    },
    "collapsed": true
   },
   "outputs": [],
   "source": [
    "import shutil"
   ]
  },
  {
   "cell_type": "code",
   "execution_count": 3,
   "metadata": {
    "ExecuteTime": {
     "end_time": "2016-09-27T09:34:23.734000",
     "start_time": "2016-09-27T09:34:23.723000"
    },
    "collapsed": true
   },
   "outputs": [],
   "source": [
    "LIBROSA_FEATURES_ROOT = \"E:/Features/MIR/EuropeanaSounds_raw/audio_features/csv_features\"\n",
    "LIBROSA_FEATURES_DST  = \"E:/Features/MIR/EuropeanaSounds_raw/audio_features/librosa_raw\""
   ]
  },
  {
   "cell_type": "code",
   "execution_count": 4,
   "metadata": {
    "ExecuteTime": {
     "end_time": "2016-09-27T10:55:37.948000",
     "start_time": "2016-09-27T09:34:24.281000"
    },
    "collapsed": false
   },
   "outputs": [
    {
     "name": "stdout",
     "output_type": "stream",
     "text": [
      "E:/Features/MIR/EuropeanaSounds_raw/audio_features/csv_features/chroma\n",
      "E:/Features/MIR/EuropeanaSounds_raw/audio_features/csv_features/mfcc\n",
      "E:/Features/MIR/EuropeanaSounds_raw/audio_features/csv_features/rmse\n",
      "E:/Features/MIR/EuropeanaSounds_raw/audio_features/csv_features/spectral_bandwidth\n",
      "E:/Features/MIR/EuropeanaSounds_raw/audio_features/csv_features/spectral_centroid\n",
      "E:/Features/MIR/EuropeanaSounds_raw/audio_features/csv_features/spectral_contrast\n",
      "E:/Features/MIR/EuropeanaSounds_raw/audio_features/csv_features/spectral_rolloff\n",
      "E:/Features/MIR/EuropeanaSounds_raw/audio_features/csv_features/tonnetz\n",
      "E:/Features/MIR/EuropeanaSounds_raw/audio_features/csv_features/zero_crossing_rate\n"
     ]
    }
   ],
   "source": [
    "# directories under root group features\n",
    "for feature_dir in glob.glob(os.path.join(LIBROSA_FEATURES_ROOT, \"*\")):\n",
    "    \n",
    "    feature_dir = feature_dir.replace(\"\\\\\", \"/\")\n",
    "    \n",
    "    print feature_dir\n",
    "    \n",
    "    feature_name = feature_dir.split(\"/\")[-1]\n",
    "    \n",
    "    feature_dst_dir = \"%s/%s\" % (LIBROSA_FEATURES_DST, feature_name)\n",
    "    \n",
    "    for csv_file_path in glob.glob(os.path.join(feature_dir, \"*.csv\")):\n",
    "        \n",
    "        csv_file_path = csv_file_path.replace(\"\\\\\", \"/\")\n",
    "        \n",
    "        csv_filename = csv_file_path.split(\"/\")[-1]\n",
    "        \n",
    "        tmp = csv_filename.split(\"-\")\n",
    "        collection_name = tmp[0]\n",
    "        filename = tmp[1]\n",
    "        \n",
    "        feature_file_dst_dir = \"%s/%s\" % (feature_dst_dir, collection_name)\n",
    "        \n",
    "        if not os.path.exists(feature_file_dst_dir):\n",
    "            os.makedirs(feature_file_dst_dir)\n",
    "        \n",
    "        #print \"move:\", csv_file_path, \"%s/%s\" % (feature_file_dst_dir, filename)\n",
    "        \n",
    "        shutil.move(csv_file_path, \"%s/%s\" % (feature_file_dst_dir, filename))\n",
    "        \n",
    "        \n",
    "        \n",
    "        "
   ]
  },
  {
   "cell_type": "markdown",
   "metadata": {},
   "source": [
    "# Build Intersection of Available data-items"
   ]
  },
  {
   "cell_type": "code",
   "execution_count": 14,
   "metadata": {
    "ExecuteTime": {
     "end_time": "2016-10-11T16:12:45.889000",
     "start_time": "2016-10-11T16:12:45.885000"
    },
    "collapsed": true
   },
   "outputs": [],
   "source": [
    "path_metadata = \"E:/Features/MIR/EuropeanaSounds_raw/metadata_rdf\" # = reference\n",
    "\n",
    "\n",
    "data_collections = [\n",
    "    [\"audio\", \"E:/Data/MIR/EU_SOUND_CHANNEL/audio\", \".mp3\"],\n",
    "    [\"librosa\", \"E:/Features/MIR/EuropeanaSounds_raw/audio_features/csv_features_aggregated_new/chroma\", \".csv\"],\n",
    "    [\"rp_extract\", \"E:/Features/MIR/EuropeanaSounds/audio_features/rp_extract/mvd\", \".csv\"],\n",
    "    [\"librosa_npz\", \"E:/Features/MIR/EuropeanaSounds_raw/audio_features/npz_features\", \".npz\"]\n",
    "]"
   ]
  },
  {
   "cell_type": "markdown",
   "metadata": {},
   "source": [
    "** Metadata **"
   ]
  },
  {
   "cell_type": "code",
   "execution_count": 16,
   "metadata": {
    "ExecuteTime": {
     "end_time": "2016-10-11T16:13:59.221000",
     "start_time": "2016-10-11T16:13:09.024000"
    },
    "collapsed": false
   },
   "outputs": [
    {
     "name": "stdout",
     "output_type": "stream",
     "text": [
      "(32592, 20)\n",
      "['audio', 'E:/Data/MIR/EU_SOUND_CHANNEL/audio', '.mp3']\n",
      "['librosa', 'E:/Features/MIR/EuropeanaSounds_raw/audio_features/csv_features_aggregated_new/chroma', '.csv']\n",
      "['rp_extract', 'E:/Features/MIR/EuropeanaSounds/audio_features/rp_extract/mvd', '.csv']\n",
      "['librosa_npz', 'E:/Features/MIR/EuropeanaSounds_raw/audio_features/npz_features', '.npz']\n"
     ]
    },
    {
     "data": {
      "text/html": [
       "<div>\n",
       "<table border=\"1\" class=\"dataframe\">\n",
       "  <thead>\n",
       "    <tr style=\"text-align: right;\">\n",
       "      <th></th>\n",
       "      <th>metadata</th>\n",
       "      <th>audio</th>\n",
       "      <th>librosa</th>\n",
       "      <th>rp_extract</th>\n",
       "      <th>librosa_npz</th>\n",
       "    </tr>\n",
       "    <tr>\n",
       "      <th>id</th>\n",
       "      <th></th>\n",
       "      <th></th>\n",
       "      <th></th>\n",
       "      <th></th>\n",
       "      <th></th>\n",
       "    </tr>\n",
       "  </thead>\n",
       "  <tbody>\n",
       "    <tr>\n",
       "      <th>/09301/02DABC7F5850EABCA553BCEEEEAE2B6543A1CA67</th>\n",
       "      <td>True</td>\n",
       "      <td>False</td>\n",
       "      <td>False</td>\n",
       "      <td>False</td>\n",
       "      <td>False</td>\n",
       "    </tr>\n",
       "    <tr>\n",
       "      <th>/09301/03DE04818BECB920A21EA63EA9D5FD1C49CF74A0</th>\n",
       "      <td>True</td>\n",
       "      <td>False</td>\n",
       "      <td>False</td>\n",
       "      <td>False</td>\n",
       "      <td>False</td>\n",
       "    </tr>\n",
       "    <tr>\n",
       "      <th>/09301/0701AE796F7B504E67B8CEB031C1061E113BE3F4</th>\n",
       "      <td>True</td>\n",
       "      <td>False</td>\n",
       "      <td>False</td>\n",
       "      <td>False</td>\n",
       "      <td>False</td>\n",
       "    </tr>\n",
       "    <tr>\n",
       "      <th>/09301/0A3E8D891310E10CEC0B6D7790ADE1470E6541B8</th>\n",
       "      <td>True</td>\n",
       "      <td>False</td>\n",
       "      <td>False</td>\n",
       "      <td>False</td>\n",
       "      <td>False</td>\n",
       "    </tr>\n",
       "    <tr>\n",
       "      <th>/09301/0BF6DFA79787E76872BA33061C84A79588318953</th>\n",
       "      <td>True</td>\n",
       "      <td>False</td>\n",
       "      <td>False</td>\n",
       "      <td>False</td>\n",
       "      <td>False</td>\n",
       "    </tr>\n",
       "  </tbody>\n",
       "</table>\n",
       "</div>"
      ],
      "text/plain": [
       "                                                metadata  audio librosa  \\\n",
       "id                                                                        \n",
       "/09301/02DABC7F5850EABCA553BCEEEEAE2B6543A1CA67     True  False   False   \n",
       "/09301/03DE04818BECB920A21EA63EA9D5FD1C49CF74A0     True  False   False   \n",
       "/09301/0701AE796F7B504E67B8CEB031C1061E113BE3F4     True  False   False   \n",
       "/09301/0A3E8D891310E10CEC0B6D7790ADE1470E6541B8     True  False   False   \n",
       "/09301/0BF6DFA79787E76872BA33061C84A79588318953     True  False   False   \n",
       "\n",
       "                                                rp_extract librosa_npz  \n",
       "id                                                                      \n",
       "/09301/02DABC7F5850EABCA553BCEEEEAE2B6543A1CA67      False       False  \n",
       "/09301/03DE04818BECB920A21EA63EA9D5FD1C49CF74A0      False       False  \n",
       "/09301/0701AE796F7B504E67B8CEB031C1061E113BE3F4      False       False  \n",
       "/09301/0A3E8D891310E10CEC0B6D7790ADE1470E6541B8      False       False  \n",
       "/09301/0BF6DFA79787E76872BA33061C84A79588318953      False       False  "
      ]
     },
     "execution_count": 16,
     "metadata": {},
     "output_type": "execute_result"
    }
   ],
   "source": [
    "# read csv-data (separated by semicolons)\n",
    "metadata = pd.read_csv(\"E:/Features/MIR/EuropeanaSounds/metadata/metadata.csv\", sep=\";\")\n",
    "\n",
    "# convert nan-values to empty strings\n",
    "metadata = metadata.fillna(\"\")\n",
    "\n",
    "dataset = pd.DataFrame(metadata.id)\n",
    "\n",
    "dataset[\"metadata\"] = True\n",
    "\n",
    "print metadata.shape\n",
    "\n",
    "dataset = dataset.set_index(\"id\")\n",
    "\n",
    "\n",
    "for collection in data_collections:\n",
    "    \n",
    "    print collection\n",
    "\n",
    "    data_files = []\n",
    "\n",
    "    for collection_dir in glob.glob(os.path.join(collection[1], \"*\")):\n",
    "        if os.path.isdir(collection_dir):\n",
    "            for data_file in glob.glob(os.path.join(collection_dir, \"*%s\" % collection[2])):\n",
    "                data_file = data_file.replace(\"\\\\\", \"/\").replace(collection[1], \"\").replace(collection[2], \"\")\n",
    "                data_files.append(data_file)\n",
    "\n",
    "    collection_dataset = pd.DataFrame(data_files)\n",
    "   \n",
    "    \n",
    "    collection_dataset = collection_dataset.set_index(0)\n",
    "    del collection_dataset.index.name\n",
    "    collection_dataset[collection[0]] = True\n",
    "    \n",
    "    dataset = dataset.join(collection_dataset, how=\"left\").fillna(False)\n",
    "\n",
    "dataset.head()"
   ]
  },
  {
   "cell_type": "code",
   "execution_count": 17,
   "metadata": {
    "ExecuteTime": {
     "end_time": "2016-10-11T16:14:02.996000",
     "start_time": "2016-10-11T16:14:02.983000"
    },
    "collapsed": false
   },
   "outputs": [
    {
     "name": "stdout",
     "output_type": "stream",
     "text": [
      "metdata: (32592, 5)\n",
      "audio: (18820, 5)\n",
      "librosa: (15193, 5)\n",
      "rp_extract (12587, 5)\n",
      "intersection (12587, 5)\n"
     ]
    }
   ],
   "source": [
    "print \"metdata:\",     dataset.shape\n",
    "print \"audio:\",       dataset[dataset.audio].shape\n",
    "print \"librosa:\",     dataset[dataset.librosa].shape\n",
    "print \"rp_extract\",   dataset[dataset.rp_extract].shape\n",
    "print \"intersection\", dataset[(dataset.audio) & (dataset.librosa) & dataset.rp_extract].shape"
   ]
  },
  {
   "cell_type": "code",
   "execution_count": 44,
   "metadata": {
    "ExecuteTime": {
     "end_time": "2016-10-11T16:24:15.346000",
     "start_time": "2016-10-11T16:24:15.318000"
    },
    "collapsed": false
   },
   "outputs": [],
   "source": [
    "pd.DataFrame(dataset[(dataset.audio) & (dataset.librosa) & dataset.rp_extract].index.values).to_csv(\"E:/Features/MIR/EuropeanaSounds/metadata/intersection.csv\", \n",
    "                                                                                                    header=None,\n",
    "                                                                                                   index=None)"
   ]
  },
  {
   "cell_type": "code",
   "execution_count": 33,
   "metadata": {
    "ExecuteTime": {
     "end_time": "2016-10-11T16:22:14.342000",
     "start_time": "2016-10-11T16:22:14.330000"
    },
    "collapsed": true
   },
   "outputs": [],
   "source": [
    "dataset.index = dataset.index.astype(str)"
   ]
  },
  {
   "cell_type": "code",
   "execution_count": 32,
   "metadata": {
    "ExecuteTime": {
     "end_time": "2016-10-11T16:22:00.762000",
     "start_time": "2016-10-11T16:22:00.754000"
    },
    "collapsed": false
   },
   "outputs": [],
   "source": [
    "metadata.index = metadata.index.astype(str)"
   ]
  },
  {
   "cell_type": "markdown",
   "metadata": {},
   "source": [
    "# Aggregate Metadata"
   ]
  },
  {
   "cell_type": "code",
   "execution_count": 84,
   "metadata": {
    "ExecuteTime": {
     "end_time": "2016-09-27T17:55:15.764000",
     "start_time": "2016-09-27T17:55:08.504000"
    },
    "collapsed": true
   },
   "outputs": [],
   "source": [
    "data_files = []\n",
    "\n",
    "for collection_dir in glob.glob(os.path.join(path_metadata, \"*\")):\n",
    "    if os.path.isdir(collection_dir):\n",
    "        for data_file in glob.glob(os.path.join(collection_dir, \"*.rdf\")):\n",
    "            data_file = data_file.replace(\"\\\\\", \"/\")\n",
    "            data_files.append(data_file)"
   ]
  },
  {
   "cell_type": "code",
   "execution_count": 93,
   "metadata": {
    "ExecuteTime": {
     "end_time": "2016-09-27T18:27:54.671000",
     "start_time": "2016-09-27T18:21:13.938000"
    },
    "collapsed": false
   },
   "outputs": [
    {
     "name": "stderr",
     "output_type": "stream",
     "text": [
      "100% (32592 of 32592) |###################################################################################################| Elapsed Time: 0:06:39 Time: 0:06:39\n"
     ]
    }
   ],
   "source": [
    "tags = [\n",
    "\"dc:relation\",\n",
    "\"dcterms:spatial\",\n",
    "\"dc:language\",\n",
    "\"dc:description\",\n",
    "\"dc:identifier\",\n",
    "\"dc:type\",\n",
    "\"dc:title\",\n",
    "\"dc:subject\",\n",
    "\"dc:type\",\n",
    "\"dc:description\",\n",
    "\"dc:publisher\",\n",
    "\"dc:creator\",\n",
    "\"dc:contributor\",\n",
    "\"edm:country\",\n",
    "\"edm:provider\",\n",
    "\"edm:dataProvider\",\n",
    "\"edm:year\",\n",
    "\"dcterms:medium\",\n",
    "\"dc:date\",\n",
    "\"dc:format\",\n",
    "\"dcterms:created\"\n",
    "]\n",
    "\n",
    "pbar = ProgressBar()\n",
    "\n",
    "data = []\n",
    "\n",
    "for df in pbar(data_files):\n",
    "\n",
    "    data_item = {}\n",
    "    \n",
    "    data_item[\"id\"] = df.replace(\"\\\\\", \"/\").replace(path_metadata, \"\").replace(\".rdf\", \"\")\n",
    "    \n",
    "    for t in tags:\n",
    "        data_item[t.split(\":\")[1]] = \"\"\n",
    "    \n",
    "    \n",
    "    \n",
    "    with open(df, 'r') as rdf:\n",
    "        for line in rdf.readlines():\n",
    "\n",
    "            if any(tag in line for tag in tags):\n",
    "                \n",
    "                try:\n",
    "                    line = line.strip()\n",
    "                    tmp = line.split(\">\")\n",
    "                    tag = tmp[0].split(\":\")[-1]\n",
    "                    content = tmp[1].split(\"<\")[0]\n",
    "\n",
    "                    if len(data_item[tag]) > 0:\n",
    "                        data_item[tag] += \", %s\" % content\n",
    "                    else:\n",
    "                        data_item[tag] = content\n",
    "                except:\n",
    "                    pass\n",
    "                    \n",
    "    data.append(data_item)\n",
    "    \n",
    "data = pd.DataFrame(data)\n",
    "data.to_csv(\"E:/Features/MIR/EuropeanaSounds/metadata/metadata.csv\", sep=\";\", index=None)"
   ]
  },
  {
   "cell_type": "code",
   "execution_count": 97,
   "metadata": {
    "ExecuteTime": {
     "end_time": "2016-09-27T18:49:32.162000",
     "start_time": "2016-09-27T18:49:32.137000"
    },
    "collapsed": false
   },
   "outputs": [],
   "source": [
    "[\"a\", \"b\"].remove(\"b\")"
   ]
  },
  {
   "cell_type": "code",
   "execution_count": 101,
   "metadata": {
    "ExecuteTime": {
     "end_time": "2016-09-29T13:20:56.655000",
     "start_time": "2016-09-29T13:20:56.064000"
    },
    "collapsed": false
   },
   "outputs": [],
   "source": [
    "cols = data.columns.tolist()\n",
    "cols.remove(\"id\")\n",
    "d = data[[\"id\"] + cols]\n",
    "d = d.fillna(\"\")\n",
    "d.to_csv(\"E:/Features/MIR/EuropeanaSounds/metadata/metadata.csv\", sep=\";\", index=None)"
   ]
  },
  {
   "cell_type": "markdown",
   "metadata": {},
   "source": [
    "# join separated feature vectors into a single file"
   ]
  },
  {
   "cell_type": "code",
   "execution_count": 39,
   "metadata": {
    "ExecuteTime": {
     "end_time": "2016-09-29T18:26:26.880000",
     "start_time": "2016-09-29T18:26:26.876000"
    },
    "collapsed": true
   },
   "outputs": [],
   "source": [
    "FEATURES_PATH = \"E:/Features/MIR/EuropeanaSounds_raw/audio_features/csv_features_aggregated_new/\""
   ]
  },
  {
   "cell_type": "code",
   "execution_count": 40,
   "metadata": {
    "ExecuteTime": {
     "end_time": "2016-09-29T18:50:17.792000",
     "start_time": "2016-09-29T18:26:28.199000"
    },
    "collapsed": false
   },
   "outputs": [
    {
     "name": "stdout",
     "output_type": "stream",
     "text": [
      "('chroma', 'E:/Features/MIR/EuropeanaSounds_raw/audio_features/csv_features_aggregated_new/chroma')\n",
      "E:/Features/MIR/EuropeanaSounds_raw/audio_features/csv_features_aggregated_new/chroma/2023601\n"
     ]
    },
    {
     "name": "stderr",
     "output_type": "stream",
     "text": [
      "100% (20785 of 20785) |###################################################################################################| Elapsed Time: 0:03:10 Time: 0:03:10\n",
      " 81% ( 9 of 11) |#####################################################################################                    | Elapsed Time: 0:00:00 ETA:  0:00:00"
     ]
    },
    {
     "name": "stdout",
     "output_type": "stream",
     "text": [
      "E:/Features/MIR/EuropeanaSounds_raw/audio_features/csv_features_aggregated_new/chroma/2048401\n"
     ]
    },
    {
     "name": "stderr",
     "output_type": "stream",
     "text": [
      "\r",
      " 90% (10 of 11) |###############################################################################################          | Elapsed Time: 0:00:00 ETA:  0:00:00\r",
      "100% (11 of 11) |#########################################################################################################| Elapsed Time: 0:00:00 Time: 0:00:00\n",
      "\r",
      "  1% ( 1 of 86) |#                                                                                                        | Elapsed Time: 0:00:00 ETA:  0:00:00\r",
      "  2% ( 2 of 86) |##                                                                                                       | Elapsed Time: 0:00:00 ETA:  0:00:00\r",
      "  3% ( 3 of 86) |###                                                                                                      | Elapsed Time: 0:00:00 ETA:  0:00:00\r",
      "  4% ( 4 of 86) |####                                                                                                     | Elapsed Time: 0:00:00 ETA:  0:00:00"
     ]
    },
    {
     "name": "stdout",
     "output_type": "stream",
     "text": [
      "E:/Features/MIR/EuropeanaSounds_raw/audio_features/csv_features_aggregated_new/chroma/2051921\n"
     ]
    },
    {
     "name": "stderr",
     "output_type": "stream",
     "text": [
      "100% (86 of 86) |#########################################################################################################| Elapsed Time: 0:00:01 Time: 0:00:01\n"
     ]
    },
    {
     "name": "stdout",
     "output_type": "stream",
     "text": [
      "E:/Features/MIR/EuropeanaSounds_raw/audio_features/csv_features_aggregated_new/chroma/2059201\n"
     ]
    },
    {
     "name": "stderr",
     "output_type": "stream",
     "text": [
      "100% (1671 of 1671) |#####################################################################################################| Elapsed Time: 0:00:29 Time: 0:00:29\n",
      " 50% ( 5 of 10) |####################################################                                                     | Elapsed Time: 0:00:00 ETA:  0:00:00"
     ]
    },
    {
     "name": "stdout",
     "output_type": "stream",
     "text": [
      "E:/Features/MIR/EuropeanaSounds_raw/audio_features/csv_features_aggregated_new/chroma/2059203\n"
     ]
    },
    {
     "name": "stderr",
     "output_type": "stream",
     "text": [
      "\r",
      " 60% ( 6 of 10) |###############################################################                                          | Elapsed Time: 0:00:00 ETA:  0:00:00\r",
      " 70% ( 7 of 10) |#########################################################################                                | Elapsed Time: 0:00:00 ETA:  0:00:00\r",
      " 80% ( 8 of 10) |####################################################################################                     | Elapsed Time: 0:00:00 ETA:  0:00:00\r",
      " 90% ( 9 of 10) |##############################################################################################           | Elapsed Time: 0:00:00 ETA:  0:00:00\r",
      "100% (10 of 10) |#########################################################################################################| Elapsed Time: 0:00:00 Time: 0:00:00\n"
     ]
    },
    {
     "name": "stdout",
     "output_type": "stream",
     "text": [
      "E:/Features/MIR/EuropeanaSounds_raw/audio_features/csv_features_aggregated_new/chroma/2059206\n"
     ]
    },
    {
     "name": "stderr",
     "output_type": "stream",
     "text": [
      "100% (976 of 976) |#######################################################################################################| Elapsed Time: 0:00:17 Time: 0:00:17\n"
     ]
    },
    {
     "name": "stdout",
     "output_type": "stream",
     "text": [
      "E:/Features/MIR/EuropeanaSounds_raw/audio_features/csv_features_aggregated_new/chroma/2059207\n"
     ]
    },
    {
     "name": "stderr",
     "output_type": "stream",
     "text": [
      "100% (11945 of 11945) |###################################################################################################| Elapsed Time: 0:02:14 Time: 0:02:14\n"
     ]
    },
    {
     "name": "stdout",
     "output_type": "stream",
     "text": [
      "E:/Features/MIR/EuropeanaSounds_raw/audio_features/csv_features_aggregated_new/chroma/2059210\n"
     ]
    },
    {
     "name": "stderr",
     "output_type": "stream",
     "text": [
      "100% (2767 of 2767) |#####################################################################################################| Elapsed Time: 0:00:27 Time: 0:00:27\n"
     ]
    },
    {
     "name": "stdout",
     "output_type": "stream",
     "text": [
      "E:/Features/MIR/EuropeanaSounds_raw/audio_features/csv_features_aggregated_new/chroma/2059213\n"
     ]
    },
    {
     "name": "stderr",
     "output_type": "stream",
     "text": [
      "100% (1077 of 1077) |#####################################################################################################| Elapsed Time: 0:00:14 Time: 0:00:14\n",
      "100% (2 of 2) |###########################################################################################################| Elapsed Time: 0:00:00 Time: 0:00:00\n"
     ]
    },
    {
     "name": "stdout",
     "output_type": "stream",
     "text": [
      "E:/Features/MIR/EuropeanaSounds_raw/audio_features/csv_features_aggregated_new/chroma/9200257\n",
      "('mfcc', 'E:/Features/MIR/EuropeanaSounds_raw/audio_features/csv_features_aggregated_new/mfcc')\n",
      "E:/Features/MIR/EuropeanaSounds_raw/audio_features/csv_features_aggregated_new/mfcc/2023601\n"
     ]
    },
    {
     "name": "stderr",
     "output_type": "stream",
     "text": [
      "100% (20785 of 20785) |###################################################################################################| Elapsed Time: 0:03:34 Time: 0:03:34\n",
      "100% (11 of 11) |#########################################################################################################| Elapsed Time: 0:00:00 Time: 0:00:00\n",
      "  3% ( 3 of 86) |###                                                                                                      | Elapsed Time: 0:00:00 ETA:  0:00:00"
     ]
    },
    {
     "name": "stdout",
     "output_type": "stream",
     "text": [
      "E:/Features/MIR/EuropeanaSounds_raw/audio_features/csv_features_aggregated_new/mfcc/2048401\n",
      "E:/Features/MIR/EuropeanaSounds_raw/audio_features/csv_features_aggregated_new/mfcc/2051921\n"
     ]
    },
    {
     "name": "stderr",
     "output_type": "stream",
     "text": [
      "100% (86 of 86) |#########################################################################################################| Elapsed Time: 0:00:00 Time: 0:00:00\n"
     ]
    },
    {
     "name": "stdout",
     "output_type": "stream",
     "text": [
      "E:/Features/MIR/EuropeanaSounds_raw/audio_features/csv_features_aggregated_new/mfcc/2059201\n"
     ]
    },
    {
     "name": "stderr",
     "output_type": "stream",
     "text": [
      "100% (1671 of 1671) |#####################################################################################################| Elapsed Time: 0:00:21 Time: 0:00:21\n",
      "100% (10 of 10) |#########################################################################################################| Elapsed Time: 0:00:00 Time: 0:00:00\n"
     ]
    },
    {
     "name": "stdout",
     "output_type": "stream",
     "text": [
      "E:/Features/MIR/EuropeanaSounds_raw/audio_features/csv_features_aggregated_new/mfcc/2059203\n",
      "E:/Features/MIR/EuropeanaSounds_raw/audio_features/csv_features_aggregated_new/mfcc/2059206\n"
     ]
    },
    {
     "name": "stderr",
     "output_type": "stream",
     "text": [
      "100% (976 of 976) |#######################################################################################################| Elapsed Time: 0:00:13 Time: 0:00:13\n"
     ]
    },
    {
     "name": "stdout",
     "output_type": "stream",
     "text": [
      "E:/Features/MIR/EuropeanaSounds_raw/audio_features/csv_features_aggregated_new/mfcc/2059207\n"
     ]
    },
    {
     "name": "stderr",
     "output_type": "stream",
     "text": [
      "100% (11945 of 11945) |###################################################################################################| Elapsed Time: 0:02:05 Time: 0:02:05\n"
     ]
    },
    {
     "name": "stdout",
     "output_type": "stream",
     "text": [
      "E:/Features/MIR/EuropeanaSounds_raw/audio_features/csv_features_aggregated_new/mfcc/2059210\n"
     ]
    },
    {
     "name": "stderr",
     "output_type": "stream",
     "text": [
      "100% (2767 of 2767) |#####################################################################################################| Elapsed Time: 0:00:27 Time: 0:00:27\n"
     ]
    },
    {
     "name": "stdout",
     "output_type": "stream",
     "text": [
      "E:/Features/MIR/EuropeanaSounds_raw/audio_features/csv_features_aggregated_new/mfcc/2059213\n"
     ]
    },
    {
     "name": "stderr",
     "output_type": "stream",
     "text": [
      "100% (1077 of 1077) |#####################################################################################################| Elapsed Time: 0:00:10 Time: 0:00:10\n"
     ]
    },
    {
     "name": "stdout",
     "output_type": "stream",
     "text": [
      "E:/Features/MIR/EuropeanaSounds_raw/audio_features/csv_features_aggregated_new/mfcc/9200257\n"
     ]
    },
    {
     "name": "stderr",
     "output_type": "stream",
     "text": [
      "\r",
      " 50% (1 of 2) |#####################################################                                                      | Elapsed Time: 0:00:00 ETA:  0:00:00\r",
      "100% (2 of 2) |###########################################################################################################| Elapsed Time: 0:00:00 Time: 0:00:00\n"
     ]
    },
    {
     "name": "stdout",
     "output_type": "stream",
     "text": [
      "('rmse', 'E:/Features/MIR/EuropeanaSounds_raw/audio_features/csv_features_aggregated_new/rmse')\n",
      "E:/Features/MIR/EuropeanaSounds_raw/audio_features/csv_features_aggregated_new/rmse/2023601\n"
     ]
    },
    {
     "name": "stderr",
     "output_type": "stream",
     "text": [
      "100% (20785 of 20785) |###################################################################################################| Elapsed Time: 0:00:21 Time: 0:00:21\n",
      "100% (11 of 11) |#########################################################################################################| Elapsed Time: 0:00:00 Time: 0:00:00\n",
      "100% (86 of 86) |#########################################################################################################| Elapsed Time: 0:00:00 Time: 0:00:00\n"
     ]
    },
    {
     "name": "stdout",
     "output_type": "stream",
     "text": [
      "E:/Features/MIR/EuropeanaSounds_raw/audio_features/csv_features_aggregated_new/rmse/2048401\n",
      "E:/Features/MIR/EuropeanaSounds_raw/audio_features/csv_features_aggregated_new/rmse/2051921\n",
      "E:/Features/MIR/EuropeanaSounds_raw/audio_features/csv_features_aggregated_new/rmse/2059201\n"
     ]
    },
    {
     "name": "stderr",
     "output_type": "stream",
     "text": [
      "100% (1671 of 1671) |#####################################################################################################| Elapsed Time: 0:00:01 Time: 0:00:01\n",
      "100% (10 of 10) |#########################################################################################################| Elapsed Time: 0:00:00 Time: 0:00:00\n"
     ]
    },
    {
     "name": "stdout",
     "output_type": "stream",
     "text": [
      "E:/Features/MIR/EuropeanaSounds_raw/audio_features/csv_features_aggregated_new/rmse/2059203\n",
      "E:/Features/MIR/EuropeanaSounds_raw/audio_features/csv_features_aggregated_new/rmse/2059206\n"
     ]
    },
    {
     "name": "stderr",
     "output_type": "stream",
     "text": [
      "100% (976 of 976) |#######################################################################################################| Elapsed Time: 0:00:01 Time: 0:00:01\n"
     ]
    },
    {
     "name": "stdout",
     "output_type": "stream",
     "text": [
      "E:/Features/MIR/EuropeanaSounds_raw/audio_features/csv_features_aggregated_new/rmse/2059207\n"
     ]
    },
    {
     "name": "stderr",
     "output_type": "stream",
     "text": [
      "100% (11945 of 11945) |###################################################################################################| Elapsed Time: 0:00:12 Time: 0:00:12\n"
     ]
    },
    {
     "name": "stdout",
     "output_type": "stream",
     "text": [
      "E:/Features/MIR/EuropeanaSounds_raw/audio_features/csv_features_aggregated_new/rmse/2059210\n"
     ]
    },
    {
     "name": "stderr",
     "output_type": "stream",
     "text": [
      "100% (2767 of 2767) |#####################################################################################################| Elapsed Time: 0:00:02 Time: 0:00:02\n"
     ]
    },
    {
     "name": "stdout",
     "output_type": "stream",
     "text": [
      "E:/Features/MIR/EuropeanaSounds_raw/audio_features/csv_features_aggregated_new/rmse/2059213\n"
     ]
    },
    {
     "name": "stderr",
     "output_type": "stream",
     "text": [
      "100% (1077 of 1077) |#####################################################################################################| Elapsed Time: 0:00:01 Time: 0:00:01\n",
      "100% (2 of 2) |###########################################################################################################| Elapsed Time: 0:00:00 Time: 0:00:00\n"
     ]
    },
    {
     "name": "stdout",
     "output_type": "stream",
     "text": [
      "E:/Features/MIR/EuropeanaSounds_raw/audio_features/csv_features_aggregated_new/rmse/9200257\n",
      "('spectral_bandwidth', 'E:/Features/MIR/EuropeanaSounds_raw/audio_features/csv_features_aggregated_new/spectral_bandwidth')\n",
      "E:/Features/MIR/EuropeanaSounds_raw/audio_features/csv_features_aggregated_new/spectral_bandwidth/2023601\n"
     ]
    },
    {
     "name": "stderr",
     "output_type": "stream",
     "text": [
      "100% (20785 of 20785) |###################################################################################################| Elapsed Time: 0:00:21 Time: 0:00:21\n",
      "100% (11 of 11) |#########################################################################################################| Elapsed Time: 0:00:00 Time: 0:00:00\n",
      " 81% (70 of 86) |#####################################################################################                    | Elapsed Time: 0:00:00 ETA:  0:00:00"
     ]
    },
    {
     "name": "stdout",
     "output_type": "stream",
     "text": [
      "E:/Features/MIR/EuropeanaSounds_raw/audio_features/csv_features_aggregated_new/spectral_bandwidth/2048401\n",
      "E:/Features/MIR/EuropeanaSounds_raw/audio_features/csv_features_aggregated_new/spectral_bandwidth/2051921\n"
     ]
    },
    {
     "name": "stderr",
     "output_type": "stream",
     "text": [
      "\r",
      " 82% (71 of 86) |######################################################################################                   | Elapsed Time: 0:00:00 ETA:  0:00:00\r",
      " 83% (72 of 86) |#######################################################################################                  | Elapsed Time: 0:00:00 ETA:  0:00:00\r",
      " 84% (73 of 86) |#########################################################################################                | Elapsed Time: 0:00:00 ETA:  0:00:00\r",
      " 86% (74 of 86) |##########################################################################################               | Elapsed Time: 0:00:00 ETA:  0:00:00\r",
      " 87% (75 of 86) |###########################################################################################              | Elapsed Time: 0:00:00 ETA:  0:00:00\r",
      " 88% (76 of 86) |############################################################################################             | Elapsed Time: 0:00:00 ETA:  0:00:00\r",
      " 89% (77 of 86) |##############################################################################################           | Elapsed Time: 0:00:00 ETA:  0:00:00\r",
      " 90% (78 of 86) |###############################################################################################          | Elapsed Time: 0:00:00 ETA:  0:00:00\r",
      " 91% (79 of 86) |################################################################################################         | Elapsed Time: 0:00:00 ETA:  0:00:00\r",
      " 93% (80 of 86) |#################################################################################################        | Elapsed Time: 0:00:00 ETA:  0:00:00\r",
      " 94% (81 of 86) |##################################################################################################       | Elapsed Time: 0:00:00 ETA:  0:00:00\r",
      " 95% (82 of 86) |####################################################################################################     | Elapsed Time: 0:00:00 ETA:  0:00:00\r",
      " 96% (83 of 86) |#####################################################################################################    | Elapsed Time: 0:00:00 ETA:  0:00:00\r",
      " 97% (84 of 86) |######################################################################################################   | Elapsed Time: 0:00:00 ETA:  0:00:00\r",
      " 98% (85 of 86) |#######################################################################################################  | Elapsed Time: 0:00:00 ETA:  0:00:00\r",
      "100% (86 of 86) |#########################################################################################################| Elapsed Time: 0:00:00 Time: 0:00:00\n"
     ]
    },
    {
     "name": "stdout",
     "output_type": "stream",
     "text": [
      "E:/Features/MIR/EuropeanaSounds_raw/audio_features/csv_features_aggregated_new/spectral_bandwidth/2059201\n"
     ]
    },
    {
     "name": "stderr",
     "output_type": "stream",
     "text": [
      "100% (1671 of 1671) |#####################################################################################################| Elapsed Time: 0:00:01 Time: 0:00:01\n",
      "100% (10 of 10) |#########################################################################################################| Elapsed Time: 0:00:00 Time: 0:00:00\n"
     ]
    },
    {
     "name": "stdout",
     "output_type": "stream",
     "text": [
      "E:/Features/MIR/EuropeanaSounds_raw/audio_features/csv_features_aggregated_new/spectral_bandwidth/2059203\n",
      "E:/Features/MIR/EuropeanaSounds_raw/audio_features/csv_features_aggregated_new/spectral_bandwidth/2059206\n"
     ]
    },
    {
     "name": "stderr",
     "output_type": "stream",
     "text": [
      "100% (976 of 976) |#######################################################################################################| Elapsed Time: 0:00:01 Time: 0:00:01\n"
     ]
    },
    {
     "name": "stdout",
     "output_type": "stream",
     "text": [
      "E:/Features/MIR/EuropeanaSounds_raw/audio_features/csv_features_aggregated_new/spectral_bandwidth/2059207\n"
     ]
    },
    {
     "name": "stderr",
     "output_type": "stream",
     "text": [
      "100% (11945 of 11945) |###################################################################################################| Elapsed Time: 0:00:12 Time: 0:00:12\n"
     ]
    },
    {
     "name": "stdout",
     "output_type": "stream",
     "text": [
      "E:/Features/MIR/EuropeanaSounds_raw/audio_features/csv_features_aggregated_new/spectral_bandwidth/2059210\n"
     ]
    },
    {
     "name": "stderr",
     "output_type": "stream",
     "text": [
      "100% (2767 of 2767) |#####################################################################################################| Elapsed Time: 0:00:02 Time: 0:00:02\n"
     ]
    },
    {
     "name": "stdout",
     "output_type": "stream",
     "text": [
      "E:/Features/MIR/EuropeanaSounds_raw/audio_features/csv_features_aggregated_new/spectral_bandwidth/2059213\n"
     ]
    },
    {
     "name": "stderr",
     "output_type": "stream",
     "text": [
      "100% (1077 of 1077) |#####################################################################################################| Elapsed Time: 0:00:01 Time: 0:00:01\n",
      "100% (2 of 2) |###########################################################################################################| Elapsed Time: 0:00:00 Time: 0:00:00\n"
     ]
    },
    {
     "name": "stdout",
     "output_type": "stream",
     "text": [
      "E:/Features/MIR/EuropeanaSounds_raw/audio_features/csv_features_aggregated_new/spectral_bandwidth/9200257\n",
      "('spectral_centroid', 'E:/Features/MIR/EuropeanaSounds_raw/audio_features/csv_features_aggregated_new/spectral_centroid')\n",
      "E:/Features/MIR/EuropeanaSounds_raw/audio_features/csv_features_aggregated_new/spectral_centroid/2023601\n"
     ]
    },
    {
     "name": "stderr",
     "output_type": "stream",
     "text": [
      "100% (20785 of 20785) |###################################################################################################| Elapsed Time: 0:00:21 Time: 0:00:21\n",
      "100% (11 of 11) |#########################################################################################################| Elapsed Time: 0:00:00 Time: 0:00:00\n",
      "100% (86 of 86) |#########################################################################################################| Elapsed Time: 0:00:00 Time: 0:00:00\n"
     ]
    },
    {
     "name": "stdout",
     "output_type": "stream",
     "text": [
      "E:/Features/MIR/EuropeanaSounds_raw/audio_features/csv_features_aggregated_new/spectral_centroid/2048401\n",
      "E:/Features/MIR/EuropeanaSounds_raw/audio_features/csv_features_aggregated_new/spectral_centroid/2051921\n",
      "E:/Features/MIR/EuropeanaSounds_raw/audio_features/csv_features_aggregated_new/spectral_centroid/2059201\n"
     ]
    },
    {
     "name": "stderr",
     "output_type": "stream",
     "text": [
      "100% (1671 of 1671) |#####################################################################################################| Elapsed Time: 0:00:01 Time: 0:00:01\n",
      "100% (10 of 10) |#########################################################################################################| Elapsed Time: 0:00:00 Time: 0:00:00\n"
     ]
    },
    {
     "name": "stdout",
     "output_type": "stream",
     "text": [
      "E:/Features/MIR/EuropeanaSounds_raw/audio_features/csv_features_aggregated_new/spectral_centroid/2059203\n",
      "E:/Features/MIR/EuropeanaSounds_raw/audio_features/csv_features_aggregated_new/spectral_centroid/2059206\n"
     ]
    },
    {
     "name": "stderr",
     "output_type": "stream",
     "text": [
      "100% (976 of 976) |#######################################################################################################| Elapsed Time: 0:00:01 Time: 0:00:01\n"
     ]
    },
    {
     "name": "stdout",
     "output_type": "stream",
     "text": [
      "E:/Features/MIR/EuropeanaSounds_raw/audio_features/csv_features_aggregated_new/spectral_centroid/2059207\n"
     ]
    },
    {
     "name": "stderr",
     "output_type": "stream",
     "text": [
      "100% (11945 of 11945) |###################################################################################################| Elapsed Time: 0:00:12 Time: 0:00:12\n"
     ]
    },
    {
     "name": "stdout",
     "output_type": "stream",
     "text": [
      "E:/Features/MIR/EuropeanaSounds_raw/audio_features/csv_features_aggregated_new/spectral_centroid/2059210\n"
     ]
    },
    {
     "name": "stderr",
     "output_type": "stream",
     "text": [
      "100% (2767 of 2767) |#####################################################################################################| Elapsed Time: 0:00:02 Time: 0:00:02\n"
     ]
    },
    {
     "name": "stdout",
     "output_type": "stream",
     "text": [
      "E:/Features/MIR/EuropeanaSounds_raw/audio_features/csv_features_aggregated_new/spectral_centroid/2059213\n"
     ]
    },
    {
     "name": "stderr",
     "output_type": "stream",
     "text": [
      "100% (1077 of 1077) |#####################################################################################################| Elapsed Time: 0:00:01 Time: 0:00:01\n",
      "100% (2 of 2) |###########################################################################################################| Elapsed Time: 0:00:00 Time: 0:00:00\n"
     ]
    },
    {
     "name": "stdout",
     "output_type": "stream",
     "text": [
      "E:/Features/MIR/EuropeanaSounds_raw/audio_features/csv_features_aggregated_new/spectral_centroid/9200257\n",
      "('spectral_contrast', 'E:/Features/MIR/EuropeanaSounds_raw/audio_features/csv_features_aggregated_new/spectral_contrast')\n",
      "E:/Features/MIR/EuropeanaSounds_raw/audio_features/csv_features_aggregated_new/spectral_contrast/2023601\n"
     ]
    },
    {
     "name": "stderr",
     "output_type": "stream",
     "text": [
      "100% (20785 of 20785) |###################################################################################################| Elapsed Time: 0:00:42 Time: 0:00:42\n",
      "100% (11 of 11) |#########################################################################################################| Elapsed Time: 0:00:00 Time: 0:00:00\n",
      " 50% (43 of 86) |####################################################                                                     | Elapsed Time: 0:00:00 ETA:  0:00:00"
     ]
    },
    {
     "name": "stdout",
     "output_type": "stream",
     "text": [
      "E:/Features/MIR/EuropeanaSounds_raw/audio_features/csv_features_aggregated_new/spectral_contrast/2048401\n",
      "E:/Features/MIR/EuropeanaSounds_raw/audio_features/csv_features_aggregated_new/spectral_contrast/2051921\n"
     ]
    },
    {
     "name": "stderr",
     "output_type": "stream",
     "text": [
      "\r",
      " 51% (44 of 86) |#####################################################                                                    | Elapsed Time: 0:00:00 ETA:  0:00:00\r",
      " 52% (45 of 86) |######################################################                                                   | Elapsed Time: 0:00:00 ETA:  0:00:00\r",
      " 53% (46 of 86) |########################################################                                                 | Elapsed Time: 0:00:00 ETA:  0:00:00\r",
      " 54% (47 of 86) |#########################################################                                                | Elapsed Time: 0:00:00 ETA:  0:00:00\r",
      " 55% (48 of 86) |##########################################################                                               | Elapsed Time: 0:00:00 ETA:  0:00:00\r",
      " 56% (49 of 86) |###########################################################                                              | Elapsed Time: 0:00:00 ETA:  0:00:00\r",
      " 58% (50 of 86) |#############################################################                                            | Elapsed Time: 0:00:00 ETA:  0:00:00\r",
      " 59% (51 of 86) |##############################################################                                           | Elapsed Time: 0:00:00 ETA:  0:00:00\r",
      " 60% (52 of 86) |###############################################################                                          | Elapsed Time: 0:00:00 ETA:  0:00:00\r",
      " 61% (53 of 86) |################################################################                                         | Elapsed Time: 0:00:00 ETA:  0:00:00\r",
      " 62% (54 of 86) |#################################################################                                        | Elapsed Time: 0:00:00 ETA:  0:00:00\r",
      " 63% (55 of 86) |###################################################################                                      | Elapsed Time: 0:00:00 ETA:  0:00:00\r",
      " 65% (56 of 86) |####################################################################                                     | Elapsed Time: 0:00:00 ETA:  0:00:00\r",
      " 66% (57 of 86) |#####################################################################                                    | Elapsed Time: 0:00:00 ETA:  0:00:00\r",
      " 67% (58 of 86) |######################################################################                                   | Elapsed Time: 0:00:00 ETA:  0:00:00\r",
      " 68% (59 of 86) |########################################################################                                 | Elapsed Time: 0:00:00 ETA:  0:00:00\r",
      " 69% (60 of 86) |#########################################################################                                | Elapsed Time: 0:00:00 ETA:  0:00:00\r",
      " 70% (61 of 86) |##########################################################################                               | Elapsed Time: 0:00:00 ETA:  0:00:00\r",
      " 72% (62 of 86) |###########################################################################                              | Elapsed Time: 0:00:00 ETA:  0:00:00\r",
      " 73% (63 of 86) |############################################################################                             | Elapsed Time: 0:00:00 ETA:  0:00:00\r",
      " 74% (64 of 86) |##############################################################################                           | Elapsed Time: 0:00:00 ETA:  0:00:00\r",
      " 75% (65 of 86) |###############################################################################                          | Elapsed Time: 0:00:00 ETA:  0:00:00\r",
      " 76% (66 of 86) |################################################################################                         | Elapsed Time: 0:00:00 ETA:  0:00:00\r",
      " 77% (67 of 86) |#################################################################################                        | Elapsed Time: 0:00:00 ETA:  0:00:00\r",
      " 79% (68 of 86) |###################################################################################                      | Elapsed Time: 0:00:00 ETA:  0:00:00\r",
      " 80% (69 of 86) |####################################################################################                     | Elapsed Time: 0:00:00 ETA:  0:00:00\r",
      " 81% (70 of 86) |#####################################################################################                    | Elapsed Time: 0:00:00 ETA:  0:00:00\r",
      " 82% (71 of 86) |######################################################################################                   | Elapsed Time: 0:00:00 ETA:  0:00:00\r",
      " 83% (72 of 86) |#######################################################################################                  | Elapsed Time: 0:00:00 ETA:  0:00:00\r",
      " 84% (73 of 86) |#########################################################################################                | Elapsed Time: 0:00:00 ETA:  0:00:00\r",
      " 86% (74 of 86) |##########################################################################################               | Elapsed Time: 0:00:00 ETA:  0:00:00\r",
      " 87% (75 of 86) |###########################################################################################              | Elapsed Time: 0:00:00 ETA:  0:00:00\r",
      " 88% (76 of 86) |############################################################################################             | Elapsed Time: 0:00:00 ETA:  0:00:00\r",
      " 89% (77 of 86) |##############################################################################################           | Elapsed Time: 0:00:00 ETA:  0:00:00\r",
      " 90% (78 of 86) |###############################################################################################          | Elapsed Time: 0:00:00 ETA:  0:00:00\r",
      " 91% (79 of 86) |################################################################################################         | Elapsed Time: 0:00:00 ETA:  0:00:00\r",
      " 93% (80 of 86) |#################################################################################################        | Elapsed Time: 0:00:00 ETA:  0:00:00\r",
      " 94% (81 of 86) |##################################################################################################       | Elapsed Time: 0:00:00 ETA:  0:00:00\r",
      " 95% (82 of 86) |####################################################################################################     | Elapsed Time: 0:00:00 ETA:  0:00:00\r",
      " 96% (83 of 86) |#####################################################################################################    | Elapsed Time: 0:00:00 ETA:  0:00:00\r",
      " 97% (84 of 86) |######################################################################################################   | Elapsed Time: 0:00:00 ETA:  0:00:00\r",
      " 98% (85 of 86) |#######################################################################################################  | Elapsed Time: 0:00:00 ETA:  0:00:00\r",
      "100% (86 of 86) |#########################################################################################################| Elapsed Time: 0:00:00 Time: 0:00:00\n"
     ]
    },
    {
     "name": "stdout",
     "output_type": "stream",
     "text": [
      "E:/Features/MIR/EuropeanaSounds_raw/audio_features/csv_features_aggregated_new/spectral_contrast/2059201\n"
     ]
    },
    {
     "name": "stderr",
     "output_type": "stream",
     "text": [
      "100% (1671 of 1671) |#####################################################################################################| Elapsed Time: 0:00:03 Time: 0:00:03\n",
      "100% (10 of 10) |#########################################################################################################| Elapsed Time: 0:00:00 Time: 0:00:00\n"
     ]
    },
    {
     "name": "stdout",
     "output_type": "stream",
     "text": [
      "E:/Features/MIR/EuropeanaSounds_raw/audio_features/csv_features_aggregated_new/spectral_contrast/2059203\n",
      "E:/Features/MIR/EuropeanaSounds_raw/audio_features/csv_features_aggregated_new/spectral_contrast/2059206\n"
     ]
    },
    {
     "name": "stderr",
     "output_type": "stream",
     "text": [
      "100% (976 of 976) |#######################################################################################################| Elapsed Time: 0:00:02 Time: 0:00:02\n"
     ]
    },
    {
     "name": "stdout",
     "output_type": "stream",
     "text": [
      "E:/Features/MIR/EuropeanaSounds_raw/audio_features/csv_features_aggregated_new/spectral_contrast/2059207\n"
     ]
    },
    {
     "name": "stderr",
     "output_type": "stream",
     "text": [
      "100% (11945 of 11945) |###################################################################################################| Elapsed Time: 0:00:24 Time: 0:00:24\n"
     ]
    },
    {
     "name": "stdout",
     "output_type": "stream",
     "text": [
      "E:/Features/MIR/EuropeanaSounds_raw/audio_features/csv_features_aggregated_new/spectral_contrast/2059210\n"
     ]
    },
    {
     "name": "stderr",
     "output_type": "stream",
     "text": [
      "100% (2767 of 2767) |#####################################################################################################| Elapsed Time: 0:00:05 Time: 0:00:05\n"
     ]
    },
    {
     "name": "stdout",
     "output_type": "stream",
     "text": [
      "E:/Features/MIR/EuropeanaSounds_raw/audio_features/csv_features_aggregated_new/spectral_contrast/2059213\n"
     ]
    },
    {
     "name": "stderr",
     "output_type": "stream",
     "text": [
      "100% (1077 of 1077) |#####################################################################################################| Elapsed Time: 0:00:02 Time: 0:00:02\n",
      "100% (2 of 2) |###########################################################################################################| Elapsed Time: 0:00:00 Time: 0:00:00\n"
     ]
    },
    {
     "name": "stdout",
     "output_type": "stream",
     "text": [
      "E:/Features/MIR/EuropeanaSounds_raw/audio_features/csv_features_aggregated_new/spectral_contrast/9200257\n",
      "('spectral_rolloff', 'E:/Features/MIR/EuropeanaSounds_raw/audio_features/csv_features_aggregated_new/spectral_rolloff')\n",
      "E:/Features/MIR/EuropeanaSounds_raw/audio_features/csv_features_aggregated_new/spectral_rolloff/2023601\n"
     ]
    },
    {
     "name": "stderr",
     "output_type": "stream",
     "text": [
      "100% (20785 of 20785) |###################################################################################################| Elapsed Time: 0:00:21 Time: 0:00:21\n",
      "100% (11 of 11) |#########################################################################################################| Elapsed Time: 0:00:00 Time: 0:00:00\n",
      " 98% (85 of 86) |#######################################################################################################  | Elapsed Time: 0:00:00 ETA:  0:00:00"
     ]
    },
    {
     "name": "stdout",
     "output_type": "stream",
     "text": [
      "E:/Features/MIR/EuropeanaSounds_raw/audio_features/csv_features_aggregated_new/spectral_rolloff/2048401\n",
      "E:/Features/MIR/EuropeanaSounds_raw/audio_features/csv_features_aggregated_new/spectral_rolloff/2051921\n"
     ]
    },
    {
     "name": "stderr",
     "output_type": "stream",
     "text": [
      "\r",
      "100% (86 of 86) |#########################################################################################################| Elapsed Time: 0:00:00 Time: 0:00:00\n"
     ]
    },
    {
     "name": "stdout",
     "output_type": "stream",
     "text": [
      "E:/Features/MIR/EuropeanaSounds_raw/audio_features/csv_features_aggregated_new/spectral_rolloff/2059201\n"
     ]
    },
    {
     "name": "stderr",
     "output_type": "stream",
     "text": [
      "100% (1671 of 1671) |#####################################################################################################| Elapsed Time: 0:00:01 Time: 0:00:01\n",
      "100% (10 of 10) |#########################################################################################################| Elapsed Time: 0:00:00 Time: 0:00:00\n"
     ]
    },
    {
     "name": "stdout",
     "output_type": "stream",
     "text": [
      "E:/Features/MIR/EuropeanaSounds_raw/audio_features/csv_features_aggregated_new/spectral_rolloff/2059203\n",
      "E:/Features/MIR/EuropeanaSounds_raw/audio_features/csv_features_aggregated_new/spectral_rolloff/2059206\n"
     ]
    },
    {
     "name": "stderr",
     "output_type": "stream",
     "text": [
      "100% (976 of 976) |#######################################################################################################| Elapsed Time: 0:00:01 Time: 0:00:01\n"
     ]
    },
    {
     "name": "stdout",
     "output_type": "stream",
     "text": [
      "E:/Features/MIR/EuropeanaSounds_raw/audio_features/csv_features_aggregated_new/spectral_rolloff/2059207\n"
     ]
    },
    {
     "name": "stderr",
     "output_type": "stream",
     "text": [
      "100% (11945 of 11945) |###################################################################################################| Elapsed Time: 0:00:12 Time: 0:00:12\n"
     ]
    },
    {
     "name": "stdout",
     "output_type": "stream",
     "text": [
      "E:/Features/MIR/EuropeanaSounds_raw/audio_features/csv_features_aggregated_new/spectral_rolloff/2059210\n"
     ]
    },
    {
     "name": "stderr",
     "output_type": "stream",
     "text": [
      "100% (2767 of 2767) |#####################################################################################################| Elapsed Time: 0:00:02 Time: 0:00:02\n"
     ]
    },
    {
     "name": "stdout",
     "output_type": "stream",
     "text": [
      "E:/Features/MIR/EuropeanaSounds_raw/audio_features/csv_features_aggregated_new/spectral_rolloff/2059213\n"
     ]
    },
    {
     "name": "stderr",
     "output_type": "stream",
     "text": [
      "100% (1077 of 1077) |#####################################################################################################| Elapsed Time: 0:00:01 Time: 0:00:01\n",
      "100% (2 of 2) |###########################################################################################################| Elapsed Time: 0:00:00 Time: 0:00:00\n"
     ]
    },
    {
     "name": "stdout",
     "output_type": "stream",
     "text": [
      "E:/Features/MIR/EuropeanaSounds_raw/audio_features/csv_features_aggregated_new/spectral_rolloff/9200257\n",
      "('tonnetz', 'E:/Features/MIR/EuropeanaSounds_raw/audio_features/csv_features_aggregated_new/tonnetz')\n",
      "E:/Features/MIR/EuropeanaSounds_raw/audio_features/csv_features_aggregated_new/tonnetz/2023601\n"
     ]
    },
    {
     "name": "stderr",
     "output_type": "stream",
     "text": [
      "100% (20785 of 20785) |###################################################################################################| Elapsed Time: 0:00:38 Time: 0:00:38\n",
      "100% (11 of 11) |#########################################################################################################| Elapsed Time: 0:00:00 Time: 0:00:00\n",
      " 53% (46 of 86) |########################################################                                                 | Elapsed Time: 0:00:00 ETA:  0:00:00"
     ]
    },
    {
     "name": "stdout",
     "output_type": "stream",
     "text": [
      "E:/Features/MIR/EuropeanaSounds_raw/audio_features/csv_features_aggregated_new/tonnetz/2048401\n",
      "E:/Features/MIR/EuropeanaSounds_raw/audio_features/csv_features_aggregated_new/tonnetz/2051921\n"
     ]
    },
    {
     "name": "stderr",
     "output_type": "stream",
     "text": [
      "\r",
      " 54% (47 of 86) |#########################################################                                                | Elapsed Time: 0:00:00 ETA:  0:00:00\r",
      " 55% (48 of 86) |##########################################################                                               | Elapsed Time: 0:00:00 ETA:  0:00:00\r",
      " 56% (49 of 86) |###########################################################                                              | Elapsed Time: 0:00:00 ETA:  0:00:00\r",
      " 58% (50 of 86) |#############################################################                                            | Elapsed Time: 0:00:00 ETA:  0:00:00\r",
      " 59% (51 of 86) |##############################################################                                           | Elapsed Time: 0:00:00 ETA:  0:00:00\r",
      " 60% (52 of 86) |###############################################################                                          | Elapsed Time: 0:00:00 ETA:  0:00:00\r",
      " 61% (53 of 86) |################################################################                                         | Elapsed Time: 0:00:00 ETA:  0:00:00\r",
      " 62% (54 of 86) |#################################################################                                        | Elapsed Time: 0:00:00 ETA:  0:00:00\r",
      " 63% (55 of 86) |###################################################################                                      | Elapsed Time: 0:00:00 ETA:  0:00:00\r",
      " 65% (56 of 86) |####################################################################                                     | Elapsed Time: 0:00:00 ETA:  0:00:00\r",
      " 66% (57 of 86) |#####################################################################                                    | Elapsed Time: 0:00:00 ETA:  0:00:00\r",
      " 67% (58 of 86) |######################################################################                                   | Elapsed Time: 0:00:00 ETA:  0:00:00\r",
      " 68% (59 of 86) |########################################################################                                 | Elapsed Time: 0:00:00 ETA:  0:00:00\r",
      " 69% (60 of 86) |#########################################################################                                | Elapsed Time: 0:00:00 ETA:  0:00:00\r",
      " 70% (61 of 86) |##########################################################################                               | Elapsed Time: 0:00:00 ETA:  0:00:00\r",
      " 72% (62 of 86) |###########################################################################                              | Elapsed Time: 0:00:00 ETA:  0:00:00\r",
      " 73% (63 of 86) |############################################################################                             | Elapsed Time: 0:00:00 ETA:  0:00:00\r",
      " 74% (64 of 86) |##############################################################################                           | Elapsed Time: 0:00:00 ETA:  0:00:00\r",
      " 75% (65 of 86) |###############################################################################                          | Elapsed Time: 0:00:00 ETA:  0:00:00\r",
      " 76% (66 of 86) |################################################################################                         | Elapsed Time: 0:00:00 ETA:  0:00:00\r",
      " 77% (67 of 86) |#################################################################################                        | Elapsed Time: 0:00:00 ETA:  0:00:00\r",
      " 79% (68 of 86) |###################################################################################                      | Elapsed Time: 0:00:00 ETA:  0:00:00\r",
      " 80% (69 of 86) |####################################################################################                     | Elapsed Time: 0:00:00 ETA:  0:00:00\r",
      " 81% (70 of 86) |#####################################################################################                    | Elapsed Time: 0:00:00 ETA:  0:00:00\r",
      " 82% (71 of 86) |######################################################################################                   | Elapsed Time: 0:00:00 ETA:  0:00:00\r",
      " 83% (72 of 86) |#######################################################################################                  | Elapsed Time: 0:00:00 ETA:  0:00:00\r",
      " 84% (73 of 86) |#########################################################################################                | Elapsed Time: 0:00:00 ETA:  0:00:00\r",
      " 86% (74 of 86) |##########################################################################################               | Elapsed Time: 0:00:00 ETA:  0:00:00\r",
      " 87% (75 of 86) |###########################################################################################              | Elapsed Time: 0:00:00 ETA:  0:00:00\r",
      " 88% (76 of 86) |############################################################################################             | Elapsed Time: 0:00:00 ETA:  0:00:00\r",
      " 89% (77 of 86) |##############################################################################################           | Elapsed Time: 0:00:00 ETA:  0:00:00\r",
      " 90% (78 of 86) |###############################################################################################          | Elapsed Time: 0:00:00 ETA:  0:00:00\r",
      " 91% (79 of 86) |################################################################################################         | Elapsed Time: 0:00:00 ETA:  0:00:00\r",
      " 93% (80 of 86) |#################################################################################################        | Elapsed Time: 0:00:00 ETA:  0:00:00\r",
      " 94% (81 of 86) |##################################################################################################       | Elapsed Time: 0:00:00 ETA:  0:00:00\r",
      " 95% (82 of 86) |####################################################################################################     | Elapsed Time: 0:00:00 ETA:  0:00:00\r",
      " 96% (83 of 86) |#####################################################################################################    | Elapsed Time: 0:00:00 ETA:  0:00:00\r",
      " 97% (84 of 86) |######################################################################################################   | Elapsed Time: 0:00:00 ETA:  0:00:00\r",
      " 98% (85 of 86) |#######################################################################################################  | Elapsed Time: 0:00:00 ETA:  0:00:00\r",
      "100% (86 of 86) |#########################################################################################################| Elapsed Time: 0:00:00 Time: 0:00:00\n"
     ]
    },
    {
     "name": "stdout",
     "output_type": "stream",
     "text": [
      "E:/Features/MIR/EuropeanaSounds_raw/audio_features/csv_features_aggregated_new/tonnetz/2059201\n"
     ]
    },
    {
     "name": "stderr",
     "output_type": "stream",
     "text": [
      "100% (1671 of 1671) |#####################################################################################################| Elapsed Time: 0:00:03 Time: 0:00:03\n",
      " 40% ( 4 of 10) |##########################################                                                               | Elapsed Time: 0:00:00 ETA:  0:00:00"
     ]
    },
    {
     "name": "stdout",
     "output_type": "stream",
     "text": [
      "E:/Features/MIR/EuropeanaSounds_raw/audio_features/csv_features_aggregated_new/tonnetz/2059203\n",
      "E:/Features/MIR/EuropeanaSounds_raw/audio_features/csv_features_aggregated_new/tonnetz/2059206\n"
     ]
    },
    {
     "name": "stderr",
     "output_type": "stream",
     "text": [
      "100% (10 of 10) |#########################################################################################################| Elapsed Time: 0:00:00 Time: 0:00:00\n",
      "100% (976 of 976) |#######################################################################################################| Elapsed Time: 0:00:01 Time: 0:00:01\n"
     ]
    },
    {
     "name": "stdout",
     "output_type": "stream",
     "text": [
      "E:/Features/MIR/EuropeanaSounds_raw/audio_features/csv_features_aggregated_new/tonnetz/2059207\n"
     ]
    },
    {
     "name": "stderr",
     "output_type": "stream",
     "text": [
      "100% (11945 of 11945) |###################################################################################################| Elapsed Time: 0:00:22 Time: 0:00:22\n"
     ]
    },
    {
     "name": "stdout",
     "output_type": "stream",
     "text": [
      "E:/Features/MIR/EuropeanaSounds_raw/audio_features/csv_features_aggregated_new/tonnetz/2059210\n"
     ]
    },
    {
     "name": "stderr",
     "output_type": "stream",
     "text": [
      "100% (2767 of 2767) |#####################################################################################################| Elapsed Time: 0:00:05 Time: 0:00:05\n"
     ]
    },
    {
     "name": "stdout",
     "output_type": "stream",
     "text": [
      "E:/Features/MIR/EuropeanaSounds_raw/audio_features/csv_features_aggregated_new/tonnetz/2059213\n"
     ]
    },
    {
     "name": "stderr",
     "output_type": "stream",
     "text": [
      "100% (1077 of 1077) |#####################################################################################################| Elapsed Time: 0:00:02 Time: 0:00:02\n",
      "100% (2 of 2) |###########################################################################################################| Elapsed Time: 0:00:00 Time: 0:00:00\n"
     ]
    },
    {
     "name": "stdout",
     "output_type": "stream",
     "text": [
      "E:/Features/MIR/EuropeanaSounds_raw/audio_features/csv_features_aggregated_new/tonnetz/9200257\n",
      "('zero_crossing_rate', 'E:/Features/MIR/EuropeanaSounds_raw/audio_features/csv_features_aggregated_new/zero_crossing_rate')\n",
      "E:/Features/MIR/EuropeanaSounds_raw/audio_features/csv_features_aggregated_new/zero_crossing_rate/2023601\n"
     ]
    },
    {
     "name": "stderr",
     "output_type": "stream",
     "text": [
      "100% (20785 of 20785) |###################################################################################################| Elapsed Time: 0:00:21 Time: 0:00:21\n",
      "100% (11 of 11) |#########################################################################################################| Elapsed Time: 0:00:00 Time: 0:00:00\n",
      "100% (86 of 86) |#########################################################################################################| Elapsed Time: 0:00:00 Time: 0:00:00\n"
     ]
    },
    {
     "name": "stdout",
     "output_type": "stream",
     "text": [
      "E:/Features/MIR/EuropeanaSounds_raw/audio_features/csv_features_aggregated_new/zero_crossing_rate/2048401\n",
      "E:/Features/MIR/EuropeanaSounds_raw/audio_features/csv_features_aggregated_new/zero_crossing_rate/2051921\n",
      "E:/Features/MIR/EuropeanaSounds_raw/audio_features/csv_features_aggregated_new/zero_crossing_rate/2059201\n"
     ]
    },
    {
     "name": "stderr",
     "output_type": "stream",
     "text": [
      "100% (1671 of 1671) |#####################################################################################################| Elapsed Time: 0:00:01 Time: 0:00:01\n",
      "100% (10 of 10) |#########################################################################################################| Elapsed Time: 0:00:00 Time: 0:00:00\n"
     ]
    },
    {
     "name": "stdout",
     "output_type": "stream",
     "text": [
      "E:/Features/MIR/EuropeanaSounds_raw/audio_features/csv_features_aggregated_new/zero_crossing_rate/2059203\n",
      "E:/Features/MIR/EuropeanaSounds_raw/audio_features/csv_features_aggregated_new/zero_crossing_rate/2059206\n"
     ]
    },
    {
     "name": "stderr",
     "output_type": "stream",
     "text": [
      "100% (976 of 976) |#######################################################################################################| Elapsed Time: 0:00:01 Time: 0:00:01\n"
     ]
    },
    {
     "name": "stdout",
     "output_type": "stream",
     "text": [
      "E:/Features/MIR/EuropeanaSounds_raw/audio_features/csv_features_aggregated_new/zero_crossing_rate/2059207\n"
     ]
    },
    {
     "name": "stderr",
     "output_type": "stream",
     "text": [
      "100% (11945 of 11945) |###################################################################################################| Elapsed Time: 0:00:13 Time: 0:00:13\n"
     ]
    },
    {
     "name": "stdout",
     "output_type": "stream",
     "text": [
      "E:/Features/MIR/EuropeanaSounds_raw/audio_features/csv_features_aggregated_new/zero_crossing_rate/2059210\n"
     ]
    },
    {
     "name": "stderr",
     "output_type": "stream",
     "text": [
      "100% (2767 of 2767) |#####################################################################################################| Elapsed Time: 0:00:02 Time: 0:00:02\n"
     ]
    },
    {
     "name": "stdout",
     "output_type": "stream",
     "text": [
      "E:/Features/MIR/EuropeanaSounds_raw/audio_features/csv_features_aggregated_new/zero_crossing_rate/2059213\n"
     ]
    },
    {
     "name": "stderr",
     "output_type": "stream",
     "text": [
      "100% (1077 of 1077) |#####################################################################################################| Elapsed Time: 0:00:01 Time: 0:00:01\n",
      "100% (2 of 2) |###########################################################################################################| Elapsed Time: 0:00:00 Time: 0:00:00\n"
     ]
    },
    {
     "name": "stdout",
     "output_type": "stream",
     "text": [
      "E:/Features/MIR/EuropeanaSounds_raw/audio_features/csv_features_aggregated_new/zero_crossing_rate/9200257\n"
     ]
    }
   ],
   "source": [
    "# directories under root group features\n",
    "for feature_dir in glob.glob(os.path.join(FEATURES_PATH, \"*\")):\n",
    "    \n",
    "    feature_dir = feature_dir.replace(\"\\\\\", \"/\")\n",
    "    \n",
    "    if not os.path.isdir(feature_dir):\n",
    "        continue\n",
    "    \n",
    "    track_ids = []\n",
    "    data = []\n",
    "    \n",
    "    feature_name = feature_dir.split(\"/\")[-1]\n",
    "    \n",
    "    print (feature_name, feature_dir)\n",
    "    \n",
    "    for collection_dir in glob.glob(os.path.join(feature_dir, \"*\")):\n",
    "        \n",
    "        collection_dir = collection_dir.replace(\"\\\\\",\"/\")\n",
    "        \n",
    "        if os.path.exists(\"%s/%s.csv\" % (FEATURES_PATH, feature_name)):\n",
    "            continue\n",
    "        \n",
    "        if os.path.isdir(collection_dir):\n",
    "            \n",
    "            pbar = ProgressBar()\n",
    "            \n",
    "            print collection_dir\n",
    "            \n",
    "            for feature_vector_file in pbar(glob.glob(os.path.join(collection_dir, \"*.csv\"))):\n",
    "                \n",
    "                feature_vector_file = feature_vector_file.replace(\"\\\\\", \"/\")\n",
    "                \n",
    "                track_id = feature_vector_file.replace(\"%s\" % (feature_dir), \"\").replace(\".csv\", \"\")\n",
    "                \n",
    "                vector = pd.read_csv(feature_vector_file, sep=\";\", header=None)\n",
    "                \n",
    "                \n",
    "                track_ids.append(track_id)\n",
    "                data.append(vector.values.tolist())\n",
    "        \n",
    "    data = np.asarray(data)\n",
    "    if len(data.shape) == 3:\n",
    "        data = data.reshape((data.shape[0], data.shape[2]))\n",
    "\n",
    "    output = pd.DataFrame(data)\n",
    "    output.insert(0, \"id\", track_ids)\n",
    "    output = output.set_index(\"id\")\n",
    "    \n",
    "    output.to_csv(\"%s/%s.csv\" % (FEATURES_PATH, feature_name), sep=\";\", header=None)\n"
   ]
  }
 ],
 "metadata": {
  "anaconda-cloud": {},
  "kernelspec": {
   "display_name": "Python [Root]",
   "language": "python",
   "name": "Python [Root]"
  },
  "language_info": {
   "codemirror_mode": {
    "name": "ipython",
    "version": 2
   },
   "file_extension": ".py",
   "mimetype": "text/x-python",
   "name": "python",
   "nbconvert_exporter": "python",
   "pygments_lexer": "ipython2",
   "version": "2.7.11"
  },
  "toc": {
   "toc_cell": false,
   "toc_number_sections": true,
   "toc_threshold": 6,
   "toc_window_display": false
  }
 },
 "nbformat": 4,
 "nbformat_minor": 1
}
