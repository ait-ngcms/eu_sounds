{
 "metadata": {
  "kernelspec": {
   "codemirror_mode": {
    "name": "ipython",
    "version": 2
   },
   "display_name": "IPython (Python 2)",
   "language": "python",
   "name": "python2"
  },
  "name": "",
  "signature": "sha256:9c5251c3fc4c796032810d8a086c95a8055bdb82bc3b5ca47f402bbf5bd7b8c2"
 },
 "nbformat": 3,
 "nbformat_minor": 0,
 "worksheets": [
  {
   "cells": [
    {
     "cell_type": "code",
     "collapsed": false,
     "input": [
      "#%pylab inline\n",
      "from music21 import *\n",
      "from IPython.lib.pretty import pprint\n",
      "from music21.converter.subConverters import ConverterMidi\n",
      "from music21.bar import Barline, Repeat\n",
      "\n",
      "from music21.note import Note, Rest\n",
      "from music21.layout import SystemLayout, StaffLayout\n",
      "\n",
      "from pprint import pprint"
     ],
     "language": "python",
     "metadata": {},
     "outputs": [],
     "prompt_number": 1
    },
    {
     "cell_type": "code",
     "collapsed": false,
     "input": [
      "# output files\n",
      "music_score_output_musicxml_page1 = \"D:/test/EU_Sounds/Bach_BWV_1013/IMSLP5673-Bach-partita-flute-allemande_Seite_1.xml\"\n",
      "music_score_output_musicxml_page2 = \"D:/test/EU_Sounds/Bach_BWV_1013/IMSLP5673-Bach-partita-flute-allemande_Seite_2.xml\"\n",
      "\n",
      "# load MusicXML using music21\n",
      "score_object_page1 = converter.parse(music_score_output_musicxml_page1)\n",
      "score_object_page2 = converter.parse(music_score_output_musicxml_page2)\n",
      "\n",
      "pages = []\n",
      "pages.extend(layout.divideByPages(score_object_page1, fastMeasures = False).pages)\n",
      "pages.extend(layout.divideByPages(score_object_page2, fastMeasures = False).pages)"
     ],
     "language": "python",
     "metadata": {},
     "outputs": [],
     "prompt_number": 3
    },
    {
     "cell_type": "code",
     "collapsed": false,
     "input": [
      "s = stream.Stream()\n",
      "\n",
      "measure_id = 0\n",
      "\n",
      "repeat_sequence = []\n",
      "\n",
      "\n",
      "for page in pages:\n",
      "    \n",
      "    print \"Page\", page\n",
      "        \n",
      "    for system in page.systems:\n",
      "        \n",
      "        for staff in system.staves:\n",
      "            \n",
      "            for measure in staff.getElementsByClass('Measure'):\n",
      "                \n",
      "                #pprint(vars(measure))\n",
      "                \n",
      "                measure.number = measure_id\n",
      "                s.append(measure)\n",
      "                \n",
      "                measure_id += 1\n",
      "                \n",
      "                print \"\\t\", measure\n",
      "                \n",
      "                #break\n",
      "                \n",
      "                #if measure_id > 17:\n",
      "                #    print pprint(vars(measure))\n",
      "                \n",
      "                #print \"\\tStart\", measure\n",
      "                #print \"\\tEnd\", measure._endElements\n",
      "                \n",
      "                for elem in measure:\n",
      "                    \n",
      "                    #print elem\n",
      "                    \n",
      "                    if type(elem) == Repeat:\n",
      "                    \n",
      "                        print \"\\t\\t\", elem\n",
      "                    \n",
      "                    \n",
      "                    #if type(elem) not in [Note, Rest, SystemLayout, StaffLayout]:\n",
      "                    #    print \"\\t\\t\",elem"
     ],
     "language": "python",
     "metadata": {},
     "outputs": [
      {
       "output_type": "stream",
       "stream": "stdout",
       "text": [
        "Page <music21.layout.Page 117350352>\n",
        "\t<music21.stream.Measure 0 offset=0.0>\n",
        "\t<music21.stream.Measure 1 offset=3.625>\n",
        "\t<music21.stream.Measure 2 offset=7.625>\n",
        "\t<music21.stream.Measure 3 offset=11.625>\n",
        "\t<music21.stream.Measure 4 offset=15.625>\n",
        "\t<music21.stream.Measure 5 offset=19.375>\n",
        "\t<music21.stream.Measure 6 offset=23.0625>\n",
        "\t<music21.stream.Measure 7 offset=27.0625>\n",
        "\t<music21.stream.Measure 8 offset=31.0625>\n",
        "\t<music21.stream.Measure 9 offset=34.0625>\n",
        "\t<music21.stream.Measure 10 offset=37.8125>\n",
        "\t<music21.stream.Measure 11 offset=41.875>\n",
        "\t<music21.stream.Measure 12 offset=45.875>\n",
        "\t<music21.stream.Measure 13 offset=49.75>\n",
        "\t<music21.stream.Measure 14 offset=53.625>\n",
        "\t<music21.stream.Measure 15 offset=57.625>\n",
        "\t<music21.stream.Measure 16 offset=61.625>\n",
        "\t<music21.stream.Measure 17 offset=65.625>\n",
        "\t<music21.stream.Measure 18 offset=69.625>\n",
        "\t\t<music21.bar.Repeat direction=end>\n",
        "\t<music21.stream.Measure 19 offset=73.5>\n",
        "\t<music21.stream.Measure 20 offset=77.375>\n",
        "\t\t<music21.bar.Repeat direction=start>\n",
        "\t<music21.stream.Measure 21 offset=81.375>\n",
        "\t<music21.stream.Measure 22 offset=85.375>\n",
        "\t<music21.stream.Measure 23 offset=89.375>\n",
        "\t<music21.stream.Measure 24 offset=93.125>\n",
        "Page <music21.layout.Page 115517592>\n",
        "\t<music21.stream.Measure 25 offset=96.75>\n",
        "\t<music21.stream.Measure 26 offset=100.75>\n",
        "\t<music21.stream.Measure 27 offset=104.75>\n",
        "\t<music21.stream.Measure 28 offset=108.75>\n",
        "\t<music21.stream.Measure 29 offset=112.75>\n",
        "\t<music21.stream.Measure 30 offset=116.75>\n",
        "\t<music21.stream.Measure 31 offset=120.75>\n",
        "\t<music21.stream.Measure 32 offset=124.75>\n",
        "\t<music21.stream.Measure 33 offset=128.75>\n",
        "\t<music21.stream.Measure 34 offset=132.75>\n",
        "\t<music21.stream.Measure 35 offset=136.75>\n",
        "\t<music21.stream.Measure 36 offset=140.75>\n",
        "\t<music21.stream.Measure 37 offset=144.75>\n",
        "\t<music21.stream.Measure 38 offset=148.75>\n",
        "\t<music21.stream.Measure 39 offset=152.75>\n",
        "\t<music21.stream.Measure 40 offset=156.75>\n",
        "\t<music21.stream.Measure 41 offset=160.5>\n",
        "\t<music21.stream.Measure 42 offset=164.625>\n",
        "\t<music21.stream.Measure 43 offset=168.625>\n",
        "\t<music21.stream.Measure 44 offset=172.625>\n",
        "\t<music21.stream.Measure 45 offset=176.0625>\n",
        "\t<music21.stream.Measure 46 offset=179.9375>\n",
        "\t\t<music21.bar.Repeat direction=end>\n"
       ]
      }
     ],
     "prompt_number": 2
    },
    {
     "cell_type": "code",
     "collapsed": false,
     "input": [
      "for m in s:\n",
      "    print m"
     ],
     "language": "python",
     "metadata": {},
     "outputs": [
      {
       "output_type": "stream",
       "stream": "stdout",
       "text": [
        "<music21.stream.Measure 0 offset=0.0>\n",
        "<music21.stream.Measure 1 offset=3.625>\n",
        "<music21.stream.Measure 2 offset=7.625>\n",
        "<music21.stream.Measure 3 offset=11.625>\n",
        "<music21.stream.Measure 4 offset=15.625>\n",
        "<music21.stream.Measure 5 offset=19.375>\n",
        "<music21.stream.Measure 6 offset=23.0625>\n",
        "<music21.stream.Measure 7 offset=27.0625>\n",
        "<music21.stream.Measure 8 offset=31.0625>\n",
        "<music21.stream.Measure 9 offset=34.0625>\n",
        "<music21.stream.Measure 10 offset=37.8125>\n",
        "<music21.stream.Measure 11 offset=41.875>\n",
        "<music21.stream.Measure 12 offset=45.875>\n",
        "<music21.stream.Measure 13 offset=49.75>\n",
        "<music21.stream.Measure 14 offset=53.625>\n",
        "<music21.stream.Measure 15 offset=57.625>\n",
        "<music21.stream.Measure 16 offset=61.625>\n",
        "<music21.stream.Measure 17 offset=65.625>\n",
        "<music21.stream.Measure 18 offset=69.625>\n",
        "<music21.stream.Measure 19 offset=73.5>\n",
        "<music21.stream.Measure 20 offset=77.375>\n",
        "<music21.stream.Measure 21 offset=81.375>\n",
        "<music21.stream.Measure 22 offset=85.375>\n",
        "<music21.stream.Measure 23 offset=89.375>\n",
        "<music21.stream.Measure 24 offset=93.125>\n",
        "<music21.stream.Measure 1 offset=96.75>\n",
        "<music21.stream.Measure 2 offset=100.75>\n",
        "<music21.stream.Measure 3 offset=104.75>\n",
        "<music21.stream.Measure 4 offset=108.75>\n",
        "<music21.stream.Measure 5 offset=112.75>\n",
        "<music21.stream.Measure 6 offset=116.75>\n",
        "<music21.stream.Measure 7 offset=120.75>\n",
        "<music21.stream.Measure 8 offset=124.75>\n",
        "<music21.stream.Measure 9 offset=128.75>\n",
        "<music21.stream.Measure 10 offset=132.75>\n",
        "<music21.stream.Measure 11 offset=136.75>\n",
        "<music21.stream.Measure 12 offset=140.75>\n",
        "<music21.stream.Measure 13 offset=144.75>\n",
        "<music21.stream.Measure 14 offset=148.75>\n",
        "<music21.stream.Measure 15 offset=152.75>\n",
        "<music21.stream.Measure 16 offset=156.75>\n",
        "<music21.stream.Measure 17 offset=160.5>\n",
        "<music21.stream.Measure 18 offset=164.625>\n",
        "<music21.stream.Measure 19 offset=168.625>\n",
        "<music21.stream.Measure 20 offset=172.625>\n",
        "<music21.stream.Measure 21 offset=176.0625>\n",
        "<music21.stream.Measure 22 offset=179.9375>\n"
       ]
      }
     ],
     "prompt_number": 46
    },
    {
     "cell_type": "code",
     "collapsed": false,
     "input": [
      "stream1 = stream.Stream()"
     ],
     "language": "python",
     "metadata": {},
     "outputs": [],
     "prompt_number": 39
    },
    {
     "cell_type": "code",
     "collapsed": false,
     "input": [
      "score_object_page1.getElementsByClass(\"Stream\").parts[0].append(score_object_page2.getElementsByClass(\"Stream\").parts[0])\n",
      "\n"
     ],
     "language": "python",
     "metadata": {},
     "outputs": [],
     "prompt_number": 40
    },
    {
     "cell_type": "code",
     "collapsed": false,
     "input": [
      "print score_object_page1.getElementsByClass(\"Stream\").parts[0].measure(1)"
     ],
     "language": "python",
     "metadata": {},
     "outputs": [
      {
       "output_type": "stream",
       "stream": "stdout",
       "text": [
        "None\n"
       ]
      }
     ],
     "prompt_number": 66
    },
    {
     "cell_type": "code",
     "collapsed": false,
     "input": [
      "measure_idx = 0\n",
      "\n",
      "for page in layout.divideByPages(score_object_page1, fastMeasures = False).pages:\n",
      "    \n",
      "    #print page.append(page)\n",
      "    \n",
      "    page.systems.append\n",
      "        \n",
      "    for system in page.systems:\n",
      "        \n",
      "        #print system\n",
      "        \n",
      "        stream1.append(system)\n",
      "        \n",
      "        for staff in system.staves:\n",
      "            \n",
      "            #print staff\n",
      "            \n",
      "            for measure in staff.getElementsByClass('Measure'):\n",
      "                #print measure\n",
      "                measure.number = measure_idx\n",
      "                measure_idx += 1"
     ],
     "language": "python",
     "metadata": {},
     "outputs": [],
     "prompt_number": 41
    },
    {
     "cell_type": "code",
     "collapsed": false,
     "input": [
      "for page in layout.divideByPages(score_object_page2, fastMeasures = False).pages:\n",
      "    \n",
      "    print \"---\", page\n",
      "    #score_page_divided.append(page)\n",
      "        \n",
      "    for system in page.systems:\n",
      "        \n",
      "        print system\n",
      "        stream1.append(system)\n",
      "        page1.systems.append(system)\n",
      "        \n",
      "        for staff in system.staves:\n",
      "            \n",
      "            print staff\n",
      "            \n",
      "            for measure in staff.getElementsByClass('Measure'):\n",
      "                measure.number = measure_idx\n",
      "                print measure.measureNumber\n",
      "                measure_idx += 1"
     ],
     "language": "python",
     "metadata": {},
     "outputs": [
      {
       "output_type": "stream",
       "stream": "stdout",
       "text": [
        "--- <music21.layout.Page 128782688>\n",
        "<music21.layout.System 366302152>\n",
        "<music21.layout.Staff Part_1>\n",
        "47\n",
        "48\n",
        "<music21.layout.System 366302152>\n",
        "<music21.layout.Staff Part_1>\n",
        "49\n",
        "50\n",
        "<music21.layout.System 366302152>\n",
        "<music21.layout.Staff Part_1>\n",
        "51\n",
        "52\n",
        "<music21.layout.System 366302152>\n",
        "<music21.layout.Staff Part_1>\n",
        "53\n",
        "54\n",
        "<music21.layout.System 366302152>\n",
        "<music21.layout.Staff Part_1>\n",
        "55\n",
        "56\n",
        "<music21.layout.System 366302152>\n",
        "<music21.layout.Staff Part_1>\n",
        "57\n",
        "58\n",
        "<music21.layout.System 366302152>\n",
        "<music21.layout.Staff Part_1>\n",
        "59\n",
        "60\n",
        "<music21.layout.System 366302152>\n",
        "<music21.layout.Staff Part_1>\n",
        "61\n",
        "62\n",
        "<music21.layout.System 366302152>\n",
        "<music21.layout.Staff Part_1>\n",
        "63\n",
        "64\n",
        "<music21.layout.System 366302152>\n",
        "<music21.layout.Staff Part_1>\n",
        "65\n",
        "66\n",
        "<music21.layout.System 366302152>\n",
        "<music21.layout.Staff Part_1>\n",
        "67\n",
        "68\n"
       ]
      }
     ],
     "prompt_number": 43
    },
    {
     "cell_type": "code",
     "collapsed": false,
     "input": [
      "for page in layout.divideByPages(score_object_page2, fastMeasures = False).pages:\n",
      "    \n",
      "    print \"---\", page\n",
      "    #score_page_divided.append(page)\n",
      "        \n",
      "    for s in range(len(page.systems)):\n",
      "        \n",
      "        for p in range(len(page.systems[s].parts)):\n",
      "            \n",
      "            page1.systems[s].parts[p].append(page.systems[s].parts[p])\n",
      "            print s, p"
     ],
     "language": "python",
     "metadata": {},
     "outputs": [
      {
       "output_type": "stream",
       "stream": "stdout",
       "text": [
        "--- <music21.layout.Page 131061744>\n",
        "0 0\n",
        "1 0\n",
        "2 0\n",
        "3 0\n",
        "4 0\n",
        "5 0\n",
        "6 0\n",
        "7 0\n",
        "8 0\n",
        "9 0\n",
        "10 0\n"
       ]
      }
     ],
     "prompt_number": 13
    },
    {
     "cell_type": "code",
     "collapsed": false,
     "input": [
      "stream1.show('text')"
     ],
     "language": "python",
     "metadata": {},
     "outputs": [
      {
       "output_type": "stream",
       "stream": "stdout",
       "text": [
        "{0.0} <music21.layout.System 108888920>\n",
        "    {0.0} <music21.layout.Staff Part_1>\n",
        "        {0.0} <music21.instrument.Instrument P1: Part_1: Voice Oohs>\n",
        "        {0.0} <music21.stream.Measure 0 offset=0.0>\n",
        "            {0.0} <music21.clef.TrebleClef>\n",
        "            {0.0} <music21.meter.TimeSignature 4/4>\n",
        "            {0.0} <music21.expressions.TextExpression \"\">\n",
        "            {0.0} <music21.layout.StaffLayout distance None, staffNumber None, staffSize None>\n",
        "            {0.0} <music21.layout.SystemLayout>\n",
        "            {0.0} <music21.note.Rest rest>\n",
        "            {0.25} <music21.note.Note E>\n",
        "            {0.5} <music21.note.Note A>\n",
        "            {0.75} <music21.note.Note G#>\n",
        "            {1.0} <music21.note.Note A>\n",
        "            {1.25} <music21.note.Note C>\n",
        "            {1.375} <music21.note.Note A>\n",
        "            {1.5} <music21.note.Note E>\n",
        "            {1.75} <music21.note.Note A>\n",
        "            {2.0} <music21.note.Note E>\n",
        "            {2.25} <music21.note.Note A>\n",
        "            {2.5} <music21.note.Note G#>\n",
        "            {2.75} <music21.note.Note A>\n",
        "            {3.0} <music21.note.Note C>\n",
        "            {3.125} <music21.note.Note A>\n",
        "            {3.375} <music21.note.Note E>\n",
        "        {3.625} <music21.stream.Measure 1 offset=3.625>\n",
        "            {0.0} <music21.layout.SystemLayout>\n",
        "            {0.0} <music21.note.Note A>\n",
        "            {0.25} <music21.note.Note C>\n",
        "            {0.5} <music21.note.Note E>\n",
        "            {0.75} <music21.note.Note F>\n",
        "            {1.0} <music21.note.Note G#>\n",
        "            {1.25} <music21.note.Note F>\n",
        "            {1.5} <music21.note.Note E>\n",
        "            {1.75} <music21.note.Note D>\n",
        "            {2.0} <music21.note.Note C>\n",
        "            {2.25} <music21.note.Note E>\n",
        "            {2.5} <music21.note.Note G#>\n",
        "            {2.75} <music21.note.Note A>\n",
        "            {3.0} <music21.note.Note E>\n",
        "            {3.25} <music21.note.Note D>\n",
        "            {3.5} <music21.note.Note C>\n",
        "            {3.75} <music21.note.Note B>\n",
        "{7.625} <music21.layout.System 108888920>\n",
        "    {0.0} <music21.layout.Staff Part_1>\n",
        "        {0.0} <music21.instrument.Instrument P1: Part_1: Voice Oohs>\n",
        "        {0.0} <music21.clef.TrebleClef>\n",
        "        {0.0} <music21.meter.TimeSignature 4/4>\n",
        "        {0.0} <music21.stream.Measure 2 offset=0.0>\n",
        "            {0.0} <music21.layout.StaffLayout distance None, staffNumber None, staffSize None>\n",
        "            {0.0} <music21.layout.SystemLayout>\n",
        "            {0.0} <music21.note.Note A>\n",
        "            {0.25} <music21.note.Note C>\n",
        "            {0.5} <music21.note.Note E>\n",
        "            {0.75} <music21.note.Note F>\n",
        "            {1.0} <music21.note.Note G#>\n",
        "            {1.25} <music21.note.Note F>\n",
        "            {1.5} <music21.note.Note E>\n",
        "            {1.75} <music21.note.Note D>\n",
        "            {2.0} <music21.note.Note C>\n",
        "            {2.25} <music21.note.Note E>\n",
        "            {2.5} <music21.note.Note G#>\n",
        "            {2.75} <music21.note.Note A>\n",
        "            {3.0} <music21.note.Note E>\n",
        "            {3.25} <music21.note.Note D>\n",
        "            {3.5} <music21.note.Note C>\n",
        "            {3.75} <music21.note.Note B>\n",
        "        {4.0} <music21.stream.Measure 3 offset=4.0>\n",
        "            {0.0} <music21.layout.SystemLayout>\n",
        "            {0.0} <music21.note.Note A>\n",
        "            {0.25} <music21.note.Note C>\n",
        "            {0.5} <music21.note.Note G#>\n",
        "            {0.75} <music21.note.Note A>\n",
        "            {1.0} <music21.note.Note F>\n",
        "            {1.25} <music21.note.Note D>\n",
        "            {1.5} <music21.note.Note G#>\n",
        "            {1.75} <music21.note.Note A>\n",
        "            {2.0} <music21.note.Note E>\n",
        "            {2.25} <music21.note.Note C>\n",
        "            {2.5} <music21.note.Note G#>\n",
        "            {2.75} <music21.note.Note A>\n",
        "            {3.0} <music21.note.Note D>\n",
        "            {3.25} <music21.note.Note C>\n",
        "            {3.5} <music21.note.Note B>\n",
        "            {3.75} <music21.note.Note A>\n",
        "{15.625} <music21.layout.System 108888920>\n",
        "    {0.0} <music21.layout.Staff Part_1>\n",
        "        {0.0} <music21.instrument.Instrument P1: Part_1: Voice Oohs>\n",
        "        {0.0} <music21.clef.TrebleClef>\n",
        "        {0.0} <music21.meter.TimeSignature 4/4>\n",
        "        {0.0} <music21.stream.Measure 4 offset=0.0>\n",
        "            {0.0} <music21.layout.StaffLayout distance None, staffNumber None, staffSize None>\n",
        "            {0.0} <music21.layout.SystemLayout>\n",
        "            {0.0} <music21.note.Note G#>\n",
        "            {0.25} <music21.note.Note E>\n",
        "            {0.5} <music21.note.Note G#>\n",
        "            {0.75} <music21.note.Note B>\n",
        "            {1.0} <music21.note.Note E>\n",
        "            {1.25} <music21.note.Note G#>\n",
        "            {1.5} <music21.note.Note B>\n",
        "            {1.75} <music21.note.Note D>\n",
        "            {1.875} <music21.note.Note F>\n",
        "            {2.125} <music21.note.Note D>\n",
        "            {2.25} <music21.note.Note B>\n",
        "            {2.5} <music21.note.Note G#>\n",
        "            {2.75} <music21.note.Note E>\n",
        "            {3.0} <music21.note.Note D>\n",
        "            {3.25} <music21.note.Note C>\n",
        "            {3.5} <music21.note.Note B>\n",
        "        {3.75} <music21.stream.Measure 5 offset=3.75>\n",
        "            {0.0} <music21.layout.SystemLayout>\n",
        "            {0.0} <music21.note.Note C>\n",
        "            {0.25} <music21.note.Note A>\n",
        "            {0.5} <music21.note.Note C>\n",
        "            {0.75} <music21.note.Note E>\n",
        "            {1.0} <music21.note.Note A>\n",
        "            {1.25} <music21.note.Note C>\n",
        "            {1.375} <music21.note.Note E>\n",
        "            {1.4375} <music21.note.Note F>\n",
        "            {1.6875} <music21.note.Note G>\n",
        "            {1.9375} <music21.note.Note B->\n",
        "            {2.1875} <music21.note.Note G>\n",
        "            {2.4375} <music21.note.Note E>\n",
        "            {2.6875} <music21.note.Note C>\n",
        "            {2.9375} <music21.note.Note B->\n",
        "            {3.1875} <music21.note.Note A>\n",
        "            {3.4375} <music21.note.Note G>\n",
        "{23.0625} <music21.layout.System 108888920>\n",
        "    {0.0} <music21.layout.Staff Part_1>\n",
        "        {0.0} <music21.instrument.Instrument P1: Part_1: Voice Oohs>\n",
        "        {0.0} <music21.clef.TrebleClef>\n",
        "        {0.0} <music21.meter.TimeSignature 4/4>\n",
        "        {0.0} <music21.stream.Measure 6 offset=0.0>\n",
        "            {0.0} <music21.layout.StaffLayout distance None, staffNumber None, staffSize None>\n",
        "            {0.0} <music21.layout.SystemLayout>\n",
        "            {0.0} <music21.note.Note A>\n",
        "            {0.25} <music21.note.Note F>\n",
        "            {0.5} <music21.note.Note A>\n",
        "            {0.75} <music21.note.Note C>\n",
        "            {1.0} <music21.note.Note D>\n",
        "            {1.25} <music21.note.Note F>\n",
        "            {1.5} <music21.note.Note A>\n",
        "            {1.75} <music21.note.Note C>\n",
        "            {2.0} <music21.note.Note B>\n",
        "            {2.25} <music21.note.Note G>\n",
        "            {2.5} <music21.note.Note B>\n",
        "            {2.75} <music21.note.Note D>\n",
        "            {3.0} <music21.note.Note E>\n",
        "            {3.25} <music21.note.Note G>\n",
        "            {3.5} <music21.note.Note B>\n",
        "            {3.75} <music21.note.Note D>\n",
        "        {4.0} <music21.stream.Measure 7 offset=4.0>\n",
        "            {0.0} <music21.layout.SystemLayout>\n",
        "            {0.0} <music21.note.Note C>\n",
        "            {0.25} <music21.note.Note A>\n",
        "            {0.5} <music21.note.Note C>\n",
        "            {0.75} <music21.note.Note E>\n",
        "            {1.0} <music21.note.Note F>\n",
        "            {1.25} <music21.note.Note A>\n",
        "            {1.5} <music21.note.Note C>\n",
        "            {1.75} <music21.note.Note E>\n",
        "            {2.0} <music21.note.Note D>\n",
        "            {2.25} <music21.note.Note B>\n",
        "            {2.5} <music21.note.Note D>\n",
        "            {2.75} <music21.note.Note F#>\n",
        "            {3.0} <music21.note.Note G>\n",
        "            {3.25} <music21.note.Note B>\n",
        "            {3.5} <music21.note.Note D>\n",
        "            {3.75} <music21.note.Note F>\n",
        "{31.0625} <music21.layout.System 108888920>\n",
        "    {0.0} <music21.layout.Staff Part_1>\n",
        "        {0.0} <music21.instrument.Instrument P1: Part_1: Voice Oohs>\n",
        "        {0.0} <music21.clef.TrebleClef>\n",
        "        {0.0} <music21.meter.TimeSignature 4/4>\n",
        "        {0.0} <music21.stream.Measure 8 offset=0.0>\n",
        "            {0.0} <music21.layout.StaffLayout distance None, staffNumber None, staffSize None>\n",
        "            {0.0} <music21.layout.SystemLayout>\n",
        "            {0.0} <music21.note.Note E>\n",
        "            {0.25} <music21.note.Note G>\n",
        "            {0.5} <music21.note.Note C>\n",
        "            {0.625} <music21.note.Note B>\n",
        "            {0.875} <music21.note.Note C>\n",
        "            {1.0} <music21.note.Note E>\n",
        "            {1.125} <music21.note.Note C>\n",
        "            {1.25} <music21.note.Note G>\n",
        "            {1.5} <music21.note.Note C>\n",
        "            {1.75} <music21.note.Note G>\n",
        "            {2.0} <music21.note.Note C>\n",
        "            {2.125} <music21.note.Note B>\n",
        "            {2.375} <music21.note.Note C>\n",
        "            {2.5} <music21.note.Note E>\n",
        "            {2.625} <music21.note.Note C>\n",
        "            {2.75} <music21.note.Note G>\n",
        "        {3.0} <music21.stream.Measure 9 offset=3.0>\n",
        "            {0.0} <music21.layout.SystemLayout>\n",
        "            {0.0} <music21.note.Note C>\n",
        "            {0.25} <music21.note.Note G>\n",
        "            {0.5} <music21.note.Note B->\n",
        "            {0.75} <music21.note.Note A>\n",
        "            {1.0} <music21.note.Note B->\n",
        "            {1.25} <music21.note.Note E>\n",
        "            {1.375} <music21.note.Note B->\n",
        "            {1.625} <music21.note.Note G>\n",
        "            {1.875} <music21.note.Note C>\n",
        "            {2.125} <music21.note.Note G>\n",
        "            {2.375} <music21.note.Note B->\n",
        "            {2.625} <music21.note.Note A>\n",
        "            {2.875} <music21.note.Note B->\n",
        "            {3.125} <music21.note.Note E>\n",
        "            {3.25} <music21.note.Note B->\n",
        "            {3.5} <music21.note.Note G>\n",
        "{37.8125} <music21.layout.System 108888920>\n",
        "    {0.0} <music21.layout.Staff Part_1>\n",
        "        {0.0} <music21.instrument.Instrument P1: Part_1: Voice Oohs>\n",
        "        {0.0} <music21.clef.TrebleClef>\n",
        "        {0.0} <music21.meter.TimeSignature 4/4>\n",
        "        {0.0} <music21.stream.Measure 10 offset=0.0>\n",
        "            {0.0} <music21.layout.StaffLayout distance None, staffNumber None, staffSize None>\n",
        "            {0.0} <music21.layout.SystemLayout>\n",
        "            {0.0} <music21.note.Rest rest>\n",
        "            {0.5} <music21.note.Note G>\n",
        "            {0.75} <music21.note.Note B->\n",
        "            {1.0} <music21.note.Note A>\n",
        "            {1.25} <music21.note.Note B->\n",
        "            {1.5} <music21.note.Note E>\n",
        "            {1.5625} <music21.note.Note B->\n",
        "            {1.8125} <music21.note.Note G>\n",
        "            {2.0625} <music21.note.Note C>\n",
        "            {2.3125} <music21.note.Note G>\n",
        "            {2.5625} <music21.note.Note E>\n",
        "            {2.8125} <music21.note.Note C>\n",
        "            {3.0625} <music21.note.Note A>\n",
        "            {3.3125} <music21.note.Note G>\n",
        "            {3.5625} <music21.note.Note F>\n",
        "            {3.8125} <music21.note.Note E>\n",
        "        {4.0625} <music21.stream.Measure 11 offset=4.0625>\n",
        "            {0.0} <music21.layout.SystemLayout>\n",
        "            {0.0} <music21.note.Note D>\n",
        "            {0.25} <music21.note.Note G>\n",
        "            {0.5} <music21.note.Note F>\n",
        "            {0.75} <music21.note.Note E>\n",
        "            {1.0} <music21.note.Note F>\n",
        "            {1.25} <music21.note.Note A>\n",
        "            {1.5} <music21.note.Note F>\n",
        "            {1.75} <music21.note.Note D>\n",
        "            {2.0} <music21.note.Note B>\n",
        "            {2.25} <music21.note.Note G#>\n",
        "            {2.5} <music21.note.Note B>\n",
        "            {2.75} <music21.note.Note D>\n",
        "            {3.0} <music21.note.Note E>\n",
        "            {3.25} <music21.note.Note D>\n",
        "            {3.5} <music21.note.Note C>\n",
        "            {3.75} <music21.note.Note B>\n",
        "{45.875} <music21.layout.System 108888920>\n",
        "    {0.0} <music21.layout.Staff Part_1>\n",
        "        {0.0} <music21.instrument.Instrument P1: Part_1: Voice Oohs>\n",
        "        {0.0} <music21.clef.TrebleClef>\n",
        "        {0.0} <music21.meter.TimeSignature 4/4>\n",
        "        {0.0} <music21.stream.Measure 12 offset=0.0>\n",
        "            {0.0} <music21.layout.StaffLayout distance None, staffNumber None, staffSize None>\n",
        "            {0.0} <music21.layout.SystemLayout>\n",
        "            {0.0} <music21.note.Note C>\n",
        "            {0.25} <music21.note.Note E>\n",
        "            {0.5} <music21.note.Note A>\n",
        "            {0.75} <music21.note.Note G#>\n",
        "            {1.0} <music21.note.Note A>\n",
        "            {1.25} <music21.note.Note C>\n",
        "            {1.375} <music21.note.Note A>\n",
        "            {1.625} <music21.note.Note F#>\n",
        "            {1.875} <music21.note.Note D#>\n",
        "            {2.125} <music21.note.Note B>\n",
        "            {2.375} <music21.note.Note D#>\n",
        "            {2.625} <music21.note.Note F#>\n",
        "            {2.875} <music21.note.Note B>\n",
        "            {3.125} <music21.note.Note A>\n",
        "            {3.375} <music21.note.Note G>\n",
        "            {3.625} <music21.note.Note F#>\n",
        "        {3.875} <music21.stream.Measure 13 offset=3.875>\n",
        "            {0.0} <music21.layout.SystemLayout>\n",
        "            {0.0} <music21.note.Note G>\n",
        "            {0.25} <music21.note.Note F#>\n",
        "            {0.5} <music21.note.Note E>\n",
        "            {0.75} <music21.note.Note G>\n",
        "            {1.0} <music21.note.Note A>\n",
        "            {1.25} <music21.note.Note E>\n",
        "            {1.5} <music21.note.Note G>\n",
        "            {1.75} <music21.note.Note C>\n",
        "            {1.875} <music21.note.Note F>\n",
        "            {2.125} <music21.note.Note E>\n",
        "            {2.375} <music21.note.Note D>\n",
        "            {2.625} <music21.note.Note F>\n",
        "            {2.875} <music21.note.Note G>\n",
        "            {3.125} <music21.note.Note D>\n",
        "            {3.375} <music21.note.Note F>\n",
        "            {3.625} <music21.note.Note B>\n",
        "{53.625} <music21.layout.System 108888920>\n",
        "    {0.0} <music21.layout.Staff Part_1>\n",
        "        {0.0} <music21.instrument.Instrument P1: Part_1: Voice Oohs>\n",
        "        {0.0} <music21.clef.TrebleClef>\n",
        "        {0.0} <music21.meter.TimeSignature 4/4>\n",
        "        {0.0} <music21.stream.Measure 14 offset=0.0>\n",
        "            {0.0} <music21.layout.StaffLayout distance None, staffNumber None, staffSize None>\n",
        "            {0.0} <music21.layout.SystemLayout>\n",
        "            {0.0} <music21.note.Note E>\n",
        "            {0.25} <music21.note.Note D>\n",
        "            {0.5} <music21.note.Note C>\n",
        "            {0.75} <music21.note.Note E>\n",
        "            {1.0} <music21.note.Note F#>\n",
        "            {1.25} <music21.note.Note E>\n",
        "            {1.5} <music21.note.Note F#>\n",
        "            {1.75} <music21.note.Note A>\n",
        "            {2.0} <music21.note.Note D#>\n",
        "            {2.25} <music21.note.Note B>\n",
        "            {2.5} <music21.note.Note C>\n",
        "            {2.75} <music21.note.Note A>\n",
        "            {3.0} <music21.note.Note D#>\n",
        "            {3.25} <music21.note.Note C>\n",
        "            {3.5} <music21.note.Note B>\n",
        "            {3.75} <music21.note.Note A>\n",
        "        {4.0} <music21.stream.Measure 15 offset=4.0>\n",
        "            {0.0} <music21.layout.SystemLayout>\n",
        "            {0.0} <music21.note.Note G>\n",
        "            {0.25} <music21.note.Note E>\n",
        "            {0.5} <music21.note.Note F>\n",
        "            {0.75} <music21.note.Note D>\n",
        "            {1.0} <music21.note.Note G#>\n",
        "            {1.25} <music21.note.Note F>\n",
        "            {1.5} <music21.note.Note E>\n",
        "            {1.75} <music21.note.Note D>\n",
        "            {2.0} <music21.note.Note A>\n",
        "            {2.25} <music21.note.Note F#>\n",
        "            {2.5} <music21.note.Note G#>\n",
        "            {2.75} <music21.note.Note E>\n",
        "            {3.0} <music21.note.Note A#>\n",
        "            {3.25} <music21.note.Note G#>\n",
        "            {3.5} <music21.note.Note F#>\n",
        "            {3.75} <music21.note.Note E>\n",
        "{61.625} <music21.layout.System 108888920>\n",
        "    {0.0} <music21.layout.Staff Part_1>\n",
        "        {0.0} <music21.instrument.Instrument P1: Part_1: Voice Oohs>\n",
        "        {0.0} <music21.clef.TrebleClef>\n",
        "        {0.0} <music21.meter.TimeSignature 4/4>\n",
        "        {0.0} <music21.stream.Measure 16 offset=0.0>\n",
        "            {0.0} <music21.layout.StaffLayout distance None, staffNumber None, staffSize None>\n",
        "            {0.0} <music21.layout.SystemLayout>\n",
        "            {0.0} <music21.note.Note D#>\n",
        "            {0.25} <music21.note.Note B>\n",
        "            {0.5} <music21.note.Note G#>\n",
        "            {0.75} <music21.note.Note D>\n",
        "            {1.0} <music21.note.Note C#>\n",
        "            {1.25} <music21.note.Note A>\n",
        "            {1.5} <music21.note.Note F#>\n",
        "            {1.75} <music21.note.Note C>\n",
        "            {2.0} <music21.note.Note B>\n",
        "            {2.25} <music21.note.Note G>\n",
        "            {2.5} <music21.note.Note E>\n",
        "            {2.75} <music21.note.Note B->\n",
        "            {3.0} <music21.note.Note A>\n",
        "            {3.25} <music21.note.Note F#>\n",
        "            {3.5} <music21.note.Note D#>\n",
        "            {3.75} <music21.note.Note A>\n",
        "        {4.0} <music21.stream.Measure 17 offset=4.0>\n",
        "            {0.0} <music21.layout.SystemLayout>\n",
        "            {0.0} <music21.note.Note G>\n",
        "            {0.25} <music21.note.Note E>\n",
        "            {0.5} <music21.note.Note C>\n",
        "            {0.75} <music21.note.Note A>\n",
        "            {1.0} <music21.note.Note F#>\n",
        "            {1.25} <music21.note.Note C>\n",
        "            {1.5} <music21.note.Note A>\n",
        "            {1.75} <music21.note.Note F#>\n",
        "            {2.0} <music21.note.Note D#>\n",
        "            {2.25} <music21.note.Note F#>\n",
        "            {2.5} <music21.note.Note A>\n",
        "            {2.75} <music21.note.Note D#>\n",
        "            {3.0} <music21.note.Note B>\n",
        "            {3.25} <music21.note.Note A>\n",
        "            {3.5} <music21.note.Note G>\n",
        "            {3.75} <music21.note.Note F#>\n",
        "{69.625} <music21.layout.System 108888920>\n",
        "    {0.0} <music21.layout.Staff Part_1>\n",
        "        {0.0} <music21.instrument.Instrument P1: Part_1: Voice Oohs>\n",
        "        {0.0} <music21.clef.TrebleClef>\n",
        "        {0.0} <music21.meter.TimeSignature 4/4>\n",
        "        {0.0} <music21.stream.Measure 18 offset=0.0>\n",
        "            {0.0} <music21.layout.StaffLayout distance None, staffNumber None, staffSize None>\n",
        "            {0.0} <music21.layout.SystemLayout>\n",
        "            {0.0} <music21.note.Note G>\n",
        "            {0.25} <music21.note.Note F#>\n",
        "            {0.375} <music21.note.Note E>\n",
        "            {0.5} <music21.note.Note B>\n",
        "            {0.75} <music21.note.Note C>\n",
        "            {0.875} <music21.note.Note F#>\n",
        "            {1.625} <music21.note.Note E>\n",
        "            {1.875} <music21.note.Note E>\n",
        "            {3.875} <music21.bar.Repeat direction=end>\n",
        "        {3.875} <music21.stream.Measure 19 offset=3.875>\n",
        "            {0.0} <music21.layout.SystemLayout>\n",
        "            {0.0} <music21.bar.Barline style=final>\n",
        "            {0.0} <music21.note.Note G>\n",
        "            {0.25} <music21.note.Note F#>\n",
        "            {0.375} <music21.note.Note E>\n",
        "            {0.5} <music21.note.Note B>\n",
        "            {0.75} <music21.note.Note C>\n",
        "            {0.875} <music21.note.Note F#>\n",
        "            {1.625} <music21.note.Note E>\n",
        "            {1.875} <music21.note.Note E>\n",
        "            {2.125} <music21.note.Note B>\n",
        "            {2.375} <music21.note.Note C>\n",
        "            {2.625} <music21.note.Note A>\n",
        "            {2.875} <music21.note.Note B>\n",
        "            {3.125} <music21.note.Note G>\n",
        "            {3.375} <music21.note.Note A>\n",
        "            {3.625} <music21.note.Note B>\n",
        "            {3.875} <music21.bar.Barline style=heavy-light>\n",
        "        {7.75} <music21.stream.Measure 20 offset=7.75>\n",
        "            {0.0} <music21.layout.SystemLayout>\n",
        "            {0.0} <music21.bar.Repeat direction=start>\n",
        "            {0.0} <music21.note.Note E>\n",
        "            {0.25} <music21.note.Note B>\n",
        "            {0.5} <music21.note.Note E>\n",
        "            {0.75} <music21.note.Note D#>\n",
        "            {1.0} <music21.note.Note E>\n",
        "            {1.25} <music21.note.Note G>\n",
        "            {1.5} <music21.note.Note E>\n",
        "            {1.75} <music21.note.Note B>\n",
        "            {2.0} <music21.note.Note F#>\n",
        "            {2.25} <music21.note.Note B>\n",
        "            {2.5} <music21.note.Note E>\n",
        "            {2.75} <music21.note.Note D#>\n",
        "            {3.0} <music21.note.Note E>\n",
        "            {3.25} <music21.note.Note G>\n",
        "            {3.5} <music21.note.Note E>\n",
        "            {3.75} <music21.note.Note B>\n",
        "{81.375} <music21.layout.System 108888920>\n",
        "    {0.0} <music21.layout.Staff Part_1>\n",
        "        {0.0} <music21.instrument.Instrument P1: Part_1: Voice Oohs>\n",
        "        {0.0} <music21.clef.TrebleClef>\n",
        "        {0.0} <music21.meter.TimeSignature 4/4>\n",
        "        {0.0} <music21.stream.Measure 21 offset=0.0>\n",
        "            {0.0} <music21.layout.StaffLayout distance None, staffNumber None, staffSize None>\n",
        "            {0.0} <music21.layout.SystemLayout>\n",
        "            {0.0} <music21.note.Note E>\n",
        "            {0.25} <music21.note.Note G>\n",
        "            {0.5} <music21.note.Note B>\n",
        "            {0.75} <music21.note.Note C>\n",
        "            {1.0} <music21.note.Note D#>\n",
        "            {1.25} <music21.note.Note C>\n",
        "            {1.5} <music21.note.Note B>\n",
        "            {1.75} <music21.note.Note A>\n",
        "            {2.0} <music21.note.Note G>\n",
        "            {2.25} <music21.note.Note B>\n",
        "            {2.5} <music21.note.Note D#>\n",
        "            {2.75} <music21.note.Note E>\n",
        "            {3.0} <music21.note.Note B>\n",
        "            {3.25} <music21.note.Note A>\n",
        "            {3.5} <music21.note.Note G>\n",
        "            {3.75} <music21.note.Note F#>\n",
        "        {4.0} <music21.stream.Measure 22 offset=4.0>\n",
        "            {0.0} <music21.layout.SystemLayout>\n",
        "            {0.0} <music21.note.Note E>\n",
        "            {0.25} <music21.note.Note G>\n",
        "            {0.5} <music21.note.Note B>\n",
        "            {0.75} <music21.note.Note C>\n",
        "            {1.0} <music21.note.Note D#>\n",
        "            {1.25} <music21.note.Note C>\n",
        "            {1.5} <music21.note.Note B>\n",
        "            {1.75} <music21.note.Note A>\n",
        "            {2.0} <music21.note.Note G>\n",
        "            {2.25} <music21.note.Note B>\n",
        "            {2.5} <music21.note.Note D#>\n",
        "            {2.75} <music21.note.Note E>\n",
        "            {3.0} <music21.note.Note B>\n",
        "            {3.25} <music21.note.Note A>\n",
        "            {3.5} <music21.note.Note G>\n",
        "            {3.75} <music21.note.Note F#>\n",
        "{89.375} <music21.layout.System 108888920>\n",
        "    {0.0} <music21.layout.Staff Part_1>\n",
        "        {0.0} <music21.instrument.Instrument P1: Part_1: Voice Oohs>\n",
        "        {0.0} <music21.clef.TrebleClef>\n",
        "        {0.0} <music21.meter.TimeSignature 4/4>\n",
        "        {0.0} <music21.stream.Measure 23 offset=0.0>\n",
        "            {0.0} <music21.layout.StaffLayout distance None, staffNumber None, staffSize None>\n",
        "            {0.0} <music21.layout.SystemLayout>\n",
        "            {0.0} <music21.note.Note E>\n",
        "            {0.25} <music21.note.Note G>\n",
        "            {0.5} <music21.note.Note D#>\n",
        "            {0.75} <music21.note.Note E>\n",
        "            {1.0} <music21.note.Note B>\n",
        "            {1.25} <music21.note.Note G#>\n",
        "            {1.5} <music21.note.Note E>\n",
        "            {1.75} <music21.note.Note C>\n",
        "            {2.0} <music21.note.Note A>\n",
        "            {2.25} <music21.note.Note D#>\n",
        "            {2.5} <music21.note.Note E>\n",
        "            {2.75} <music21.note.Note G#>\n",
        "            {3.0} <music21.note.Note F>\n",
        "            {3.25} <music21.note.Note E>\n",
        "            {3.5} <music21.note.Note D>\n",
        "        {3.75} <music21.stream.Measure 24 offset=3.75>\n",
        "            {0.0} <music21.layout.SystemLayout>\n",
        "            {0.0} <music21.note.Note A>\n",
        "            {0.25} <music21.note.Note C>\n",
        "            {0.5} <music21.note.Note G#>\n",
        "            {0.75} <music21.note.Note A>\n",
        "            {1.0} <music21.note.Note D>\n",
        "            {1.25} <music21.note.Note C#>\n",
        "            {1.5} <music21.note.Note A>\n",
        "            {1.625} <music21.note.Note F>\n",
        "            {1.875} <music21.note.Note D>\n",
        "            {2.125} <music21.note.Note G#>\n",
        "            {2.375} <music21.note.Note A>\n",
        "            {2.625} <music21.note.Note C>\n",
        "            {2.875} <music21.note.Note B->\n",
        "            {3.125} <music21.note.Note A>\n",
        "            {3.375} <music21.note.Note G#>\n",
        "{96.75} <music21.layout.System 365803560>\n",
        "    {0.0} <music21.layout.Staff Part_1>\n",
        "        {0.0} <music21.instrument.Instrument P1: Part_1: Voice Oohs>\n",
        "        {0.0} <music21.stream.Measure 25 offset=0.0>\n",
        "            {0.0} <music21.clef.TrebleClef>\n",
        "            {0.0} <music21.expressions.TextExpression \"\">\n",
        "            {0.0} <music21.layout.StaffLayout distance None, staffNumber None, staffSize None>\n",
        "            {0.0} <music21.layout.SystemLayout>\n",
        "            {0.0} <music21.note.Note F>\n",
        "            {0.25} <music21.note.Note A>\n",
        "            {0.5} <music21.note.Note D>\n",
        "            {0.75} <music21.note.Note C#>\n",
        "            {1.0} <music21.note.Note D>\n",
        "            {1.25} <music21.note.Note F>\n",
        "            {1.5} <music21.note.Note D>\n",
        "            {1.75} <music21.note.Note A>\n",
        "            {2.0} <music21.note.Note D>\n",
        "            {2.25} <music21.note.Note A>\n",
        "            {2.5} <music21.note.Note D>\n",
        "            {2.75} <music21.note.Note C#>\n",
        "            {3.0} <music21.note.Note D>\n",
        "            {3.25} <music21.note.Note F>\n",
        "            {3.5} <music21.note.Note D>\n",
        "            {3.75} <music21.note.Note A>\n",
        "        {4.0} <music21.stream.Measure 26 offset=4.0>\n",
        "            {0.0} <music21.layout.SystemLayout>\n",
        "            {0.0} <music21.note.Note D>\n",
        "            {0.25} <music21.note.Note A>\n",
        "            {0.5} <music21.note.Note C>\n",
        "            {0.75} <music21.note.Note B>\n",
        "            {1.0} <music21.note.Note C>\n",
        "            {1.25} <music21.note.Note F#>\n",
        "            {1.5} <music21.note.Note C>\n",
        "            {1.75} <music21.note.Note A>\n",
        "            {2.0} <music21.note.Note D>\n",
        "            {2.25} <music21.note.Note A>\n",
        "            {2.5} <music21.note.Note C>\n",
        "            {2.75} <music21.note.Note B>\n",
        "            {3.0} <music21.note.Note D>\n",
        "            {3.25} <music21.note.Note F#>\n",
        "            {3.5} <music21.note.Note D>\n",
        "            {3.75} <music21.note.Note A>\n",
        "{104.75} <music21.layout.System 365803560>\n",
        "    {0.0} <music21.layout.Staff Part_1>\n",
        "        {0.0} <music21.instrument.Instrument P1: Part_1: Voice Oohs>\n",
        "        {0.0} <music21.clef.TrebleClef>\n",
        "        {0.0} <music21.stream.Measure 27 offset=0.0>\n",
        "            {0.0} <music21.layout.StaffLayout distance None, staffNumber None, staffSize None>\n",
        "            {0.0} <music21.layout.SystemLayout>\n",
        "            {0.0} <music21.note.Note D>\n",
        "            {0.25} <music21.note.Note C>\n",
        "            {0.5} <music21.note.Note F#>\n",
        "            {0.75} <music21.note.Note E>\n",
        "            {1.0} <music21.note.Note D>\n",
        "            {1.25} <music21.note.Note C>\n",
        "            {1.5} <music21.note.Note B>\n",
        "            {1.75} <music21.note.Note A>\n",
        "            {2.0} <music21.note.Note E>\n",
        "            {2.25} <music21.note.Note D>\n",
        "            {2.5} <music21.note.Note C>\n",
        "            {2.75} <music21.note.Note B>\n",
        "            {3.0} <music21.note.Note F#>\n",
        "            {3.25} <music21.note.Note E>\n",
        "            {3.5} <music21.note.Note D>\n",
        "            {3.75} <music21.note.Note C>\n",
        "        {4.0} <music21.stream.Measure 28 offset=4.0>\n",
        "            {0.0} <music21.layout.SystemLayout>\n",
        "            {0.0} <music21.note.Note B>\n",
        "            {0.25} <music21.note.Note D>\n",
        "            {0.5} <music21.note.Note G>\n",
        "            {0.75} <music21.note.Note F#>\n",
        "            {1.0} <music21.note.Note G>\n",
        "            {1.25} <music21.note.Note B>\n",
        "            {1.5} <music21.note.Note G>\n",
        "            {1.75} <music21.note.Note D>\n",
        "            {2.0} <music21.note.Note G>\n",
        "            {2.25} <music21.note.Note D>\n",
        "            {2.5} <music21.note.Note G>\n",
        "            {2.75} <music21.note.Note F#>\n",
        "            {3.0} <music21.note.Note G>\n",
        "            {3.25} <music21.note.Note B>\n",
        "            {3.5} <music21.note.Note G>\n",
        "            {3.75} <music21.note.Note D>\n",
        "{112.75} <music21.layout.System 365803560>\n",
        "    {0.0} <music21.layout.Staff Part_1>\n",
        "        {0.0} <music21.instrument.Instrument P1: Part_1: Voice Oohs>\n",
        "        {0.0} <music21.clef.TrebleClef>\n",
        "        {0.0} <music21.stream.Measure 29 offset=0.0>\n",
        "            {0.0} <music21.layout.StaffLayout distance None, staffNumber None, staffSize None>\n",
        "            {0.0} <music21.layout.SystemLayout>\n",
        "            {0.0} <music21.note.Note G>\n",
        "            {0.25} <music21.note.Note D>\n",
        "            {0.5} <music21.note.Note F>\n",
        "            {0.75} <music21.note.Note E>\n",
        "            {1.0} <music21.note.Note F>\n",
        "            {1.25} <music21.note.Note B>\n",
        "            {1.5} <music21.note.Note F>\n",
        "            {1.75} <music21.note.Note D>\n",
        "            {2.0} <music21.note.Note G>\n",
        "            {2.25} <music21.note.Note D>\n",
        "            {2.5} <music21.note.Note F>\n",
        "            {2.75} <music21.note.Note E>\n",
        "            {3.0} <music21.note.Note F>\n",
        "            {3.25} <music21.note.Note B>\n",
        "            {3.5} <music21.note.Note F>\n",
        "            {3.75} <music21.note.Note D>\n",
        "        {4.0} <music21.stream.Measure 30 offset=4.0>\n",
        "            {0.0} <music21.layout.SystemLayout>\n",
        "            {0.0} <music21.note.Note G>\n",
        "            {0.25} <music21.note.Note F>\n",
        "            {0.5} <music21.note.Note B>\n",
        "            {0.75} <music21.note.Note A>\n",
        "            {1.0} <music21.note.Note G>\n",
        "            {1.25} <music21.note.Note F>\n",
        "            {1.5} <music21.note.Note E>\n",
        "            {1.75} <music21.note.Note D>\n",
        "            {2.0} <music21.note.Note A>\n",
        "            {2.25} <music21.note.Note G>\n",
        "            {2.5} <music21.note.Note F>\n",
        "            {2.75} <music21.note.Note E>\n",
        "            {3.0} <music21.note.Note B>\n",
        "            {3.25} <music21.note.Note A>\n",
        "            {3.5} <music21.note.Note G>\n",
        "            {3.75} <music21.note.Note F>\n",
        "{120.75} <music21.layout.System 365803560>\n",
        "    {0.0} <music21.layout.Staff Part_1>\n",
        "        {0.0} <music21.instrument.Instrument P1: Part_1: Voice Oohs>\n",
        "        {0.0} <music21.clef.TrebleClef>\n",
        "        {0.0} <music21.stream.Measure 31 offset=0.0>\n",
        "            {0.0} <music21.layout.StaffLayout distance None, staffNumber None, staffSize None>\n",
        "            {0.0} <music21.layout.SystemLayout>\n",
        "            {0.0} <music21.note.Note E>\n",
        "            {0.25} <music21.note.Note G>\n",
        "            {0.5} <music21.note.Note E>\n",
        "            {0.75} <music21.note.Note C>\n",
        "            {1.0} <music21.note.Note B->\n",
        "            {1.25} <music21.note.Note A>\n",
        "            {1.5} <music21.note.Note B->\n",
        "            {1.75} <music21.note.Note G>\n",
        "            {2.0} <music21.note.Note A>\n",
        "            {2.25} <music21.note.Note B>\n",
        "            {2.5} <music21.note.Note C#>\n",
        "            {2.75} <music21.note.Note D>\n",
        "            {3.0} <music21.note.Note E>\n",
        "            {3.25} <music21.note.Note F>\n",
        "            {3.5} <music21.note.Note G>\n",
        "            {3.75} <music21.note.Note E>\n",
        "        {4.0} <music21.stream.Measure 32 offset=4.0>\n",
        "            {0.0} <music21.layout.SystemLayout>\n",
        "            {0.0} <music21.note.Note F>\n",
        "            {0.25} <music21.note.Note A>\n",
        "            {0.5} <music21.note.Note F>\n",
        "            {0.75} <music21.note.Note D>\n",
        "            {1.0} <music21.note.Note C>\n",
        "            {1.25} <music21.note.Note B>\n",
        "            {1.5} <music21.note.Note C>\n",
        "            {1.75} <music21.note.Note A>\n",
        "            {2.0} <music21.note.Note B>\n",
        "            {2.25} <music21.note.Note C#>\n",
        "            {2.5} <music21.note.Note D#>\n",
        "            {2.75} <music21.note.Note E>\n",
        "            {3.0} <music21.note.Note F#>\n",
        "            {3.25} <music21.note.Note G#>\n",
        "            {3.5} <music21.note.Note A>\n",
        "            {3.75} <music21.note.Note F#>\n",
        "{128.75} <music21.layout.System 365803560>\n",
        "    {0.0} <music21.layout.Staff Part_1>\n",
        "        {0.0} <music21.instrument.Instrument P1: Part_1: Voice Oohs>\n",
        "        {0.0} <music21.clef.TrebleClef>\n",
        "        {0.0} <music21.stream.Measure 33 offset=0.0>\n",
        "            {0.0} <music21.layout.StaffLayout distance None, staffNumber None, staffSize None>\n",
        "            {0.0} <music21.layout.SystemLayout>\n",
        "            {0.0} <music21.note.Note G#>\n",
        "            {0.25} <music21.note.Note B>\n",
        "            {0.5} <music21.note.Note G#>\n",
        "            {0.75} <music21.note.Note E>\n",
        "            {1.0} <music21.note.Note D>\n",
        "            {1.25} <music21.note.Note C>\n",
        "            {1.5} <music21.note.Note D>\n",
        "            {1.75} <music21.note.Note B>\n",
        "            {2.0} <music21.note.Note C>\n",
        "            {2.25} <music21.note.Note E>\n",
        "            {2.5} <music21.note.Note G#>\n",
        "            {2.75} <music21.note.Note A>\n",
        "            {3.0} <music21.note.Note G#>\n",
        "            {3.25} <music21.note.Note F>\n",
        "            {3.5} <music21.note.Note E>\n",
        "            {3.75} <music21.note.Note D>\n",
        "        {4.0} <music21.stream.Measure 34 offset=4.0>\n",
        "            {0.0} <music21.layout.SystemLayout>\n",
        "            {0.0} <music21.note.Note A>\n",
        "            {0.25} <music21.note.Note C>\n",
        "            {0.5} <music21.note.Note E>\n",
        "            {0.75} <music21.note.Note F>\n",
        "            {1.0} <music21.note.Note E>\n",
        "            {1.25} <music21.note.Note D>\n",
        "            {1.5} <music21.note.Note C>\n",
        "            {1.75} <music21.note.Note B->\n",
        "            {2.0} <music21.note.Note F>\n",
        "            {2.25} <music21.note.Note A>\n",
        "            {2.5} <music21.note.Note C#>\n",
        "            {2.75} <music21.note.Note D>\n",
        "            {3.0} <music21.note.Note A>\n",
        "            {3.25} <music21.note.Note G>\n",
        "            {3.5} <music21.note.Note F>\n",
        "            {3.75} <music21.note.Note E>\n",
        "{136.75} <music21.layout.System 365803560>\n",
        "    {0.0} <music21.layout.Staff Part_1>\n",
        "        {0.0} <music21.instrument.Instrument P1: Part_1: Voice Oohs>\n",
        "        {0.0} <music21.clef.TrebleClef>\n",
        "        {0.0} <music21.stream.Measure 35 offset=0.0>\n",
        "            {0.0} <music21.meter.TimeSignature 4/4>\n",
        "            {0.0} <music21.layout.StaffLayout distance None, staffNumber None, staffSize None>\n",
        "            {0.0} <music21.layout.SystemLayout>\n",
        "            {0.0} <music21.note.Note D>\n",
        "            {0.25} <music21.note.Note F>\n",
        "            {0.5} <music21.note.Note D>\n",
        "            {1.0} <music21.note.Note A>\n",
        "            {1.25} <music21.note.Note F#>\n",
        "            {1.5} <music21.note.Note C>\n",
        "            {1.75} <music21.note.Note D>\n",
        "            {2.0} <music21.note.Note B>\n",
        "            {2.25} <music21.note.Note G#>\n",
        "            {2.5} <music21.note.Note E>\n",
        "            {2.75} <music21.note.Note F>\n",
        "            {3.0} <music21.note.Note A>\n",
        "            {3.25} <music21.note.Note F>\n",
        "            {3.5} <music21.note.Note C#>\n",
        "            {3.75} <music21.note.Note D>\n",
        "        {4.0} <music21.stream.Measure 36 offset=4.0>\n",
        "            {0.0} <music21.layout.SystemLayout>\n",
        "            {0.0} <music21.note.Note G#>\n",
        "            {0.25} <music21.note.Note F>\n",
        "            {0.5} <music21.note.Note C#>\n",
        "            {0.75} <music21.note.Note D>\n",
        "            {1.0} <music21.note.Note B>\n",
        "            {1.25} <music21.note.Note A>\n",
        "            {1.5} <music21.note.Note G#>\n",
        "            {1.75} <music21.note.Note F#>\n",
        "            {2.0} <music21.note.Note E>\n",
        "            {2.25} <music21.note.Note D>\n",
        "            {2.5} <music21.note.Note C>\n",
        "            {2.75} <music21.note.Note B>\n",
        "            {3.0} <music21.note.Note A>\n",
        "            {3.25} <music21.note.Note G#>\n",
        "            {3.5} <music21.note.Note F#>\n",
        "            {3.75} <music21.note.Note E>\n",
        "{144.75} <music21.layout.System 365803560>\n",
        "    {0.0} <music21.layout.Staff Part_1>\n",
        "        {0.0} <music21.instrument.Instrument P1: Part_1: Voice Oohs>\n",
        "        {0.0} <music21.clef.TrebleClef>\n",
        "        {0.0} <music21.meter.TimeSignature 4/4>\n",
        "        {0.0} <music21.stream.Measure 37 offset=0.0>\n",
        "            {0.0} <music21.layout.StaffLayout distance None, staffNumber None, staffSize None>\n",
        "            {0.0} <music21.layout.SystemLayout>\n",
        "            {0.0} <music21.note.Note D>\n",
        "            {0.25} <music21.note.Note B>\n",
        "            {0.5} <music21.note.Note C>\n",
        "            {0.75} <music21.note.Note E>\n",
        "            {1.0} <music21.note.Note A>\n",
        "            {1.25} <music21.note.Note B>\n",
        "            {1.5} <music21.note.Note C>\n",
        "            {1.75} <music21.note.Note D>\n",
        "            {2.0} <music21.note.Note E>\n",
        "            {2.25} <music21.note.Note F#>\n",
        "            {2.5} <music21.note.Note G#>\n",
        "            {2.75} <music21.note.Note A>\n",
        "            {3.0} <music21.note.Note B>\n",
        "            {3.25} <music21.note.Note G#>\n",
        "            {3.5} <music21.note.Note A>\n",
        "            {3.75} <music21.note.Note C>\n",
        "        {4.0} <music21.stream.Measure 38 offset=4.0>\n",
        "            {0.0} <music21.layout.SystemLayout>\n",
        "            {0.0} <music21.note.Note D#>\n",
        "            {0.25} <music21.note.Note F#>\n",
        "            {0.5} <music21.note.Note C>\n",
        "            {0.75} <music21.note.Note B>\n",
        "            {1.0} <music21.note.Note E>\n",
        "            {1.25} <music21.note.Note G#>\n",
        "            {1.5} <music21.note.Note C>\n",
        "            {1.75} <music21.note.Note B>\n",
        "            {2.0} <music21.note.Note F#>\n",
        "            {2.25} <music21.note.Note A>\n",
        "            {2.5} <music21.note.Note C>\n",
        "            {2.75} <music21.note.Note B>\n",
        "            {3.0} <music21.note.Note B>\n",
        "            {3.25} <music21.note.Note C>\n",
        "            {3.5} <music21.note.Note B>\n",
        "            {3.75} <music21.note.Note A>\n",
        "{152.75} <music21.layout.System 365803560>\n",
        "    {0.0} <music21.layout.Staff Part_1>\n",
        "        {0.0} <music21.instrument.Instrument P1: Part_1: Voice Oohs>\n",
        "        {0.0} <music21.clef.TrebleClef>\n",
        "        {0.0} <music21.meter.TimeSignature 4/4>\n",
        "        {0.0} <music21.stream.Measure 39 offset=0.0>\n",
        "            {0.0} <music21.layout.StaffLayout distance None, staffNumber None, staffSize None>\n",
        "            {0.0} <music21.layout.SystemLayout>\n",
        "            {0.0} <music21.note.Note G#>\n",
        "            {0.25} <music21.note.Note E>\n",
        "            {0.5} <music21.note.Note F>\n",
        "            {0.75} <music21.note.Note E>\n",
        "            {1.0} <music21.note.Note A>\n",
        "            {1.25} <music21.note.Note E>\n",
        "            {1.5} <music21.note.Note F>\n",
        "            {1.75} <music21.note.Note E>\n",
        "            {2.0} <music21.note.Note B>\n",
        "            {2.25} <music21.note.Note E>\n",
        "            {2.5} <music21.note.Note F>\n",
        "            {2.75} <music21.note.Note E>\n",
        "            {3.0} <music21.note.Note D>\n",
        "            {3.25} <music21.note.Note F>\n",
        "            {3.5} <music21.note.Note E>\n",
        "            {3.75} <music21.note.Note D>\n",
        "        {4.0} <music21.stream.Measure 40 offset=4.0>\n",
        "            {0.0} <music21.layout.SystemLayout>\n",
        "            {0.0} <music21.note.Note C>\n",
        "            {0.25} <music21.note.Note A>\n",
        "            {0.5} <music21.note.Note C>\n",
        "            {0.75} <music21.note.Note E>\n",
        "            {1.0} <music21.note.Note A>\n",
        "            {1.25} <music21.note.Note G>\n",
        "            {1.5} <music21.note.Note F>\n",
        "            {1.75} <music21.note.Note E>\n",
        "            {2.0} <music21.note.Note F>\n",
        "            {2.25} <music21.note.Note A>\n",
        "            {2.5} <music21.note.Note F>\n",
        "            {2.75} <music21.note.Note D>\n",
        "            {3.0} <music21.note.Note D>\n",
        "            {3.125} <music21.note.Note C>\n",
        "            {3.25} <music21.note.Note B>\n",
        "            {3.5} <music21.note.Note A>\n",
        "{160.5} <music21.layout.System 365803560>\n",
        "    {0.0} <music21.layout.Staff Part_1>\n",
        "        {0.0} <music21.instrument.Instrument P1: Part_1: Voice Oohs>\n",
        "        {0.0} <music21.clef.TrebleClef>\n",
        "        {0.0} <music21.meter.TimeSignature 4/4>\n",
        "        {0.0} <music21.stream.Measure 41 offset=0.0>\n",
        "            {0.0} <music21.layout.StaffLayout distance None, staffNumber None, staffSize None>\n",
        "            {0.0} <music21.layout.SystemLayout>\n",
        "            {0.0} <music21.note.Note G#>\n",
        "            {0.25} <music21.note.Note E>\n",
        "            {0.375} <music21.note.Note C#>\n",
        "            {0.625} <music21.note.Note G>\n",
        "            {0.875} <music21.note.Note F#>\n",
        "            {1.125} <music21.note.Note D>\n",
        "            {1.375} <music21.note.Note B>\n",
        "            {1.625} <music21.note.Note F>\n",
        "            {1.875} <music21.note.Note E>\n",
        "            {2.125} <music21.note.Note C>\n",
        "            {2.375} <music21.note.Note A>\n",
        "            {2.625} <music21.note.Note E->\n",
        "            {2.875} <music21.note.Note D>\n",
        "            {3.125} <music21.chord.Chord B5 B5>\n",
        "            {3.625} <music21.note.Note G#>\n",
        "            {3.875} <music21.note.Note D>\n",
        "        {4.125} <music21.stream.Measure 42 offset=4.125>\n",
        "            {0.0} <music21.layout.SystemLayout>\n",
        "            {0.0} <music21.note.Note C>\n",
        "            {0.25} <music21.note.Note A>\n",
        "            {0.5} <music21.note.Note F>\n",
        "            {0.75} <music21.note.Note D>\n",
        "            {1.0} <music21.note.Note B>\n",
        "            {1.25} <music21.note.Note F>\n",
        "            {1.5} <music21.note.Note E>\n",
        "            {1.75} <music21.note.Note D>\n",
        "            {2.0} <music21.note.Note G#>\n",
        "            {2.25} <music21.note.Note B>\n",
        "            {2.5} <music21.note.Note D>\n",
        "            {2.75} <music21.note.Note F>\n",
        "            {3.0} <music21.note.Note E>\n",
        "            {3.25} <music21.note.Note D>\n",
        "            {3.5} <music21.note.Note C>\n",
        "            {3.75} <music21.note.Note B>\n",
        "{168.625} <music21.layout.System 365803560>\n",
        "    {0.0} <music21.layout.Staff Part_1>\n",
        "        {0.0} <music21.instrument.Instrument P1: Part_1: Voice Oohs>\n",
        "        {0.0} <music21.clef.TrebleClef>\n",
        "        {0.0} <music21.meter.TimeSignature 4/4>\n",
        "        {0.0} <music21.stream.Measure 43 offset=0.0>\n",
        "            {0.0} <music21.layout.StaffLayout distance None, staffNumber None, staffSize None>\n",
        "            {0.0} <music21.layout.SystemLayout>\n",
        "            {0.0} <music21.note.Note C>\n",
        "            {0.25} <music21.note.Note E>\n",
        "            {0.5} <music21.note.Note A>\n",
        "            {0.75} <music21.note.Note C>\n",
        "            {1.0} <music21.note.Note B>\n",
        "            {1.25} <music21.note.Note A>\n",
        "            {1.5} <music21.note.Note E>\n",
        "            {1.75} <music21.note.Note G#>\n",
        "            {2.0} <music21.note.Note A>\n",
        "            {2.25} <music21.note.Note A>\n",
        "            {2.5} <music21.note.Note G#>\n",
        "            {2.75} <music21.note.Note E>\n",
        "            {3.0} <music21.note.Note F>\n",
        "            {3.25} <music21.note.Note A>\n",
        "            {3.5} <music21.note.Note E>\n",
        "            {3.75} <music21.note.Note G>\n",
        "        {4.0} <music21.stream.Measure 44 offset=4.0>\n",
        "            {0.0} <music21.layout.SystemLayout>\n",
        "            {0.0} <music21.note.Note D>\n",
        "            {0.25} <music21.note.Note F>\n",
        "            {0.5} <music21.note.Note E>\n",
        "            {0.75} <music21.note.Note C#>\n",
        "            {1.0} <music21.note.Note D>\n",
        "            {1.25} <music21.note.Note B->\n",
        "            {1.5} <music21.note.Note A>\n",
        "            {1.75} <music21.note.Note G#>\n",
        "            {2.0} <music21.note.Note E>\n",
        "            {2.25} <music21.note.Note D>\n",
        "            {2.5} <music21.note.Note B->\n",
        "            {2.75} <music21.note.Note C#>\n",
        "            {3.0} <music21.note.Note E>\n",
        "            {3.0625} <music21.note.Note B->\n",
        "            {3.3125} <music21.note.Note D>\n",
        "{176.0625} <music21.layout.System 365803560>\n",
        "    {0.0} <music21.layout.Staff Part_1>\n",
        "        {0.0} <music21.instrument.Instrument P1: Part_1: Voice Oohs>\n",
        "        {0.0} <music21.clef.TrebleClef>\n",
        "        {0.0} <music21.meter.TimeSignature 4/4>\n",
        "        {0.0} <music21.stream.Measure 45 offset=0.0>\n",
        "            {0.0} <music21.layout.StaffLayout distance None, staffNumber None, staffSize None>\n",
        "            {0.0} <music21.layout.SystemLayout>\n",
        "            {0.0} <music21.note.Note C>\n",
        "            {0.25} <music21.note.Note C>\n",
        "            {0.375} <music21.note.Note D>\n",
        "            {0.625} <music21.note.Note B>\n",
        "            {0.875} <music21.note.Note E>\n",
        "            {1.125} <music21.note.Note A>\n",
        "            {1.375} <music21.note.Note B>\n",
        "            {1.625} <music21.note.Note G#>\n",
        "            {1.875} <music21.note.Note A>\n",
        "            {2.125} <music21.note.Note E>\n",
        "            {2.375} <music21.note.Note A>\n",
        "            {2.625} <music21.note.Note C>\n",
        "            {2.875} <music21.note.Note E>\n",
        "            {3.125} <music21.note.Note A>\n",
        "            {3.375} <music21.note.Note C>\n",
        "            {3.625} <music21.note.Note E>\n",
        "        {3.875} <music21.stream.Measure 46 offset=3.875>\n",
        "            {0.0} <music21.layout.SystemLayout>\n",
        "            {0.0} <music21.note.Note A>\n",
        "            {0.25} <music21.note.Note E>\n",
        "            {0.5} <music21.note.Note A>\n",
        "            {0.75} <music21.note.Note C>\n",
        "            {0.875} <music21.note.Note E>\n",
        "            {1.0} <music21.note.Note A>\n",
        "            {1.25} <music21.note.Note C>\n",
        "            {1.375} <music21.note.Note E>\n",
        "            {1.5} <music21.note.Note A>\n",
        "            {2.5} <music21.bar.Repeat direction=end>\n"
       ]
      }
     ],
     "prompt_number": 28
    },
    {
     "cell_type": "code",
     "collapsed": false,
     "input": [
      "page1 = layout.divideByPages(score_object_page1, fastMeasures = False).pages[0]"
     ],
     "language": "python",
     "metadata": {},
     "outputs": [],
     "prompt_number": 31
    },
    {
     "cell_type": "code",
     "collapsed": false,
     "input": [
      "page1.show(\"text\")"
     ],
     "language": "python",
     "metadata": {},
     "outputs": [
      {
       "output_type": "stream",
       "stream": "stdout",
       "text": [
        "{0.0} <music21.layout.System 359240928>\n",
        "    {0.0} <music21.layout.Staff Part_1>\n",
        "        {0.0} <music21.instrument.Instrument P1: Part_1: Voice Oohs>\n",
        "        {0.0} <music21.stream.Measure 0 offset=0.0>\n",
        "            {0.0} <music21.clef.TrebleClef>\n",
        "            {0.0} <music21.meter.TimeSignature 4/4>\n",
        "            {0.0} <music21.expressions.TextExpression \"\">\n",
        "            {0.0} <music21.layout.StaffLayout distance None, staffNumber None, staffSize None>\n",
        "            {0.0} <music21.layout.SystemLayout>\n",
        "            {0.0} <music21.note.Rest rest>\n",
        "            {0.25} <music21.note.Note E>\n",
        "            {0.5} <music21.note.Note A>\n",
        "            {0.75} <music21.note.Note G#>\n",
        "            {1.0} <music21.note.Note A>\n",
        "            {1.25} <music21.note.Note C>\n",
        "            {1.375} <music21.note.Note A>\n",
        "            {1.5} <music21.note.Note E>\n",
        "            {1.75} <music21.note.Note A>\n",
        "            {2.0} <music21.note.Note E>\n",
        "            {2.25} <music21.note.Note A>\n",
        "            {2.5} <music21.note.Note G#>\n",
        "            {2.75} <music21.note.Note A>\n",
        "            {3.0} <music21.note.Note C>\n",
        "            {3.125} <music21.note.Note A>\n",
        "            {3.375} <music21.note.Note E>\n",
        "        {3.625} <music21.stream.Measure 1 offset=3.625>\n",
        "            {0.0} <music21.layout.SystemLayout>\n",
        "            {0.0} <music21.note.Note A>\n",
        "            {0.25} <music21.note.Note C>\n",
        "            {0.5} <music21.note.Note E>\n",
        "            {0.75} <music21.note.Note F>\n",
        "            {1.0} <music21.note.Note G#>\n",
        "            {1.25} <music21.note.Note F>\n",
        "            {1.5} <music21.note.Note E>\n",
        "            {1.75} <music21.note.Note D>\n",
        "            {2.0} <music21.note.Note C>\n",
        "            {2.25} <music21.note.Note E>\n",
        "            {2.5} <music21.note.Note G#>\n",
        "            {2.75} <music21.note.Note A>\n",
        "            {3.0} <music21.note.Note E>\n",
        "            {3.25} <music21.note.Note D>\n",
        "            {3.5} <music21.note.Note C>\n",
        "            {3.75} <music21.note.Note B>\n",
        "{7.625} <music21.layout.System 359240928>\n",
        "    {0.0} <music21.layout.Staff Part_1>\n",
        "        {0.0} <music21.instrument.Instrument P1: Part_1: Voice Oohs>\n",
        "        {0.0} <music21.clef.TrebleClef>\n",
        "        {0.0} <music21.meter.TimeSignature 4/4>\n",
        "        {0.0} <music21.stream.Measure 2 offset=0.0>\n",
        "            {0.0} <music21.layout.StaffLayout distance None, staffNumber None, staffSize None>\n",
        "            {0.0} <music21.layout.SystemLayout>\n",
        "            {0.0} <music21.note.Note A>\n",
        "            {0.25} <music21.note.Note C>\n",
        "            {0.5} <music21.note.Note E>\n",
        "            {0.75} <music21.note.Note F>\n",
        "            {1.0} <music21.note.Note G#>\n",
        "            {1.25} <music21.note.Note F>\n",
        "            {1.5} <music21.note.Note E>\n",
        "            {1.75} <music21.note.Note D>\n",
        "            {2.0} <music21.note.Note C>\n",
        "            {2.25} <music21.note.Note E>\n",
        "            {2.5} <music21.note.Note G#>\n",
        "            {2.75} <music21.note.Note A>\n",
        "            {3.0} <music21.note.Note E>\n",
        "            {3.25} <music21.note.Note D>\n",
        "            {3.5} <music21.note.Note C>\n",
        "            {3.75} <music21.note.Note B>\n",
        "        {4.0} <music21.stream.Measure 3 offset=4.0>\n",
        "            {0.0} <music21.layout.SystemLayout>\n",
        "            {0.0} <music21.note.Note A>\n",
        "            {0.25} <music21.note.Note C>\n",
        "            {0.5} <music21.note.Note G#>\n",
        "            {0.75} <music21.note.Note A>\n",
        "            {1.0} <music21.note.Note F>\n",
        "            {1.25} <music21.note.Note D>\n",
        "            {1.5} <music21.note.Note G#>\n",
        "            {1.75} <music21.note.Note A>\n",
        "            {2.0} <music21.note.Note E>\n",
        "            {2.25} <music21.note.Note C>\n",
        "            {2.5} <music21.note.Note G#>\n",
        "            {2.75} <music21.note.Note A>\n",
        "            {3.0} <music21.note.Note D>\n",
        "            {3.25} <music21.note.Note C>\n",
        "            {3.5} <music21.note.Note B>\n",
        "            {3.75} <music21.note.Note A>\n",
        "{15.625} <music21.layout.System 359240928>\n",
        "    {0.0} <music21.layout.Staff Part_1>\n",
        "        {0.0} <music21.instrument.Instrument P1: Part_1: Voice Oohs>\n",
        "        {0.0} <music21.clef.TrebleClef>\n",
        "        {0.0} <music21.meter.TimeSignature 4/4>\n",
        "        {0.0} <music21.stream.Measure 4 offset=0.0>\n",
        "            {0.0} <music21.layout.StaffLayout distance None, staffNumber None, staffSize None>\n",
        "            {0.0} <music21.layout.SystemLayout>\n",
        "            {0.0} <music21.note.Note G#>\n",
        "            {0.25} <music21.note.Note E>\n",
        "            {0.5} <music21.note.Note G#>\n",
        "            {0.75} <music21.note.Note B>\n",
        "            {1.0} <music21.note.Note E>\n",
        "            {1.25} <music21.note.Note G#>\n",
        "            {1.5} <music21.note.Note B>\n",
        "            {1.75} <music21.note.Note D>\n",
        "            {1.875} <music21.note.Note F>\n",
        "            {2.125} <music21.note.Note D>\n",
        "            {2.25} <music21.note.Note B>\n",
        "            {2.5} <music21.note.Note G#>\n",
        "            {2.75} <music21.note.Note E>\n",
        "            {3.0} <music21.note.Note D>\n",
        "            {3.25} <music21.note.Note C>\n",
        "            {3.5} <music21.note.Note B>\n",
        "        {3.75} <music21.stream.Measure 5 offset=3.75>\n",
        "            {0.0} <music21.layout.SystemLayout>\n",
        "            {0.0} <music21.note.Note C>\n",
        "            {0.25} <music21.note.Note A>\n",
        "            {0.5} <music21.note.Note C>\n",
        "            {0.75} <music21.note.Note E>\n",
        "            {1.0} <music21.note.Note A>\n",
        "            {1.25} <music21.note.Note C>\n",
        "            {1.375} <music21.note.Note E>\n",
        "            {1.4375} <music21.note.Note F>\n",
        "            {1.6875} <music21.note.Note G>\n",
        "            {1.9375} <music21.note.Note B->\n",
        "            {2.1875} <music21.note.Note G>\n",
        "            {2.4375} <music21.note.Note E>\n",
        "            {2.6875} <music21.note.Note C>\n",
        "            {2.9375} <music21.note.Note B->\n",
        "            {3.1875} <music21.note.Note A>\n",
        "            {3.4375} <music21.note.Note G>\n",
        "{23.0625} <music21.layout.System 359240928>\n",
        "    {0.0} <music21.layout.Staff Part_1>\n",
        "        {0.0} <music21.instrument.Instrument P1: Part_1: Voice Oohs>\n",
        "        {0.0} <music21.clef.TrebleClef>\n",
        "        {0.0} <music21.meter.TimeSignature 4/4>\n",
        "        {0.0} <music21.stream.Measure 6 offset=0.0>\n",
        "            {0.0} <music21.layout.StaffLayout distance None, staffNumber None, staffSize None>\n",
        "            {0.0} <music21.layout.SystemLayout>\n",
        "            {0.0} <music21.note.Note A>\n",
        "            {0.25} <music21.note.Note F>\n",
        "            {0.5} <music21.note.Note A>\n",
        "            {0.75} <music21.note.Note C>\n",
        "            {1.0} <music21.note.Note D>\n",
        "            {1.25} <music21.note.Note F>\n",
        "            {1.5} <music21.note.Note A>\n",
        "            {1.75} <music21.note.Note C>\n",
        "            {2.0} <music21.note.Note B>\n",
        "            {2.25} <music21.note.Note G>\n",
        "            {2.5} <music21.note.Note B>\n",
        "            {2.75} <music21.note.Note D>\n",
        "            {3.0} <music21.note.Note E>\n",
        "            {3.25} <music21.note.Note G>\n",
        "            {3.5} <music21.note.Note B>\n",
        "            {3.75} <music21.note.Note D>\n",
        "        {4.0} <music21.stream.Measure 7 offset=4.0>\n",
        "            {0.0} <music21.layout.SystemLayout>\n",
        "            {0.0} <music21.note.Note C>\n",
        "            {0.25} <music21.note.Note A>\n",
        "            {0.5} <music21.note.Note C>\n",
        "            {0.75} <music21.note.Note E>\n",
        "            {1.0} <music21.note.Note F>\n",
        "            {1.25} <music21.note.Note A>\n",
        "            {1.5} <music21.note.Note C>\n",
        "            {1.75} <music21.note.Note E>\n",
        "            {2.0} <music21.note.Note D>\n",
        "            {2.25} <music21.note.Note B>\n",
        "            {2.5} <music21.note.Note D>\n",
        "            {2.75} <music21.note.Note F#>\n",
        "            {3.0} <music21.note.Note G>\n",
        "            {3.25} <music21.note.Note B>\n",
        "            {3.5} <music21.note.Note D>\n",
        "            {3.75} <music21.note.Note F>\n",
        "{31.0625} <music21.layout.System 359240928>\n",
        "    {0.0} <music21.layout.Staff Part_1>\n",
        "        {0.0} <music21.instrument.Instrument P1: Part_1: Voice Oohs>\n",
        "        {0.0} <music21.clef.TrebleClef>\n",
        "        {0.0} <music21.meter.TimeSignature 4/4>\n",
        "        {0.0} <music21.stream.Measure 8 offset=0.0>\n",
        "            {0.0} <music21.layout.StaffLayout distance None, staffNumber None, staffSize None>\n",
        "            {0.0} <music21.layout.SystemLayout>\n",
        "            {0.0} <music21.note.Note E>\n",
        "            {0.25} <music21.note.Note G>\n",
        "            {0.5} <music21.note.Note C>\n",
        "            {0.625} <music21.note.Note B>\n",
        "            {0.875} <music21.note.Note C>\n",
        "            {1.0} <music21.note.Note E>\n",
        "            {1.125} <music21.note.Note C>\n",
        "            {1.25} <music21.note.Note G>\n",
        "            {1.5} <music21.note.Note C>\n",
        "            {1.75} <music21.note.Note G>\n",
        "            {2.0} <music21.note.Note C>\n",
        "            {2.125} <music21.note.Note B>\n",
        "            {2.375} <music21.note.Note C>\n",
        "            {2.5} <music21.note.Note E>\n",
        "            {2.625} <music21.note.Note C>\n",
        "            {2.75} <music21.note.Note G>\n",
        "        {3.0} <music21.stream.Measure 9 offset=3.0>\n",
        "            {0.0} <music21.layout.SystemLayout>\n",
        "            {0.0} <music21.note.Note C>\n",
        "            {0.25} <music21.note.Note G>\n",
        "            {0.5} <music21.note.Note B->\n",
        "            {0.75} <music21.note.Note A>\n",
        "            {1.0} <music21.note.Note B->\n",
        "            {1.25} <music21.note.Note E>\n",
        "            {1.375} <music21.note.Note B->\n",
        "            {1.625} <music21.note.Note G>\n",
        "            {1.875} <music21.note.Note C>\n",
        "            {2.125} <music21.note.Note G>\n",
        "            {2.375} <music21.note.Note B->\n",
        "            {2.625} <music21.note.Note A>\n",
        "            {2.875} <music21.note.Note B->\n",
        "            {3.125} <music21.note.Note E>\n",
        "            {3.25} <music21.note.Note B->\n",
        "            {3.5} <music21.note.Note G>\n",
        "{37.8125} <music21.layout.System 359240928>\n",
        "    {0.0} <music21.layout.Staff Part_1>\n",
        "        {0.0} <music21.instrument.Instrument P1: Part_1: Voice Oohs>\n",
        "        {0.0} <music21.clef.TrebleClef>\n",
        "        {0.0} <music21.meter.TimeSignature 4/4>\n",
        "        {0.0} <music21.stream.Measure 10 offset=0.0>\n",
        "            {0.0} <music21.layout.StaffLayout distance None, staffNumber None, staffSize None>\n",
        "            {0.0} <music21.layout.SystemLayout>\n",
        "            {0.0} <music21.note.Rest rest>\n",
        "            {0.5} <music21.note.Note G>\n",
        "            {0.75} <music21.note.Note B->\n",
        "            {1.0} <music21.note.Note A>\n",
        "            {1.25} <music21.note.Note B->\n",
        "            {1.5} <music21.note.Note E>\n",
        "            {1.5625} <music21.note.Note B->\n",
        "            {1.8125} <music21.note.Note G>\n",
        "            {2.0625} <music21.note.Note C>\n",
        "            {2.3125} <music21.note.Note G>\n",
        "            {2.5625} <music21.note.Note E>\n",
        "            {2.8125} <music21.note.Note C>\n",
        "            {3.0625} <music21.note.Note A>\n",
        "            {3.3125} <music21.note.Note G>\n",
        "            {3.5625} <music21.note.Note F>\n",
        "            {3.8125} <music21.note.Note E>\n",
        "        {4.0625} <music21.stream.Measure 11 offset=4.0625>\n",
        "            {0.0} <music21.layout.SystemLayout>\n",
        "            {0.0} <music21.note.Note D>\n",
        "            {0.25} <music21.note.Note G>\n",
        "            {0.5} <music21.note.Note F>\n",
        "            {0.75} <music21.note.Note E>\n",
        "            {1.0} <music21.note.Note F>\n",
        "            {1.25} <music21.note.Note A>\n",
        "            {1.5} <music21.note.Note F>\n",
        "            {1.75} <music21.note.Note D>\n",
        "            {2.0} <music21.note.Note B>\n",
        "            {2.25} <music21.note.Note G#>\n",
        "            {2.5} <music21.note.Note B>\n",
        "            {2.75} <music21.note.Note D>\n",
        "            {3.0} <music21.note.Note E>\n",
        "            {3.25} <music21.note.Note D>\n",
        "            {3.5} <music21.note.Note C>\n",
        "            {3.75} <music21.note.Note B>\n",
        "{45.875} <music21.layout.System 359240928>\n",
        "    {0.0} <music21.layout.Staff Part_1>\n",
        "        {0.0} <music21.instrument.Instrument P1: Part_1: Voice Oohs>\n",
        "        {0.0} <music21.clef.TrebleClef>\n",
        "        {0.0} <music21.meter.TimeSignature 4/4>\n",
        "        {0.0} <music21.stream.Measure 12 offset=0.0>\n",
        "            {0.0} <music21.layout.StaffLayout distance None, staffNumber None, staffSize None>\n",
        "            {0.0} <music21.layout.SystemLayout>\n",
        "            {0.0} <music21.note.Note C>\n",
        "            {0.25} <music21.note.Note E>\n",
        "            {0.5} <music21.note.Note A>\n",
        "            {0.75} <music21.note.Note G#>\n",
        "            {1.0} <music21.note.Note A>\n",
        "            {1.25} <music21.note.Note C>\n",
        "            {1.375} <music21.note.Note A>\n",
        "            {1.625} <music21.note.Note F#>\n",
        "            {1.875} <music21.note.Note D#>\n",
        "            {2.125} <music21.note.Note B>\n",
        "            {2.375} <music21.note.Note D#>\n",
        "            {2.625} <music21.note.Note F#>\n",
        "            {2.875} <music21.note.Note B>\n",
        "            {3.125} <music21.note.Note A>\n",
        "            {3.375} <music21.note.Note G>\n",
        "            {3.625} <music21.note.Note F#>\n",
        "        {3.875} <music21.stream.Measure 13 offset=3.875>\n",
        "            {0.0} <music21.layout.SystemLayout>\n",
        "            {0.0} <music21.note.Note G>\n",
        "            {0.25} <music21.note.Note F#>\n",
        "            {0.5} <music21.note.Note E>\n",
        "            {0.75} <music21.note.Note G>\n",
        "            {1.0} <music21.note.Note A>\n",
        "            {1.25} <music21.note.Note E>\n",
        "            {1.5} <music21.note.Note G>\n",
        "            {1.75} <music21.note.Note C>\n",
        "            {1.875} <music21.note.Note F>\n",
        "            {2.125} <music21.note.Note E>\n",
        "            {2.375} <music21.note.Note D>\n",
        "            {2.625} <music21.note.Note F>\n",
        "            {2.875} <music21.note.Note G>\n",
        "            {3.125} <music21.note.Note D>\n",
        "            {3.375} <music21.note.Note F>\n",
        "            {3.625} <music21.note.Note B>\n",
        "{53.625} <music21.layout.System 359240928>\n",
        "    {0.0} <music21.layout.Staff Part_1>\n",
        "        {0.0} <music21.instrument.Instrument P1: Part_1: Voice Oohs>\n",
        "        {0.0} <music21.clef.TrebleClef>\n",
        "        {0.0} <music21.meter.TimeSignature 4/4>\n",
        "        {0.0} <music21.stream.Measure 14 offset=0.0>\n",
        "            {0.0} <music21.layout.StaffLayout distance None, staffNumber None, staffSize None>\n",
        "            {0.0} <music21.layout.SystemLayout>\n",
        "            {0.0} <music21.note.Note E>\n",
        "            {0.25} <music21.note.Note D>\n",
        "            {0.5} <music21.note.Note C>\n",
        "            {0.75} <music21.note.Note E>\n",
        "            {1.0} <music21.note.Note F#>\n",
        "            {1.25} <music21.note.Note E>\n",
        "            {1.5} <music21.note.Note F#>\n",
        "            {1.75} <music21.note.Note A>\n",
        "            {2.0} <music21.note.Note D#>\n",
        "            {2.25} <music21.note.Note B>\n",
        "            {2.5} <music21.note.Note C>\n",
        "            {2.75} <music21.note.Note A>\n",
        "            {3.0} <music21.note.Note D#>\n",
        "            {3.25} <music21.note.Note C>\n",
        "            {3.5} <music21.note.Note B>\n",
        "            {3.75} <music21.note.Note A>\n",
        "        {4.0} <music21.stream.Measure 15 offset=4.0>\n",
        "            {0.0} <music21.layout.SystemLayout>\n",
        "            {0.0} <music21.note.Note G>\n",
        "            {0.25} <music21.note.Note E>\n",
        "            {0.5} <music21.note.Note F>\n",
        "            {0.75} <music21.note.Note D>\n",
        "            {1.0} <music21.note.Note G#>\n",
        "            {1.25} <music21.note.Note F>\n",
        "            {1.5} <music21.note.Note E>\n",
        "            {1.75} <music21.note.Note D>\n",
        "            {2.0} <music21.note.Note A>\n",
        "            {2.25} <music21.note.Note F#>\n",
        "            {2.5} <music21.note.Note G#>\n",
        "            {2.75} <music21.note.Note E>\n",
        "            {3.0} <music21.note.Note A#>\n",
        "            {3.25} <music21.note.Note G#>\n",
        "            {3.5} <music21.note.Note F#>\n",
        "            {3.75} <music21.note.Note E>\n",
        "{61.625} <music21.layout.System 359240928>\n",
        "    {0.0} <music21.layout.Staff Part_1>\n",
        "        {0.0} <music21.instrument.Instrument P1: Part_1: Voice Oohs>\n",
        "        {0.0} <music21.clef.TrebleClef>\n",
        "        {0.0} <music21.meter.TimeSignature 4/4>\n",
        "        {0.0} <music21.stream.Measure 16 offset=0.0>\n",
        "            {0.0} <music21.layout.StaffLayout distance None, staffNumber None, staffSize None>\n",
        "            {0.0} <music21.layout.SystemLayout>\n",
        "            {0.0} <music21.note.Note D#>\n",
        "            {0.25} <music21.note.Note B>\n",
        "            {0.5} <music21.note.Note G#>\n",
        "            {0.75} <music21.note.Note D>\n",
        "            {1.0} <music21.note.Note C#>\n",
        "            {1.25} <music21.note.Note A>\n",
        "            {1.5} <music21.note.Note F#>\n",
        "            {1.75} <music21.note.Note C>\n",
        "            {2.0} <music21.note.Note B>\n",
        "            {2.25} <music21.note.Note G>\n",
        "            {2.5} <music21.note.Note E>\n",
        "            {2.75} <music21.note.Note B->\n",
        "            {3.0} <music21.note.Note A>\n",
        "            {3.25} <music21.note.Note F#>\n",
        "            {3.5} <music21.note.Note D#>\n",
        "            {3.75} <music21.note.Note A>\n",
        "        {4.0} <music21.stream.Measure 17 offset=4.0>\n",
        "            {0.0} <music21.layout.SystemLayout>\n",
        "            {0.0} <music21.note.Note G>\n",
        "            {0.25} <music21.note.Note E>\n",
        "            {0.5} <music21.note.Note C>\n",
        "            {0.75} <music21.note.Note A>\n",
        "            {1.0} <music21.note.Note F#>\n",
        "            {1.25} <music21.note.Note C>\n",
        "            {1.5} <music21.note.Note A>\n",
        "            {1.75} <music21.note.Note F#>\n",
        "            {2.0} <music21.note.Note D#>\n",
        "            {2.25} <music21.note.Note F#>\n",
        "            {2.5} <music21.note.Note A>\n",
        "            {2.75} <music21.note.Note D#>\n",
        "            {3.0} <music21.note.Note B>\n",
        "            {3.25} <music21.note.Note A>\n",
        "            {3.5} <music21.note.Note G>\n",
        "            {3.75} <music21.note.Note F#>\n",
        "{69.625} <music21.layout.System 359240928>\n",
        "    {0.0} <music21.layout.Staff Part_1>\n",
        "        {0.0} <music21.instrument.Instrument P1: Part_1: Voice Oohs>\n",
        "        {0.0} <music21.clef.TrebleClef>\n",
        "        {0.0} <music21.meter.TimeSignature 4/4>\n",
        "        {0.0} <music21.stream.Measure 18 offset=0.0>\n",
        "            {0.0} <music21.layout.StaffLayout distance None, staffNumber None, staffSize None>\n",
        "            {0.0} <music21.layout.SystemLayout>\n",
        "            {0.0} <music21.note.Note G>\n",
        "            {0.25} <music21.note.Note F#>\n",
        "            {0.375} <music21.note.Note E>\n",
        "            {0.5} <music21.note.Note B>\n",
        "            {0.75} <music21.note.Note C>\n",
        "            {0.875} <music21.note.Note F#>\n",
        "            {1.625} <music21.note.Note E>\n",
        "            {1.875} <music21.note.Note E>\n",
        "            {3.875} <music21.bar.Repeat direction=end>\n",
        "        {3.875} <music21.stream.Measure 19 offset=3.875>\n",
        "            {0.0} <music21.layout.SystemLayout>\n",
        "            {0.0} <music21.bar.Barline style=final>\n",
        "            {0.0} <music21.note.Note G>\n",
        "            {0.25} <music21.note.Note F#>\n",
        "            {0.375} <music21.note.Note E>\n",
        "            {0.5} <music21.note.Note B>\n",
        "            {0.75} <music21.note.Note C>\n",
        "            {0.875} <music21.note.Note F#>\n",
        "            {1.625} <music21.note.Note E>\n",
        "            {1.875} <music21.note.Note E>\n",
        "            {2.125} <music21.note.Note B>\n",
        "            {2.375} <music21.note.Note C>\n",
        "            {2.625} <music21.note.Note A>\n",
        "            {2.875} <music21.note.Note B>\n",
        "            {3.125} <music21.note.Note G>\n",
        "            {3.375} <music21.note.Note A>\n",
        "            {3.625} <music21.note.Note B>\n",
        "            {3.875} <music21.bar.Barline style=heavy-light>\n",
        "        {7.75} <music21.stream.Measure 20 offset=7.75>\n",
        "            {0.0} <music21.layout.SystemLayout>\n",
        "            {0.0} <music21.bar.Repeat direction=start>\n",
        "            {0.0} <music21.note.Note E>\n",
        "            {0.25} <music21.note.Note B>\n",
        "            {0.5} <music21.note.Note E>\n",
        "            {0.75} <music21.note.Note D#>\n",
        "            {1.0} <music21.note.Note E>\n",
        "            {1.25} <music21.note.Note G>\n",
        "            {1.5} <music21.note.Note E>\n",
        "            {1.75} <music21.note.Note B>\n",
        "            {2.0} <music21.note.Note F#>\n",
        "            {2.25} <music21.note.Note B>\n",
        "            {2.5} <music21.note.Note E>\n",
        "            {2.75} <music21.note.Note D#>\n",
        "            {3.0} <music21.note.Note E>\n",
        "            {3.25} <music21.note.Note G>\n",
        "            {3.5} <music21.note.Note E>\n",
        "            {3.75} <music21.note.Note B>\n",
        "{81.375} <music21.layout.System 359240928>\n",
        "    {0.0} <music21.layout.Staff Part_1>\n",
        "        {0.0} <music21.instrument.Instrument P1: Part_1: Voice Oohs>\n",
        "        {0.0} <music21.clef.TrebleClef>\n",
        "        {0.0} <music21.meter.TimeSignature 4/4>\n",
        "        {0.0} <music21.stream.Measure 21 offset=0.0>\n",
        "            {0.0} <music21.layout.StaffLayout distance None, staffNumber None, staffSize None>\n",
        "            {0.0} <music21.layout.SystemLayout>\n",
        "            {0.0} <music21.note.Note E>\n",
        "            {0.25} <music21.note.Note G>\n",
        "            {0.5} <music21.note.Note B>\n",
        "            {0.75} <music21.note.Note C>\n",
        "            {1.0} <music21.note.Note D#>\n",
        "            {1.25} <music21.note.Note C>\n",
        "            {1.5} <music21.note.Note B>\n",
        "            {1.75} <music21.note.Note A>\n",
        "            {2.0} <music21.note.Note G>\n",
        "            {2.25} <music21.note.Note B>\n",
        "            {2.5} <music21.note.Note D#>\n",
        "            {2.75} <music21.note.Note E>\n",
        "            {3.0} <music21.note.Note B>\n",
        "            {3.25} <music21.note.Note A>\n",
        "            {3.5} <music21.note.Note G>\n",
        "            {3.75} <music21.note.Note F#>\n",
        "        {4.0} <music21.stream.Measure 22 offset=4.0>\n",
        "            {0.0} <music21.layout.SystemLayout>\n",
        "            {0.0} <music21.note.Note E>\n",
        "            {0.25} <music21.note.Note G>\n",
        "            {0.5} <music21.note.Note B>\n",
        "            {0.75} <music21.note.Note C>\n",
        "            {1.0} <music21.note.Note D#>\n",
        "            {1.25} <music21.note.Note C>\n",
        "            {1.5} <music21.note.Note B>\n",
        "            {1.75} <music21.note.Note A>\n",
        "            {2.0} <music21.note.Note G>\n",
        "            {2.25} <music21.note.Note B>\n",
        "            {2.5} <music21.note.Note D#>\n",
        "            {2.75} <music21.note.Note E>\n",
        "            {3.0} <music21.note.Note B>\n",
        "            {3.25} <music21.note.Note A>\n",
        "            {3.5} <music21.note.Note G>\n",
        "            {3.75} <music21.note.Note F#>\n",
        "{89.375} <music21.layout.System 359240928>\n",
        "    {0.0} <music21.layout.Staff Part_1>\n",
        "\n",
        "{89.375} <music21.layout.System 359240928>\n",
        "    {0.0} <music21.layout.Staff Part_1>\n",
        "        {0.0} <music21.instrument.Instrument P1: Part_1: Voice Oohs>\n",
        "        {0.0} <music21.clef.TrebleClef>\n",
        "        {0.0} <music21.meter.TimeSignature 4/4>\n",
        "        {0.0} <music21.stream.Measure 1 offset=0.0>\n",
        "            {0.0} <music21.layout.SystemLayout>\n",
        "            {0.0} <music21.note.Note A>\n",
        "            {0.25} <music21.note.Note C>\n",
        "            {0.5} <music21.note.Note E>\n",
        "            {0.75} <music21.note.Note F>\n",
        "            {1.0} <music21.note.Note G#>\n",
        "            {1.25} <music21.note.Note F>\n",
        "            {1.5} <music21.note.Note E>\n",
        "            {1.75} <music21.note.Note D>\n",
        "            {2.0} <music21.note.Note C>\n",
        "            {2.25} <music21.note.Note E>\n",
        "            {2.5} <music21.note.Note G#>\n",
        "            {2.75} <music21.note.Note A>\n",
        "            {3.0} <music21.note.Note E>\n",
        "            {3.25} <music21.note.Note D>\n",
        "            {3.5} <music21.note.Note C>\n",
        "            {3.75} <music21.note.Note B>\n",
        "        {4.0} <music21.stream.Measure 2 offset=4.0>\n",
        "            {0.0} <music21.layout.StaffLayout distance None, staffNumber None, staffSize None>\n",
        "            {0.0} <music21.layout.SystemLayout>\n",
        "            {0.0} <music21.note.Note A>\n",
        "            {0.25} <music21.note.Note C>\n",
        "            {0.5} <music21.note.Note E>\n",
        "            {0.75} <music21.note.Note F>\n",
        "            {1.0} <music21.note.Note G#>\n",
        "            {1.25} <music21.note.Note F>\n",
        "            {1.5} <music21.note.Note E>\n",
        "            {1.75} <music21.note.Note D>\n",
        "            {2.0} <music21.note.Note C>\n",
        "            {2.25} <music21.note.Note E>\n",
        "            {2.5} <music21.note.Note G#>\n",
        "            {2.75} <music21.note.Note A>\n",
        "            {3.0} <music21.note.Note E>\n",
        "            {3.25} <music21.note.Note D>\n",
        "            {3.5} <music21.note.Note C>\n",
        "            {3.75} <music21.note.Note B>\n",
        "{97.375} <music21.layout.System 359240928>\n",
        "    {0.0} <music21.layout.Staff Part_1>\n",
        "        {0.0} <music21.instrument.Instrument P1: Part_1: Voice Oohs>\n",
        "        {0.0} <music21.clef.TrebleClef>\n",
        "        {0.0} <music21.meter.TimeSignature 4/4>\n",
        "        {0.0} <music21.stream.Measure 3 offset=0.0>\n",
        "            {0.0} <music21.layout.SystemLayout>\n",
        "            {0.0} <music21.note.Note A>\n",
        "            {0.25} <music21.note.Note C>\n",
        "            {0.5} <music21.note.Note G#>\n",
        "            {0.75} <music21.note.Note A>\n",
        "            {1.0} <music21.note.Note F>\n",
        "            {1.25} <music21.note.Note D>\n",
        "            {1.5} <music21.note.Note G#>\n",
        "            {1.75} <music21.note.Note A>\n",
        "            {2.0} <music21.note.Note E>\n",
        "            {2.25} <music21.note.Note C>\n",
        "            {2.5} <music21.note.Note G#>\n",
        "            {2.75} <music21.note.Note A>\n",
        "            {3.0} <music21.note.Note D>\n",
        "            {3.25} <music21.note.Note C>\n",
        "            {3.5} <music21.note.Note B>\n",
        "            {3.75} <music21.note.Note A>\n",
        "        {4.0} <music21.stream.Measure 4 offset=4.0>\n",
        "            {0.0} <music21.layout.StaffLayout distance None, staffNumber None, staffSize None>\n",
        "            {0.0} <music21.layout.SystemLayout>\n",
        "            {0.0} <music21.note.Note G#>\n",
        "            {0.25} <music21.note.Note E>\n",
        "            {0.5} <music21.note.Note G#>\n",
        "            {0.75} <music21.note.Note B>\n",
        "            {1.0} <music21.note.Note E>\n",
        "            {1.25} <music21.note.Note G#>\n",
        "            {1.5} <music21.note.Note B>\n",
        "            {1.75} <music21.note.Note D>\n",
        "            {1.875} <music21.note.Note F>\n",
        "            {2.125} <music21.note.Note D>\n",
        "            {2.25} <music21.note.Note B>\n",
        "            {2.5} <music21.note.Note G#>\n",
        "            {2.75} <music21.note.Note E>\n",
        "            {3.0} <music21.note.Note D>\n",
        "            {3.25} <music21.note.Note C>\n",
        "            {3.5} <music21.note.Note B>\n",
        "{105.125} <music21.layout.System 359240928>\n",
        "    {0.0} <music21.layout.Staff Part_1>\n",
        "        {0.0} <music21.instrument.Instrument P1: Part_1: Voice Oohs>\n",
        "        {0.0} <music21.clef.TrebleClef>\n",
        "        {0.0} <music21.meter.TimeSignature 4/4>\n",
        "        {0.0} <music21.stream.Measure 5 offset=0.0>\n",
        "            {0.0} <music21.layout.SystemLayout>\n",
        "            {0.0} <music21.note.Note C>\n",
        "            {0.25} <music21.note.Note A>\n",
        "            {0.5} <music21.note.Note C>\n",
        "            {0.75} <music21.note.Note E>\n",
        "            {1.0} <music21.note.Note A>\n",
        "            {1.25} <music21.note.Note C>\n",
        "            {1.375} <music21.note.Note E>\n",
        "            {1.4375} <music21.note.Note F>\n",
        "            {1.6875} <music21.note.Note G>\n",
        "            {1.9375} <music21.note.Note B->\n",
        "            {2.1875} <music21.note.Note G>\n",
        "            {2.4375} <music21.note.Note E>\n",
        "            {2.6875} <music21.note.Note C>\n",
        "            {2.9375} <music21.note.Note B->\n",
        "            {3.1875} <music21.note.Note A>\n",
        "            {3.4375} <music21.note.Note G>\n",
        "        {3.6875} <music21.stream.Measure 6 offset=3.6875>\n",
        "            {0.0} <music21.layout.StaffLayout distance None, staffNumber None, staffSize None>\n",
        "            {0.0} <music21.layout.SystemLayout>\n",
        "            {0.0} <music21.note.Note A>\n",
        "            {0.25} <music21.note.Note F>\n",
        "            {0.5} <music21.note.Note A>\n",
        "            {0.75} <music21.note.Note C>\n",
        "            {1.0} <music21.note.Note D>\n",
        "            {1.25} <music21.note.Note F>\n",
        "            {1.5} <music21.note.Note A>\n",
        "            {1.75} <music21.note.Note C>\n",
        "            {2.0} <music21.note.Note B>\n",
        "            {2.25} <music21.note.Note G>\n",
        "            {2.5} <music21.note.Note B>\n",
        "            {2.75} <music21.note.Note D>\n",
        "            {3.0} <music21.note.Note E>\n",
        "            {3.25} <music21.note.Note G>\n",
        "            {3.5} <music21.note.Note B>\n",
        "            {3.75} <music21.note.Note D>\n",
        "{112.8125} <music21.layout.System 359240928>\n",
        "    {0.0} <music21.layout.Staff Part_1>\n",
        "        {0.0} <music21.instrument.Instrument P1: Part_1: Voice Oohs>\n",
        "        {0.0} <music21.clef.TrebleClef>\n",
        "        {0.0} <music21.meter.TimeSignature 4/4>\n",
        "        {0.0} <music21.stream.Measure 7 offset=0.0>\n",
        "            {0.0} <music21.layout.SystemLayout>\n",
        "            {0.0} <music21.note.Note C>\n",
        "            {0.25} <music21.note.Note A>\n",
        "            {0.5} <music21.note.Note C>\n",
        "            {0.75} <music21.note.Note E>\n",
        "            {1.0} <music21.note.Note F>\n",
        "            {1.25} <music21.note.Note A>\n",
        "            {1.5} <music21.note.Note C>\n",
        "            {1.75} <music21.note.Note E>\n",
        "            {2.0} <music21.note.Note D>\n",
        "            {2.25} <music21.note.Note B>\n",
        "            {2.5} <music21.note.Note D>\n",
        "            {2.75} <music21.note.Note F#>\n",
        "            {3.0} <music21.note.Note G>\n",
        "            {3.25} <music21.note.Note B>\n",
        "            {3.5} <music21.note.Note D>\n",
        "            {3.75} <music21.note.Note F>\n",
        "        {4.0} <music21.stream.Measure 8 offset=4.0>\n",
        "            {0.0} <music21.layout.StaffLayout distance None, staffNumber None, staffSize None>\n",
        "            {0.0} <music21.layout.SystemLayout>\n",
        "            {0.0} <music21.note.Note E>\n",
        "            {0.25} <music21.note.Note G>\n",
        "            {0.5} <music21.note.Note C>\n",
        "            {0.625} <music21.note.Note B>\n",
        "            {0.875} <music21.note.Note C>\n",
        "            {1.0} <music21.note.Note E>\n",
        "            {1.125} <music21.note.Note C>\n",
        "            {1.25} <music21.note.Note G>\n",
        "            {1.5} <music21.note.Note C>\n",
        "            {1.75} <music21.note.Note G>\n",
        "            {2.0} <music21.note.Note C>\n",
        "            {2.125} <music21.note.Note B>\n",
        "            {2.375} <music21.note.Note C>\n",
        "            {2.5} <music21.note.Note E>\n",
        "            {2.625} <music21.note.Note C>\n",
        "            {2.75} <music21.note.Note G>\n",
        "{119.8125} <music21.layout.System 359240928>\n",
        "    {0.0} <music21.layout.Staff Part_1>\n",
        "        {0.0} <music21.instrument.Instrument P1: Part_1: Voice Oohs>\n",
        "        {0.0} <music21.clef.TrebleClef>\n",
        "        {0.0} <music21.meter.TimeSignature 4/4>\n",
        "        {0.0} <music21.stream.Measure 9 offset=0.0>\n",
        "            {0.0} <music21.layout.SystemLayout>\n",
        "            {0.0} <music21.note.Note C>\n",
        "            {0.25} <music21.note.Note G>\n",
        "            {0.5} <music21.note.Note B->\n",
        "            {0.75} <music21.note.Note A>\n",
        "            {1.0} <music21.note.Note B->\n",
        "            {1.25} <music21.note.Note E>\n",
        "            {1.375} <music21.note.Note B->\n",
        "            {1.625} <music21.note.Note G>\n",
        "            {1.875} <music21.note.Note C>\n",
        "            {2.125} <music21.note.Note G>\n",
        "            {2.375} <music21.note.Note B->\n",
        "            {2.625} <music21.note.Note A>\n",
        "            {2.875} <music21.note.Note B->\n",
        "            {3.125} <music21.note.Note E>\n",
        "            {3.25} <music21.note.Note B->\n",
        "            {3.5} <music21.note.Note G>\n",
        "        {3.75} <music21.stream.Measure 10 offset=3.75>\n",
        "            {0.0} <music21.layout.StaffLayout distance None, staffNumber None, staffSize None>\n",
        "            {0.0} <music21.layout.SystemLayout>\n",
        "            {0.0} <music21.note.Rest rest>\n",
        "            {0.5} <music21.note.Note G>\n",
        "            {0.75} <music21.note.Note B->\n",
        "            {1.0} <music21.note.Note A>\n",
        "            {1.25} <music21.note.Note B->\n",
        "            {1.5} <music21.note.Note E>\n",
        "            {1.5625} <music21.note.Note B->\n",
        "            {1.8125} <music21.note.Note G>\n",
        "            {2.0625} <music21.note.Note C>\n",
        "            {2.3125} <music21.note.Note G>\n",
        "            {2.5625} <music21.note.Note E>\n",
        "            {2.8125} <music21.note.Note C>\n",
        "            {3.0625} <music21.note.Note A>\n",
        "            {3.3125} <music21.note.Note G>\n",
        "            {3.5625} <music21.note.Note F>\n",
        "            {3.8125} <music21.note.Note E>\n",
        "{127.625} <music21.layout.System 359240928>\n",
        "    {0.0} <music21.layout.Staff Part_1>\n",
        "        {0.0} <music21.instrument.Instrument P1: Part_1: Voice Oohs>\n",
        "        {0.0} <music21.clef.TrebleClef>\n",
        "        {0.0} <music21.meter.TimeSignature 4/4>\n",
        "        {0.0} <music21.stream.Measure 11 offset=0.0>\n",
        "            {0.0} <music21.layout.SystemLayout>\n",
        "            {0.0} <music21.note.Note D>\n",
        "            {0.25} <music21.note.Note G>\n",
        "            {0.5} <music21.note.Note F>\n",
        "            {0.75} <music21.note.Note E>\n",
        "            {1.0} <music21.note.Note F>\n",
        "            {1.25} <music21.note.Note A>\n",
        "            {1.5} <music21.note.Note F>\n",
        "            {1.75} <music21.note.Note D>\n",
        "            {2.0} <music21.note.Note B>\n",
        "            {2.25} <music21.note.Note G#>\n",
        "            {2.5} <music21.note.Note B>\n",
        "            {2.75} <music21.note.Note D>\n",
        "            {3.0} <music21.note.Note E>\n",
        "            {3.25} <music21.note.Note D>\n",
        "            {3.5} <music21.note.Note C>\n",
        "            {3.75} <music21.note.Note B>\n",
        "        {4.0} <music21.stream.Measure 12 offset=4.0>\n",
        "            {0.0} <music21.layout.StaffLayout distance None, staffNumber None, staffSize None>\n",
        "            {0.0} <music21.layout.SystemLayout>\n",
        "            {0.0} <music21.note.Note C>\n",
        "            {0.25} <music21.note.Note E>\n",
        "            {0.5} <music21.note.Note A>\n",
        "            {0.75} <music21.note.Note G#>\n",
        "            {1.0} <music21.note.Note A>\n",
        "            {1.25} <music21.note.Note C>\n",
        "            {1.375} <music21.note.Note A>\n",
        "            {1.625} <music21.note.Note F#>\n",
        "            {1.875} <music21.note.Note D#>\n",
        "            {2.125} <music21.note.Note B>\n",
        "            {2.375} <music21.note.Note D#>\n",
        "            {2.625} <music21.note.Note F#>\n",
        "            {2.875} <music21.note.Note B>\n",
        "            {3.125} <music21.note.Note A>\n",
        "            {3.375} <music21.note.Note G>\n",
        "            {3.625} <music21.note.Note F#>\n",
        "{135.5} <music21.layout.System 359240928>\n",
        "    {0.0} <music21.layout.Staff Part_1>\n",
        "        {0.0} <music21.instrument.Instrument P1: Part_1: Voice Oohs>\n",
        "        {0.0} <music21.clef.TrebleClef>\n",
        "        {0.0} <music21.meter.TimeSignature 4/4>\n",
        "        {0.0} <music21.stream.Measure 13 offset=0.0>\n",
        "            {0.0} <music21.layout.SystemLayout>\n",
        "            {0.0} <music21.note.Note G>\n",
        "            {0.25} <music21.note.Note F#>\n",
        "            {0.5} <music21.note.Note E>\n",
        "            {0.75} <music21.note.Note G>\n",
        "            {1.0} <music21.note.Note A>\n",
        "            {1.25} <music21.note.Note E>\n",
        "            {1.5} <music21.note.Note G>\n",
        "            {1.75} <music21.note.Note C>\n",
        "            {1.875} <music21.note.Note F>\n",
        "            {2.125} <music21.note.Note E>\n",
        "            {2.375} <music21.note.Note D>\n",
        "            {2.625} <music21.note.Note F>\n",
        "            {2.875} <music21.note.Note G>\n",
        "            {3.125} <music21.note.Note D>\n",
        "            {3.375} <music21.note.Note F>\n",
        "            {3.625} <music21.note.Note B>\n",
        "        {3.875} <music21.stream.Measure 14 offset=3.875>\n",
        "            {0.0} <music21.layout.StaffLayout distance None, staffNumber None, staffSize None>\n",
        "            {0.0} <music21.layout.SystemLayout>\n",
        "            {0.0} <music21.note.Note E>\n",
        "            {0.25} <music21.note.Note D>\n",
        "            {0.5} <music21.note.Note C>\n",
        "            {0.75} <music21.note.Note E>\n",
        "            {1.0} <music21.note.Note F#>\n",
        "            {1.25} <music21.note.Note E>\n",
        "            {1.5} <music21.note.Note F#>\n",
        "            {1.75} <music21.note.Note A>\n",
        "            {2.0} <music21.note.Note D#>\n",
        "            {2.25} <music21.note.Note B>\n",
        "            {2.5} <music21.note.Note C>\n",
        "            {2.75} <music21.note.Note A>\n",
        "            {3.0} <music21.note.Note D#>\n",
        "            {3.25} <music21.note.Note C>\n",
        "            {3.5} <music21.note.Note B>\n",
        "            {3.75} <music21.note.Note A>\n",
        "{143.375} <music21.layout.System 359240928>\n",
        "    {0.0} <music21.layout.Staff Part_1>\n",
        "        {0.0} <music21.instrument.Instrument P1: Part_1: Voice Oohs>\n",
        "        {0.0} <music21.clef.TrebleClef>\n",
        "        {0.0} <music21.meter.TimeSignature 4/4>\n",
        "        {0.0} <music21.stream.Measure 15 offset=0.0>\n",
        "            {0.0} <music21.layout.SystemLayout>\n",
        "            {0.0} <music21.note.Note G>\n",
        "            {0.25} <music21.note.Note E>\n",
        "            {0.5} <music21.note.Note F>\n",
        "            {0.75} <music21.note.Note D>\n",
        "            {1.0} <music21.note.Note G#>\n",
        "            {1.25} <music21.note.Note F>\n",
        "            {1.5} <music21.note.Note E>\n",
        "            {1.75} <music21.note.Note D>\n",
        "            {2.0} <music21.note.Note A>\n",
        "            {2.25} <music21.note.Note F#>\n",
        "            {2.5} <music21.note.Note G#>\n",
        "            {2.75} <music21.note.Note E>\n",
        "            {3.0} <music21.note.Note A#>\n",
        "            {3.25} <music21.note.Note G#>\n",
        "            {3.5} <music21.note.Note F#>\n",
        "            {3.75} <music21.note.Note E>\n",
        "        {4.0} <music21.stream.Measure 16 offset=4.0>\n",
        "            {0.0} <music21.layout.StaffLayout distance None, staffNumber None, staffSize None>\n",
        "            {0.0} <music21.layout.SystemLayout>\n",
        "            {0.0} <music21.note.Note D#>\n",
        "            {0.25} <music21.note.Note B>\n",
        "            {0.5} <music21.note.Note G#>\n",
        "            {0.75} <music21.note.Note D>\n",
        "            {1.0} <music21.note.Note C#>\n",
        "            {1.25} <music21.note.Note A>\n",
        "            {1.5} <music21.note.Note F#>\n",
        "            {1.75} <music21.note.Note C>\n",
        "            {2.0} <music21.note.Note B>\n",
        "            {2.25} <music21.note.Note G>\n",
        "            {2.5} <music21.note.Note E>\n",
        "            {2.75} <music21.note.Note B->\n",
        "            {3.0} <music21.note.Note A>\n",
        "            {3.25} <music21.note.Note F#>\n",
        "            {3.5} <music21.note.Note D#>\n",
        "            {3.75} <music21.note.Note A>\n",
        "{151.375} <music21.layout.System 359240928>\n",
        "    {0.0} <music21.layout.Staff Part_1>\n",
        "        {0.0} <music21.instrument.Instrument P1: Part_1: Voice Oohs>\n",
        "        {0.0} <music21.clef.TrebleClef>\n",
        "        {0.0} <music21.meter.TimeSignature 4/4>\n",
        "        {0.0} <music21.stream.Measure 17 offset=0.0>\n",
        "            {0.0} <music21.layout.SystemLayout>\n",
        "            {0.0} <music21.note.Note G>\n",
        "            {0.25} <music21.note.Note E>\n",
        "            {0.5} <music21.note.Note C>\n",
        "            {0.75} <music21.note.Note A>\n",
        "            {1.0} <music21.note.Note F#>\n",
        "            {1.25} <music21.note.Note C>\n",
        "            {1.5} <music21.note.Note A>\n",
        "            {1.75} <music21.note.Note F#>\n",
        "            {2.0} <music21.note.Note D#>\n",
        "            {2.25} <music21.note.Note F#>\n",
        "            {2.5} <music21.note.Note A>\n",
        "            {2.75} <music21.note.Note D#>\n",
        "            {3.0} <music21.note.Note B>\n",
        "            {3.25} <music21.note.Note A>\n",
        "            {3.5} <music21.note.Note G>\n",
        "            {3.75} <music21.note.Note F#>\n",
        "        {4.0} <music21.stream.Measure 18 offset=4.0>\n",
        "            {0.0} <music21.layout.StaffLayout distance None, staffNumber None, staffSize None>\n",
        "            {0.0} <music21.layout.SystemLayout>\n",
        "            {0.0} <music21.note.Note G>\n",
        "            {0.25} <music21.note.Note F#>\n",
        "            {0.375} <music21.note.Note E>\n",
        "            {0.5} <music21.note.Note B>\n",
        "            {0.75} <music21.note.Note C>\n",
        "            {0.875} <music21.note.Note F#>\n",
        "            {1.625} <music21.note.Note E>\n",
        "            {1.875} <music21.note.Note E>\n",
        "            {3.875} <music21.bar.Repeat direction=end>\n",
        "{159.25} <music21.layout.System 359240928>\n",
        "    {0.0} <music21.layout.Staff Part_1>\n",
        "        {0.0} <music21.instrument.Instrument P1: Part_1: Voice Oohs>\n",
        "        {0.0} <music21.clef.TrebleClef>\n",
        "        {0.0} <music21.meter.TimeSignature 4/4>\n",
        "        {0.0} <music21.stream.Measure 19 offset=0.0>\n",
        "            {0.0} <music21.layout.SystemLayout>\n",
        "            {0.0} <music21.bar.Barline style=final>\n",
        "            {0.0} <music21.note.Note G>\n",
        "            {0.25} <music21.note.Note F#>\n",
        "            {0.375} <music21.note.Note E>\n",
        "            {0.5} <music21.note.Note B>\n",
        "            {0.75} <music21.note.Note C>\n",
        "            {0.875} <music21.note.Note F#>\n",
        "            {1.625} <music21.note.Note E>\n",
        "            {1.875} <music21.note.Note E>\n",
        "            {2.125} <music21.note.Note B>\n",
        "            {2.375} <music21.note.Note C>\n",
        "            {2.625} <music21.note.Note A>\n",
        "            {2.875} <music21.note.Note B>\n",
        "            {3.125} <music21.note.Note G>\n",
        "            {3.375} <music21.note.Note A>\n",
        "            {3.625} <music21.note.Note B>\n",
        "            {3.875} <music21.bar.Barline style=heavy-light>\n",
        "        {3.875} <music21.stream.Measure 20 offset=3.875>\n",
        "            {0.0} <music21.layout.SystemLayout>\n",
        "            {0.0} <music21.bar.Repeat direction=start>\n",
        "            {0.0} <music21.note.Note E>\n",
        "            {0.25} <music21.note.Note B>\n",
        "            {0.5} <music21.note.Note E>\n",
        "            {0.75} <music21.note.Note D#>\n",
        "            {1.0} <music21.note.Note E>\n",
        "            {1.25} <music21.note.Note G>\n",
        "            {1.5} <music21.note.Note E>\n",
        "            {1.75} <music21.note.Note B>\n",
        "            {2.0} <music21.note.Note F#>\n",
        "            {2.25} <music21.note.Note B>\n",
        "            {2.5} <music21.note.Note E>\n",
        "            {2.75} <music21.note.Note D#>\n",
        "            {3.0} <music21.note.Note E>\n",
        "            {3.25} <music21.note.Note G>\n",
        "            {3.5} <music21.note.Note E>\n",
        "            {3.75} <music21.note.Note B>\n",
        "        {7.875} <music21.stream.Measure 21 offset=7.875>\n",
        "            {0.0} <music21.layout.StaffLayout distance None, staffNumber None, staffSize None>\n",
        "            {0.0} <music21.layout.SystemLayout>\n",
        "            {0.0} <music21.note.Note E>\n",
        "            {0.25} <music21.note.Note G>\n",
        "            {0.5} <music21.note.Note B>\n",
        "            {0.75} <music21.note.Note C>\n",
        "            {1.0} <music21.note.Note D#>\n",
        "            {1.25} <music21.note.Note C>\n",
        "            {1.5} <music21.note.Note B>\n",
        "            {1.75} <music21.note.Note A>\n",
        "            {2.0} <music21.note.Note G>\n",
        "            {2.25} <music21.note.Note B>\n",
        "            {2.5} <music21.note.Note D#>\n",
        "            {2.75} <music21.note.Note E>\n",
        "            {3.0} <music21.note.Note B>\n",
        "            {3.25} <music21.note.Note A>\n",
        "            {3.5} <music21.note.Note G>\n",
        "            {3.75} <music21.note.Note F#>\n",
        "        {11.875} <music21.stream.Measure 22 offset=11.875>\n",
        "            {0.0} <music21.layout.SystemLayout>\n",
        "            {0.0} <music21.note.Note E>\n",
        "            {0.25} <music21.note.Note G>\n",
        "            {0.5} <music21.note.Note B>\n",
        "            {0.75} <music21.note.Note C>\n",
        "            {1.0} <music21.note.Note D#>\n",
        "            {1.25} <music21.note.Note C>\n",
        "            {1.5} <music21.note.Note B>\n",
        "            {1.75} <music21.note.Note A>\n",
        "            {2.0} <music21.note.Note G>\n",
        "            {2.25} <music21.note.Note B>\n",
        "            {2.5} <music21.note.Note D#>\n",
        "            {2.75} <music21.note.Note E>\n",
        "            {3.0} <music21.note.Note B>\n",
        "            {3.25} <music21.note.Note A>\n",
        "            {3.5} <music21.note.Note G>\n",
        "            {3.75} <music21.note.Note F#>\n",
        "        {15.875} <music21.stream.Measure 23 offset=15.875>\n",
        "            {0.0} <music21.layout.StaffLayout distance None, staffNumber None, staffSize None>\n",
        "            {0.0} <music21.layout.SystemLayout>\n",
        "            {0.0} <music21.note.Note E>\n",
        "            {0.25} <music21.note.Note G>\n",
        "            {0.5} <music21.note.Note D#>\n",
        "            {0.75} <music21.note.Note E>\n",
        "            {1.0} <music21.note.Note B>\n",
        "            {1.25} <music21.note.Note G#>\n",
        "            {1.5} <music21.note.Note E>\n",
        "            {1.75} <music21.note.Note C>\n",
        "            {2.0} <music21.note.Note A>\n",
        "            {2.25} <music21.note.Note D#>\n",
        "            {2.5} <music21.note.Note E>\n",
        "            {2.75} <music21.note.Note G#>\n",
        "            {3.0} <music21.note.Note F>\n",
        "            {3.25} <music21.note.Note E>\n",
        "            {3.5} <music21.note.Note D>\n",
        "        {19.625} <music21.stream.Measure 24 offset=19.625>\n",
        "            {0.0} <music21.layout.SystemLayout>\n",
        "            {0.0} <music21.note.Note A>\n",
        "            {0.25} <music21.note.Note C>\n",
        "            {0.5} <music21.note.Note G#>\n",
        "            {0.75} <music21.note.Note A>\n",
        "            {1.0} <music21.note.Note D>\n",
        "            {1.25} <music21.note.Note C#>\n",
        "            {1.5} <music21.note.Note A>\n",
        "            {1.625} <music21.note.Note F>\n",
        "            {1.875} <music21.note.Note D>\n",
        "            {2.125} <music21.note.Note G#>\n",
        "            {2.375} <music21.note.Note A>\n",
        "            {2.625} <music21.note.Note C>\n",
        "            {2.875} <music21.note.Note B->\n",
        "            {3.125} <music21.note.Note A>\n",
        "            {3.375} <music21.note.Note G#>\n"
       ]
      }
     ],
     "prompt_number": 42
    },
    {
     "cell_type": "code",
     "collapsed": false,
     "input": [
      "# ConverterMidi.write(obj, fmt, fp=None, subformats=None, **keywords)\n",
      "midiConverter = ConverterMidi()\n",
      "\n",
      "# currently the music21 interface only supports a string-based interface\n",
      "# it should be considered to extend this interface to accept IO-streams\n",
      "midiConverter.write(score_object_page1, \"midi\", fp=\"D:/test/bach.mid\");"
     ],
     "language": "python",
     "metadata": {},
     "outputs": [],
     "prompt_number": 26
    },
    {
     "cell_type": "code",
     "collapsed": false,
     "input": [],
     "language": "python",
     "metadata": {},
     "outputs": []
    }
   ],
   "metadata": {}
  }
 ]
}