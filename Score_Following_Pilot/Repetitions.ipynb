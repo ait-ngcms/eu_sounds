{
 "metadata": {
  "name": "",
  "signature": "sha256:06c3991920bd2d6a0b36bfa079be1caec7e5c46c91417472fc8990245a85118e"
 },
 "nbformat": 3,
 "nbformat_minor": 0,
 "worksheets": [
  {
   "cells": [
    {
     "cell_type": "code",
     "collapsed": false,
     "input": [
      "import music21\n",
      "from copy import deepcopy\n",
      "from music21 import corpus, repeat, search"
     ],
     "language": "python",
     "metadata": {},
     "outputs": [],
     "prompt_number": 9
    },
    {
     "cell_type": "code",
     "collapsed": false,
     "input": [
      "chorale1 = corpus.parse('bwv10.7.mxl')\n",
      "s = deepcopy(chorale1)\n",
      "repeat.deleteMeasures(s, [6, 3, 4], inPlace=True)\n",
      "m2 = search.translateStreamToString( chorale1.parts[1].measure(2).notesAndRests)\n",
      "resm2 = search.translateStreamToString( s.parts[1].measure(2).notesAndRests)\n",
      "m2 == resm2"
     ],
     "language": "python",
     "metadata": {},
     "outputs": [
      {
       "metadata": {},
       "output_type": "pyout",
       "prompt_number": 10,
       "text": [
        "True"
       ]
      }
     ],
     "prompt_number": 10
    },
    {
     "cell_type": "code",
     "collapsed": false,
     "input": [
      "s"
     ],
     "language": "python",
     "metadata": {},
     "outputs": [
      {
       "metadata": {},
       "output_type": "pyout",
       "prompt_number": 11,
       "text": [
        "<music21.stream.Score 324078840>"
       ]
      }
     ],
     "prompt_number": 11
    },
    {
     "cell_type": "code",
     "collapsed": false,
     "input": [
      "chorale1 = corpus.parse('bwv10.7.mxl')\n",
      "s = repeat.insertRepeat(chorale1, 3, 6, inPlace=False)"
     ],
     "language": "python",
     "metadata": {},
     "outputs": [],
     "prompt_number": 12
    },
    {
     "cell_type": "code",
     "collapsed": false,
     "input": [
      "s"
     ],
     "language": "python",
     "metadata": {},
     "outputs": [
      {
       "metadata": {},
       "output_type": "pyout",
       "prompt_number": 13,
       "text": [
        "<music21.stream.Score 324078840>"
       ]
      }
     ],
     "prompt_number": 13
    },
    {
     "cell_type": "code",
     "collapsed": false,
     "input": [
      ">>> m4 = search.translateStreamToString( chorale1.parts[1].measure(4).notesAndRests)\n",
      ">>> resm4 = search.translateStreamToString( s.parts[1].measure(4).notesAndRests)\n",
      ">>> m6 = search.translateStreamToString( chorale1.parts[1].measure(4).notesAndRests)\n",
      ">>> resm6 = search.translateStreamToString( s.parts[1].measure(4).notesAndRests)\n",
      ">>> m7 = search.translateStreamToString( chorale1.parts[1].measure(4).notesAndRests)\n",
      ">>> resm7 = search.translateStreamToString( s.parts[1].measure(4).notesAndRests)"
     ],
     "language": "python",
     "metadata": {},
     "outputs": []
    }
   ],
   "metadata": {}
  }
 ]
}