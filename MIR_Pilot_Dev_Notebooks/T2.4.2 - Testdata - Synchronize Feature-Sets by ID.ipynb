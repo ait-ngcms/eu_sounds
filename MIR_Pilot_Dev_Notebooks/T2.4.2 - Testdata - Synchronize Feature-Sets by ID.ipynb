{
 "cells": [
  {
   "cell_type": "code",
   "execution_count": 1,
   "metadata": {
    "collapsed": true
   },
   "outputs": [],
   "source": [
    "import numpy as np\n",
    "np.set_printoptions(suppress=True)\n",
    "import pandas as pd"
   ]
  },
  {
   "cell_type": "markdown",
   "metadata": {},
   "source": [
    "#### Load Metadata"
   ]
  },
  {
   "cell_type": "code",
   "execution_count": 2,
   "metadata": {
    "collapsed": true
   },
   "outputs": [],
   "source": [
    "metadata  = pd.read_csv(\"//s3store1/fssim1208/Projects/EU EU Sounds/MIR/europeana_allsound.csv\", engine=\"python\", sep=\"\\\\t\")"
   ]
  },
  {
   "cell_type": "markdown",
   "metadata": {},
   "source": [
    "#### Load Rhythm Patterns Feature-Set"
   ]
  },
  {
   "cell_type": "code",
   "execution_count": 3,
   "metadata": {
    "collapsed": true
   },
   "outputs": [],
   "source": [
    "# open pickle\n",
    "npz1 = np.load(\"E:/Data/MIR/EU_SOUNDS_FEATURES/combined_features.npz\")\n",
    "\n",
    "# read and pre-process filenames\n",
    "filenames_rp = [f.replace(\"\\\\\",\"/\").replace(\"E:/Data/MIR/EU_SOUNDS_FEATURES\",\"\").replace(\".mp3.npz\",\"\") for f in npz1[\"filenames\"]]\n",
    "\n",
    "# create DataFrame\n",
    "df_filenames_rp = pd.DataFrame({\"index\":range(len(filenames_rp))}, index=filenames_rp)\n",
    "\n",
    "# join with metadata\n",
    "metadata  = metadata.join(df_filenames_rp, how=\"inner\")\n",
    "\n",
    "npz1.close()"
   ]
  },
  {
   "cell_type": "markdown",
   "metadata": {},
   "source": [
    "#### join with aggregated Europeana Metadata"
   ]
  },
  {
   "cell_type": "code",
   "execution_count": 4,
   "metadata": {
    "collapsed": true
   },
   "outputs": [],
   "source": [
    "metadata = metadata.join(pd.read_pickle(\"E:/Data/MIR/EU_SOUNDS_FEATURES/aggregated_metadata.p\"), how=\"inner\")"
   ]
  },
  {
   "cell_type": "markdown",
   "metadata": {},
   "source": [
    "#### Load Librosa Feature-Set"
   ]
  },
  {
   "cell_type": "code",
   "execution_count": 5,
   "metadata": {
    "collapsed": true
   },
   "outputs": [],
   "source": [
    "# open pickle\n",
    "npz3 = np.load(\"E:/Data/MIR/EU_SOUNDS_FEATURES/combined_librosa_features.npz\")\n",
    "\n",
    "# read and pre-process filenames\n",
    "filenames_lr = [f.replace(\"\\\\\",\"/\").replace(\"E:/Data/MIR/EU_SOUNDS_FEATURES_LIBROSA\",\"\").replace(\".mp3.npz\",\"\") for f in npz3[\"filenames\"]]\n",
    "\n",
    "# create DataFrame\n",
    "df_filenames_lr = pd.DataFrame({\"index_librosa\":range(len(filenames_lr))}, index=filenames_lr)\n",
    "\n",
    "# join with metadata\n",
    "metadata  = metadata.join(df_filenames_lr, how=\"inner\")\n",
    "\n",
    "npz3.close()"
   ]
  },
  {
   "cell_type": "markdown",
   "metadata": {},
   "source": [
    "#### store combined Metadata"
   ]
  },
  {
   "cell_type": "code",
   "execution_count": 6,
   "metadata": {
    "collapsed": true
   },
   "outputs": [],
   "source": [
    "metadata.to_pickle(\"E:/Data/MIR/EU_SOUNDS_FEATURES/combined_metadata.p\")"
   ]
  }
 ],
 "metadata": {
  "kernelspec": {
   "display_name": "Python 2",
   "language": "python",
   "name": "python2"
  },
  "language_info": {
   "codemirror_mode": {
    "name": "ipython",
    "version": 2
   },
   "file_extension": ".py",
   "mimetype": "text/x-python",
   "name": "python",
   "nbconvert_exporter": "python",
   "pygments_lexer": "ipython2",
   "version": "2.7.9"
  }
 },
 "nbformat": 4,
 "nbformat_minor": 0
}
