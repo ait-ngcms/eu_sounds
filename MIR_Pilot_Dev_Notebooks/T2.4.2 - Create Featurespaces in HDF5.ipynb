{
 "cells": [
  {
   "cell_type": "code",
   "execution_count": 1,
   "metadata": {
    "collapsed": true
   },
   "outputs": [],
   "source": [
    "import os\n",
    "import glob\n",
    "\n",
    "import numpy as np\n",
    "import pandas as pd"
   ]
  },
  {
   "cell_type": "code",
   "execution_count": 2,
   "metadata": {
    "collapsed": true
   },
   "outputs": [],
   "source": [
    "FEATURE_DIR   = \"E:/Data/MIR/EU_SOUNDS_FEATURES_LIBROSA\""
   ]
  },
  {
   "cell_type": "code",
   "execution_count": 3,
   "metadata": {
    "collapsed": true
   },
   "outputs": [],
   "source": [
    "librosa_feature_sets = ['spectral_bandwidth',\n",
    "                        'rmse',\n",
    "                        'spectral_rolloff',\n",
    "                        'mfcc',\n",
    "                        'chroma',\n",
    "                        'spectral_contrast',\n",
    "                        'tonnetz',\n",
    "                        'spectral_centroid',\n",
    "                        'zero_crossing_rate']\n",
    "\n",
    "librosa_all_features = []\n",
    "librosa_all_features.extend(librosa_feature_sets)\n",
    "librosa_all_features.append(\"bpm\")"
   ]
  },
  {
   "cell_type": "code",
   "execution_count": 4,
   "metadata": {
    "collapsed": false,
    "scrolled": true
   },
   "outputs": [
    {
     "name": "stdout",
     "output_type": "stream",
     "text": [
      "10000\n",
      "20000\n",
      "30000\n",
      "*** E:/Data/MIR/EU_SOUNDS_FEATURES_LIBROSA/2023601\\oai_eu_dismarc_ARTL_USA560624897.mp3.npz 'spectral_bandwidth is not a file in the archive'\n",
      "40000\n",
      "*** E:/Data/MIR/EU_SOUNDS_FEATURES_LIBROSA/2023601\\oai_eu_dismarc_AVEN_USA370502121.mp3.npz File is not a zip file\n",
      "50000\n",
      "60000\n",
      "70000\n",
      "80000\n",
      "90000\n",
      "100000\n",
      "110000\n",
      "120000\n",
      "130000\n",
      "140000\n",
      "150000\n",
      "160000\n",
      "170000\n",
      "180000\n",
      "190000\n",
      "200000\n",
      "210000\n",
      "220000\n",
      "230000\n",
      "240000\n",
      "250000\n",
      "260000\n",
      "270000\n",
      "280000\n",
      "290000\n",
      "300000\n",
      "310000\n",
      "320000"
     ]
    },
    {
     "name": "stderr",
     "output_type": "stream",
     "text": [
      "c:\\python_27\\lib\\site-packages\\ipykernel\\__main__.py:25: DeprecationWarning: axis != 0 for ndim == 1; this will raise an error in future versions of numpy\n",
      "Exception "
     ]
    },
    {
     "name": "stdout",
     "output_type": "stream",
     "text": [
      "\n",
      "aggregated 323667 files\n"
     ]
    },
    {
     "name": "stderr",
     "output_type": "stream",
     "text": [
      "AttributeError: \"'NpzFile' object has no attribute 'zip'\" in <bound method NpzFile.__del__ of <numpy.lib.npyio.NpzFile object at 0x00000000042BDDD8>> ignored\n"
     ]
    }
   ],
   "source": [
    "i = 1\n",
    "\n",
    "data = {}\n",
    "data[\"filename\"] = []\n",
    "\n",
    "for feat_set in librosa_all_features:\n",
    "    data[feat_set] = []\n",
    "\n",
    "for dir_name in glob.glob(os.path.join(FEATURE_DIR, \"*\")):\n",
    "    \n",
    "    src_path = dir_name.replace(\"\\\\\",\"/\")\n",
    "    \n",
    "    for npz_name in glob.glob(os.path.join(src_path, \"*.npz\")):\n",
    "        \n",
    "        try:\n",
    "            \n",
    "            #print npz_name\n",
    "            \n",
    "            npz = np.load(npz_name.replace(\"\\\\\",\"/\"))\n",
    "            \n",
    "            for feat_set in librosa_feature_sets:\n",
    "                \n",
    "                raw_data = npz[feat_set]                \n",
    "                data[feat_set].append(np.concatenate([raw_data.mean(axis=1).flatten(), \n",
    "                                                      raw_data.std(axis=1).flatten()], axis=1))\n",
    "            \n",
    "            data['bpm'].append(float(npz[\"bpm\"]))\n",
    "            data['filename'].append(npz_name)\n",
    "            \n",
    "            i += 1\n",
    "            \n",
    "            if i % 10000 == 0:\n",
    "                print i\n",
    "            \n",
    "        except Exception as e:\n",
    "            \n",
    "            print \"***\", npz_name, e\n",
    "            i += 1\n",
    "            \n",
    "        finally:\n",
    "            \n",
    "            npz.close()\n",
    "            \n",
    "        #break\n",
    "        \n",
    "        #if i > 1:\n",
    "        #    break\n",
    "            \n",
    "    #if i > 1:\n",
    "    #    break\n",
    "\n",
    "print \"aggregated %d files\" % (i)"
   ]
  },
  {
   "cell_type": "code",
   "execution_count": 6,
   "metadata": {
    "collapsed": false
   },
   "outputs": [],
   "source": [
    "np.savez(\"E:/Data/MIR/EU_SOUNDS_FEATURES/combined_librosa_features_2_test\",\n",
    "         spectral_bandwidth = np.asarray(data['spectral_bandwidth']), \n",
    "         rmse               = np.asarray(data['rmse']), \n",
    "         spectral_rolloff   = np.asarray(data['spectral_rolloff']), \n",
    "         mfcc               = np.asarray(data['mfcc']), \n",
    "         chroma             = np.asarray(data['chroma']), \n",
    "         spectral_contrast  = np.asarray(data['spectral_contrast']),\n",
    "         tonnetz            = np.asarray(data['tonnetz']),\n",
    "         spectral_centroid  = np.asarray(data['spectral_centroid']),\n",
    "         zero_crossing_rate = np.asarray(data['zero_crossing_rate']),\n",
    "         bpm                = np.asarray(data['bpm']),\n",
    "         filenames          = np.asarray(data['filename']))"
   ]
  }
 ],
 "metadata": {
  "kernelspec": {
   "display_name": "Python 2",
   "language": "python",
   "name": "python2"
  },
  "language_info": {
   "codemirror_mode": {
    "name": "ipython",
    "version": 2
   },
   "file_extension": ".py",
   "mimetype": "text/x-python",
   "name": "python",
   "nbconvert_exporter": "python",
   "pygments_lexer": "ipython2",
   "version": "2.7.9"
  }
 },
 "nbformat": 4,
 "nbformat_minor": 0
}
