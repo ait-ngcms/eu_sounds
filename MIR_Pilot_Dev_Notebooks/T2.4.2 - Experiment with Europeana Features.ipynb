{
 "cells": [
  {
   "cell_type": "markdown",
   "metadata": {},
   "source": [
    "# Imports"
   ]
  },
  {
   "cell_type": "code",
   "execution_count": 1,
   "metadata": {
    "collapsed": true
   },
   "outputs": [],
   "source": [
    "%matplotlib inline\n",
    "\n",
    "import matplotlib.pylab as plt\n",
    "\n",
    "import numpy as np\n",
    "np.set_printoptions(suppress=True)\n",
    "\n",
    "import pandas as pd\n",
    "\n",
    "from IPython.display import display, HTML\n",
    "\n",
    "from sklearn.neighbors import NearestNeighbors\n",
    "from sklearn.decomposition import PCA"
   ]
  },
  {
   "cell_type": "markdown",
   "metadata": {},
   "source": [
    "## Distance Measures"
   ]
  },
  {
   "cell_type": "code",
   "execution_count": 2,
   "metadata": {
    "collapsed": true
   },
   "outputs": [],
   "source": [
    "def expand_query_space(p,q):\n",
    "    \n",
    "    query_space = np.zeros(tuple(p.shape))\n",
    "    query_space[:,:] = q\n",
    "    \n",
    "    return query_space"
   ]
  },
  {
   "cell_type": "code",
   "execution_count": 3,
   "metadata": {
    "collapsed": false
   },
   "outputs": [],
   "source": [
    "distance_measures= {}\n",
    "\n",
    "distance_measures[\"l1\"] = lambda data, i : \\\n",
    "    np.sum(abs(data - data[i,:]), axis=1)\n",
    "\n",
    "distance_measures[\"canberra\"] = lambda data, i : \\\n",
    "    np.nansum(abs(data - data[i,:]) / (abs(data) + abs(data[i,:])), axis=1)\n",
    "\n",
    "distance_measures[\"wave_hedges\"] = lambda data, i : \\\n",
    "    np.sum( np.abs(data - data[i,:]) / np.max([data, expand_query_space(data,data[1,:])], axis=0), axis=1)\n",
    "    \n",
    "distance_measures[\"dice\"] = lambda data, i : \\\n",
    "    np.sum( (data - data[i,:])**2, axis=1) / \\\n",
    "    (np.sum( data**2, axis=1) + np.sum( expand_query_space(data,data[1,:])**2, axis=1))\n",
    "    \n",
    "distance_measures[\"braycurtis\"] = lambda data, i : \\\n",
    "    np.abs(data - data[i,:]).sum(axis=1) / np.abs(data + data[i,:]).sum(axis=1)\n",
    "    \n",
    "distance_measures[\"cosine\"] = lambda dat, i : \\\n",
    "    np.abs(1 - np.sum( dat * dat[i,:], axis=1) / \\\n",
    "    (np.sqrt(np.sum( dat**2, axis=1)) * np.sqrt(np.sum(expand_query_space(dat,dat[i,:])**2, axis=1))))"
   ]
  },
  {
   "cell_type": "markdown",
   "metadata": {},
   "source": [
    "## Load Metadata"
   ]
  },
  {
   "cell_type": "markdown",
   "metadata": {},
   "source": [
    "#### This file contains links to remote audio files"
   ]
  },
  {
   "cell_type": "code",
   "execution_count": 4,
   "metadata": {
    "collapsed": false
   },
   "outputs": [],
   "source": [
    "metadata  = pd.read_csv(\"//s3store1/fssim1208/Projects/EU EU Sounds/MIR/europeana_allsound.csv\", engine=\"python\", sep=\"\\\\t\")"
   ]
  },
  {
   "cell_type": "markdown",
   "metadata": {},
   "source": [
    "#### join metadata with rp_features"
   ]
  },
  {
   "cell_type": "code",
   "execution_count": 5,
   "metadata": {
    "collapsed": false
   },
   "outputs": [],
   "source": [
    "npz1 = np.load(\"E:/Data/MIR/EU_SOUNDS_FEATURES/combined_features.npz\")"
   ]
  },
  {
   "cell_type": "code",
   "execution_count": 6,
   "metadata": {
    "collapsed": false
   },
   "outputs": [],
   "source": [
    "filenames = [f.replace(\"\\\\\",\"/\").replace(\"E:/Data/MIR/EU_SOUNDS_FEATURES\",\"\").replace(\".mp3.npz\",\"\") for f in npz1[\"filenames\"]]\n",
    "filenames = pd.DataFrame({\"index\":range(len(filenames))}, index=filenames)\n",
    "metadata  = metadata.join(filenames, how=\"inner\")"
   ]
  },
  {
   "cell_type": "markdown",
   "metadata": {},
   "source": [
    "#### join with aggregated Europeana Metadata"
   ]
  },
  {
   "cell_type": "code",
   "execution_count": 7,
   "metadata": {
    "collapsed": false
   },
   "outputs": [],
   "source": [
    "metadata = metadata.join(pd.read_pickle(\"E:/Data/MIR/EU_SOUNDS_FEATURES/aggregated_metadata.p\"), how=\"inner\")"
   ]
  },
  {
   "cell_type": "markdown",
   "metadata": {},
   "source": [
    "#### Merge with librosa features"
   ]
  },
  {
   "cell_type": "code",
   "execution_count": 8,
   "metadata": {
    "collapsed": true
   },
   "outputs": [],
   "source": [
    "npz3 = np.load(\"E:/Data/MIR/EU_SOUNDS_FEATURES/combined_librosa_features.npz\")"
   ]
  },
  {
   "cell_type": "code",
   "execution_count": 9,
   "metadata": {
    "collapsed": false
   },
   "outputs": [],
   "source": [
    "filenames = [f.replace(\"\\\\\",\"/\").replace(\"E:/Data/MIR/EU_SOUNDS_FEATURES_LIBROSA\",\"\").replace(\".mp3.npz\",\"\") for f in npz3[\"filenames\"]]\n",
    "filenames = pd.DataFrame({\"index_librosa\":range(len(filenames))}, index=filenames)\n",
    "metadata  = metadata.join(filenames, how=\"inner\")"
   ]
  },
  {
   "cell_type": "markdown",
   "metadata": {},
   "source": [
    "Export Metadata for MIR-Prototype"
   ]
  },
  {
   "cell_type": "code",
   "execution_count": 10,
   "metadata": {
    "collapsed": false
   },
   "outputs": [],
   "source": [
    "metadata.to_pickle(\"E:/Data/MIR/EU_SOUNDS_FEATURES/combined_metadata.p\")"
   ]
  },
  {
   "cell_type": "markdown",
   "metadata": {},
   "source": [
    "## Load Music Features"
   ]
  },
  {
   "cell_type": "markdown",
   "metadata": {},
   "source": [
    "### Load features"
   ]
  },
  {
   "cell_type": "markdown",
   "metadata": {},
   "source": [
    "### Normalize Features"
   ]
  },
  {
   "cell_type": "code",
   "execution_count": 11,
   "metadata": {
    "collapsed": false
   },
   "outputs": [],
   "source": [
    "# unit-norm\n",
    "ssd_my_norm = npz1[\"tssd\"][metadata[\"index\"], :]\n",
    "#ssd_my_norm /= ssd_my_norm.sum(axis=1, keepdims=True)\n",
    "\n",
    "# standardization\n",
    "#ssd_my_norm -= ssd_my_norm.mean(axis=0)\n",
    "#ssd_my_norm /= ssd_my_norm.std(axis=0)"
   ]
  },
  {
   "cell_type": "raw",
   "metadata": {
    "collapsed": true
   },
   "source": [
    "features = {}\n",
    "features[\"TSSD\"]     = \"E:/test/MV-VIS.tssd.npz\"\n",
    "features[\"RP\"]       = \"E:/test/MV-VIS.rp.npz\"\n",
    "\n",
    "data = {}\n",
    "\n",
    "for aggr in features.keys():\n",
    "    \n",
    "    npz = np.load(features[aggr])\n",
    "    \n",
    "    data[aggr] = {}\n",
    "    data[aggr][\"data\"]      = pd.DataFrame(npz[\"data\"], columns=npz[\"attribute_names\"])\n",
    "    data[aggr][\"labels\"]    = npz[\"labels\"]\n",
    "    data[aggr][\"filenames\"] = npz[\"filenames\"]\n",
    "\n",
    "    npz.close()"
   ]
  },
  {
   "cell_type": "raw",
   "metadata": {
    "collapsed": false
   },
   "source": [
    "pca = PCA(n_components=500)\n",
    "pca.fit(data[\"TSSD\"][\"data\"].values)"
   ]
  },
  {
   "cell_type": "raw",
   "metadata": {
    "collapsed": true
   },
   "source": [
    "ssd_my_norm = pca.transform(ssd_my_norm)"
   ]
  },
  {
   "cell_type": "code",
   "execution_count": 12,
   "metadata": {
    "collapsed": true
   },
   "outputs": [],
   "source": [
    "np.savez(\"E:/Data/MIR/EU_SOUNDS_FEATURES/my_tssd_pca\", data=ssd_my_norm)"
   ]
  },
  {
   "cell_type": "raw",
   "metadata": {
    "collapsed": true
   },
   "source": [
    "npz = np.load(\"E:/Data/MIR/EU_SOUNDS_FEATURES/my_tssd_pca.npz\")\n",
    "ssd_my_norm = npz[\"data\"]\n",
    "npz.close()"
   ]
  },
  {
   "cell_type": "raw",
   "metadata": {
    "collapsed": false
   },
   "source": [
    "# unit-norm\n",
    "my_rh = npz1[\"rh\"][metadata[\"index\"], :]\n",
    "my_rh /= my_rh.sum(axis=1, keepdims=True)"
   ]
  },
  {
   "cell_type": "code",
   "execution_count": 13,
   "metadata": {
    "collapsed": false,
    "scrolled": true
   },
   "outputs": [],
   "source": [
    "# unit-norm\n",
    "my_rp = npz1[\"rp\"][metadata[\"index\"], :]\n",
    "#my_rp -= my_rp.mean(axis=0)\n",
    "#my_rp /= my_rp.std(axis=0)"
   ]
  },
  {
   "cell_type": "raw",
   "metadata": {
    "collapsed": false
   },
   "source": [
    "pca = PCA(n_components=500)\n",
    "rp_fit = data[\"RP\"][\"data\"].values\n",
    "rp_fit -= rp_fit.mean(axis=0)\n",
    "rp_fit /= rp_fit.std(axis=0)\n",
    "pca.fit(rp_fit)"
   ]
  },
  {
   "cell_type": "raw",
   "metadata": {
    "collapsed": true
   },
   "source": [
    "my_rp = pca.transform(my_rp)"
   ]
  },
  {
   "cell_type": "code",
   "execution_count": 14,
   "metadata": {
    "collapsed": false
   },
   "outputs": [],
   "source": [
    "np.savez(\"E:/Data/MIR/EU_SOUNDS_FEATURES/my_rp_pca\", data=my_rp)"
   ]
  },
  {
   "cell_type": "raw",
   "metadata": {
    "collapsed": true
   },
   "source": [
    "npz = np.load(\"E:/Data/MIR/EU_SOUNDS_FEATURES/my_rp_pca.npz\")\n",
    "my_rp = npz[\"data\"]\n",
    "npz.close()"
   ]
  },
  {
   "cell_type": "code",
   "execution_count": 15,
   "metadata": {
    "collapsed": false
   },
   "outputs": [],
   "source": [
    "my_mfcc = npz3[\"mfcc\"][metadata[\"index_librosa\"].values,:]\n",
    "#my_mfcc -= my_mfcc.min(axis=0)\n",
    "#my_mfcc /= my_mfcc.max(axis=0)"
   ]
  },
  {
   "cell_type": "code",
   "execution_count": 16,
   "metadata": {
    "collapsed": true
   },
   "outputs": [],
   "source": [
    "my_chroma = npz3[\"chroma\"][metadata[\"index_librosa\"].values,:]\n",
    "#my_chroma -= my_chroma.min(axis=0)\n",
    "#my_chroma /= my_chroma.max(axis=0)"
   ]
  },
  {
   "cell_type": "code",
   "execution_count": 17,
   "metadata": {
    "collapsed": true
   },
   "outputs": [],
   "source": [
    "my_rmse = npz3[\"rmse\"][metadata[\"index_librosa\"].values,:]\n",
    "#my_rmse -= my_rmse.min(axis=0)\n",
    "#my_rmse /= my_rmse.max(axis=0)"
   ]
  },
  {
   "cell_type": "code",
   "execution_count": 18,
   "metadata": {
    "collapsed": true
   },
   "outputs": [],
   "source": [
    "my_spectral_centroid = npz3[\"spectral_centroid\"][metadata[\"index_librosa\"].values,:]\n",
    "#my_spectral_centroid -= my_spectral_centroid.min(axis=0)\n",
    "#my_spectral_centroid /= my_spectral_centroid.max(axis=0)"
   ]
  },
  {
   "cell_type": "code",
   "execution_count": 41,
   "metadata": {
    "collapsed": false
   },
   "outputs": [],
   "source": [
    "d = pd.DataFrame(my_spectral_centroid)"
   ]
  },
  {
   "cell_type": "code",
   "execution_count": 50,
   "metadata": {
    "collapsed": false
   },
   "outputs": [
    {
     "data": {
      "text/plain": [
       "1004852.6046840245"
      ]
     },
     "execution_count": 50,
     "metadata": {},
     "output_type": "execute_result"
    }
   ],
   "source": [
    "((d.iloc[0] - d.iloc[5] )**2).sum()"
   ]
  },
  {
   "cell_type": "code",
   "execution_count": 40,
   "metadata": {
    "collapsed": false
   },
   "outputs": [
    {
     "data": {
      "text/plain": [
       "5           0.000000\n",
       "16       7353.065141\n",
       "25      13864.261277\n",
       "46      25482.121530\n",
       "33      27138.279350\n",
       "20      39504.535502\n",
       "23      43977.845394\n",
       "45      48116.510252\n",
       "43     374524.949799\n",
       "49     376364.190917\n",
       "19     631698.054684\n",
       "24     686362.785408\n",
       "12     923773.051848\n",
       "42     956839.224231\n",
       "4      967263.773172\n",
       "0     1004852.604684\n",
       "2     1007520.507159\n",
       "34    1094158.553280\n",
       "44    1104958.109417\n",
       "10    1250345.675741\n",
       "40    1285173.656582\n",
       "3     1301916.117726\n",
       "1     1319014.464662\n",
       "30    1413988.320615\n",
       "38    1441803.997377\n",
       "35    1510693.244534\n",
       "47    1511037.128472\n",
       "37    1589313.378939\n",
       "13    1703319.994621\n",
       "27    1709692.350932\n",
       "15    1750874.198959\n",
       "8     1841081.968976\n",
       "18    1918975.022092\n",
       "36    1981507.769767\n",
       "26    2327832.938224\n",
       "11    2343611.016276\n",
       "39    2421179.476186\n",
       "17    2523986.834707\n",
       "21    2833360.599342\n",
       "9     2842836.560970\n",
       "6     3047959.100797\n",
       "32    3309054.073444\n",
       "7     3326786.125444\n",
       "22    3395507.141569\n",
       "41    3763471.974011\n",
       "31    3811844.685647\n",
       "28    3833169.119528\n",
       "48    3982369.119552\n",
       "14    4052295.886011\n",
       "29    6260053.961648\n",
       "dtype: float64"
      ]
     },
     "execution_count": 40,
     "metadata": {},
     "output_type": "execute_result"
    }
   ],
   "source": [
    "t = ((d.iloc[:50] - d.iloc[5])**2).sum(axis=1)\n",
    "t.sort()\n",
    "t"
   ]
  },
  {
   "cell_type": "code",
   "execution_count": 39,
   "metadata": {
    "collapsed": false
   },
   "outputs": [],
   "source": [
    "t.to_clipboard()"
   ]
  },
  {
   "cell_type": "code",
   "execution_count": 19,
   "metadata": {
    "collapsed": true
   },
   "outputs": [],
   "source": [
    "my_tonnetz = npz3[\"tonnetz\"][metadata[\"index_librosa\"].values,:]\n",
    "#my_tonnetz -= my_tonnetz.min(axis=0)\n",
    "#my_tonnetz /= my_tonnetz.max(axis=0)"
   ]
  },
  {
   "cell_type": "code",
   "execution_count": 20,
   "metadata": {
    "collapsed": true
   },
   "outputs": [],
   "source": [
    "my_zero_crossing_rate = npz3[\"zero_crossing_rate\"][metadata[\"index_librosa\"].values,:]\n",
    "#my_zero_crossing_rate -= my_zero_crossing_rate.min(axis=0)\n",
    "#my_zero_crossing_rate /= my_zero_crossing_rate.max(axis=0)"
   ]
  },
  {
   "cell_type": "code",
   "execution_count": 21,
   "metadata": {
    "collapsed": false
   },
   "outputs": [],
   "source": [
    "my_bpm = npz3[\"bpm\"][metadata[\"index_librosa\"].values]\n",
    "my_bpm = my_bpm.reshape((my_bpm.shape[0],1))"
   ]
  },
  {
   "cell_type": "code",
   "execution_count": 22,
   "metadata": {
    "collapsed": false,
    "scrolled": true
   },
   "outputs": [],
   "source": [
    "def calc_similar_items(idx):\n",
    "\n",
    "    dists_ssd = distance_measures[\"canberra\"](ssd_my_norm, idx)\n",
    "    dists_ssd = 1 - (dists_ssd / dists_ssd.max())\n",
    "\n",
    "    #dists_rh = distance_measures[\"dice\"](my_rh, idx)\n",
    "    #dists_rh = 1 - (dists_rh / dists_rh.max())\n",
    "    \n",
    "    dists_rp = distance_measures[\"canberra\"](my_rp, idx)\n",
    "    dists_rp = 1 - (dists_rp / dists_rp.max())\n",
    "\n",
    "    dists_mfcc = distance_measures[\"canberra\"](my_mfcc, idx)\n",
    "    dists_mfcc = 1 - (dists_mfcc / dists_mfcc.max())\n",
    "\n",
    "    dists_chroma = distance_measures[\"canberra\"](my_chroma, idx)\n",
    "    dists_chroma = 1 - (dists_chroma / dists_chroma.max())\n",
    "\n",
    "    dists_bpm = distance_measures[\"canberra\"](my_bpm, idx)\n",
    "    dists_bpm = 1 - (dists_bpm / dists_bpm.max())\n",
    "    \n",
    "    dists_rmse = distance_measures[\"canberra\"](my_rmse, idx)\n",
    "    dists_rmse = 1 - (dists_rmse / dists_rmse.max())\n",
    "    \n",
    "    dists_spectral_centroid = distance_measures[\"canberra\"](my_spectral_centroid, idx)\n",
    "    dists_spectral_centroid = 1 - (dists_spectral_centroid / dists_spectral_centroid.max())\n",
    "    \n",
    "    dists_tonnetz = distance_measures[\"canberra\"](my_tonnetz, idx)\n",
    "    dists_tonnetz = 1 - (dists_tonnetz / dists_tonnetz.max())\n",
    "    \n",
    "    dists_zero_crossing_rate = distance_measures[\"canberra\"](my_zero_crossing_rate, idx)\n",
    "    dists_zero_crossing_rate = 1 - (dists_zero_crossing_rate / dists_zero_crossing_rate.max())\n",
    "    \n",
    "    dists = (dists_ssd               * 0.9 + \\\n",
    "             dists_rp                * 1.99 + \\\n",
    "             dists_mfcc              * 2.5 + \\\n",
    "             dists_chroma            * 1.3 + \\\n",
    "             dists_bpm               * 0.8 + \\\n",
    "             dists_rmse              * 1.0 + \\\n",
    "             dists_spectral_centroid * 0.9 + \\\n",
    "             dists_tonnetz           * 1.3 + \\\n",
    "             dists_zero_crossing_rate * 0.2)\n",
    "    \n",
    "    dists /= dists.max()\n",
    "    \n",
    "    #dists = dists_rh\n",
    "    \n",
    "    #dists = distance_measures[\"l1\"](my_rp, idx)\n",
    "\n",
    "    nn = np.argsort(dists)[::-1]\n",
    "\n",
    "    return dists, nn"
   ]
  },
  {
   "cell_type": "markdown",
   "metadata": {},
   "source": [
    "Vögel 14000\n",
    "Latin 24000\n",
    "Jeweish 2000"
   ]
  },
  {
   "cell_type": "markdown",
   "metadata": {},
   "source": [
    "146000 - extremes gegenbeispiel"
   ]
  },
  {
   "cell_type": "code",
   "execution_count": 34,
   "metadata": {
    "collapsed": false
   },
   "outputs": [
    {
     "name": "stdout",
     "output_type": "stream",
     "text": [
      "0 http://www.rachelnet.net/media/medem/musique/libre/extraits/33T00008005ex.mp3\n",
      "1 1073\n",
      "2 Paris New-York\n",
      "3 fr\n",
      "4 Judaica Europeana\n",
      "5 09303_Ag_EU_Judaica_mcy33\n",
      "6 http://www.europeana.eu/api/v2/record/09303/2AE936ED3857BBB95E3D176FF4DCE30C18DA5BFB.json?wskey=HqHRSeD3j\n",
      "7 None\n",
      "8 http://www.europeana.eu/portal/record/09303/2AE936ED3857BBB95E3D176FF4DCE30C18DA5BFB.html?utm_source=api&utm_medium=api&utm_campaign=HqHRSeD3j\n",
      "9 Bibliothèque Medem - Maison de la Culture Yiddish\n",
      "10 1073\n"
     ]
    },
    {
     "data": {
      "text/html": [
       "<table></table>"
      ],
      "text/plain": [
       "<IPython.core.display.HTML object>"
      ]
     },
     "execution_count": 34,
     "metadata": {},
     "output_type": "execute_result"
    }
   ],
   "source": [
    "query_idx = 1073\n",
    "\n",
    "audio_template = \"<audio controls><source controls src=\\\"{0}\\\" type=\\\"audio/mp3\\\"></audio>\"\n",
    "\n",
    "dists, nn = calc_similar_items(query_idx)\n",
    "\n",
    "html = \"<table>\"\n",
    "\n",
    "i = 0\n",
    "for val in metadata.iloc[nn[:1000],:].values:\n",
    "\n",
    "    for i in range(len( val )):\n",
    "        print i, val[i]\n",
    "    break\n",
    "    style = \"\"\n",
    "    \n",
    "    if i == 0:\n",
    "        style = \"style=\\\"background: yellow\\\"\"\n",
    "    \n",
    "    html = \"\"\"{0}<tr {7}><td>{1}</td><td>{2}</td><td>{3}</td><td>{8}</td><td>{4}</td><td>{5}</td><td>{6}</td>\n",
    "                 <td><a href=\"{9}\">Link</a></td></tr>\"\"\".format(html, # 0\n",
    "                                                                     audio_template.format(val[0]),                # 1\n",
    "                                                                     val[1], # nn idx                               # 2\n",
    "                                                                     dists[nn[i]], # dist                          # 3\n",
    "                                                                     val[2].encode(\"utf-8\"), # title               # 4\n",
    "                                                                     val[4].encode(\"utf-8\"), # lib                 # 5\n",
    "                                                                     val[9].encode(\"utf-8\"), # col                 # 6\n",
    "                                                                     style,                                        # 7\n",
    "                                                                     float(my_bpm[nn[i]]),                         # 8\n",
    "                                                                     val[8].encode(\"utf-8\"))\n",
    "                                                                     \n",
    "    i += 1\n",
    "\n",
    "    if i > 10:\n",
    "        break\n",
    "    \n",
    "html = \"%s</table>\" % (html)\n",
    "\n",
    "#print html\n",
    "HTML(html)"
   ]
  },
  {
   "cell_type": "code",
   "execution_count": 171,
   "metadata": {
    "collapsed": false,
    "scrolled": false
   },
   "outputs": [
    {
     "data": {
      "text/html": [
       "<table><tr><td><audio controls><source controls src=\"http://econnect.ait.co.at/samples/orchard/829/410/415/829410415866/829410415866_1_13_CLIP.mp3\" type=\"audio/mp3\"></audio></td><td>181308</td><td>Airplane Blues</td><td>DISMARC</td><td>2023601_Ag_DE_DISMARC</td></tr><tr><td><audio controls><source controls src=\"http://econnect.ait.co.at/samples/orchard/884/385/617/884385617523/884385617523_1_1_CLIP.mp3\" type=\"audio/mp3\"></audio></td><td>140259</td><td>Airplane Blues</td><td>DISMARC</td><td>2023601_Ag_DE_DISMARC</td></tr><tr><td><audio controls><source controls src=\"http://econnect.ait.co.at/samples/orchard/669/910/527/669910527757/669910527757_1_2_CLIP.mp3\" type=\"audio/mp3\"></audio></td><td>116338</td><td>Fairplanes</td><td>DISMARC</td><td>2023601_Ag_DE_DISMARC</td></tr><tr><td><audio controls><source controls src=\"http://econnect.ait.co.at/samples/orchard/884/385/670/884385670054/884385670054_1_6_CLIP.mp3\" type=\"audio/mp3\"></audio></td><td>96270</td><td>Avionul (The Airplane)</td><td>DISMARC</td><td>2023601_Ag_DE_DISMARC</td></tr><tr><td><audio controls><source controls src=\"http://econnect.ait.co.at/samples/orchard/843/436/002/843436002336/843436002336_1_4_CLIP.mp3\" type=\"audio/mp3\"></audio></td><td>73925</td><td>Airplane Blues</td><td>DISMARC</td><td>2023601_Ag_DE_DISMARC</td></tr><tr><td><audio controls><source controls src=\"http://econnect.ait.co.at/samples/orchard/884/385/669/884385669973/884385669973_1_6_CLIP.mp3\" type=\"audio/mp3\"></audio></td><td>96224</td><td>Avionul (The Airplane)</td><td>DISMARC</td><td>2023601_Ag_DE_DISMARC</td></tr></table>"
      ],
      "text/plain": [
       "<IPython.core.display.HTML object>"
      ]
     },
     "execution_count": 171,
     "metadata": {},
     "output_type": "execute_result"
    }
   ],
   "source": [
    "audio_template = \"<audio controls><source controls src=\\\"{0}\\\" type=\\\"audio/mp3\\\"></audio>\"\n",
    "\n",
    "html = \"<table>\"\n",
    "\n",
    "i = 0\n",
    "for val in metadata[metadata[\"title\"].str.contains(\"irplane\")].values[:10]:\n",
    "#for val in metadata[metadata[\"organization\"].str.contains(\"OpenUp\")].values[1100:1110]:\n",
    "    \n",
    "    html = \"%s<tr><td>%s</td><td>%s</td><td>%s</td><td>%s</td><td>%s</td></tr>\" % (html, \n",
    "                                                                     audio_template.format(val[0]),\n",
    "                                                                     val[1], # idx\n",
    "                                                                     val[2].encode(\"utf-8\"), # title\n",
    "                                                                     val[4].encode(\"utf-8\"), # lib\n",
    "                                                                     val[5].encode(\"utf-8\"))                                                           \n",
    "    \n",
    "html = \"%s</table>\" % (html)\n",
    "\n",
    "#print html\n",
    "HTML(html)"
   ]
  },
  {
   "cell_type": "markdown",
   "metadata": {},
   "source": [
    "# Classification"
   ]
  },
  {
   "cell_type": "code",
   "execution_count": 13,
   "metadata": {
    "collapsed": true
   },
   "outputs": [],
   "source": [
    "classes = {}"
   ]
  },
  {
   "cell_type": "code",
   "execution_count": 122,
   "metadata": {
    "collapsed": false
   },
   "outputs": [],
   "source": [
    "classes[\"sound\"]       = np.array(list(set([63787, 315972, 12030, 12031, 8080, 8079, 8077, 8073, 8068, 8063, 8061, 8163, 8165, \n",
    "                                       9065, 9070, 17487, 17494, 17495, 17494, 17493, 17492, 12389])))"
   ]
  },
  {
   "cell_type": "code",
   "execution_count": 95,
   "metadata": {
    "collapsed": true
   },
   "outputs": [],
   "source": [
    "classes[\"mixed_radio\"] = np.array(list(set([21765, 22259, 138882, 40181, 29655, 101741, 89576, 21274, 21267, 21241, 21075, 21057,\n",
    "                                       190967, 21038, 20022])))"
   ]
  },
  {
   "cell_type": "code",
   "execution_count": 123,
   "metadata": {
    "collapsed": false
   },
   "outputs": [],
   "source": [
    "classes[\"spoken\"]      = np.array(list(set([20961, 20962, 89576, 21059, 193553, 139738, 126580, 127196, 127196, 2984, 5793, 5821,\n",
    "                                       19630, 19620, 19621, 19622, 19623, 19624, 19625, 19626, 19627, 19628, 19629, 188527, \n",
    "                                       190957, 191762, 191779, 191780, 191785, 191787, 191787, 191788, 191789, 5603, 5604, \n",
    "                                       5605, 5606, 5607, 5608, 5609, 5610, 5611, 5612, 8165, 8165, 21032, 21036, 21871, \n",
    "                                       21039, 265803, 5706])))"
   ]
  },
  {
   "cell_type": "code",
   "execution_count": 124,
   "metadata": {
    "collapsed": false
   },
   "outputs": [],
   "source": [
    "classes[\"music\"]       = np.array(list(set([1000, 287835, 243808, 203125, 1753, 242318, 1275, 246985, 41140, 208598, 205119, \n",
    "                                       88919, 62029, 150000, 147844, 148687, 150097, 148542, 250000, 248934, 290361, 32658, \n",
    "                                       269533, 302946, 56953, 157645, 157094, 153331, 152033, 191789, 190120, 310918, \n",
    "                                       256545, 179073, 150870, 19609, 201280, 4520, 204767, 206179, 234400, 150863, 205444,\n",
    "                                       206329])))"
   ]
  },
  {
   "cell_type": "code",
   "execution_count": 14,
   "metadata": {
    "collapsed": true
   },
   "outputs": [],
   "source": [
    "classes[\"music\"] = []\n",
    "classes[\"music\"].extend(metadata[metadata[\"title\"].str.contains(\"Song\")].values[:,1].tolist())\n",
    "classes[\"music\"].extend(metadata[metadata[\"title\"].str.contains(\"Dance\")].values[:,1].tolist())\n",
    "classes[\"music\"] = np.asarray(classes[\"music\"])"
   ]
  },
  {
   "cell_type": "code",
   "execution_count": 15,
   "metadata": {
    "collapsed": true
   },
   "outputs": [],
   "source": [
    "classes[\"spoken\"] = []\n",
    "classes[\"spoken\"].extend(metadata[metadata[\"title\"].str.contains(\"nterview\")].values[:,1].tolist())\n",
    "classes[\"spoken\"].extend(metadata[metadata[\"title\"].str.contains(\"Speech\")].values[:,1].tolist())\n",
    "classes[\"spoken\"] = np.asarray(classes[\"spoken\"])"
   ]
  },
  {
   "cell_type": "code",
   "execution_count": 16,
   "metadata": {
    "collapsed": true
   },
   "outputs": [],
   "source": [
    "classes[\"sound\"] = []\n",
    "classes[\"sound\"].extend(metadata[metadata[\"organization\"].str.contains(\"OpenUp\")].values[:,1].tolist())\n",
    "classes[\"sound\"] = np.asarray(classes[\"sound\"])"
   ]
  },
  {
   "cell_type": "code",
   "execution_count": 17,
   "metadata": {
    "collapsed": false
   },
   "outputs": [
    {
     "name": "stdout",
     "output_type": "stream",
     "text": [
      "spoken\n",
      "sound\n",
      "music\n"
     ]
    }
   ],
   "source": [
    "train_idx    = []\n",
    "train_labels = []\n",
    "\n",
    "for c in classes.keys():\n",
    "    print c\n",
    "    \n",
    "    train_idx.extend(classes[c].astype(np.int).tolist())\n",
    "    train_labels.extend([c for i in range(classes[c].shape[0])])\n",
    "    \n",
    "train_idx = np.asarray(train_idx)"
   ]
  },
  {
   "cell_type": "code",
   "execution_count": 283,
   "metadata": {
    "collapsed": false
   },
   "outputs": [
    {
     "data": {
      "text/plain": [
       "16387"
      ]
     },
     "execution_count": 283,
     "metadata": {},
     "output_type": "execute_result"
    }
   ],
   "source": [
    "len(train_idx)"
   ]
  },
  {
   "cell_type": "code",
   "execution_count": 284,
   "metadata": {
    "collapsed": false,
    "scrolled": true
   },
   "outputs": [
    {
     "data": {
      "text/plain": [
       "16387"
      ]
     },
     "execution_count": 284,
     "metadata": {},
     "output_type": "execute_result"
    }
   ],
   "source": [
    "len(train_labels)"
   ]
  },
  {
   "cell_type": "code",
   "execution_count": 18,
   "metadata": {
    "collapsed": true
   },
   "outputs": [],
   "source": [
    "from sklearn.preprocessing import LabelEncoder"
   ]
  },
  {
   "cell_type": "code",
   "execution_count": 19,
   "metadata": {
    "collapsed": false
   },
   "outputs": [
    {
     "data": {
      "text/plain": [
       "LabelEncoder()"
      ]
     },
     "execution_count": 19,
     "metadata": {},
     "output_type": "execute_result"
    }
   ],
   "source": [
    "le = LabelEncoder()\n",
    "le.fit(train_labels)"
   ]
  },
  {
   "cell_type": "code",
   "execution_count": 23,
   "metadata": {
    "collapsed": true
   },
   "outputs": [],
   "source": [
    "feature_space = np.concatenate([ssd_my_norm, my_rp], axis=1)\n",
    "feature_space -= feature_space.min(axis=0)\n",
    "feature_space /= feature_space.max(axis=0)"
   ]
  },
  {
   "cell_type": "code",
   "execution_count": 21,
   "metadata": {
    "collapsed": true
   },
   "outputs": [],
   "source": [
    "from sklearn.svm import SVC"
   ]
  },
  {
   "cell_type": "code",
   "execution_count": 24,
   "metadata": {
    "collapsed": true
   },
   "outputs": [],
   "source": [
    "svm = SVC(kernel=\"linear\", probability=True)"
   ]
  },
  {
   "cell_type": "code",
   "execution_count": 25,
   "metadata": {
    "collapsed": false
   },
   "outputs": [
    {
     "data": {
      "text/plain": [
       "SVC(C=1.0, cache_size=200, class_weight=None, coef0=0.0, degree=3, gamma=0.0,\n",
       "  kernel='linear', max_iter=-1, probability=True, random_state=None,\n",
       "  shrinking=True, tol=0.001, verbose=False)"
      ]
     },
     "execution_count": 25,
     "metadata": {},
     "output_type": "execute_result"
    }
   ],
   "source": [
    "svm.fit(feature_space[train_idx,:], le.transform(train_labels))"
   ]
  },
  {
   "cell_type": "code",
   "execution_count": 26,
   "metadata": {
    "collapsed": false
   },
   "outputs": [],
   "source": [
    "proba = svm.predict_proba(feature_space)"
   ]
  },
  {
   "cell_type": "code",
   "execution_count": 244,
   "metadata": {
    "collapsed": false
   },
   "outputs": [
    {
     "name": "stdout",
     "output_type": "stream",
     "text": [
      "11538\n"
     ]
    },
    {
     "data": {
      "text/html": [
       "<table><tr><td><audio controls><source controls src=\"http://crs.naturalis.nl/HttpHandler/icoon.ico?file=19524521\" type=\"audio/mp3\"></audio></td><td>8061</td><td>['sound']</td><td>Chorthippus montanus</td><td>OpenUp!</td><td>11619_Ag_EU_OpenUp!_NBCNL</td></tr><tr><td><audio controls><source controls src=\"http://crs.naturalis.nl/HttpHandler/icoon.ico?file=19524548\" type=\"audio/mp3\"></audio></td><td>8062</td><td>['sound']</td><td>Chorthippus parallelus parallelus</td><td>OpenUp!</td><td>11619_Ag_EU_OpenUp!_NBCNL</td></tr><tr><td><audio controls><source controls src=\"http://crs.naturalis.nl/HttpHandler/icoon.ico?file=19524575\" type=\"audio/mp3\"></audio></td><td>8063</td><td>['sound']</td><td>Chorthippus pullus</td><td>OpenUp!</td><td>11619_Ag_EU_OpenUp!_NBCNL</td></tr><tr><td><audio controls><source controls src=\"http://crs.naturalis.nl/HttpHandler/icoon.ico?file=19524602\" type=\"audio/mp3\"></audio></td><td>8064</td><td>['music']</td><td>Chorthippus pullus</td><td>OpenUp!</td><td>11619_Ag_EU_OpenUp!_NBCNL</td></tr><tr><td><audio controls><source controls src=\"http://crs.naturalis.nl/HttpHandler/icoon.ico?file=19524629\" type=\"audio/mp3\"></audio></td><td>8065</td><td>['sound']</td><td>Chorthippus rubratibialis</td><td>OpenUp!</td><td>11619_Ag_EU_OpenUp!_NBCNL</td></tr><tr><td><audio controls><source controls src=\"http://crs.naturalis.nl/HttpHandler/icoon.ico?file=19524656\" type=\"audio/mp3\"></audio></td><td>8066</td><td>['sound']</td><td>Chorthippus trinacriae</td><td>OpenUp!</td><td>11619_Ag_EU_OpenUp!_NBCNL</td></tr><tr><td><audio controls><source controls src=\"http://crs.naturalis.nl/HttpHandler/icoon.ico?file=19524683\" type=\"audio/mp3\"></audio></td><td>8067</td><td>['sound']</td><td>Chorthippus vagans vagans</td><td>OpenUp!</td><td>11619_Ag_EU_OpenUp!_NBCNL</td></tr><tr><td><audio controls><source controls src=\"http://crs.naturalis.nl/HttpHandler/icoon.ico?file=19524710\" type=\"audio/mp3\"></audio></td><td>8068</td><td>['sound']</td><td>Chrysochraon beybienkoi</td><td>OpenUp!</td><td>11619_Ag_EU_OpenUp!_NBCNL</td></tr><tr><td><audio controls><source controls src=\"http://crs.naturalis.nl/HttpHandler/icoon.ico?file=19524737\" type=\"audio/mp3\"></audio></td><td>8069</td><td>['sound']</td><td>Chrysochraon dispar dispar</td><td>OpenUp!</td><td>11619_Ag_EU_OpenUp!_NBCNL</td></tr><tr><td><audio controls><source controls src=\"http://crs.naturalis.nl/HttpHandler/icoon.ico?file=19524765\" type=\"audio/mp3\"></audio></td><td>8070</td><td>['sound']</td><td>Chrysochraon dispar dispar</td><td>OpenUp!</td><td>11619_Ag_EU_OpenUp!_NBCNL</td></tr></table>"
      ],
      "text/plain": [
       "<IPython.core.display.HTML object>"
      ]
     },
     "execution_count": 244,
     "metadata": {},
     "output_type": "execute_result"
    }
   ],
   "source": [
    "audio_template = \"<audio controls><source controls src=\\\"{0}\\\" type=\\\"audio/mp3\\\"></audio>\"\n",
    "\n",
    "html = \"<table>\"\n",
    "\n",
    "res = metadata[metadata[\"title\"].str.contains(\"Dance\")].values\n",
    "res = metadata[metadata[\"organization\"].str.contains(\"OpenUp\")].values\n",
    "print res.shape[0]\n",
    "\n",
    "i = 0\n",
    "for val in res[:10]:\n",
    "#for val in metadata[metadata[\"organization\"].str.contains(\"OpenUp\")].values[1100:1110]:\n",
    "    \n",
    "    label = le.inverse_transform(svm.predict(feature_space[val[1],:]))\n",
    "    \n",
    "    html = \"%s<tr><td>%s</td><td>%s</td><td>%s</td><td>%s</td><td>%s</td><td>%s</td></tr>\" % (html, \n",
    "                                                                     audio_template.format(val[0]),\n",
    "                                                                     val[1], # idx\n",
    "                                                                     label,\n",
    "                                                                     val[2].encode(\"utf-8\"), # title\n",
    "                                                                     val[4].encode(\"utf-8\"), # lib\n",
    "                                                                     val[5].encode(\"utf-8\"))                                                           \n",
    "    \n",
    "html = \"%s</table>\" % (html)\n",
    "\n",
    "#print html\n",
    "HTML(html)"
   ]
  },
  {
   "cell_type": "code",
   "execution_count": 27,
   "metadata": {
    "collapsed": true
   },
   "outputs": [],
   "source": [
    "def calc_similar_items_subsample(subsample, idx):\n",
    "\n",
    "    dists_ssd = distance_measures[\"canberra\"](ssd_my_norm[subsample,:], idx)\n",
    "    dists_ssd = 1 - (dists_ssd / dists_ssd.max())\n",
    "    \n",
    "    dists_rp = distance_measures[\"canberra\"](my_rp[subsample,:], idx)\n",
    "    dists_rp = 1 - (dists_rp / dists_rp.max())\n",
    "\n",
    "    dists = (dists_ssd * 1.0 + dists_rp * 0.51)\n",
    "    dists /= dists.max()\n",
    "    \n",
    "    nn = np.argsort(dists)[::-1]\n",
    "\n",
    "    return dists, nn"
   ]
  },
  {
   "cell_type": "code",
   "execution_count": 31,
   "metadata": {
    "collapsed": false
   },
   "outputs": [
    {
     "data": {
      "text/html": [
       "<table><tr style=\"background: yellow\"><td><audio controls><source controls src=\"http://www.tierstimmenarchiv.de/recordings/Certhia_brachydactyla_Tre_P0170_04_short.mp3\" type=\"audio/mp3\"></audio></td><td>12100</td><td>1.0</td><td>sound</td><td>Certhia brachydactyla C. L. Brehm, 1820</td><td>OpenUp!</td><td>11622_Ag_EU_OpenUp!_MFN_MINERALOGY</td></tr><tr ><td><audio controls><source controls src=\"http://www.tierstimmenarchiv.de/recordings/Certhia_brachydactyla_DIG0089_09_short.mp3\" type=\"audio/mp3\"></audio></td><td>12086</td><td>0.404165502753</td><td>sound</td><td>Certhia brachydactyla C. L. Brehm, 1820</td><td>OpenUp!</td><td>11622_Ag_EU_OpenUp!_MFN_MINERALOGY</td></tr><tr ><td><audio controls><source controls src=\"http://www.tierstimmenarchiv.de/recordings/Certhia_brachydactyla_V1825_04_short.mp3\" type=\"audio/mp3\"></audio></td><td>12102</td><td>0.401500202289</td><td>sound</td><td>Certhia brachydactyla C. L. Brehm, 1820</td><td>OpenUp!</td><td>11622_Ag_EU_OpenUp!_MFN_MINERALOGY</td></tr><tr ><td><audio controls><source controls src=\"http://www.tierstimmenarchiv.de/recordings/Emberiza_calandra_DIG0112_02_short.mp3\" type=\"audio/mp3\"></audio></td><td>12909</td><td>0.400101705885</td><td>sound</td><td>Emberiza calandra Linnaeus, 1758</td><td>OpenUp!</td><td>11622_Ag_EU_OpenUp!_MFN_MINERALOGY</td></tr><tr ><td><audio controls><source controls src=\"http://www.tierstimmenarchiv.de/recordings/Gallinula_chloropus_V2035_17_short.mp3\" type=\"audio/mp3\"></audio></td><td>14625</td><td>0.400078108971</td><td>sound</td><td>Gallinula chloropus (Linnaeus, 1758)</td><td>OpenUp!</td><td>11622_Ag_EU_OpenUp!_MFN_MINERALOGY</td></tr><tr ><td><audio controls><source controls src=\"http://www.tierstimmenarchiv.de/recordings/Certhia_brachydactyla_V1783_04_short.mp3\" type=\"audio/mp3\"></audio></td><td>12101</td><td>0.372986410788</td><td>sound</td><td>Certhia brachydactyla C. L. Brehm, 1820</td><td>OpenUp!</td><td>11622_Ag_EU_OpenUp!_MFN_MINERALOGY</td></tr><tr ><td><audio controls><source controls src=\"http://www.tierstimmenarchiv.de/recordings/Certhia_brachydactyla_A0026_04_short.mp3\" type=\"audio/mp3\"></audio></td><td>12071</td><td>0.369148531816</td><td>sound</td><td>Certhia brachydactyla C. L. Brehm, 1820</td><td>OpenUp!</td><td>11622_Ag_EU_OpenUp!_MFN_MINERALOGY</td></tr><tr ><td><audio controls><source controls src=\"http://www.tierstimmenarchiv.de/recordings/Remiz_pendulinus_V1826_33_short.mp3\" type=\"audio/mp3\"></audio></td><td>18067</td><td>0.368636386724</td><td>sound</td><td>Remiz pendulinus (Linnaeus, 1758)</td><td>OpenUp!</td><td>11622_Ag_EU_OpenUp!_MFN_MINERALOGY</td></tr><tr ><td><audio controls><source controls src=\"http://www.tierstimmenarchiv.de/recordings/Periparus_ater_Tre_P0182_02_short.mp3\" type=\"audio/mp3\"></audio></td><td>16767</td><td>0.364415545911</td><td>sound</td><td>Periparus ater (Linnaeus, 1758)</td><td>OpenUp!</td><td>11622_Ag_EU_OpenUp!_MFN_MINERALOGY</td></tr><tr ><td><audio controls><source controls src=\"http://www.tierstimmenarchiv.de/recordings/Emberiza_citrinella_Co0140_03_short.mp3\" type=\"audio/mp3\"></audio></td><td>12997</td><td>0.363485238131</td><td>sound</td><td>Emberiza citrinella Linnaeus, 1758</td><td>OpenUp!</td><td>11622_Ag_EU_OpenUp!_MFN_MINERALOGY</td></tr></table>"
      ],
      "text/plain": [
       "<IPython.core.display.HTML object>"
      ]
     },
     "execution_count": 31,
     "metadata": {},
     "output_type": "execute_result"
    }
   ],
   "source": [
    "query_idx = 12100\n",
    "\n",
    "# calculation\n",
    "nn         = np.argsort(np.abs(proba - proba[query_idx]).sum(axis=1))\n",
    "sub_sample = nn[:1000]\n",
    "#h_nn       = np.argsort(np.abs(feature_space[sub_sample, :] - feature_space[query_idx]).sum(axis=1))\n",
    "\n",
    "\n",
    "dists, h_nn = calc_similar_items_subsample(nn[:1000],0)\n",
    "nn = sub_sample[h_nn[:10]]\n",
    "\n",
    "# ---\n",
    "audio_template = \"<audio controls><source controls src=\\\"{0}\\\" type=\\\"audio/mp3\\\"></audio>\"\n",
    "\n",
    "html = \"<table>\"\n",
    "\n",
    "i = 0\n",
    "for val in metadata.iloc[nn,:].values:\n",
    "    \n",
    "    \n",
    "    label = le.inverse_transform(np.argmax(proba[nn[i],:]))\n",
    "    \n",
    "    style = \"\"\n",
    "    \n",
    "    if i == 0:\n",
    "        style = \"style=\\\"background: yellow\\\"\"\n",
    "    \n",
    "    html = \"{0}<tr {7}><td>{1}</td><td>{2}</td><td>{3}</td><td>{8}</td><td>{4}</td><td>{5}</td><td>{6}</td></tr>\".format(html, \n",
    "                                                                     audio_template.format(val[0]),\n",
    "                                                                     nn[i], # nn idx\n",
    "                                                                     dists[h_nn[i]], # dist\n",
    "                                                                     val[2].encode(\"utf-8\"), # title\n",
    "                                                                     val[4].encode(\"utf-8\"), # lib\n",
    "                                                                     val[5].encode(\"utf-8\"), # col\n",
    "                                                                     style,\n",
    "                                                                     label)\n",
    "                                                                     \n",
    "    i += 1\n",
    "\n",
    "    if i > 10:\n",
    "        break\n",
    "    \n",
    "html = \"%s</table>\" % (html)\n",
    "\n",
    "#print html\n",
    "HTML(html)"
   ]
  },
  {
   "cell_type": "code",
   "execution_count": null,
   "metadata": {
    "collapsed": true
   },
   "outputs": [],
   "source": []
  }
 ],
 "metadata": {
  "anaconda-cloud": {},
  "kernelspec": {
   "display_name": "Python [Root]",
   "language": "python",
   "name": "Python [Root]"
  },
  "language_info": {
   "codemirror_mode": {
    "name": "ipython",
    "version": 2
   },
   "file_extension": ".py",
   "mimetype": "text/x-python",
   "name": "python",
   "nbconvert_exporter": "python",
   "pygments_lexer": "ipython2",
   "version": "2.7.11"
  },
  "toc": {
   "toc_cell": false,
   "toc_number_sections": true,
   "toc_threshold": 6,
   "toc_window_display": false
  }
 },
 "nbformat": 4,
 "nbformat_minor": 0
}
