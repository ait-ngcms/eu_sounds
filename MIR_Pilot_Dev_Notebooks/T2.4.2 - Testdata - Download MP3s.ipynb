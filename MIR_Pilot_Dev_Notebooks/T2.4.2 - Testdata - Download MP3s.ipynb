{
 "cells": [
  {
   "cell_type": "code",
   "execution_count": 1,
   "metadata": {
    "ExecuteTime": {
     "end_time": "2016-06-21T14:54:14.485000",
     "start_time": "2016-06-21T14:54:10.398000"
    },
    "collapsed": false
   },
   "outputs": [],
   "source": [
    "import numpy as np\n",
    "import pandas as pd\n",
    "import urllib2\n",
    "import os\n",
    "import progressbar\n",
    "import urllib"
   ]
  },
  {
   "cell_type": "code",
   "execution_count": 24,
   "metadata": {
    "ExecuteTime": {
     "end_time": "2016-06-22T11:57:36.105000",
     "start_time": "2016-06-22T11:57:35.936000"
    },
    "collapsed": false
   },
   "outputs": [],
   "source": [
    "data = pd.read_csv(\"P:/Projects/EU EU Sounds/Data/europeana-client/datasets/europeana_music_channel_metadata_mpeg.csv\", \n",
    "                   engine=\"python\", sep=\";\")\n",
    "data.columns = [\"europeana_id\", \"filelink\"]"
   ]
  },
  {
   "cell_type": "code",
   "execution_count": 14,
   "metadata": {
    "ExecuteTime": {
     "end_time": "2016-06-22T11:54:16.018000",
     "start_time": "2016-06-22T11:54:16.015000"
    },
    "collapsed": true
   },
   "outputs": [],
   "source": [
    "DATA_DIR = \"E:/Data/MIR/EU_SOUND_CHANNEL\""
   ]
  },
  {
   "cell_type": "code",
   "execution_count": 15,
   "metadata": {
    "ExecuteTime": {
     "end_time": "2016-06-22T11:54:16.647000",
     "start_time": "2016-06-22T11:54:16.630000"
    },
    "collapsed": true
   },
   "outputs": [],
   "source": [
    "import time\n",
    "from functools import wraps\n",
    "\n",
    "\n",
    "def retry(ExceptionToCheck, tries=4, delay=3, backoff=2, logger=None):\n",
    "    \"\"\"Retry calling the decorated function using an exponential backoff.\n",
    "\n",
    "    http://www.saltycrane.com/blog/2009/11/trying-out-retry-decorator-python/\n",
    "    original from: http://wiki.python.org/moin/PythonDecoratorLibrary#Retry\n",
    "\n",
    "    :param ExceptionToCheck: the exception to check. may be a tuple of\n",
    "        exceptions to check\n",
    "    :type ExceptionToCheck: Exception or tuple\n",
    "    :param tries: number of times to try (not retry) before giving up\n",
    "    :type tries: int\n",
    "    :param delay: initial delay between retries in seconds\n",
    "    :type delay: int\n",
    "    :param backoff: backoff multiplier e.g. value of 2 will double the delay\n",
    "        each retry\n",
    "    :type backoff: int\n",
    "    :param logger: logger to use. If None, print\n",
    "    :type logger: logging.Logger instance\n",
    "    \"\"\"\n",
    "    def deco_retry(f):\n",
    "\n",
    "        @wraps(f)\n",
    "        def f_retry(*args, **kwargs):\n",
    "            mtries, mdelay = tries, delay\n",
    "            while mtries > 1:\n",
    "                try:\n",
    "                    return f(*args, **kwargs)\n",
    "                except ExceptionToCheck, e:\n",
    "                    msg = \"%s, Retrying in %d seconds...\" % (str(e), mdelay)\n",
    "                    if logger:\n",
    "                        logger.warning(msg)\n",
    "                    else:\n",
    "                        print msg\n",
    "                    time.sleep(mdelay)\n",
    "                    mtries -= 1\n",
    "                    mdelay *= backoff\n",
    "            return f(*args, **kwargs)\n",
    "\n",
    "        return f_retry  # true decorator\n",
    "\n",
    "    return deco_retry"
   ]
  },
  {
   "cell_type": "code",
   "execution_count": 17,
   "metadata": {
    "ExecuteTime": {
     "end_time": "2016-06-22T11:54:45.252000",
     "start_time": "2016-06-22T11:54:38.586000"
    },
    "collapsed": false
   },
   "outputs": [],
   "source": [
    "#@retry(urllib2.URLError, tries=4, delay=3, backoff=2)\n",
    "def downloadMP3(url, destination):\n",
    "    \n",
    "    req = urllib2.Request(url, None, headers={'User-Agent' : \"Mozilla/5.0\"})\n",
    "    req2 = urllib2.urlopen(req)\n",
    "    CHUNK = 16 * 1024\n",
    "    with open(destination, 'wb') as fp:\n",
    "        while True:\n",
    "            chunk = req2.read(CHUNK)\n",
    "            if not chunk:\n",
    "                break\n",
    "            fp.write(chunk)\n",
    "            \n",
    "downloadMP3(getProxyLink('/2059207/data_sounds_ADC_10', 'http://comhaltasarchive.ie/system/tracks/HQ/CL/ADC/preview-CL.ADC.10.mp3'),\n",
    "            \"D:/tmp/eu_sounds.mp3\")"
   ]
  },
  {
   "cell_type": "code",
   "execution_count": 18,
   "metadata": {
    "ExecuteTime": {
     "end_time": "2016-06-22T11:54:47.682000",
     "start_time": "2016-06-22T11:54:47.672000"
    },
    "collapsed": false
   },
   "outputs": [
    {
     "data": {
      "text/plain": [
       "'E:/Data/MIR/EU_SOUND_CHANNEL/09334/105568A205F62D456644AF24548CAE6CFF638D14.mp3'"
      ]
     },
     "execution_count": 18,
     "metadata": {},
     "output_type": "execute_result"
    }
   ],
   "source": [
    "def getDestFullpath(europeana_id):\n",
    "    \n",
    "    tmp = europeana_id[1:].split(\"/\")\n",
    "    path = \"%s/%s\" % (DATA_DIR, tmp[0])\n",
    "    filename = tmp[1].strip()\n",
    "    \n",
    "    if not os.path.exists(path):\n",
    "        os.makedirs(path)\n",
    "    \n",
    "    return \"%s/%s.mp3\" % (path, filename)\n",
    "    \n",
    "getDestFullpath('/09334/105568A205F62D456644AF24548CAE6CFF638D14')"
   ]
  },
  {
   "cell_type": "code",
   "execution_count": 19,
   "metadata": {
    "ExecuteTime": {
     "end_time": "2016-06-22T11:54:48.110000",
     "start_time": "2016-06-22T11:54:48.105000"
    },
    "collapsed": false
   },
   "outputs": [
    {
     "data": {
      "text/plain": [
       "'http://proxy.europeana.eu/2059207/data_sounds_ADC_10?view=http%3A//comhaltasarchive.ie/system/tracks/HQ/CL/ADC/preview-CL.ADC.10.mp3'"
      ]
     },
     "execution_count": 19,
     "metadata": {},
     "output_type": "execute_result"
    }
   ],
   "source": [
    "def getProxyLink(europeana_id, link):\n",
    "        \n",
    "    return \"http://proxy.europeana.eu%s?view=%s\" % (europeana_id, urllib.quote(link))\n",
    "    \n",
    "getProxyLink('/2059207/data_sounds_ADC_10', 'http://comhaltasarchive.ie/system/tracks/HQ/CL/ADC/preview-CL.ADC.10.mp3')"
   ]
  },
  {
   "cell_type": "code",
   "execution_count": 29,
   "metadata": {
    "ExecuteTime": {
     "end_time": "2016-06-24T15:52:33.519000",
     "start_time": "2016-06-24T15:52:16.388000"
    },
    "collapsed": false
   },
   "outputs": [],
   "source": [
    "\n",
    "files_to_download = []\n",
    "\n",
    "for i in range(data.shape[0]):\n",
    "    \n",
    "    row = data.loc[i]\n",
    "    \n",
    "    try:\n",
    "        dest_path = getDestFullpath(row.europeana_id)\n",
    "\n",
    "        if not os.path.exists(dest_path):\n",
    "            files_to_download.append(i)\n",
    "            \n",
    "    except Exception as ex:\n",
    "        print ex\n",
    "        break"
   ]
  },
  {
   "cell_type": "code",
   "execution_count": 30,
   "metadata": {
    "ExecuteTime": {
     "end_time": "2016-06-24T15:52:33.546000",
     "start_time": "2016-06-24T15:52:33.521000"
    },
    "collapsed": false
   },
   "outputs": [
    {
     "data": {
      "text/plain": [
       "1392"
      ]
     },
     "execution_count": 30,
     "metadata": {},
     "output_type": "execute_result"
    }
   ],
   "source": [
    "len(files_to_download)"
   ]
  },
  {
   "cell_type": "code",
   "execution_count": 28,
   "metadata": {
    "ExecuteTime": {
     "end_time": "2016-06-23T13:52:18.196000",
     "start_time": "2016-06-22T11:58:43.667000"
    },
    "collapsed": false
   },
   "outputs": [
    {
     "name": "stderr",
     "output_type": "stream",
     "text": [
      "100% (17459 of 17459) |#####################################################################################| Elapsed Time: 1 day, 1:53:34 Time: 1 day, 1:53:34\n"
     ]
    }
   ],
   "source": [
    "pbar = progressbar.ProgressBar()\n",
    "\n",
    "num_ex = 0\n",
    "#[\"europeana_id\", \"filelink\"]\n",
    "error_log = open(\"%s/error.2016-06-22.log\" % (DATA_DIR), 'w')\n",
    "\n",
    "for i in pbar(files_to_download):\n",
    "    \n",
    "    row = data.loc[i]\n",
    "    \n",
    "    try:\n",
    "        dest_path = getDestFullpath(row.europeana_id)\n",
    "\n",
    "        if not os.path.exists(dest_path):\n",
    "            downloadMP3(getProxyLink(row.europeana_id, row.filelink), dest_path)\n",
    "            \n",
    "    except Exception as ex:\n",
    "        #print row\n",
    "        err_msg = \"%s\\t%s\\t%s\\n\" % (row.europeana_id,row.filelink, ex)\n",
    "        #print err_msg\n",
    "        error_log.write(err_msg)\n",
    "        #num_ex += 1\n",
    "        #pass\n",
    "        #break\n",
    "\n",
    "    #if num_ex > 50:\n",
    "    #    break\n",
    "        \n",
    "    if i % 1000 == 1000:\n",
    "        #print i\n",
    "        error_log.flush()\n",
    "        \n",
    "    i += 1\n",
    "    \n",
    "error_log.close()"
   ]
  },
  {
   "cell_type": "code",
   "execution_count": 31,
   "metadata": {
    "ExecuteTime": {
     "end_time": "2016-06-24T15:52:47.203000",
     "start_time": "2016-06-24T15:52:47.201000"
    },
    "collapsed": false
   },
   "outputs": [],
   "source": [
    "error_log.close()"
   ]
  },
  {
   "cell_type": "code",
   "execution_count": 32,
   "metadata": {
    "ExecuteTime": {
     "end_time": "2016-06-24T15:53:25.096000",
     "start_time": "2016-06-24T15:53:25.017000"
    },
    "collapsed": true
   },
   "outputs": [],
   "source": [
    "e_log = pd.read_csv(\"E:/Data/MIR/EU_SOUND_CHANNEL/error.2016-06-22.log\", sep=\"\\t\", header=None)\n",
    "e_log.columns = [\"europeana_id\", \"filelink\", \"error_msg\"]"
   ]
  },
  {
   "cell_type": "code",
   "execution_count": 33,
   "metadata": {
    "ExecuteTime": {
     "end_time": "2016-06-24T15:53:25.832000",
     "start_time": "2016-06-24T15:53:25.780000"
    },
    "collapsed": false
   },
   "outputs": [
    {
     "data": {
      "text/html": [
       "<div>\n",
       "<table border=\"1\" class=\"dataframe\">\n",
       "  <thead>\n",
       "    <tr style=\"text-align: right;\">\n",
       "      <th></th>\n",
       "      <th>europeana_id</th>\n",
       "      <th>filelink</th>\n",
       "    </tr>\n",
       "    <tr>\n",
       "      <th>error_msg</th>\n",
       "      <th></th>\n",
       "      <th></th>\n",
       "    </tr>\n",
       "  </thead>\n",
       "  <tbody>\n",
       "    <tr>\n",
       "      <th>HTTP Error 400: Bad Request</th>\n",
       "      <td>7</td>\n",
       "      <td>7</td>\n",
       "    </tr>\n",
       "    <tr>\n",
       "      <th>HTTP Error 404: Not Found</th>\n",
       "      <td>1295</td>\n",
       "      <td>1295</td>\n",
       "    </tr>\n",
       "    <tr>\n",
       "      <th>HTTP Error 500: Internal Server Error</th>\n",
       "      <td>1</td>\n",
       "      <td>1</td>\n",
       "    </tr>\n",
       "    <tr>\n",
       "      <th>HTTP Error 502: Bad Gateway</th>\n",
       "      <td>2</td>\n",
       "      <td>2</td>\n",
       "    </tr>\n",
       "    <tr>\n",
       "      <th>HTTP Error 504: GATEWAY_TIMEOUT</th>\n",
       "      <td>87</td>\n",
       "      <td>87</td>\n",
       "    </tr>\n",
       "  </tbody>\n",
       "</table>\n",
       "</div>"
      ],
      "text/plain": [
       "                                       europeana_id  filelink\n",
       "error_msg                                                    \n",
       "HTTP Error 400: Bad Request                       7         7\n",
       "HTTP Error 404: Not Found                      1295      1295\n",
       "HTTP Error 500: Internal Server Error             1         1\n",
       "HTTP Error 502: Bad Gateway                       2         2\n",
       "HTTP Error 504: GATEWAY_TIMEOUT                  87        87"
      ]
     },
     "execution_count": 33,
     "metadata": {},
     "output_type": "execute_result"
    }
   ],
   "source": [
    "e_log.groupby(\"error_msg\").count()"
   ]
  }
 ],
 "metadata": {
  "kernelspec": {
   "display_name": "Python 2",
   "language": "python",
   "name": "python2"
  },
  "language_info": {
   "codemirror_mode": {
    "name": "ipython",
    "version": 2
   },
   "file_extension": ".py",
   "mimetype": "text/x-python",
   "name": "python",
   "nbconvert_exporter": "python",
   "pygments_lexer": "ipython2",
   "version": "2.7.11"
  },
  "toc": {
   "toc_cell": false,
   "toc_number_sections": true,
   "toc_threshold": 6,
   "toc_window_display": false
  }
 },
 "nbformat": 4,
 "nbformat_minor": 0
}
