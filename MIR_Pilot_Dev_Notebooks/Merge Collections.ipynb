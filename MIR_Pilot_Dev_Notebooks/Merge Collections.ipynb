{
 "cells": [
  {
   "cell_type": "code",
   "execution_count": 1,
   "metadata": {
    "ExecuteTime": {
     "end_time": "2016-06-01T13:05:56.230000",
     "start_time": "2016-06-01T13:05:55.352000"
    },
    "collapsed": true
   },
   "outputs": [],
   "source": [
    "import pandas as pd"
   ]
  },
  {
   "cell_type": "code",
   "execution_count": 3,
   "metadata": {
    "ExecuteTime": {
     "end_time": "2016-06-01T13:06:53.768000",
     "start_time": "2016-06-01T13:06:53.766000"
    },
    "collapsed": true
   },
   "outputs": [],
   "source": [
    "mir_pilot_filelist_path     = \"E:/Data/MIR/europeana_allsound.csv\"\n",
    "music_channel_filelist_path = \"P:/Projects/EU EU Sounds/Data/europeana-client/datasets/europeana_music_channel_metadata_mpeg.csv\""
   ]
  },
  {
   "cell_type": "code",
   "execution_count": 12,
   "metadata": {
    "ExecuteTime": {
     "end_time": "2016-06-01T13:09:29.543000",
     "start_time": "2016-06-01T13:09:28.307000"
    },
    "collapsed": false
   },
   "outputs": [
    {
     "data": {
      "text/plain": [
       "400615"
      ]
     },
     "execution_count": 12,
     "metadata": {},
     "output_type": "execute_result"
    }
   ],
   "source": [
    "mir_pilot_filelist         = pd.read_csv(mir_pilot_filelist_path, sep=\"\\t\", header=None)\n",
    "mir_pilot_filelist.columns = [\"europeana_id\", \"filelink\"]\n",
    "music_channel_filelist     = music_channel_filelist.set_index(\"europeana_id\")\n",
    "mir_pilot_filelist.shape[0]"
   ]
  },
  {
   "cell_type": "code",
   "execution_count": 15,
   "metadata": {
    "ExecuteTime": {
     "end_time": "2016-06-01T13:10:06.764000",
     "start_time": "2016-06-01T13:10:06.632000"
    },
    "collapsed": false
   },
   "outputs": [
    {
     "data": {
      "text/plain": [
       "45000"
      ]
     },
     "execution_count": 15,
     "metadata": {},
     "output_type": "execute_result"
    }
   ],
   "source": [
    "music_channel_filelist         = pd.read_csv(music_channel_filelist_path, sep=\";\", header=None)\n",
    "music_channel_filelist.columns = [\"europeana_id\", \"filelink\"]\n",
    "mir_pilot_filelist             = mir_pilot_filelist.set_index(\"europeana_id\")\n",
    "music_channel_filelist.shape[0]"
   ]
  },
  {
   "cell_type": "code",
   "execution_count": 34,
   "metadata": {
    "ExecuteTime": {
     "end_time": "2016-06-01T13:20:45.150000",
     "start_time": "2016-06-01T13:20:44.639000"
    },
    "collapsed": false
   },
   "outputs": [],
   "source": [
    "intersection_idx = mir_pilot_filelist.index.intersection(music_channel_filelist.index)"
   ]
  },
  {
   "cell_type": "code",
   "execution_count": 39,
   "metadata": {
    "ExecuteTime": {
     "end_time": "2016-06-01T13:22:46.366000",
     "start_time": "2016-06-01T13:22:45.823000"
    },
    "collapsed": false
   },
   "outputs": [
    {
     "data": {
      "text/plain": [
       "28468"
      ]
     },
     "execution_count": 39,
     "metadata": {},
     "output_type": "execute_result"
    }
   ],
   "source": [
    "music_channel_filelist_diff = music_channel_filelist.loc[music_channel_filelist.index.difference(intersection_idx)]\n",
    "music_channel_filelist_diff.to_csv(\"P:/Projects/EU EU Sounds/Data/europeana-client/datasets/europeana_music_channel_metadata_mpeg_DIFFERENCE.csv\", sep=\";\")\n",
    "music_channel_filelist_diff.shape[0]"
   ]
  }
 ],
 "metadata": {
  "kernelspec": {
   "display_name": "Python 2",
   "language": "python",
   "name": "python2"
  },
  "language_info": {
   "codemirror_mode": {
    "name": "ipython",
    "version": 2
   },
   "file_extension": ".py",
   "mimetype": "text/x-python",
   "name": "python",
   "nbconvert_exporter": "python",
   "pygments_lexer": "ipython2",
   "version": "2.7.11"
  },
  "toc": {
   "toc_cell": false,
   "toc_number_sections": true,
   "toc_threshold": 6,
   "toc_window_display": false
  }
 },
 "nbformat": 4,
 "nbformat_minor": 0
}
