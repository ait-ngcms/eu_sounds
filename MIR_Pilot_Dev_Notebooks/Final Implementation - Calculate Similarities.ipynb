{
 "cells": [
  {
   "cell_type": "code",
   "execution_count": 89,
   "metadata": {
    "ExecuteTime": {
     "end_time": "2016-11-09T13:18:46.388000",
     "start_time": "2016-11-09T13:18:46.384000"
    },
    "collapsed": true
   },
   "outputs": [],
   "source": [
    "import numpy as np\n",
    "import pandas as pd\n",
    "import os\n",
    "import glob\n",
    "import json\n",
    "\n",
    "from progressbar import ProgressBar\n",
    "import cPickle"
   ]
  },
  {
   "cell_type": "code",
   "execution_count": 2,
   "metadata": {
    "ExecuteTime": {
     "end_time": "2016-11-08T10:05:31.007000",
     "start_time": "2016-11-08T10:05:31.007000"
    },
    "collapsed": true
   },
   "outputs": [],
   "source": [
    "FEATURES_PATH = \"E:/temp/eu_sounds_features/\""
   ]
  },
  {
   "cell_type": "markdown",
   "metadata": {},
   "source": [
    "## Create Featurespaces"
   ]
  },
  {
   "cell_type": "markdown",
   "metadata": {},
   "source": [
    "### Load extracted features from json files"
   ]
  },
  {
   "cell_type": "code",
   "execution_count": 24,
   "metadata": {
    "ExecuteTime": {
     "end_time": "2016-11-08T10:25:16.088000",
     "start_time": "2016-11-08T10:17:22.202000"
    },
    "collapsed": false
   },
   "outputs": [
    {
     "name": "stdout",
     "output_type": "stream",
     "text": [
      "1000\n",
      "2000\n",
      "3000\n",
      "4000\n",
      "5000\n",
      "6000\n",
      "7000\n",
      "8000\n",
      "9000\n",
      "10000\n",
      "11000\n",
      "12000\n",
      "13000\n",
      "14000\n",
      "15000\n",
      "16000\n",
      "17000\n",
      "18000\n",
      "19000\n",
      "20000\n",
      "21000\n",
      "22000\n",
      "23000\n",
      "24000\n",
      "25000\n",
      "26000\n",
      "27000\n",
      "28000\n",
      "29000\n",
      "30000\n",
      "31000\n",
      "32000\n",
      "33000\n",
      "34000\n",
      "35000\n",
      "36000\n",
      "37000\n",
      "38000\n",
      "39000\n"
     ]
    }
   ],
   "source": [
    "features = {}\n",
    "indexes = []\n",
    "\n",
    "idx = 0\n",
    "\n",
    "for fs_name in [u'rp', u'mfcc', u'chroma', u'rmse', u'tempo', u'tonnetz', u'spectral_centroid', u'zero_crossing_rate', u'ssd']:\n",
    "    features[fs_name] = []\n",
    "\n",
    "for collection_path in glob.glob(os.path.join(FEATURES_PATH, \"*\")):\n",
    "    \n",
    "    if os.path.isdir(collection_path):\n",
    "\n",
    "        collection_name = os.path.basename(collection_path)\n",
    "        \n",
    "        for feature_file_path in glob.glob(os.path.join(collection_path, \"*.json\")):\n",
    "            \n",
    "            with open(feature_file_path, 'r') as input_file:\n",
    "                data = json.load(input_file)\n",
    "                \n",
    "            for fs_name in data.keys():\n",
    "                features[fs_name].append(data[fs_name])\n",
    "            \n",
    "            current_index = \"%s/%s\" % (collection_name, os.path.basename(feature_file_path).replace(\".mp3.json\", \"\"))\n",
    "            \n",
    "            indexes.append(current_index)\n",
    "            \n",
    "            idx += 1\n",
    "            \n",
    "            if idx % 1000 == 0:\n",
    "                print idx"
   ]
  },
  {
   "cell_type": "markdown",
   "metadata": {
    "ExecuteTime": {
     "end_time": "2016-11-08T10:14:19.212000",
     "start_time": "2016-11-08T10:14:19.202000"
    }
   },
   "source": [
    "### Store feature-spaces to disk"
   ]
  },
  {
   "cell_type": "code",
   "execution_count": 26,
   "metadata": {
    "ExecuteTime": {
     "end_time": "2016-11-08T10:33:00.948000",
     "start_time": "2016-11-08T10:32:13.774000"
    },
    "collapsed": false
   },
   "outputs": [],
   "source": [
    "for fs_name in features.keys():\n",
    "    pd.DataFrame(features[fs_name]).to_hdf(\"%s/%s.h5\" % (FEATURES_PATH, fs_name), \"features\")\n",
    "    "
   ]
  },
  {
   "cell_type": "markdown",
   "metadata": {},
   "source": [
    "**Convert to Numpy Array**"
   ]
  },
  {
   "cell_type": "code",
   "execution_count": 39,
   "metadata": {
    "ExecuteTime": {
     "end_time": "2016-11-08T11:01:47.281000",
     "start_time": "2016-11-08T11:01:47.277000"
    },
    "collapsed": false
   },
   "outputs": [
    {
     "data": {
      "text/plain": [
       "[u'rp',\n",
       " u'rmse',\n",
       " u'tempo',\n",
       " u'mfcc',\n",
       " u'chroma',\n",
       " u'tonnetz',\n",
       " u'spectral_centroid',\n",
       " u'zero_crossing_rate',\n",
       " u'ssd']"
      ]
     },
     "execution_count": 39,
     "metadata": {},
     "output_type": "execute_result"
    }
   ],
   "source": [
    "features.keys()"
   ]
  },
  {
   "cell_type": "code",
   "execution_count": 27,
   "metadata": {
    "ExecuteTime": {
     "end_time": "2016-11-08T10:41:34.861000",
     "start_time": "2016-11-08T10:41:32.100000"
    },
    "collapsed": true
   },
   "outputs": [],
   "source": [
    "for fs_name in features.keys():\n",
    "    features[fs_name] = np.asarray(features[fs_name])\n",
    "    \n",
    "features[\"tempo\"] = features[\"tempo\"].reshape((features[\"tempo\"].shape[0],1))"
   ]
  },
  {
   "cell_type": "code",
   "execution_count": 28,
   "metadata": {
    "ExecuteTime": {
     "end_time": "2016-11-08T10:43:08.151000",
     "start_time": "2016-11-08T10:43:08.151000"
    },
    "collapsed": true
   },
   "outputs": [],
   "source": [
    "canberra_distance = lambda data, query : np.nansum(abs(data - query) / (abs(data) + abs(query)), axis=1)"
   ]
  },
  {
   "cell_type": "code",
   "execution_count": 51,
   "metadata": {
    "ExecuteTime": {
     "end_time": "2016-11-08T11:05:25.006000",
     "start_time": "2016-11-08T11:05:24.977000"
    },
    "collapsed": false
   },
   "outputs": [],
   "source": [
    "def calc_similar_items(features, query_idx):\n",
    "    \n",
    "    dists_ssd  = canberra_distance(features[\"ssd\"], features[\"ssd\"][query_idx,:])\n",
    "    dists_ssd  = (dists_ssd / dists_ssd.max())\n",
    "\n",
    "    dists_rp   = canberra_distance(features[\"rp\"], features[\"rp\"][query_idx,:])\n",
    "    dists_rp   = (dists_rp / dists_rp.max())\n",
    "\n",
    "    dists_mfcc = canberra_distance(features[\"mfcc\"], features[\"mfcc\"][query_idx,:])\n",
    "    dists_mfcc = (dists_mfcc / dists_mfcc.max())\n",
    "\n",
    "    dists_chroma = canberra_distance(features[\"chroma\"], features[\"chroma\"][query_idx,:])\n",
    "    dists_chroma = (dists_chroma / dists_chroma.max())\n",
    "\n",
    "    dists_bpm    = canberra_distance(features[\"tempo\"], features[\"tempo\"][query_idx])\n",
    "    dists_bpm    = (dists_bpm / dists_bpm.max())\n",
    "    \n",
    "    dists_rmse   = canberra_distance(features[\"rmse\"], features[\"rmse\"][query_idx,:])\n",
    "    dists_rmse   = (dists_rmse / dists_rmse.max())\n",
    "    \n",
    "    dists_spectral_centroid = canberra_distance(features[\"spectral_centroid\"], features[\"spectral_centroid\"][query_idx,:])\n",
    "    dists_spectral_centroid = (dists_spectral_centroid / dists_spectral_centroid.max())\n",
    "    \n",
    "    dists_tonnetz = canberra_distance(features[\"tonnetz\"], features[\"tonnetz\"][query_idx,:])\n",
    "    dists_tonnetz = (dists_tonnetz / dists_tonnetz.max())\n",
    "    \n",
    "    dists_zero_crossing_rate = canberra_distance(features[\"zero_crossing_rate\"], features[\"zero_crossing_rate\"][query_idx,:])\n",
    "    dists_zero_crossing_rate = (dists_zero_crossing_rate / dists_zero_crossing_rate.max())\n",
    "    \n",
    "    sims = (dists_ssd                * 0.9  + \\\n",
    "            dists_rp                 * 1.99 + \\\n",
    "            dists_mfcc               * 2.5  + \\\n",
    "            dists_chroma             * 1.3  + \\\n",
    "            dists_bpm                * 0.8  + \\\n",
    "            dists_rmse               * 1.0  + \\\n",
    "            dists_spectral_centroid  * 0.9  + \\\n",
    "            dists_tonnetz            * 1.3  + \\\n",
    "            dists_zero_crossing_rate * 0.2)\n",
    "    \n",
    "    #sims /= sims.max()\n",
    "\n",
    "    nn = np.argsort(sims)\n",
    "\n",
    "    return sims, nn"
   ]
  },
  {
   "cell_type": "code",
   "execution_count": 87,
   "metadata": {
    "ExecuteTime": {
     "end_time": "2016-11-09T06:05:37.744000",
     "start_time": "2016-11-08T11:38:51.559000"
    },
    "collapsed": false
   },
   "outputs": [
    {
     "name": "stderr",
     "output_type": "stream",
     "text": [
      "100% (39844 of 39844) |#################################################################################################| Elapsed Time: 18:26:46 Time: 18:26:46\n"
     ]
    }
   ],
   "source": [
    "pbar = ProgressBar()\n",
    "\n",
    "distances = []\n",
    "\n",
    "for idx in pbar(range(features[\"ssd\"].shape[0])):\n",
    "    distances.append(calc_similar_items(features, idx)[0])"
   ]
  },
  {
   "cell_type": "code",
   "execution_count": 90,
   "metadata": {
    "ExecuteTime": {
     "end_time": "2016-11-09T13:41:09.474000",
     "start_time": "2016-11-09T13:19:53.491000"
    },
    "collapsed": true
   },
   "outputs": [],
   "source": [
    "# save as pickle as a precaution\n",
    "with open(\"E:/temp/eu_sounds_features/distances.pickle\", \"wb\") as output_file:\n",
    "    cPickle.dump(distances, output_file)"
   ]
  },
  {
   "cell_type": "code",
   "execution_count": 91,
   "metadata": {
    "ExecuteTime": {
     "end_time": "2016-11-09T16:08:41.655000",
     "start_time": "2016-11-09T16:08:41.589000"
    },
    "collapsed": true
   },
   "outputs": [],
   "source": [
    "del features"
   ]
  },
  {
   "cell_type": "code",
   "execution_count": 107,
   "metadata": {
    "ExecuteTime": {
     "end_time": "2016-11-09T16:37:17.185000",
     "start_time": "2016-11-09T16:37:17.185000"
    },
    "collapsed": true
   },
   "outputs": [],
   "source": [
    "DST_DIR = \"G:/_eus_distances\""
   ]
  },
  {
   "cell_type": "code",
   "execution_count": 111,
   "metadata": {
    "ExecuteTime": {
     "end_time": "2016-11-09T16:48:26.119000",
     "start_time": "2016-11-09T16:48:26.069000"
    },
    "collapsed": false
   },
   "outputs": [],
   "source": [
    "with open(\"%s/indexes_for_distance_resultfiles.csv\" % DST_DIR, 'w') as out_file:\n",
    "    for i in range(len(indexes)):\n",
    "        out_file.write(\"%s\\n\" % indexes[i])"
   ]
  },
  {
   "cell_type": "code",
   "execution_count": 116,
   "metadata": {
    "ExecuteTime": {
     "end_time": "2016-11-09T22:24:36.533000",
     "start_time": "2016-11-09T16:56:33.535000"
    },
    "collapsed": false
   },
   "outputs": [
    {
     "name": "stderr",
     "output_type": "stream",
     "text": [
      "100% (39844 of 39844) |###################################################################################################| Elapsed Time: 5:28:02 Time: 5:28:02\n"
     ]
    }
   ],
   "source": [
    "pbar = ProgressBar()\n",
    "\n",
    "for i in pbar(range(len(indexes))):\n",
    "    \n",
    "    dir_name, filename = indexes[i].split(\"/\")\n",
    "    \n",
    "    store_path = \"%s/%s.csv.gz\" % (DST_DIR, indexes[i])\n",
    "    \n",
    "    #print store_path, os.path.dirname(store_path)\n",
    "    \n",
    "    if not os.path.exists(os.path.dirname(store_path)):\n",
    "        os.makedirs(os.path.dirname(store_path))\n",
    "    \n",
    "    pd.DataFrame(distances[i], index=indexes).to_csv(store_path, \n",
    "                                                     header=None, index=None, compression='gzip')\n",
    "    "
   ]
  },
  {
   "cell_type": "code",
   "execution_count": 101,
   "metadata": {
    "ExecuteTime": {
     "end_time": "2016-11-09T16:34:16.675000",
     "start_time": "2016-11-09T16:34:16.192000"
    },
    "collapsed": false
   },
   "outputs": [],
   "source": []
  },
  {
   "cell_type": "code",
   "execution_count": null,
   "metadata": {
    "collapsed": true
   },
   "outputs": [],
   "source": []
  }
 ],
 "metadata": {
  "anaconda-cloud": {},
  "kernelspec": {
   "display_name": "Python [Root]",
   "language": "python",
   "name": "Python [Root]"
  },
  "language_info": {
   "codemirror_mode": {
    "name": "ipython",
    "version": 2
   },
   "file_extension": ".py",
   "mimetype": "text/x-python",
   "name": "python",
   "nbconvert_exporter": "python",
   "pygments_lexer": "ipython2",
   "version": "2.7.11"
  },
  "notify_time": "5",
  "toc": {
   "toc_cell": false,
   "toc_number_sections": true,
   "toc_threshold": 6,
   "toc_window_display": false
  }
 },
 "nbformat": 4,
 "nbformat_minor": 1
}
