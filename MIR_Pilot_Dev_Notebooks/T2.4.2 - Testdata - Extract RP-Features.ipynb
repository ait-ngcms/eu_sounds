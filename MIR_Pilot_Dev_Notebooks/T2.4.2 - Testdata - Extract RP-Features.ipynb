{
 "cells": [
  {
   "cell_type": "code",
   "execution_count": 1,
   "metadata": {
    "ExecuteTime": {
     "end_time": "2016-07-20T12:42:55.603000",
     "start_time": "2016-07-20T12:42:54.069000"
    },
    "collapsed": false
   },
   "outputs": [
    {
     "ename": "ImportError",
     "evalue": "No module named FFmpeg",
     "output_type": "error",
     "traceback": [
      "\u001b[1;31m---------------------------------------------------------------------------\u001b[0m",
      "\u001b[1;31mImportError\u001b[0m                               Traceback (most recent call last)",
      "\u001b[1;32m<ipython-input-1-a55a5daefa95>\u001b[0m in \u001b[0;36m<module>\u001b[1;34m()\u001b[0m\n\u001b[0;32m     10\u001b[0m \u001b[0mpath\u001b[0m\u001b[1;33m.\u001b[0m\u001b[0mappend\u001b[0m\u001b[1;33m(\u001b[0m\u001b[1;34m\"C:/Work/Github/rp_extract\"\u001b[0m\u001b[1;33m)\u001b[0m\u001b[1;33m\u001b[0m\u001b[0m\n\u001b[0;32m     11\u001b[0m \u001b[1;33m\u001b[0m\u001b[0m\n\u001b[1;32m---> 12\u001b[1;33m \u001b[1;32mfrom\u001b[0m \u001b[0mFFmpeg\u001b[0m \u001b[1;32mimport\u001b[0m \u001b[0mFFmpeg\u001b[0m\u001b[1;33m\u001b[0m\u001b[0m\n\u001b[0m\u001b[0;32m     13\u001b[0m \u001b[1;32mfrom\u001b[0m \u001b[0mrp_extract_python\u001b[0m \u001b[1;32mimport\u001b[0m \u001b[0mrp_extract\u001b[0m\u001b[1;33m\u001b[0m\u001b[0m\n\u001b[0;32m     14\u001b[0m \u001b[1;33m\u001b[0m\u001b[0m\n",
      "\u001b[1;31mImportError\u001b[0m: No module named FFmpeg"
     ]
    }
   ],
   "source": [
    "import numpy as np\n",
    "import pandas as pd\n",
    "import os\n",
    "import glob\n",
    "\n",
    "import warnings\n",
    "warnings.filterwarnings('ignore')\n",
    "\n",
    "from sys import path\n",
    "path.append(\"C:/Work/Github/rp_extract\")\n",
    "\n",
    "from FFmpeg import FFmpeg\n",
    "from rp_extract_python import rp_extract\n",
    "\n",
    "%load_ext autoreload\n",
    "%autoreload 2"
   ]
  },
  {
   "cell_type": "code",
   "execution_count": 2,
   "metadata": {
    "collapsed": true
   },
   "outputs": [],
   "source": [
    "DATA_DIR = \"E:/Data/MIR/EU_SOUNDS\"\n",
    "FEATURE_DIR = \"E:/Data/MIR/EU_SOUNDS_FEATURES\""
   ]
  },
  {
   "cell_type": "code",
   "execution_count": 3,
   "metadata": {
    "collapsed": true
   },
   "outputs": [],
   "source": [
    "mp3_decoder = FFmpeg(\"D:/Research/Tools/ffmpeg/bin/ffmpeg.exe\")"
   ]
  },
  {
   "cell_type": "code",
   "execution_count": 4,
   "metadata": {
    "collapsed": false
   },
   "outputs": [
    {
     "name": "stdout",
     "output_type": "stream",
     "text": [
      "(4464000L,)\n"
     ]
    }
   ],
   "source": [
    "f = \"E:/Data/MIR/EU_SOUNDS/09301/00967B4452EDD93CB5847DAE2C681C2F3597469B.mp3\"\n",
    "\n",
    "samplerate, wavedata = mp3_decoder.convertAndRead(f)\n",
    "\n",
    "print wavedata.shape\n",
    "\n",
    "wavedata = wavedata / float(32768)\n",
    "\n",
    "extracted_features = rp_extract(wavedata,                            # the two-channel wave-data of the audio-file\n",
    "                                samplerate,                          # the samplerate of the audio-file\n",
    "                                extract_rp          = True,          # <== extract this feature!\n",
    "                                extract_rh          = True,\n",
    "                                extract_ssd         = True,\n",
    "                                extract_mvd         = True,\n",
    "                                extract_trh         = True,\n",
    "                                extract_tssd        = True,\n",
    "                                transform_db        = True,          # apply psycho-accoustic transformation\n",
    "                                transform_phon      = True,          # apply psycho-accoustic transformation\n",
    "                                transform_sone      = True,          # apply psycho-accoustic transformation\n",
    "                                fluctuation_strength_weighting=True, # apply psycho-accoustic transformation\n",
    "                                skip_leadin_fadeout = 0,             # skip lead-in/fade-out. value = number of segments skipped\n",
    "                                step_width          = 1)             # "
   ]
  },
  {
   "cell_type": "code",
   "execution_count": null,
   "metadata": {
    "collapsed": true
   },
   "outputs": [],
   "source": [
    "dst_filename = \"D:/tmp/eu_sounds_mp3_feature\"\n",
    "\n",
    "np.savez(dst_filename,\n",
    "         rp = extracted_features[\"rp\"],\n",
    "         rh = extracted_features[\"rh\"],\n",
    "         trh = extracted_features[\"trh\"],\n",
    "         ssd = extracted_features[\"ssd\"],\n",
    "         tssd = extracted_features[\"tssd\"],\n",
    "         mvd = extracted_features[\"mvd\"])"
   ]
  },
  {
   "cell_type": "code",
   "execution_count": null,
   "metadata": {
    "collapsed": false,
    "scrolled": true
   },
   "outputs": [],
   "source": [
    "i = 1\n",
    "\n",
    "for dir_name in glob.glob(os.path.join(DATA_DIR, \"*\")):\n",
    "    \n",
    "    src_path = dir_name.replace(\"\\\\\",\"/\")\n",
    "    dst_path = src_path.replace(DATA_DIR, FEATURE_DIR)\n",
    "    \n",
    "    if not os.path.exists(dst_path):\n",
    "        os.makedirs(dst_path)\n",
    "    \n",
    "    for mp3_name in glob.glob(os.path.join(src_path, \"*.mp3\")):\n",
    "        \n",
    "        src_filename = mp3_name.replace(\"\\\\\",\"/\")\n",
    "        dst_filename = src_filename.replace(DATA_DIR, FEATURE_DIR)\n",
    "        \n",
    "        if os.path.exists(\"%s.npz\" % (dst_filename)):\n",
    "            i += 1\n",
    "            continue\n",
    "        \n",
    "        try:\n",
    "            \n",
    "            samplerate, wavedata = mp3_decoder.convertAndRead(src_filename)\n",
    "            wavedata = wavedata / float(32768)\n",
    "\n",
    "            extracted_features = rp_extract(wavedata,                            # the two-channel wave-data of the audio-file\n",
    "                                            samplerate,                          # the samplerate of the audio-file\n",
    "                                            extract_rp          = True,          # <== extract this feature!\n",
    "                                            extract_rh          = True,\n",
    "                                            extract_ssd         = True,\n",
    "                                            extract_mvd         = True,\n",
    "                                            extract_trh         = True,\n",
    "                                            extract_tssd        = True,\n",
    "                                            transform_db        = True,          # apply psycho-accoustic transformation\n",
    "                                            transform_phon      = True,          # apply psycho-accoustic transformation\n",
    "                                            transform_sone      = True,          # apply psycho-accoustic transformation\n",
    "                                            fluctuation_strength_weighting=True, # apply psycho-accoustic transformation\n",
    "                                            skip_leadin_fadeout = 0,             # skip lead-in/fade-out. value = number of segments skipped\n",
    "                                            step_width          = 1)             # \n",
    "\n",
    "\n",
    "            np.savez(dst_filename,\n",
    "                     rp = extracted_features[\"rp\"],\n",
    "                     rh = extracted_features[\"rh\"],\n",
    "                     trh = extracted_features[\"trh\"],\n",
    "                     ssd = extracted_features[\"ssd\"],\n",
    "                     tssd = extracted_features[\"tssd\"],\n",
    "                     mvd = extracted_features[\"mvd\"])\n",
    "            \n",
    "            i += 1\n",
    "            \n",
    "            if i % 10000 == 0:\n",
    "                print i\n",
    "            \n",
    "        except Exception as e:\n",
    "            #print src_filename, e\n",
    "            pass\n",
    "    "
   ]
  }
 ],
 "metadata": {
  "kernelspec": {
   "display_name": "Python 2",
   "language": "python",
   "name": "python2"
  },
  "language_info": {
   "codemirror_mode": {
    "name": "ipython",
    "version": 2
   },
   "file_extension": ".py",
   "mimetype": "text/x-python",
   "name": "python",
   "nbconvert_exporter": "python",
   "pygments_lexer": "ipython2",
   "version": "2.7.11"
  },
  "toc": {
   "toc_cell": false,
   "toc_number_sections": true,
   "toc_threshold": 6,
   "toc_window_display": false
  }
 },
 "nbformat": 4,
 "nbformat_minor": 0
}
