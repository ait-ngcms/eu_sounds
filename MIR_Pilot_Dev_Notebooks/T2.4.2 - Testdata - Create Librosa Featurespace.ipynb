{
 "cells": [
  {
   "cell_type": "code",
   "execution_count": 1,
   "metadata": {
    "collapsed": true
   },
   "outputs": [],
   "source": [
    "import os\n",
    "import glob\n",
    "\n",
    "import numpy as np\n",
    "import pandas as pd"
   ]
  },
  {
   "cell_type": "code",
   "execution_count": 2,
   "metadata": {
    "collapsed": true
   },
   "outputs": [],
   "source": [
    "FEATURE_DIR   = \"E:/Data/MIR/EU_SOUNDS_FEATURES\"\n",
    "HDFSTORE_PATH = \"E:/Data/MIR/EU_SOUNDS_FEATURES\""
   ]
  },
  {
   "cell_type": "code",
   "execution_count": null,
   "metadata": {
    "collapsed": true
   },
   "outputs": [],
   "source": [
    "i = 1\n",
    "\n",
    "data = {}\n",
    "\n",
    "for feat_set in ['trh', 'rp', 'mvd', 'ssd', 'tssd', 'rh', 'filename']:\n",
    "    data[feat_set] = []\n",
    "\n",
    "for dir_name in glob.glob(os.path.join(FEATURE_DIR, \"*\")):\n",
    "    \n",
    "    src_path = dir_name.replace(\"\\\\\",\"/\")\n",
    "    \n",
    "    for npz_name in glob.glob(os.path.join(src_path, \"*.npz\")):\n",
    "        \n",
    "        try:\n",
    "            \n",
    "            npz = np.load(npz_name.replace(\"\\\\\",\"/\"))\n",
    "            \n",
    "            for feat_set in ['trh', 'rp', 'mvd', 'ssd', 'tssd', 'rh']:\n",
    "                data[feat_set].append(npz[feat_set])\n",
    "                \n",
    "            data['filename'].append(npz_name)\n",
    "            \n",
    "            i += 1\n",
    "            \n",
    "            if i % 10000 == 0:\n",
    "                print i\n",
    "            \n",
    "        except Exception as e:\n",
    "            \n",
    "            print npz_name, e\n",
    "            i += 1\n",
    "            \n",
    "        finally:\n",
    "            \n",
    "            npz.close()\n"
   ]
  },
  {
   "cell_type": "code",
   "execution_count": null,
   "metadata": {
    "collapsed": true
   },
   "outputs": [],
   "source": [
    "#for feat_set in ['trh', 'rp', 'mvd', 'ssd', 'tssd', 'rh']:\n",
    "np.savez(\"E:/Data/MIR/EU_SOUNDS_FEATURES/combined_features\",\n",
    "         trh  = np.asarray(data['trh']), \n",
    "         rp   = np.asarray(data['rp']), \n",
    "         mvd  = np.asarray(data['mvd']), \n",
    "         ssd  = np.asarray(data['ssd']), \n",
    "         tssd = np.asarray(data['tssd']), \n",
    "         rh   = np.asarray(data['rh']),\n",
    "         filenames = np.asarray(data['filename']))"
   ]
  }
 ],
 "metadata": {
  "kernelspec": {
   "display_name": "Python 2",
   "language": "python",
   "name": "python2"
  },
  "language_info": {
   "codemirror_mode": {
    "name": "ipython",
    "version": 2
   },
   "file_extension": ".py",
   "mimetype": "text/x-python",
   "name": "python",
   "nbconvert_exporter": "python",
   "pygments_lexer": "ipython2",
   "version": "2.7.9"
  }
 },
 "nbformat": 4,
 "nbformat_minor": 0
}
