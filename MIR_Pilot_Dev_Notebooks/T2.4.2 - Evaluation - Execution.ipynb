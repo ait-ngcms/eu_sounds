{
 "cells": [
  {
   "cell_type": "markdown",
   "metadata": {},
   "source": [
    "# Evaluation of the MIR Pilot"
   ]
  },
  {
   "cell_type": "code",
   "execution_count": 1,
   "metadata": {
    "collapsed": true
   },
   "outputs": [],
   "source": [
    "%matplotlib inline\n",
    "\n",
    "import matplotlib.pylab as plt\n",
    "\n",
    "import numpy as np\n",
    "np.set_printoptions(suppress=True)\n",
    "\n",
    "import pandas as pd\n",
    "\n",
    "from IPython.display import display, HTML\n",
    "\n",
    "from sklearn.neighbors import NearestNeighbors\n",
    "from sklearn.decomposition import PCA"
   ]
  },
  {
   "cell_type": "markdown",
   "metadata": {},
   "source": [
    "**Data Paths**"
   ]
  },
  {
   "cell_type": "code",
   "execution_count": 22,
   "metadata": {
    "collapsed": true
   },
   "outputs": [],
   "source": [
    "FEATURE_FILE_PATH = \"E:/Data/MIR/EU_SOUNDS_FEATURES/combined_features.npz\"\n",
    "METADATA_PATH     = \"E:/Data/MIR/EU_SOUNDS_FEATURES/combined_metadata.p\""
   ]
  },
  {
   "cell_type": "markdown",
   "metadata": {},
   "source": [
    "**Utility Functions**"
   ]
  },
  {
   "cell_type": "code",
   "execution_count": 3,
   "metadata": {
    "collapsed": true
   },
   "outputs": [],
   "source": [
    "def expand_query_space(p,q):\n",
    "    \n",
    "    query_space = np.zeros(tuple(p.shape))\n",
    "    query_space[:,:] = q\n",
    "    \n",
    "    return query_space"
   ]
  },
  {
   "cell_type": "markdown",
   "metadata": {},
   "source": [
    "**Distance Measures**"
   ]
  },
  {
   "cell_type": "code",
   "execution_count": 4,
   "metadata": {
    "collapsed": true
   },
   "outputs": [],
   "source": [
    "distance_measures= {}\n",
    "\n",
    "distance_measures[\"l1\"] = lambda data, i : \\\n",
    "    np.sum(abs(data - data[i,:]), axis=1)\n",
    "\n",
    "distance_measures[\"canberra\"] = lambda data, query : \\\n",
    "    np.nansum(abs(data - query) / (abs(data) + abs(query)), axis=1)\n",
    "\n",
    "distance_measures[\"wave_hedges\"] = lambda data, i : \\\n",
    "    np.sum( np.abs(data - data[i,:]) / np.max([data, expand_query_space(data,data[1,:])], axis=0), axis=1)\n",
    "    \n",
    "distance_measures[\"dice\"] = lambda data, i : \\\n",
    "    np.sum( (data - data[i,:])**2, axis=1) / \\\n",
    "    (np.sum( data**2, axis=1) + np.sum( expand_query_space(data,data[1,:])**2, axis=1))\n",
    "    \n",
    "distance_measures[\"braycurtis\"] = lambda data, i : \\\n",
    "    np.abs(data - data[i,:]).sum(axis=1) / np.abs(data + data[i,:]).sum(axis=1)\n",
    "    \n",
    "distance_measures[\"cosine\"] = lambda dat, i : \\\n",
    "    np.abs(1 - np.sum( dat * dat[i,:], axis=1) / \\\n",
    "    (np.sqrt(np.sum( dat**2, axis=1)) * np.sqrt(np.sum(expand_query_space(dat,dat[i,:])**2, axis=1))))"
   ]
  },
  {
   "cell_type": "markdown",
   "metadata": {},
   "source": [
    "## Load Data"
   ]
  },
  {
   "cell_type": "markdown",
   "metadata": {},
   "source": [
    "### Load Metadata"
   ]
  },
  {
   "cell_type": "code",
   "execution_count": 34,
   "metadata": {
    "collapsed": false
   },
   "outputs": [],
   "source": [
    "metadata  = pd.read_pickle(METADATA_PATH)\n",
    "metadata2 = pd.read_pickle(\"E:/Data/MIR/EU_SOUNDS_FEATURES/aggregated_metadata.p\")\n",
    "#m         = metadata.join(metadata2, how='right', rsuffix='a', lsuffix='b')\n",
    "m = metadata"
   ]
  },
  {
   "cell_type": "markdown",
   "metadata": {},
   "source": [
    "### Load Feature Data"
   ]
  },
  {
   "cell_type": "code",
   "execution_count": 24,
   "metadata": {
    "collapsed": false
   },
   "outputs": [],
   "source": [
    "features = {}\n",
    " \n",
    "# open pickle\n",
    "npz = np.load(\"E:/Data/MIR/EU_SOUNDS_FEATURES/combined_features.npz\")\n",
    "\n",
    "# load features\n",
    "features[\"ssd\"] = npz[\"ssd\"][metadata[\"index\"], :]\n",
    "features[\"rp\"]  = npz[\"rp\"][metadata[\"index\"], :]\n",
    "\n",
    "npz.close()\n",
    "\n",
    "\n",
    "npz = np.load(\"E:/Data/MIR/EU_SOUNDS_FEATURES/combined_librosa_features.npz\")\n",
    "\n",
    "features[\"mfcc\"] = npz[\"mfcc\"][metadata[\"index_librosa\"].values,:]\n",
    "#features[\"mfcc\"] -= features[\"mfcc\"].min(axis=0)\n",
    "#features[\"mfcc\"] /= features[\"mfcc\"].max(axis=0)\n",
    "\n",
    "features[\"chroma\"] = npz[\"chroma\"][metadata[\"index_librosa\"].values,:]\n",
    "#features[\"chroma\"] -= features[\"chroma\"].min(axis=0)\n",
    "#features[\"chroma\"] /= features[\"chroma\"].max(axis=0)\n",
    "\n",
    "features[\"rmse\"] = npz[\"rmse\"][metadata[\"index_librosa\"].values,:]\n",
    "#features[\"rmse\"] -= features[\"rmse\"].min(axis=0)\n",
    "#features[\"rmse\"] /= features[\"rmse\"].max(axis=0)\n",
    "\n",
    "features[\"spectral_centroid\"] = npz[\"spectral_centroid\"][metadata[\"index_librosa\"].values,:]\n",
    "#features[\"spectral_centroid\"] -= features[\"spectral_centroid\"].min(axis=0)\n",
    "#features[\"spectral_centroid\"] /= features[\"spectral_centroid\"].max(axis=0)\n",
    "\n",
    "features[\"spectral_bandwidth\"] = npz[\"spectral_bandwidth\"][metadata[\"index_librosa\"].values,:]\n",
    "\n",
    "features[\"spectral_contrast\"] = npz[\"spectral_contrast\"][metadata[\"index_librosa\"].values,:]\n",
    "\n",
    "features[\"spectral_rolloff\"] = npz[\"spectral_rolloff\"][metadata[\"index_librosa\"].values,:]\n",
    "\n",
    "features[\"tonnetz\"] = npz[\"tonnetz\"][metadata[\"index_librosa\"].values,:]\n",
    "#features[\"tonnetz\"] -= features[\"tonnetz\"].min(axis=0)\n",
    "#features[\"tonnetz\"] /= features[\"tonnetz\"].max(axis=0)\n",
    "\n",
    "features[\"zero_crossing_rate\"] = npz[\"zero_crossing_rate\"][metadata[\"index_librosa\"].values,:]\n",
    "#features[\"zero_crossing_rate\"] -= features[\"zero_crossing_rate\"].min(axis=0)\n",
    "#features[\"zero_crossing_rate\"] /= features[\"zero_crossing_rate\"].max(axis=0)\n",
    "\n",
    "features[\"bpm\"] = npz[\"bpm\"][metadata[\"index_librosa\"].values]\n",
    "features[\"bpm\"] = features[\"bpm\"].reshape((features[\"bpm\"].shape[0],1))\n",
    "\n",
    "npz.close()"
   ]
  },
  {
   "cell_type": "code",
   "execution_count": 8,
   "metadata": {
    "collapsed": false
   },
   "outputs": [],
   "source": [
    "def calc_similar_items(query_idx):\n",
    "    \n",
    "    dists_ssd = distance_measures[\"canberra\"](features[\"ssd\"], \n",
    "                                              features[\"ssd\"][query_idx,:])\n",
    "    dists_ssd = 1 - (dists_ssd / dists_ssd.max())\n",
    "\n",
    "    dists_rp = distance_measures[\"canberra\"](features[\"rp\"],\n",
    "                                             features[\"rp\"][query_idx,:])\n",
    "    dists_rp = 1 - (dists_rp / dists_rp.max())\n",
    "\n",
    "    dists_mfcc = distance_measures[\"canberra\"](features[\"mfcc\"], \n",
    "                                               features[\"mfcc\"][query_idx,:])\n",
    "    dists_mfcc = 1 - (dists_mfcc / dists_mfcc.max())\n",
    "\n",
    "    dists_chroma = distance_measures[\"canberra\"](features[\"chroma\"], \n",
    "                                                 features[\"chroma\"][query_idx,:])\n",
    "    dists_chroma = 1 - (dists_chroma / dists_chroma.max())\n",
    "\n",
    "    dists_bpm = distance_measures[\"canberra\"](features[\"bpm\"], \n",
    "                                              features[\"bpm\"][query_idx])\n",
    "    dists_bpm = 1 - (dists_bpm / dists_bpm.max())\n",
    "    \n",
    "    dists_rmse = distance_measures[\"canberra\"](features[\"rmse\"], \n",
    "                                               features[\"rmse\"][query_idx,:])\n",
    "    dists_rmse = 1 - (dists_rmse / dists_rmse.max())\n",
    "    \n",
    "    dists_spectral_centroid = distance_measures[\"canberra\"](features[\"spectral_centroid\"], \n",
    "                                                            features[\"spectral_centroid\"][query_idx,:])\n",
    "    dists_spectral_centroid = 1 - (dists_spectral_centroid / dists_spectral_centroid.max())\n",
    "    \n",
    "    dists_tonnetz = distance_measures[\"canberra\"](features[\"tonnetz\"], \n",
    "                                                  features[\"tonnetz\"][query_idx,:])\n",
    "    dists_tonnetz = 1 - (dists_tonnetz / dists_tonnetz.max())\n",
    "    \n",
    "    dists_zero_crossing_rate = distance_measures[\"canberra\"](features[\"zero_crossing_rate\"], \n",
    "                                                             features[\"zero_crossing_rate\"][query_idx,:])\n",
    "    dists_zero_crossing_rate = 1 - (dists_zero_crossing_rate / dists_zero_crossing_rate.max())\n",
    "    \n",
    "    sims = (dists_ssd                * 0.9  + \\\n",
    "            dists_rp                 * 1.99 + \\\n",
    "            dists_mfcc               * 2.5  + \\\n",
    "            dists_chroma             * 1.3  + \\\n",
    "            dists_bpm                * 0.8  + \\\n",
    "            dists_rmse               * 1.0  + \\\n",
    "            dists_spectral_centroid  * 0.9  + \\\n",
    "            dists_tonnetz            * 1.3  + \\\n",
    "            dists_zero_crossing_rate * 0.2)\n",
    "    \n",
    "    sims /= sims.max()\n",
    "\n",
    "    nn = np.argsort(sims)[::-1]\n",
    "\n",
    "    return sims, nn"
   ]
  },
  {
   "cell_type": "markdown",
   "metadata": {},
   "source": [
    "## Perform evaluations"
   ]
  },
  {
   "cell_type": "code",
   "execution_count": 9,
   "metadata": {
    "collapsed": false
   },
   "outputs": [],
   "source": [
    "def perform_evaluation(eval_class_ids, cutoff, sub_sample_size=None):\n",
    "    \n",
    "    result_precision = []\n",
    "    result_recall    = []\n",
    "    \n",
    "    # define size of eval-set\n",
    "    if sub_sample_size:\n",
    "        eval_instances = np.random.choice(eval_class_ids, sub_sample_size)\n",
    "    else:\n",
    "        eval_instances = eval_class_ids\n",
    "        \n",
    "    eval_instances = eval_instances.astype(np.uint32)\n",
    "    \n",
    "    i = 0\n",
    "    \n",
    "    # iterate over all eval-instances\n",
    "    for eval_id in eval_instances:\n",
    "        \n",
    "        # calculate nearest neighbors\n",
    "        sims, nn = calc_similar_items(eval_id)\n",
    "        \n",
    "        # select evaluation frame of the similarity list\n",
    "        eval_result_list_cutoff = nn[1:cutoff+1]\n",
    "        \n",
    "        # calculcate true positives\n",
    "        true_positives = np.intersect1d(eval_result_list_cutoff, eval_class_ids)\n",
    "        \n",
    "        # calculate precision\n",
    "        precision = float(true_positives.shape[0]) / float(cutoff)\n",
    "        \n",
    "        result_precision.append(precision)\n",
    "        \n",
    "        i += 1\n",
    "        \n",
    "        if i % 10 == 0:\n",
    "            print i\n",
    "                \n",
    "            \n",
    "    return result_precision\n",
    "\n",
    "#perform_evaluation(eval_class_ids, 10, 10)"
   ]
  },
  {
   "cell_type": "markdown",
   "metadata": {},
   "source": [
    "## Build Ground-Truth Queries"
   ]
  },
  {
   "cell_type": "code",
   "execution_count": 36,
   "metadata": {
    "collapsed": true
   },
   "outputs": [],
   "source": [
    "elements_to_search  = [\"title\",\n",
    "                       \"aggregations.0.edmDataProvider.def\", \n",
    "                       \"aggregations.0.edmProvider.def\",\n",
    "                       \"proxies.0.dctermsCreated.def\", \n",
    "                       \"proxies.0.dctermsExtent.def\", \n",
    "                       \"proxies.0.dctermsMedium.def\", \n",
    "                       \"proxies.0.dctermsSpatial.def\",\n",
    "                       \"proxies.0.dctermsTOC.def\",\n",
    "                       \"proxies.0.dctermsIsPartOf.def\",\n",
    "                       \"proxies.0.dcFormat.def\",\n",
    "                       \"proxies.0.dcCoverage.def\",\n",
    "                       \"proxies.0.dcContributor.def\",\n",
    "                       \"proxies.0.dcCreator.def\",\n",
    "                       \"proxies.0.dcSubject.def\",                       \n",
    "                       \"proxies.0.dcLanguage.def\",\n",
    "                       \"proxies.0.dcDescription.def\",\n",
    "                       \"proxies.0.dcType.def\",\n",
    "                       \"europeanaAggregation.edmCountry.def\",\n",
    "                       \"europeanaAggregation.edmLanguage.def\"\n",
    "                      ]"
   ]
  },
  {
   "cell_type": "code",
   "execution_count": 11,
   "metadata": {
    "collapsed": false,
    "scrolled": true
   },
   "outputs": [
    {
     "ename": "KeyError",
     "evalue": "'titlea'",
     "output_type": "error",
     "traceback": [
      "\u001b[1;31m---------------------------------------------------------------------------\u001b[0m",
      "\u001b[1;31mKeyError\u001b[0m                                  Traceback (most recent call last)",
      "\u001b[1;32m<ipython-input-11-f4c08530e89c>\u001b[0m in \u001b[0;36m<module>\u001b[1;34m()\u001b[0m\n\u001b[0;32m      9\u001b[0m \u001b[1;33m\u001b[0m\u001b[0m\n\u001b[0;32m     10\u001b[0m \u001b[1;32mfor\u001b[0m \u001b[0melem\u001b[0m \u001b[1;32min\u001b[0m \u001b[0melements_to_search\u001b[0m\u001b[1;33m:\u001b[0m\u001b[1;33m\u001b[0m\u001b[0m\n\u001b[1;32m---> 11\u001b[1;33m     \u001b[0mlogic_result\u001b[0m\u001b[1;33m.\u001b[0m\u001b[0mappend\u001b[0m\u001b[1;33m(\u001b[0m\u001b[0mnp\u001b[0m\u001b[1;33m.\u001b[0m\u001b[0mlogical_and\u001b[0m\u001b[1;33m.\u001b[0m\u001b[0mreduce\u001b[0m\u001b[1;33m(\u001b[0m\u001b[1;33m[\u001b[0m\u001b[0mmetadata2\u001b[0m\u001b[1;33m[\u001b[0m\u001b[0melem\u001b[0m\u001b[1;33m]\u001b[0m\u001b[1;33m.\u001b[0m\u001b[0mstr\u001b[0m\u001b[1;33m.\u001b[0m\u001b[0mcontains\u001b[0m\u001b[1;33m(\u001b[0m\u001b[0mkeyword\u001b[0m\u001b[1;33m,\u001b[0m \u001b[0mcase\u001b[0m\u001b[1;33m=\u001b[0m\u001b[0mFalse\u001b[0m\u001b[1;33m)\u001b[0m\u001b[1;33m.\u001b[0m\u001b[0mfillna\u001b[0m\u001b[1;33m(\u001b[0m\u001b[0mFalse\u001b[0m\u001b[1;33m)\u001b[0m \u001b[1;32mfor\u001b[0m \u001b[0mkeyword\u001b[0m \u001b[1;32min\u001b[0m \u001b[0mkeywords\u001b[0m\u001b[1;33m]\u001b[0m\u001b[1;33m)\u001b[0m\u001b[1;33m)\u001b[0m\u001b[1;33m\u001b[0m\u001b[0m\n\u001b[0m\u001b[0;32m     12\u001b[0m \u001b[1;33m\u001b[0m\u001b[0m\n\u001b[0;32m     13\u001b[0m \u001b[1;31m# apply mask to joined metadata\u001b[0m\u001b[1;33m\u001b[0m\u001b[1;33m\u001b[0m\u001b[0m\n",
      "\u001b[1;32mc:\\python_27\\lib\\site-packages\\pandas\\core\\frame.pyc\u001b[0m in \u001b[0;36m__getitem__\u001b[1;34m(self, key)\u001b[0m\n\u001b[0;32m   1778\u001b[0m             \u001b[1;32mreturn\u001b[0m \u001b[0mself\u001b[0m\u001b[1;33m.\u001b[0m\u001b[0m_getitem_multilevel\u001b[0m\u001b[1;33m(\u001b[0m\u001b[0mkey\u001b[0m\u001b[1;33m)\u001b[0m\u001b[1;33m\u001b[0m\u001b[0m\n\u001b[0;32m   1779\u001b[0m         \u001b[1;32melse\u001b[0m\u001b[1;33m:\u001b[0m\u001b[1;33m\u001b[0m\u001b[0m\n\u001b[1;32m-> 1780\u001b[1;33m             \u001b[1;32mreturn\u001b[0m \u001b[0mself\u001b[0m\u001b[1;33m.\u001b[0m\u001b[0m_getitem_column\u001b[0m\u001b[1;33m(\u001b[0m\u001b[0mkey\u001b[0m\u001b[1;33m)\u001b[0m\u001b[1;33m\u001b[0m\u001b[0m\n\u001b[0m\u001b[0;32m   1781\u001b[0m \u001b[1;33m\u001b[0m\u001b[0m\n\u001b[0;32m   1782\u001b[0m     \u001b[1;32mdef\u001b[0m \u001b[0m_getitem_column\u001b[0m\u001b[1;33m(\u001b[0m\u001b[0mself\u001b[0m\u001b[1;33m,\u001b[0m \u001b[0mkey\u001b[0m\u001b[1;33m)\u001b[0m\u001b[1;33m:\u001b[0m\u001b[1;33m\u001b[0m\u001b[0m\n",
      "\u001b[1;32mc:\\python_27\\lib\\site-packages\\pandas\\core\\frame.pyc\u001b[0m in \u001b[0;36m_getitem_column\u001b[1;34m(self, key)\u001b[0m\n\u001b[0;32m   1785\u001b[0m         \u001b[1;31m# get column\u001b[0m\u001b[1;33m\u001b[0m\u001b[1;33m\u001b[0m\u001b[0m\n\u001b[0;32m   1786\u001b[0m         \u001b[1;32mif\u001b[0m \u001b[0mself\u001b[0m\u001b[1;33m.\u001b[0m\u001b[0mcolumns\u001b[0m\u001b[1;33m.\u001b[0m\u001b[0mis_unique\u001b[0m\u001b[1;33m:\u001b[0m\u001b[1;33m\u001b[0m\u001b[0m\n\u001b[1;32m-> 1787\u001b[1;33m             \u001b[1;32mreturn\u001b[0m \u001b[0mself\u001b[0m\u001b[1;33m.\u001b[0m\u001b[0m_get_item_cache\u001b[0m\u001b[1;33m(\u001b[0m\u001b[0mkey\u001b[0m\u001b[1;33m)\u001b[0m\u001b[1;33m\u001b[0m\u001b[0m\n\u001b[0m\u001b[0;32m   1788\u001b[0m \u001b[1;33m\u001b[0m\u001b[0m\n\u001b[0;32m   1789\u001b[0m         \u001b[1;31m# duplicate columns & possible reduce dimensionaility\u001b[0m\u001b[1;33m\u001b[0m\u001b[1;33m\u001b[0m\u001b[0m\n",
      "\u001b[1;32mc:\\python_27\\lib\\site-packages\\pandas\\core\\generic.pyc\u001b[0m in \u001b[0;36m_get_item_cache\u001b[1;34m(self, item)\u001b[0m\n\u001b[0;32m   1066\u001b[0m         \u001b[0mres\u001b[0m \u001b[1;33m=\u001b[0m \u001b[0mcache\u001b[0m\u001b[1;33m.\u001b[0m\u001b[0mget\u001b[0m\u001b[1;33m(\u001b[0m\u001b[0mitem\u001b[0m\u001b[1;33m)\u001b[0m\u001b[1;33m\u001b[0m\u001b[0m\n\u001b[0;32m   1067\u001b[0m         \u001b[1;32mif\u001b[0m \u001b[0mres\u001b[0m \u001b[1;32mis\u001b[0m \u001b[0mNone\u001b[0m\u001b[1;33m:\u001b[0m\u001b[1;33m\u001b[0m\u001b[0m\n\u001b[1;32m-> 1068\u001b[1;33m             \u001b[0mvalues\u001b[0m \u001b[1;33m=\u001b[0m \u001b[0mself\u001b[0m\u001b[1;33m.\u001b[0m\u001b[0m_data\u001b[0m\u001b[1;33m.\u001b[0m\u001b[0mget\u001b[0m\u001b[1;33m(\u001b[0m\u001b[0mitem\u001b[0m\u001b[1;33m)\u001b[0m\u001b[1;33m\u001b[0m\u001b[0m\n\u001b[0m\u001b[0;32m   1069\u001b[0m             \u001b[0mres\u001b[0m \u001b[1;33m=\u001b[0m \u001b[0mself\u001b[0m\u001b[1;33m.\u001b[0m\u001b[0m_box_item_values\u001b[0m\u001b[1;33m(\u001b[0m\u001b[0mitem\u001b[0m\u001b[1;33m,\u001b[0m \u001b[0mvalues\u001b[0m\u001b[1;33m)\u001b[0m\u001b[1;33m\u001b[0m\u001b[0m\n\u001b[0;32m   1070\u001b[0m             \u001b[0mcache\u001b[0m\u001b[1;33m[\u001b[0m\u001b[0mitem\u001b[0m\u001b[1;33m]\u001b[0m \u001b[1;33m=\u001b[0m \u001b[0mres\u001b[0m\u001b[1;33m\u001b[0m\u001b[0m\n",
      "\u001b[1;32mc:\\python_27\\lib\\site-packages\\pandas\\core\\internals.pyc\u001b[0m in \u001b[0;36mget\u001b[1;34m(self, item, fastpath)\u001b[0m\n\u001b[0;32m   2847\u001b[0m \u001b[1;33m\u001b[0m\u001b[0m\n\u001b[0;32m   2848\u001b[0m             \u001b[1;32mif\u001b[0m \u001b[1;32mnot\u001b[0m \u001b[0misnull\u001b[0m\u001b[1;33m(\u001b[0m\u001b[0mitem\u001b[0m\u001b[1;33m)\u001b[0m\u001b[1;33m:\u001b[0m\u001b[1;33m\u001b[0m\u001b[0m\n\u001b[1;32m-> 2849\u001b[1;33m                 \u001b[0mloc\u001b[0m \u001b[1;33m=\u001b[0m \u001b[0mself\u001b[0m\u001b[1;33m.\u001b[0m\u001b[0mitems\u001b[0m\u001b[1;33m.\u001b[0m\u001b[0mget_loc\u001b[0m\u001b[1;33m(\u001b[0m\u001b[0mitem\u001b[0m\u001b[1;33m)\u001b[0m\u001b[1;33m\u001b[0m\u001b[0m\n\u001b[0m\u001b[0;32m   2850\u001b[0m             \u001b[1;32melse\u001b[0m\u001b[1;33m:\u001b[0m\u001b[1;33m\u001b[0m\u001b[0m\n\u001b[0;32m   2851\u001b[0m                 \u001b[0mindexer\u001b[0m \u001b[1;33m=\u001b[0m \u001b[0mnp\u001b[0m\u001b[1;33m.\u001b[0m\u001b[0marange\u001b[0m\u001b[1;33m(\u001b[0m\u001b[0mlen\u001b[0m\u001b[1;33m(\u001b[0m\u001b[0mself\u001b[0m\u001b[1;33m.\u001b[0m\u001b[0mitems\u001b[0m\u001b[1;33m)\u001b[0m\u001b[1;33m)\u001b[0m\u001b[1;33m[\u001b[0m\u001b[0misnull\u001b[0m\u001b[1;33m(\u001b[0m\u001b[0mself\u001b[0m\u001b[1;33m.\u001b[0m\u001b[0mitems\u001b[0m\u001b[1;33m)\u001b[0m\u001b[1;33m]\u001b[0m\u001b[1;33m\u001b[0m\u001b[0m\n",
      "\u001b[1;32mc:\\python_27\\lib\\site-packages\\pandas\\core\\index.pyc\u001b[0m in \u001b[0;36mget_loc\u001b[1;34m(self, key)\u001b[0m\n\u001b[0;32m   1400\u001b[0m         \u001b[0mloc\u001b[0m \u001b[1;33m:\u001b[0m \u001b[0mint\u001b[0m \u001b[1;32mif\u001b[0m \u001b[0munique\u001b[0m \u001b[0mindex\u001b[0m\u001b[1;33m,\u001b[0m \u001b[0mpossibly\u001b[0m \u001b[0mslice\u001b[0m \u001b[1;32mor\u001b[0m \u001b[0mmask\u001b[0m \u001b[1;32mif\u001b[0m \u001b[1;32mnot\u001b[0m\u001b[1;33m\u001b[0m\u001b[0m\n\u001b[0;32m   1401\u001b[0m         \"\"\"\n\u001b[1;32m-> 1402\u001b[1;33m         \u001b[1;32mreturn\u001b[0m \u001b[0mself\u001b[0m\u001b[1;33m.\u001b[0m\u001b[0m_engine\u001b[0m\u001b[1;33m.\u001b[0m\u001b[0mget_loc\u001b[0m\u001b[1;33m(\u001b[0m\u001b[0m_values_from_object\u001b[0m\u001b[1;33m(\u001b[0m\u001b[0mkey\u001b[0m\u001b[1;33m)\u001b[0m\u001b[1;33m)\u001b[0m\u001b[1;33m\u001b[0m\u001b[0m\n\u001b[0m\u001b[0;32m   1403\u001b[0m \u001b[1;33m\u001b[0m\u001b[0m\n\u001b[0;32m   1404\u001b[0m     \u001b[1;32mdef\u001b[0m \u001b[0mget_value\u001b[0m\u001b[1;33m(\u001b[0m\u001b[0mself\u001b[0m\u001b[1;33m,\u001b[0m \u001b[0mseries\u001b[0m\u001b[1;33m,\u001b[0m \u001b[0mkey\u001b[0m\u001b[1;33m)\u001b[0m\u001b[1;33m:\u001b[0m\u001b[1;33m\u001b[0m\u001b[0m\n",
      "\u001b[1;32mpandas\\index.pyx\u001b[0m in \u001b[0;36mpandas.index.IndexEngine.get_loc (pandas\\index.c:3820)\u001b[1;34m()\u001b[0m\n",
      "\u001b[1;32mpandas\\index.pyx\u001b[0m in \u001b[0;36mpandas.index.IndexEngine.get_loc (pandas\\index.c:3700)\u001b[1;34m()\u001b[0m\n",
      "\u001b[1;32mpandas\\hashtable.pyx\u001b[0m in \u001b[0;36mpandas.hashtable.PyObjectHashTable.get_item (pandas\\hashtable.c:12323)\u001b[1;34m()\u001b[0m\n",
      "\u001b[1;32mpandas\\hashtable.pyx\u001b[0m in \u001b[0;36mpandas.hashtable.PyObjectHashTable.get_item (pandas\\hashtable.c:12274)\u001b[1;34m()\u001b[0m\n",
      "\u001b[1;31mKeyError\u001b[0m: 'titlea'"
     ]
    }
   ],
   "source": [
    "#keywords = [\"string\", \"quartet\", \"a minor\", \"andante\"]\n",
    "#keywords = [\"piano\", \"Eb\", \"allegro\", \"sonata\"]\n",
    "#keywords = [\"string\", \"quartet\", \"allegro\", \"C Minor\"]\n",
    "#keywords = [\"bebop\", \"jazz\"]\n",
    "#keywords = [\"cassette\", \"fiddle\"]\n",
    "keywords = [\"interview\"]\n",
    "\n",
    "logic_result = []\n",
    "\n",
    "for elem in elements_to_search:\n",
    "    logic_result.append(np.logical_and.reduce([metadata2[elem].str.contains(keyword, case=False).fillna(False) for keyword in keywords]))\n",
    "\n",
    "# apply mask to joined metadata\n",
    "res = m[np.logical_or.reduce(logic_result)]\n",
    "\n",
    "# only select instances where audio features are available\n",
    "res = res[(res[\"index\"].isnull() == False) & (res[\"index_librosa\"].isnull() == False)]\n",
    "\n",
    "res"
   ]
  },
  {
   "cell_type": "code",
   "execution_count": 12,
   "metadata": {
    "collapsed": false
   },
   "outputs": [],
   "source": [
    "get_logical_mask = lambda data, terms: [np.logical_or.reduce([data[elem].str.contains(keyword, case=False).fillna(False) \n",
    "                                               for keyword in terms]) for elem in elements_to_search]\n",
    "\n",
    "join_logical_mask = lambda logical_mask: np.logical_or.reduce(logical_mask)\n",
    "\n",
    "filter_metadata = lambda data, terms: data[join_logical_mask(get_logical_mask(data, terms))]\n",
    "\n",
    "filter_available_audio_features = lambda data: data[(data[\"index\"].apply(np.isnan) == False) & \n",
    "                                                    (data[\"index_librosa\"].apply(np.isnan) == False) &\n",
    "                                                    (data[\"index\"] < features[\"rp\"].shape[0])]"
   ]
  },
  {
   "cell_type": "code",
   "execution_count": 13,
   "metadata": {
    "collapsed": true
   },
   "outputs": [],
   "source": [
    "import nltk\n",
    "from nltk.corpus import stopwords"
   ]
  },
  {
   "cell_type": "code",
   "execution_count": 14,
   "metadata": {
    "collapsed": false,
    "scrolled": true
   },
   "outputs": [
    {
     "name": "stdout",
     "output_type": "stream",
     "text": [
      "titlea\n"
     ]
    },
    {
     "ename": "NameError",
     "evalue": "name 'res' is not defined",
     "output_type": "error",
     "traceback": [
      "\u001b[1;31m---------------------------------------------------------------------------\u001b[0m",
      "\u001b[1;31mNameError\u001b[0m                                 Traceback (most recent call last)",
      "\u001b[1;32m<ipython-input-14-232d60f2ed06>\u001b[0m in \u001b[0;36m<module>\u001b[1;34m()\u001b[0m\n\u001b[0;32m     16\u001b[0m     \u001b[1;32mprint\u001b[0m \u001b[0mtcol\u001b[0m\u001b[1;33m\u001b[0m\u001b[0m\n\u001b[0;32m     17\u001b[0m \u001b[1;33m\u001b[0m\u001b[0m\n\u001b[1;32m---> 18\u001b[1;33m     \u001b[1;32mfor\u001b[0m \u001b[0mt\u001b[0m \u001b[1;32min\u001b[0m \u001b[0mnltk\u001b[0m\u001b[1;33m.\u001b[0m\u001b[0mText\u001b[0m\u001b[1;33m(\u001b[0m\u001b[0mres\u001b[0m\u001b[1;33m[\u001b[0m\u001b[0mtcol\u001b[0m\u001b[1;33m]\u001b[0m\u001b[1;33m)\u001b[0m\u001b[1;33m:\u001b[0m\u001b[1;33m\u001b[0m\u001b[0m\n\u001b[0m\u001b[0;32m     19\u001b[0m \u001b[1;33m\u001b[0m\u001b[0m\n\u001b[0;32m     20\u001b[0m         \u001b[1;32mtry\u001b[0m\u001b[1;33m:\u001b[0m\u001b[1;33m\u001b[0m\u001b[0m\n",
      "\u001b[1;31mNameError\u001b[0m: name 'res' is not defined"
     ]
    }
   ],
   "source": [
    "test_columns = [\"titlea\",\n",
    "                \"titleb\",\n",
    "                \"proxies.0.dctermsSpatial.def\",\n",
    "                \"proxies.0.dctermsTOC.def\",\n",
    "                \"proxies.0.dcContributor.def\",\n",
    "                \"proxies.0.dcSubject.def\",\n",
    "                \"proxies.0.dcDescription.def\",\n",
    "                \"proxies.0.dctermsMedium.def\",\n",
    "                \"proxies.0.dctermsTOC.def\",\n",
    "                \"proxies.0.dctermsMedium.def\"]\n",
    "\n",
    "words = []\n",
    "\n",
    "for tcol in test_columns:\n",
    "\n",
    "    print tcol\n",
    "    \n",
    "    for t in nltk.Text(res[tcol]):\n",
    "\n",
    "        try:\n",
    "\n",
    "            if t != None:\n",
    "                wordtokens = nltk.word_tokenize(t)\n",
    "\n",
    "                #print \"w:\", w\n",
    "\n",
    "                for w in wordtokens:\n",
    "                    words.append(w.lower())\n",
    "                #rint t2\n",
    "                #break\n",
    "\n",
    "        except:\n",
    "            print t\n",
    "\n",
    "filtered_words = [word for word in words if word not in stopwords.words('english')]\n",
    "\n",
    "fd = nltk.FreqDist(words)\n",
    "\n",
    "fd_pd = pd.DataFrame({\"words\":fd.keys(), \"counts\":fd.values()})\n",
    "\n",
    "fin = fd_pd[fd_pd[\"words\"].isin(stopwords.words('english')) == False]\n",
    "fin = fin[fin[\"words\"].isin(stopwords.words('german')) == False]\n",
    "fin = fin[fin[\"words\"].isin(stopwords.words('italian')) == False]\n",
    "fin = fin[fin[\"words\"].str.len() > 2]\n",
    "fin.sort([\"counts\"], ascending=False)[[\"words\",\"counts\"]][:50]"
   ]
  },
  {
   "cell_type": "markdown",
   "metadata": {},
   "source": [
    "### Classical music"
   ]
  },
  {
   "cell_type": "code",
   "execution_count": 51,
   "metadata": {
    "collapsed": false,
    "scrolled": true
   },
   "outputs": [
    {
     "data": {
      "text/plain": [
       "(28569, 29)"
      ]
     },
     "execution_count": 51,
     "metadata": {},
     "output_type": "execute_result"
    }
   ],
   "source": [
    "res = filter_metadata(metadata, [\"classical\"])\n",
    "res.shape"
   ]
  },
  {
   "cell_type": "code",
   "execution_count": 292,
   "metadata": {
    "collapsed": false,
    "scrolled": true
   },
   "outputs": [
    {
     "data": {
      "text/plain": [
       "(1094, 37)"
      ]
     },
     "execution_count": 292,
     "metadata": {},
     "output_type": "execute_result"
    }
   ],
   "source": [
    "res = filter_metadata(m, [\"jazz\"])\n",
    "\n",
    "#res = filter_metadata(res, [\"classical\"])\n",
    "            \n",
    "#res = filter_metadata(res, [\"jazz\"])\n",
    "#res = filter_metadata(res, [\"modern\"])\n",
    "\n",
    "#res = filter_metadata(res, [\"g major\", \"g dur\", \"g-dur\" \"g majeur\"])\n",
    "\n",
    "res = filter_available_audio_features(res)\n",
    "\n",
    "res.shape"
   ]
  },
  {
   "cell_type": "markdown",
   "metadata": {},
   "source": [
    "top 5"
   ]
  },
  {
   "cell_type": "code",
   "execution_count": 293,
   "metadata": {
    "collapsed": false
   },
   "outputs": [
    {
     "name": "stdout",
     "output_type": "stream",
     "text": [
      "10\n"
     ]
    },
    {
     "data": {
      "text/plain": [
       "0.26000000000000001"
      ]
     },
     "execution_count": 293,
     "metadata": {},
     "output_type": "execute_result"
    }
   ],
   "source": [
    "eval_precision = perform_evaluation(res[\"index\"].values, 5, 10)\n",
    "np.mean(eval_precision)"
   ]
  },
  {
   "cell_type": "code",
   "execution_count": 52,
   "metadata": {
    "collapsed": false
   },
   "outputs": [
    {
     "name": "stdout",
     "output_type": "stream",
     "text": [
      "10\n"
     ]
    },
    {
     "data": {
      "text/plain": [
       "0.29999999999999999"
      ]
     },
     "execution_count": 52,
     "metadata": {},
     "output_type": "execute_result"
    }
   ],
   "source": [
    "eval_precision = perform_evaluation(res[\"index\"].values, 1, 10)\n",
    "np.mean(eval_precision)"
   ]
  },
  {
   "cell_type": "code",
   "execution_count": 49,
   "metadata": {
    "collapsed": false
   },
   "outputs": [
    {
     "name": "stdout",
     "output_type": "stream",
     "text": [
      "10\n"
     ]
    },
    {
     "data": {
      "text/plain": [
       "0.079166666666666663"
      ]
     },
     "execution_count": 49,
     "metadata": {},
     "output_type": "execute_result"
    }
   ],
   "source": [
    "eval_precision = perform_evaluation(res[\"index\"].values, 24, 10)\n",
    "np.mean(eval_precision)"
   ]
  },
  {
   "cell_type": "code",
   "execution_count": 287,
   "metadata": {
    "collapsed": false
   },
   "outputs": [
    {
     "name": "stdout",
     "output_type": "stream",
     "text": [
      "10\n",
      "20\n",
      "30\n"
     ]
    },
    {
     "data": {
      "text/plain": [
       "0.11282051282051284"
      ]
     },
     "execution_count": 287,
     "metadata": {},
     "output_type": "execute_result"
    }
   ],
   "source": [
    "eval_precision = perform_evaluation(res[\"index\"].values, 5)\n",
    "np.mean(eval_precision)"
   ]
  },
  {
   "cell_type": "markdown",
   "metadata": {},
   "source": [
    "top 10"
   ]
  },
  {
   "cell_type": "code",
   "execution_count": 288,
   "metadata": {
    "collapsed": false
   },
   "outputs": [
    {
     "name": "stdout",
     "output_type": "stream",
     "text": [
      "10\n",
      "20\n",
      "30\n"
     ]
    },
    {
     "data": {
      "text/plain": [
       "0.089743589743589758"
      ]
     },
     "execution_count": 288,
     "metadata": {},
     "output_type": "execute_result"
    }
   ],
   "source": [
    "eval_precision = perform_evaluation(res[\"index\"].values, 10)\n",
    "np.mean(eval_precision)"
   ]
  },
  {
   "cell_type": "markdown",
   "metadata": {},
   "source": [
    "top 15"
   ]
  },
  {
   "cell_type": "code",
   "execution_count": 289,
   "metadata": {
    "collapsed": false,
    "scrolled": true
   },
   "outputs": [
    {
     "name": "stdout",
     "output_type": "stream",
     "text": [
      "10\n",
      "20\n",
      "30\n"
     ]
    },
    {
     "data": {
      "text/plain": [
       "0.092307692307692313"
      ]
     },
     "execution_count": 289,
     "metadata": {},
     "output_type": "execute_result"
    }
   ],
   "source": [
    "eval_precision = perform_evaluation(res[\"index\"].values, 15)\n",
    "np.mean(eval_precision)"
   ]
  },
  {
   "cell_type": "markdown",
   "metadata": {},
   "source": [
    "top 20"
   ]
  },
  {
   "cell_type": "code",
   "execution_count": 290,
   "metadata": {
    "collapsed": false
   },
   "outputs": [
    {
     "name": "stdout",
     "output_type": "stream",
     "text": [
      "10\n",
      "20\n",
      "30\n"
     ]
    },
    {
     "data": {
      "text/plain": [
       "0.09358974358974359"
      ]
     },
     "execution_count": 290,
     "metadata": {},
     "output_type": "execute_result"
    }
   ],
   "source": [
    "eval_precision = perform_evaluation(res[\"index\"].values, 20)\n",
    "np.mean(eval_precision)"
   ]
  },
  {
   "cell_type": "markdown",
   "metadata": {},
   "source": [
    "full page"
   ]
  },
  {
   "cell_type": "code",
   "execution_count": 291,
   "metadata": {
    "collapsed": false
   },
   "outputs": [
    {
     "name": "stdout",
     "output_type": "stream",
     "text": [
      "10\n",
      "20\n",
      "30\n"
     ]
    },
    {
     "data": {
      "text/plain": [
       "0.090811965811965809"
      ]
     },
     "execution_count": 291,
     "metadata": {},
     "output_type": "execute_result"
    }
   ],
   "source": [
    "eval_precision = perform_evaluation(res[\"index\"].values, 24)\n",
    "np.mean(eval_precision)"
   ]
  }
 ],
 "metadata": {
  "anaconda-cloud": {},
  "kernelspec": {
   "display_name": "Python [Root]",
   "language": "python",
   "name": "Python [Root]"
  },
  "language_info": {
   "codemirror_mode": {
    "name": "ipython",
    "version": 2
   },
   "file_extension": ".py",
   "mimetype": "text/x-python",
   "name": "python",
   "nbconvert_exporter": "python",
   "pygments_lexer": "ipython2",
   "version": "2.7.11"
  },
  "toc": {
   "toc_cell": false,
   "toc_number_sections": true,
   "toc_threshold": 6,
   "toc_window_display": false
  }
 },
 "nbformat": 4,
 "nbformat_minor": 0
}
