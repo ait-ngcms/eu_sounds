{
 "cells": [
  {
   "cell_type": "code",
   "execution_count": 99,
   "metadata": {
    "collapsed": false
   },
   "outputs": [],
   "source": [
    "import numpy as np\n",
    "np.set_printoptions(suppress=True)\n",
    "\n",
    "import pandas as pd\n",
    "\n",
    "from IPython.display import display, HTML\n",
    "\n",
    "from sklearn.neighbors import NearestNeighbors"
   ]
  },
  {
   "cell_type": "code",
   "execution_count": 2,
   "metadata": {
    "collapsed": true
   },
   "outputs": [],
   "source": [
    "npz = np.load(\"E:/Data/MIR/EU_SOUNDS_FEATURES/combined_features.npz\")"
   ]
  },
  {
   "cell_type": "code",
   "execution_count": 45,
   "metadata": {
    "collapsed": false
   },
   "outputs": [
    {
     "name": "stdout",
     "output_type": "stream",
     "text": [
      "<audio controls><source controls src=\"file:///D:/Research/Data/MIR/MVD/Audio/MV-VIS/Metal/Metal_1.mp3\" type=\"audio/mp3\"></audio>\n"
     ]
    },
    {
     "data": {
      "text/html": [
       "<audio controls><source controls src=\"file:///D:/Research/Data/MIR/MVD/Audio/MV-VIS/Metal/Metal_1.mp3\" type=\"audio/mp3\"></audio>"
      ],
      "text/plain": [
       "<IPython.core.display.HTML object>"
      ]
     },
     "execution_count": 45,
     "metadata": {},
     "output_type": "execute_result"
    }
   ],
   "source": [
    "audio_template = \"<audio controls><source controls src=\\\"file:///{0}\\\" type=\\\"audio/mp3\\\"></audio>\"\n",
    "print audio_template.format(\"D:/Research/Data/MIR/MVD/Audio/MV-VIS/Metal/Metal_1.mp3\")\n",
    "HTML( audio_template.format(\"D:/Research/Data/MIR/MVD/Audio/MV-VIS/Metal/Metal_1.mp3\"))"
   ]
  },
  {
   "cell_type": "code",
   "execution_count": 51,
   "metadata": {
    "collapsed": true
   },
   "outputs": [],
   "source": [
    "from sklearn.preprocessing import StandardScaler, Normalizer"
   ]
  },
  {
   "cell_type": "code",
   "execution_count": 49,
   "metadata": {
    "collapsed": false
   },
   "outputs": [],
   "source": [
    "ssd_scaled = StandardScaler().fit_transform(ssd)"
   ]
  },
  {
   "cell_type": "code",
   "execution_count": 52,
   "metadata": {
    "collapsed": true
   },
   "outputs": [],
   "source": [
    "ssd_norm = Normalizer().fit_transform(ssd)"
   ]
  },
  {
   "cell_type": "code",
   "execution_count": 54,
   "metadata": {
    "collapsed": false
   },
   "outputs": [
    {
     "data": {
      "text/plain": [
       "61.898535826040508"
      ]
     },
     "execution_count": 54,
     "metadata": {},
     "output_type": "execute_result"
    }
   ],
   "source": [
    "ssd_norm.max(axis=0).sum()"
   ]
  },
  {
   "cell_type": "code",
   "execution_count": 90,
   "metadata": {
    "collapsed": true
   },
   "outputs": [],
   "source": [
    "ssd_my_norm = npz[\"ssd\"]\n",
    "ssd_my_norm -= ssd_my_norm.min(axis=0)\n",
    "ssd_my_norm /= ssd_my_norm.max(axis=0)\n",
    "ssd_my_norm /= ssd_my_norm.shape[1]"
   ]
  },
  {
   "cell_type": "code",
   "execution_count": 92,
   "metadata": {
    "collapsed": false
   },
   "outputs": [],
   "source": [
    "my_rh = npz[\"rh\"]\n",
    "my_rh /= my_rh.sum(axis=1).reshape((my_rh.shape[0],1))\n",
    "my_rh /= 60.0\n",
    "\n",
    "my_rp = npz[\"rp\"]\n",
    "my_rp /= my_rp.sum(axis=1).reshape((my_rp.shape[0],1))\n",
    "my_rp /= 1440.0"
   ]
  },
  {
   "cell_type": "code",
   "execution_count": 204,
   "metadata": {
    "collapsed": true
   },
   "outputs": [],
   "source": [
    "comb3 = np.concatenate([ssd_my_norm * 0.99,\n",
    "                        my_rp * 0.99,\n",
    "                        my_rh * 0.99], axis=1)\n",
    "\n",
    "nn = NearestNeighbors(n_neighbors=10, algorithm='brute', metric='cosine').fit(comb3)"
   ]
  },
  {
   "cell_type": "markdown",
   "metadata": {},
   "source": [
    "Vögel 14000\n",
    "Latin 24000\n",
    "Jeweish 2000"
   ]
  },
  {
   "cell_type": "code",
   "execution_count": 210,
   "metadata": {
    "collapsed": false,
    "scrolled": false
   },
   "outputs": [
    {
     "data": {
      "text/html": [
       "<table><tr><td><audio controls><source controls src=\"file:///E:/Data/MIR/EU_SOUNDS/09303/84FDF04DE35A1C69765FD76A4A5F256D3EF16CA3.mp3\" type=\"audio/mp3\"></audio></td><td>2000</td><td>1.99840144433e-15</td></tr><tr><td><audio controls><source controls src=\"file:///E:/Data/MIR/EU_SOUNDS/09303/784FFB8915ED5B10F9864F446FA516E34E479032.mp3\" type=\"audio/mp3\"></audio></td><td>1875</td><td>0.00967544550142</td></tr><tr><td><audio controls><source controls src=\"file:///E:/Data/MIR/EU_SOUNDS/09303/B929D165A62156F1FE9E0521F792B6474447DBCA.mp3\" type=\"audio/mp3\"></audio></td><td>2484</td><td>0.0146186604307</td></tr><tr><td><audio controls><source controls src=\"file:///E:/Data/MIR/EU_SOUNDS/09303/3700419A965FC5B7465CD7DA1395ADC34DBADBEC.mp3\" type=\"audio/mp3\"></audio></td><td>1196</td><td>0.0151140865138</td></tr><tr><td><audio controls><source controls src=\"file:///E:/Data/MIR/EU_SOUNDS/09303/926D7FC0E2EB14BD7511195C44AE984984B8AC47.mp3\" type=\"audio/mp3\"></audio></td><td>2120</td><td>0.019522467382</td></tr><tr><td><audio controls><source controls src=\"file:///E:/Data/MIR/EU_SOUNDS/09303/F0CA6E0642ACBB0915A847CD0921A6BA3919D7F7.mp3\" type=\"audio/mp3\"></audio></td><td>3026</td><td>0.0202196077814</td></tr><tr><td><audio controls><source controls src=\"file:///E:/Data/MIR/EU_SOUNDS/09303/10032CE32F6929E7DF4AE86B37BDA41621FD3E80.mp3\" type=\"audio/mp3\"></audio></td><td>791</td><td>0.0202852117887</td></tr><tr><td><audio controls><source controls src=\"file:///E:/Data/MIR/EU_SOUNDS/09303/448551988568705E932172E718878CE3ED769E59.mp3\" type=\"audio/mp3\"></audio></td><td>1357</td><td>0.0208928827672</td></tr><tr><td><audio controls><source controls src=\"file:///E:/Data/MIR/EU_SOUNDS/09303/8223C6E63145E35FFB4F92F05DE14472BD8538CA.mp3\" type=\"audio/mp3\"></audio></td><td>1970</td><td>0.0212953024719</td></tr><tr><td><audio controls><source controls src=\"file:///E:/Data/MIR/EU_SOUNDS/2023601/oai_eu_dismarc_ACAD_USA370698913.mp3\" type=\"audio/mp3\"></audio></td><td>27581</td><td>0.0213724603826</td></tr></table>"
      ],
      "text/plain": [
       "<IPython.core.display.HTML object>"
      ]
     },
     "execution_count": 210,
     "metadata": {},
     "output_type": "execute_result"
    }
   ],
   "source": [
    "query_idx = 2000\n",
    "\n",
    "dist, neighbors = nn.kneighbors(comb3[query_idx,:],return_distance=True)\n",
    "\n",
    "html = \"<table>\"\n",
    "\n",
    "for i in range(neighbors[0].shape[0]):\n",
    "    html = \"{0}<tr><td>{1}</td><td>{2}</td><td>{3}</td></tr>\".format(html, \n",
    "                                       audio_template.format(npz[\"filenames\"][neighbors[0][i]].replace(\"\\\\\",\"/\").replace(\"_FEATURES\",\"\").replace(\".npz\",\"\")),\n",
    "                                                        neighbors[0][i],\n",
    "                                                        dist[0][i])\n",
    "\n",
    "html = \"%s</table>\" % (html)\n",
    "\n",
    "#print html\n",
    "HTML(html)"
   ]
  },
  {
   "cell_type": "code",
   "execution_count": 166,
   "metadata": {
    "collapsed": true
   },
   "outputs": [],
   "source": [
    "import scipy"
   ]
  },
  {
   "cell_type": "code",
   "execution_count": 206,
   "metadata": {
    "collapsed": false
   },
   "outputs": [],
   "source": []
  },
  {
   "cell_type": "code",
   "execution_count": 207,
   "metadata": {
    "collapsed": false
   },
   "outputs": [],
   "source": []
  },
  {
   "cell_type": "code",
   "execution_count": 208,
   "metadata": {
    "collapsed": false
   },
   "outputs": [],
   "source": []
  },
  {
   "cell_type": "code",
   "execution_count": 211,
   "metadata": {
    "collapsed": false
   },
   "outputs": [
    {
     "data": {
      "text/html": [
       "<table><tr><td><audio controls><source controls src=\"file:///E:/Data/MIR/EU_SOUNDS/09303/84FDF04DE35A1C69765FD76A4A5F256D3EF16CA3.mp3\" type=\"audio/mp3\"></audio></td><td>2000</td><td>0.0</td></tr><tr><td><audio controls><source controls src=\"file:///E:/Data/MIR/EU_SOUNDS/09303/784FFB8915ED5B10F9864F446FA516E34E479032.mp3\" type=\"audio/mp3\"></audio></td><td>1875</td><td>0.0232595219255</td></tr><tr><td><audio controls><source controls src=\"file:///E:/Data/MIR/EU_SOUNDS/09303/B929D165A62156F1FE9E0521F792B6474447DBCA.mp3\" type=\"audio/mp3\"></audio></td><td>2484</td><td>0.0234809289996</td></tr><tr><td><audio controls><source controls src=\"file:///E:/Data/MIR/EU_SOUNDS/09303/3700419A965FC5B7465CD7DA1395ADC34DBADBEC.mp3\" type=\"audio/mp3\"></audio></td><td>1196</td><td>0.0281123177928</td></tr><tr><td><audio controls><source controls src=\"file:///E:/Data/MIR/EU_SOUNDS/09303/926D7FC0E2EB14BD7511195C44AE984984B8AC47.mp3\" type=\"audio/mp3\"></audio></td><td>2120</td><td>0.0293875030899</td></tr><tr><td><audio controls><source controls src=\"file:///E:/Data/MIR/EU_SOUNDS/09303/10032CE32F6929E7DF4AE86B37BDA41621FD3E80.mp3\" type=\"audio/mp3\"></audio></td><td>791</td><td>0.0315123254678</td></tr><tr><td><audio controls><source controls src=\"file:///E:/Data/MIR/EU_SOUNDS/09303/8C57B1EC5C10356917230841AB8067503791CA08.mp3\" type=\"audio/mp3\"></audio></td><td>2062</td><td>0.0335980941881</td></tr><tr><td><audio controls><source controls src=\"file:///E:/Data/MIR/EU_SOUNDS/09334/0B4E8D22120D87169B22FBD6E13AC4387CFC4AF4.mp3\" type=\"audio/mp3\"></audio></td><td>5980</td><td>0.034220829308</td></tr><tr><td><audio controls><source controls src=\"file:///E:/Data/MIR/EU_SOUNDS/09303/9C77872F9D9F46DC4EA0A56B44D67CB70507F57B.mp3\" type=\"audio/mp3\"></audio></td><td>2210</td><td>0.0349869005985</td></tr><tr><td><audio controls><source controls src=\"file:///E:/Data/MIR/EU_SOUNDS/2023601/oai_eu_dismarc_CLRT_ITS049700179.mp3\" type=\"audio/mp3\"></audio></td><td>99024</td><td>0.035010478591</td></tr></table>"
      ],
      "text/plain": [
       "<IPython.core.display.HTML object>"
      ]
     },
     "execution_count": 211,
     "metadata": {},
     "output_type": "execute_result"
    }
   ],
   "source": [
    "query_space = np.zeros(tuple(comb3.shape))\n",
    "query_space[:,:] = comb3[query_idx,:]\n",
    "res = scipy.stats.entropy(comb3.T, qk=query_space.T, base=None)\n",
    "\n",
    "neighbors = np.argsort(res)\n",
    "dist = res[neighbors]\n",
    "\n",
    "html = \"<table>\"\n",
    "\n",
    "for i in range(10):\n",
    "    html = \"{0}<tr><td>{1}</td><td>{2}</td><td>{3}</td></tr>\".format(html, \n",
    "                                       audio_template.format(npz[\"filenames\"][neighbors[i]].replace(\"\\\\\",\"/\").replace(\"_FEATURES\",\"\").replace(\".npz\",\"\")),\n",
    "                                                        neighbors[i],\n",
    "                                                        dist[i])\n",
    "\n",
    "html = \"%s</table>\" % (html)\n",
    "\n",
    "#print html\n",
    "HTML(html)"
   ]
  }
 ],
 "metadata": {
  "anaconda-cloud": {},
  "kernelspec": {
   "display_name": "Python [Root]",
   "language": "python",
   "name": "Python [Root]"
  },
  "language_info": {
   "codemirror_mode": {
    "name": "ipython",
    "version": 2
   },
   "file_extension": ".py",
   "mimetype": "text/x-python",
   "name": "python",
   "nbconvert_exporter": "python",
   "pygments_lexer": "ipython2",
   "version": "2.7.11"
  },
  "toc": {
   "toc_cell": false,
   "toc_number_sections": true,
   "toc_threshold": 6,
   "toc_window_display": false
  }
 },
 "nbformat": 4,
 "nbformat_minor": 0
}
