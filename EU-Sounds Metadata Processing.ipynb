{
 "cells": [
  {
   "cell_type": "code",
   "execution_count": 1,
   "metadata": {
    "ExecuteTime": {
     "end_time": "2016-11-11T16:04:44.492000",
     "start_time": "2016-11-11T16:04:34.114000"
    },
    "collapsed": true
   },
   "outputs": [],
   "source": [
    "import pandas as pd\n",
    "from nltk.tokenize import RegexpTokenizer\n",
    "import unicodedata\n",
    "from collections import defaultdict\n",
    "\n",
    "# change output length in notebook\n",
    "#pd.set_option('display.max_colwidth', 30)"
   ]
  },
  {
   "cell_type": "code",
   "execution_count": 2,
   "metadata": {
    "ExecuteTime": {
     "end_time": "2016-11-11T16:04:44.492000",
     "start_time": "2016-11-11T16:04:44.492000"
    },
    "collapsed": true
   },
   "outputs": [],
   "source": [
    "METADATA_FILE = \"E:/Features/MIR/EuropeanaSounds/metadata/metadata.csv\""
   ]
  },
  {
   "cell_type": "markdown",
   "metadata": {},
   "source": [
    "## Pre-Processing"
   ]
  },
  {
   "cell_type": "markdown",
   "metadata": {},
   "source": [
    "### Load Metadata from csv"
   ]
  },
  {
   "cell_type": "code",
   "execution_count": 3,
   "metadata": {
    "ExecuteTime": {
     "end_time": "2016-11-11T16:04:45.829000",
     "start_time": "2016-11-11T16:04:44.492000"
    },
    "collapsed": false
   },
   "outputs": [
    {
     "data": {
      "text/html": [
       "<div>\n",
       "<table border=\"1\" class=\"dataframe\">\n",
       "  <thead>\n",
       "    <tr style=\"text-align: right;\">\n",
       "      <th></th>\n",
       "      <th>contributor</th>\n",
       "      <th>country</th>\n",
       "      <th>created</th>\n",
       "      <th>creator</th>\n",
       "      <th>dataProvider</th>\n",
       "      <th>date</th>\n",
       "      <th>description</th>\n",
       "      <th>format</th>\n",
       "      <th>identifier</th>\n",
       "      <th>language</th>\n",
       "      <th>medium</th>\n",
       "      <th>provider</th>\n",
       "      <th>publisher</th>\n",
       "      <th>relation</th>\n",
       "      <th>spatial</th>\n",
       "      <th>subject</th>\n",
       "      <th>title</th>\n",
       "      <th>type</th>\n",
       "      <th>year</th>\n",
       "    </tr>\n",
       "    <tr>\n",
       "      <th>id</th>\n",
       "      <th></th>\n",
       "      <th></th>\n",
       "      <th></th>\n",
       "      <th></th>\n",
       "      <th></th>\n",
       "      <th></th>\n",
       "      <th></th>\n",
       "      <th></th>\n",
       "      <th></th>\n",
       "      <th></th>\n",
       "      <th></th>\n",
       "      <th></th>\n",
       "      <th></th>\n",
       "      <th></th>\n",
       "      <th></th>\n",
       "      <th></th>\n",
       "      <th></th>\n",
       "      <th></th>\n",
       "      <th></th>\n",
       "    </tr>\n",
       "  </thead>\n",
       "  <tbody>\n",
       "    <tr>\n",
       "      <th>/09301/02DABC7F5850EABCA553BCEEEEAE2B6543A1CA67</th>\n",
       "      <td>Schorr, A. [lyricist], Burstein, Peisach [sing...</td>\n",
       "      <td>france</td>\n",
       "      <td></td>\n",
       "      <td></td>\n",
       "      <td>Bibliothèque Medem - Maison de la Culture Yiddish</td>\n",
       "      <td></td>\n",
       "      <td>Voice solo</td>\n",
       "      <td></td>\n",
       "      <td>Publisher number : Columbia 13371/108300</td>\n",
       "      <td>yi</td>\n",
       "      <td></td>\n",
       "      <td>Judaica Europeana</td>\n",
       "      <td>Columbia</td>\n",
       "      <td>Ai dai dera dai tchastushkes</td>\n",
       "      <td>United States [publication], United Kingdom [p...</td>\n",
       "      <td></td>\n",
       "      <td>Vos toig es aich vos darft ihr es</td>\n",
       "      <td>sound recording, Chanson comique</td>\n",
       "      <td></td>\n",
       "    </tr>\n",
       "    <tr>\n",
       "      <th>/09301/03DE04818BECB920A21EA63EA9D5FD1C49CF74A0</th>\n",
       "      <td>Burstein, Peisach [singer]</td>\n",
       "      <td>france</td>\n",
       "      <td></td>\n",
       "      <td></td>\n",
       "      <td>Bibliothèque Medem - Maison de la Culture Yiddish</td>\n",
       "      <td></td>\n",
       "      <td>Full orchestra ; Voice solo</td>\n",
       "      <td></td>\n",
       "      <td>Publisher number : Columbia 13380/105740</td>\n",
       "      <td>yi</td>\n",
       "      <td></td>\n",
       "      <td>Judaica Europeana</td>\n",
       "      <td>Columbia</td>\n",
       "      <td>Die poilische chassene</td>\n",
       "      <td>New-York [recording], United States [publicati...</td>\n",
       "      <td></td>\n",
       "      <td>Pitia Diritia</td>\n",
       "      <td>sound recording, Chanson comique</td>\n",
       "      <td></td>\n",
       "    </tr>\n",
       "    <tr>\n",
       "      <th>/09301/0701AE796F7B504E67B8CEB031C1061E113BE3F4</th>\n",
       "      <td>Kremer, Isa [singer]</td>\n",
       "      <td>france</td>\n",
       "      <td></td>\n",
       "      <td></td>\n",
       "      <td>Bibliothèque Medem - Maison de la Culture Yiddish</td>\n",
       "      <td></td>\n",
       "      <td>Full orchestra ; Voice solo, Identifying marki...</td>\n",
       "      <td></td>\n",
       "      <td>Publisher number : Polydor 561157/67083 B</td>\n",
       "      <td>yi</td>\n",
       "      <td></td>\n",
       "      <td>Judaica Europeana</td>\n",
       "      <td>Polydor</td>\n",
       "      <td>Oi Abram</td>\n",
       "      <td>Paris [publication]</td>\n",
       "      <td></td>\n",
       "      <td>Sitz ich mir in schtibele</td>\n",
       "      <td>Chanson d&amp;apos;amour, sound recording</td>\n",
       "      <td></td>\n",
       "    </tr>\n",
       "    <tr>\n",
       "      <th>/09301/0A3E8D891310E10CEC0B6D7790ADE1470E6541B8</th>\n",
       "      <td>Potock, Bernard [conductor], Gerro, Henri [sin...</td>\n",
       "      <td>france</td>\n",
       "      <td></td>\n",
       "      <td></td>\n",
       "      <td>Bibliothèque Medem - Maison de la Culture Yiddish</td>\n",
       "      <td></td>\n",
       "      <td>Full orchestra ; Voice solo, Henri Gerro du ca...</td>\n",
       "      <td></td>\n",
       "      <td>Publisher number : Elesdisc / Leon Speiser LS-7B</td>\n",
       "      <td>yi</td>\n",
       "      <td></td>\n",
       "      <td>Judaica Europeana</td>\n",
       "      <td>Elesdisc Leon Speiser</td>\n",
       "      <td>Ich will nicht sein kein rebbe</td>\n",
       "      <td>Paris [publication]</td>\n",
       "      <td></td>\n",
       "      <td>A briew fun a dienst</td>\n",
       "      <td>Chanson humouristique, sound recording</td>\n",
       "      <td></td>\n",
       "    </tr>\n",
       "    <tr>\n",
       "      <th>/09301/0BF6DFA79787E76872BA33061C84A79588318953</th>\n",
       "      <td>Ellstein, Abraham [instrumentalist ; piano], F...</td>\n",
       "      <td>france</td>\n",
       "      <td></td>\n",
       "      <td></td>\n",
       "      <td>Bibliothèque Medem - Maison de la Culture Yiddish</td>\n",
       "      <td></td>\n",
       "      <td>Chorus ; Piano ; Voice solo</td>\n",
       "      <td></td>\n",
       "      <td>Publisher number : Metro 100-1b/CJ-100/M113</td>\n",
       "      <td>yi</td>\n",
       "      <td></td>\n",
       "      <td>Judaica Europeana</td>\n",
       "      <td>Metro</td>\n",
       "      <td>A nign&amp;apos;dl</td>\n",
       "      <td></td>\n",
       "      <td></td>\n",
       "      <td>Taiere malke</td>\n",
       "      <td>sound recording, Chanson pour enfants</td>\n",
       "      <td></td>\n",
       "    </tr>\n",
       "  </tbody>\n",
       "</table>\n",
       "</div>"
      ],
      "text/plain": [
       "                                                                                       contributor  \\\n",
       "id                                                                                                   \n",
       "/09301/02DABC7F5850EABCA553BCEEEEAE2B6543A1CA67  Schorr, A. [lyricist], Burstein, Peisach [sing...   \n",
       "/09301/03DE04818BECB920A21EA63EA9D5FD1C49CF74A0                         Burstein, Peisach [singer]   \n",
       "/09301/0701AE796F7B504E67B8CEB031C1061E113BE3F4                               Kremer, Isa [singer]   \n",
       "/09301/0A3E8D891310E10CEC0B6D7790ADE1470E6541B8  Potock, Bernard [conductor], Gerro, Henri [sin...   \n",
       "/09301/0BF6DFA79787E76872BA33061C84A79588318953  Ellstein, Abraham [instrumentalist ; piano], F...   \n",
       "\n",
       "                                                country created creator  \\\n",
       "id                                                                        \n",
       "/09301/02DABC7F5850EABCA553BCEEEEAE2B6543A1CA67  france                   \n",
       "/09301/03DE04818BECB920A21EA63EA9D5FD1C49CF74A0  france                   \n",
       "/09301/0701AE796F7B504E67B8CEB031C1061E113BE3F4  france                   \n",
       "/09301/0A3E8D891310E10CEC0B6D7790ADE1470E6541B8  france                   \n",
       "/09301/0BF6DFA79787E76872BA33061C84A79588318953  france                   \n",
       "\n",
       "                                                                                      dataProvider  \\\n",
       "id                                                                                                   \n",
       "/09301/02DABC7F5850EABCA553BCEEEEAE2B6543A1CA67  Bibliothèque Medem - Maison de la Culture Yiddish   \n",
       "/09301/03DE04818BECB920A21EA63EA9D5FD1C49CF74A0  Bibliothèque Medem - Maison de la Culture Yiddish   \n",
       "/09301/0701AE796F7B504E67B8CEB031C1061E113BE3F4  Bibliothèque Medem - Maison de la Culture Yiddish   \n",
       "/09301/0A3E8D891310E10CEC0B6D7790ADE1470E6541B8  Bibliothèque Medem - Maison de la Culture Yiddish   \n",
       "/09301/0BF6DFA79787E76872BA33061C84A79588318953  Bibliothèque Medem - Maison de la Culture Yiddish   \n",
       "\n",
       "                                                date  \\\n",
       "id                                                     \n",
       "/09301/02DABC7F5850EABCA553BCEEEEAE2B6543A1CA67        \n",
       "/09301/03DE04818BECB920A21EA63EA9D5FD1C49CF74A0        \n",
       "/09301/0701AE796F7B504E67B8CEB031C1061E113BE3F4        \n",
       "/09301/0A3E8D891310E10CEC0B6D7790ADE1470E6541B8        \n",
       "/09301/0BF6DFA79787E76872BA33061C84A79588318953        \n",
       "\n",
       "                                                                                       description  \\\n",
       "id                                                                                                   \n",
       "/09301/02DABC7F5850EABCA553BCEEEEAE2B6543A1CA67                                         Voice solo   \n",
       "/09301/03DE04818BECB920A21EA63EA9D5FD1C49CF74A0                        Full orchestra ; Voice solo   \n",
       "/09301/0701AE796F7B504E67B8CEB031C1061E113BE3F4  Full orchestra ; Voice solo, Identifying marki...   \n",
       "/09301/0A3E8D891310E10CEC0B6D7790ADE1470E6541B8  Full orchestra ; Voice solo, Henri Gerro du ca...   \n",
       "/09301/0BF6DFA79787E76872BA33061C84A79588318953                        Chorus ; Piano ; Voice solo   \n",
       "\n",
       "                                                format  \\\n",
       "id                                                       \n",
       "/09301/02DABC7F5850EABCA553BCEEEEAE2B6543A1CA67          \n",
       "/09301/03DE04818BECB920A21EA63EA9D5FD1C49CF74A0          \n",
       "/09301/0701AE796F7B504E67B8CEB031C1061E113BE3F4          \n",
       "/09301/0A3E8D891310E10CEC0B6D7790ADE1470E6541B8          \n",
       "/09301/0BF6DFA79787E76872BA33061C84A79588318953          \n",
       "\n",
       "                                                                                       identifier  \\\n",
       "id                                                                                                  \n",
       "/09301/02DABC7F5850EABCA553BCEEEEAE2B6543A1CA67          Publisher number : Columbia 13371/108300   \n",
       "/09301/03DE04818BECB920A21EA63EA9D5FD1C49CF74A0          Publisher number : Columbia 13380/105740   \n",
       "/09301/0701AE796F7B504E67B8CEB031C1061E113BE3F4         Publisher number : Polydor 561157/67083 B   \n",
       "/09301/0A3E8D891310E10CEC0B6D7790ADE1470E6541B8  Publisher number : Elesdisc / Leon Speiser LS-7B   \n",
       "/09301/0BF6DFA79787E76872BA33061C84A79588318953       Publisher number : Metro 100-1b/CJ-100/M113   \n",
       "\n",
       "                                                language medium  \\\n",
       "id                                                                \n",
       "/09301/02DABC7F5850EABCA553BCEEEEAE2B6543A1CA67       yi          \n",
       "/09301/03DE04818BECB920A21EA63EA9D5FD1C49CF74A0       yi          \n",
       "/09301/0701AE796F7B504E67B8CEB031C1061E113BE3F4       yi          \n",
       "/09301/0A3E8D891310E10CEC0B6D7790ADE1470E6541B8       yi          \n",
       "/09301/0BF6DFA79787E76872BA33061C84A79588318953       yi          \n",
       "\n",
       "                                                          provider  \\\n",
       "id                                                                   \n",
       "/09301/02DABC7F5850EABCA553BCEEEEAE2B6543A1CA67  Judaica Europeana   \n",
       "/09301/03DE04818BECB920A21EA63EA9D5FD1C49CF74A0  Judaica Europeana   \n",
       "/09301/0701AE796F7B504E67B8CEB031C1061E113BE3F4  Judaica Europeana   \n",
       "/09301/0A3E8D891310E10CEC0B6D7790ADE1470E6541B8  Judaica Europeana   \n",
       "/09301/0BF6DFA79787E76872BA33061C84A79588318953  Judaica Europeana   \n",
       "\n",
       "                                                             publisher  \\\n",
       "id                                                                       \n",
       "/09301/02DABC7F5850EABCA553BCEEEEAE2B6543A1CA67               Columbia   \n",
       "/09301/03DE04818BECB920A21EA63EA9D5FD1C49CF74A0               Columbia   \n",
       "/09301/0701AE796F7B504E67B8CEB031C1061E113BE3F4                Polydor   \n",
       "/09301/0A3E8D891310E10CEC0B6D7790ADE1470E6541B8  Elesdisc Leon Speiser   \n",
       "/09301/0BF6DFA79787E76872BA33061C84A79588318953                  Metro   \n",
       "\n",
       "                                                                       relation  \\\n",
       "id                                                                                \n",
       "/09301/02DABC7F5850EABCA553BCEEEEAE2B6543A1CA67    Ai dai dera dai tchastushkes   \n",
       "/09301/03DE04818BECB920A21EA63EA9D5FD1C49CF74A0          Die poilische chassene   \n",
       "/09301/0701AE796F7B504E67B8CEB031C1061E113BE3F4                        Oi Abram   \n",
       "/09301/0A3E8D891310E10CEC0B6D7790ADE1470E6541B8  Ich will nicht sein kein rebbe   \n",
       "/09301/0BF6DFA79787E76872BA33061C84A79588318953                  A nign&apos;dl   \n",
       "\n",
       "                                                                                           spatial  \\\n",
       "id                                                                                                   \n",
       "/09301/02DABC7F5850EABCA553BCEEEEAE2B6543A1CA67  United States [publication], United Kingdom [p...   \n",
       "/09301/03DE04818BECB920A21EA63EA9D5FD1C49CF74A0  New-York [recording], United States [publicati...   \n",
       "/09301/0701AE796F7B504E67B8CEB031C1061E113BE3F4                                Paris [publication]   \n",
       "/09301/0A3E8D891310E10CEC0B6D7790ADE1470E6541B8                                Paris [publication]   \n",
       "/09301/0BF6DFA79787E76872BA33061C84A79588318953                                                      \n",
       "\n",
       "                                                subject  \\\n",
       "id                                                        \n",
       "/09301/02DABC7F5850EABCA553BCEEEEAE2B6543A1CA67           \n",
       "/09301/03DE04818BECB920A21EA63EA9D5FD1C49CF74A0           \n",
       "/09301/0701AE796F7B504E67B8CEB031C1061E113BE3F4           \n",
       "/09301/0A3E8D891310E10CEC0B6D7790ADE1470E6541B8           \n",
       "/09301/0BF6DFA79787E76872BA33061C84A79588318953           \n",
       "\n",
       "                                                                             title  \\\n",
       "id                                                                                   \n",
       "/09301/02DABC7F5850EABCA553BCEEEEAE2B6543A1CA67  Vos toig es aich vos darft ihr es   \n",
       "/09301/03DE04818BECB920A21EA63EA9D5FD1C49CF74A0                      Pitia Diritia   \n",
       "/09301/0701AE796F7B504E67B8CEB031C1061E113BE3F4          Sitz ich mir in schtibele   \n",
       "/09301/0A3E8D891310E10CEC0B6D7790ADE1470E6541B8               A briew fun a dienst   \n",
       "/09301/0BF6DFA79787E76872BA33061C84A79588318953                       Taiere malke   \n",
       "\n",
       "                                                                                   type  \\\n",
       "id                                                                                        \n",
       "/09301/02DABC7F5850EABCA553BCEEEEAE2B6543A1CA67        sound recording, Chanson comique   \n",
       "/09301/03DE04818BECB920A21EA63EA9D5FD1C49CF74A0        sound recording, Chanson comique   \n",
       "/09301/0701AE796F7B504E67B8CEB031C1061E113BE3F4   Chanson d&apos;amour, sound recording   \n",
       "/09301/0A3E8D891310E10CEC0B6D7790ADE1470E6541B8  Chanson humouristique, sound recording   \n",
       "/09301/0BF6DFA79787E76872BA33061C84A79588318953   sound recording, Chanson pour enfants   \n",
       "\n",
       "                                                year  \n",
       "id                                                    \n",
       "/09301/02DABC7F5850EABCA553BCEEEEAE2B6543A1CA67       \n",
       "/09301/03DE04818BECB920A21EA63EA9D5FD1C49CF74A0       \n",
       "/09301/0701AE796F7B504E67B8CEB031C1061E113BE3F4       \n",
       "/09301/0A3E8D891310E10CEC0B6D7790ADE1470E6541B8       \n",
       "/09301/0BF6DFA79787E76872BA33061C84A79588318953       "
      ]
     },
     "execution_count": 3,
     "metadata": {},
     "output_type": "execute_result"
    }
   ],
   "source": [
    "# read csv-data (separated by semicolons)\n",
    "metadata = pd.read_csv(METADATA_FILE, sep=\";\", encoding=\"utf-8\")\n",
    "\n",
    "# convert nan-values to empty strings\n",
    "metadata = metadata.fillna(\"\")\n",
    "\n",
    "# use the \"id\" field as index\n",
    "metadata = metadata.set_index(\"id\")\n",
    "\n",
    "metadata.head()"
   ]
  },
  {
   "cell_type": "markdown",
   "metadata": {},
   "source": [
    "### Concatenate columns"
   ]
  },
  {
   "cell_type": "code",
   "execution_count": 4,
   "metadata": {
    "ExecuteTime": {
     "end_time": "2016-11-11T16:04:46.049000",
     "start_time": "2016-11-11T16:04:45.839000"
    },
    "collapsed": false
   },
   "outputs": [
    {
     "data": {
      "text/plain": [
       "u'Schorr, A. [lyricist], Burstein, Peisach [singer], Secunda [composer] Vos toig es aich vos darft ihr es Voice solo  france'"
      ]
     },
     "execution_count": 4,
     "metadata": {},
     "output_type": "execute_result"
    }
   ],
   "source": [
    "documents = ((((((\n",
    "                metadata.creator + \" \")\n",
    "                .str.cat(metadata.contributor) + \" \")\n",
    "                .str.cat(metadata.title) + \" \")\n",
    "                .str.cat(metadata.description) + \" \")\n",
    "                .str.cat(metadata.subject) + \" \")\n",
    "                .str.cat(metadata.country)\n",
    "                .str.strip()).values\n",
    "\n",
    "# example\n",
    "documents[0]"
   ]
  },
  {
   "cell_type": "markdown",
   "metadata": {},
   "source": [
    "### Data Preprocessing"
   ]
  },
  {
   "cell_type": "code",
   "execution_count": 5,
   "metadata": {
    "ExecuteTime": {
     "end_time": "2016-11-11T16:04:46.089000",
     "start_time": "2016-11-11T16:04:46.049000"
    },
    "collapsed": true
   },
   "outputs": [],
   "source": [
    "# requires package \"stop_words\"\n",
    "from stop_words import get_stop_words\n",
    "\n",
    "# define list of multilingual stopwords\n",
    "stop_words = []\n",
    "stop_words.extend(get_stop_words('en'))\n",
    "stop_words.extend(get_stop_words('de'))\n",
    "stop_words.extend(get_stop_words('fr'))\n",
    "stop_words.extend(get_stop_words('it'))\n",
    "stop_words.extend(get_stop_words('pt'))\n",
    "stop_words.extend(get_stop_words('ro'))\n",
    "stop_words.extend(get_stop_words('spanish'))"
   ]
  },
  {
   "cell_type": "code",
   "execution_count": 6,
   "metadata": {
    "ExecuteTime": {
     "end_time": "2016-11-11T16:12:02.448000",
     "start_time": "2016-11-11T16:04:46.089000"
    },
    "collapsed": false
   },
   "outputs": [],
   "source": [
    "tokenizer = RegexpTokenizer(r'\\w+')\n",
    "\n",
    "texts = []\n",
    "\n",
    "for document in documents:\n",
    "    \n",
    "    valid_words = []\n",
    "    \n",
    "    # skip empty documents\n",
    "    if len(document) > 0:\n",
    "        \n",
    "        # for each lower-case transformed word \n",
    "        for word in tokenizer.tokenize(document.lower()):\n",
    "            \n",
    "            # remove surrounding whitespace and line endings\n",
    "            word = word.strip()\n",
    "            \n",
    "            # normalize, remove accents and umlaute\n",
    "            word = unicodedata.normalize('NFKD', word).encode('ASCII', 'ignore')\n",
    "            \n",
    "            # remove stopwords\n",
    "            if (word not in stop_words and len(word) > 1):\n",
    "                valid_words.append(word)\n",
    "            \n",
    "    texts.append(valid_words)\n"
   ]
  },
  {
   "cell_type": "code",
   "execution_count": null,
   "metadata": {
    "ExecuteTime": {
     "start_time": "2016-11-11T15:04:39.555Z"
    },
    "collapsed": false
   },
   "outputs": [],
   "source": [
    "# remove words that appear only once\n",
    "frequency = defaultdict(int)\n",
    "\n",
    "for text in texts:\n",
    "    for token in text:\n",
    "        frequency[token] += 1\n",
    "\n",
    "texts = [[token for token in text if (frequency[token] > 1)] for text in texts]"
   ]
  },
  {
   "cell_type": "markdown",
   "metadata": {},
   "source": [
    "## Train word2vec"
   ]
  },
  {
   "cell_type": "code",
   "execution_count": null,
   "metadata": {
    "ExecuteTime": {
     "start_time": "2016-11-11T15:04:45.285Z"
    },
    "collapsed": true
   },
   "outputs": [],
   "source": [
    "import gensim, logging\n",
    "logging.basicConfig(format='%(asctime)s : %(levelname)s : %(message)s', level=logging.INFO)"
   ]
  },
  {
   "cell_type": "code",
   "execution_count": null,
   "metadata": {
    "ExecuteTime": {
     "start_time": "2016-11-11T15:04:51.420Z"
    },
    "collapsed": true
   },
   "outputs": [],
   "source": [
    "model = gensim.models.Word2Vec(texts, size=1000, window=10, min_count=5, workers=4)"
   ]
  }
 ],
 "metadata": {
  "anaconda-cloud": {},
  "kernelspec": {
   "display_name": "Python [Root]",
   "language": "python",
   "name": "Python [Root]"
  },
  "language_info": {
   "codemirror_mode": {
    "name": "ipython",
    "version": 2
   },
   "file_extension": ".py",
   "mimetype": "text/x-python",
   "name": "python",
   "nbconvert_exporter": "python",
   "pygments_lexer": "ipython2",
   "version": "2.7.11"
  },
  "notify_time": "5",
  "toc": {
   "toc_cell": false,
   "toc_number_sections": true,
   "toc_threshold": 6,
   "toc_window_display": false
  }
 },
 "nbformat": 4,
 "nbformat_minor": 1
}
